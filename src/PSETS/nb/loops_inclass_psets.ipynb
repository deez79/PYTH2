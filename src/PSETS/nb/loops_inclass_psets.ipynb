{
 "cells": [
  {
   "cell_type": "markdown",
   "metadata": {},
   "source": [
    "<a href=\"https://colab.research.google.com/github/mottaquikarim/PYTH2/blob/master/src/PSETS/nb/loops_inclass_psets.ipynb\" target=\"_parent\"><img src=\"https://colab.research.google.com/assets/colab-badge.svg\" alt=\"Open In Colab\"/></a>"
   ]
  },
  {
   "cell_type": "markdown",
   "metadata": {},
   "source": [
    "#  LOOPS\n",
    "\n",
    "## LOOP_BASICS\n",
    "\n",
    "### p1.py Odds & Evens\n"
   ]
  },
  {
   "cell_type": "code",
   "execution_count": null,
   "metadata": {},
   "outputs": [],
   "source": [
    "\"\"\"\n",
    "Odds & Evens\n",
    "\"\"\"\n",
    "\n",
    "# Use a loop to make a list of all odd numbers between 1 and 10 and another list with all the evens. When done, print the lists.\n",
    "\n",
    "# odds = \n",
    "\n",
    "# evens = \n"
   ]
  },
  {
   "cell_type": "markdown",
   "metadata": {},
   "source": [
    "\n",
    "\n",
    "### p2.py Lists with Duplicates\n"
   ]
  },
  {
   "cell_type": "code",
   "execution_count": null,
   "metadata": {},
   "outputs": [],
   "source": [
    "\"\"\"\n",
    "Lists with Duplicates\n",
    "\"\"\"\n",
    "\n",
    "# First, print list a below as it is now.\n",
    "\n",
    "a = [2, 4, 10, 20, 5, 2, 20, 4]\n",
    "b = [13, 2, 25, 20, 4, 8]\n",
    "\n",
    "# Using a loop, remove the duplicate items from list a and print out the updated list.\n",
    "\n",
    "\n",
    "# Using a loop, merge list b into list a without adding any duplicates.\n",
    "\n"
   ]
  },
  {
   "cell_type": "markdown",
   "metadata": {},
   "source": [
    "\n",
    "\n",
    "### p3.py Temperature Conversions\n"
   ]
  },
  {
   "cell_type": "code",
   "execution_count": null,
   "metadata": {},
   "outputs": [],
   "source": [
    "\"\"\"\n",
    "Temperature Conversions\n",
    "\"\"\"\n",
    "\n",
    "# You're studying climate change, and over the last 3 years, you've recorded the temperature at noon every day in degrees Fahrenheit (F). The var sampleF holds a portion of those recordings. \n",
    "\n",
    "sampleF = [71.6, 82.4, 91.4, 107.6, 125.6]\n",
    "\n",
    "# Convert each item in this list into degrees Celsius and add the results to a dict called sample_temps so that the conversion of each day's temperature is easily accessible. For reference, the conversion equation between F and C is:\n",
    "# Celsius = (Fahrenheit - 32) * 5.0/9.0\n",
    "\n",
    "\n",
    "# sample_temps = \n",
    "\n"
   ]
  },
  {
   "cell_type": "markdown",
   "metadata": {},
   "source": [
    "\n",
    "\n",
    "### p4.py Factorials\n"
   ]
  },
  {
   "cell_type": "code",
   "execution_count": null,
   "metadata": {},
   "outputs": [],
   "source": [
    "\"\"\"\n",
    "Factorials\n",
    "\"\"\"\n",
    "\n",
    "# Find the factorial of a number input by a user. Then print out the factors within the factorial and then print out the actual numeric answer. Hint: The formula for a factorial is n! = (n-1)*n.\n",
    "\n",
    "\n",
    "# Example output:\n",
    "\"\"\"\n",
    "8! = 8*7*6*5*4*3*2*1\n",
    "8! = 40320\n",
    "\"\"\"\n",
    "\n",
    "user_input = input('Enter a number to find its factorial: ')"
   ]
  },
  {
   "cell_type": "markdown",
   "metadata": {},
   "source": [
    "\n",
    "\n",
    "### p5.py Factors\n"
   ]
  },
  {
   "cell_type": "code",
   "execution_count": null,
   "metadata": {},
   "outputs": [],
   "source": [
    "\"\"\"\n",
    "Factors\n",
    "\"\"\"\n",
    "\n",
    "# Find all factors of a number that a user inputs and print out 'The factors of <the_user_input_number> are: '.\n",
    "\n",
    "user_input = input('Enter a number to find its factors: ')\n"
   ]
  },
  {
   "cell_type": "markdown",
   "metadata": {},
   "source": [
    "\n",
    "\n",
    "### p6.py Greatest Common Denominator (GCD)\n",
    "\n"
   ]
  },
  {
   "cell_type": "code",
   "execution_count": null,
   "metadata": {},
   "outputs": [],
   "source": [
    "\"\"\"\n",
    "GCD\n",
    "\"\"\"\n",
    "\n",
    "# Find the greatest common denominator (GCD) of two number input by a user. Then print out 'The GCD of <first number> and <second number> is <your result>.'\n",
    "\n",
    "print('Enter two numbers to find their greatest common denominator.')\n",
    "\n",
    "user_input1 = input('First number: ')\n",
    "user_input2 = input('Second number: ')"
   ]
  },
  {
   "cell_type": "markdown",
   "metadata": {},
   "source": [
    "\n"
   ]
  }
 ],
 "metadata": {},
 "nbformat": 4,
 "nbformat_minor": 2
}
