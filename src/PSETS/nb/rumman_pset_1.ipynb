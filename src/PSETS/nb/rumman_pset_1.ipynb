{
 "cells": [
  {
   "cell_type": "markdown",
   "metadata": {},
   "source": [
    "<a href=\"https://colab.research.google.com/github/mottaquikarim/PYTH2/blob/master/src/PSETS/nb/rumman_pset_1.ipynb\" target=\"_parent\"><img src=\"https://colab.research.google.com/assets/colab-badge.svg\" alt=\"Open In Colab\"/></a>"
   ]
  },
  {
   "cell_type": "markdown",
   "metadata": {},
   "source": [
    "#  BASIC DATA TYPES\n",
    "\n",
    "## BASICS\n",
    "\n",
    "### P1.PY\n",
    "\n",
    "\n"
   ]
  },
  {
   "cell_type": "code",
   "execution_count": null,
   "metadata": {},
   "outputs": [],
   "source": [
    "\"\"\"\n",
    "Placeholders\n",
    "\"\"\"\n",
    "\n",
    "# You're writing a program, and you don't know what your starting value for your 'initial' variable is yet. The program won't run if you leave it blank, but you don't want to forget you need it! Make a workaround.\n",
    "\n"
   ]
  },
  {
   "cell_type": "markdown",
   "metadata": {},
   "source": [
    "\n",
    "\n",
    "### P2.PY\n",
    "\n",
    "\n"
   ]
  },
  {
   "cell_type": "code",
   "execution_count": null,
   "metadata": {},
   "outputs": [],
   "source": [
    "\"\"\"\n",
    "Basic Variables\n",
    "\"\"\"\n",
    "\n",
    "# Create a variable that represents your favorite number, and add a note to remind yourself what this variable represents. Now print it out without re-typing the number.\n",
    "\n",
    "\n",
    "\n",
    "# Create another variable that represents your favorite color, and do the same steps as above.\n",
    "\n"
   ]
  },
  {
   "cell_type": "markdown",
   "metadata": {},
   "source": [
    "\n",
    "\n",
    "### P3.PY\n",
    "\n",
    "\n"
   ]
  },
  {
   "cell_type": "code",
   "execution_count": null,
   "metadata": {},
   "outputs": [],
   "source": [
    "\"\"\"\n",
    "String Formatting\n",
    "\"\"\"\n",
    "\n",
    "# Create a variable that contains the first 4 lines of your favorite song. Add a comment that includes the song title and artist **each on their own line**! Now print out this variable.\n",
    "\n"
   ]
  },
  {
   "cell_type": "markdown",
   "metadata": {},
   "source": [
    "\n",
    "\n",
    "## OPERATORS\n",
    "\n",
    "### P1.PY\n",
    "\n",
    "\n"
   ]
  },
  {
   "cell_type": "code",
   "execution_count": null,
   "metadata": {},
   "outputs": [],
   "source": [
    "\"\"\"\n",
    "Integer & Float Operators\n",
    "\"\"\"\n",
    "\n",
    "# Complete the specified math operations. Do the next operation on the result from the previous operation.\n",
    "\n",
    "orig_var = 100\n",
    "\n",
    "# Add 50\n",
    "\n",
    "# Subtract 90\n",
    "\n",
    "# Multiply 10\n",
    "\n",
    "# Divide 150\n",
    "\n",
    "# Modulus 3\n"
   ]
  },
  {
   "cell_type": "markdown",
   "metadata": {},
   "source": [
    "\n",
    "\n",
    "### P2.PY\n",
    "\n",
    "\n"
   ]
  },
  {
   "cell_type": "code",
   "execution_count": null,
   "metadata": {},
   "outputs": [],
   "source": [
    "\"\"\"\n",
    "String Operators\n",
    "\"\"\"\n",
    "\n",
    "# Create two variables, each of which is half of a compound sentence. Do NOT add any punctuation up front. Add the two variables together, and print the result.\n",
    "## Example compound sentence: \"I'll go to the beach today, and I'll go snorkeling.\" "
   ]
  },
  {
   "cell_type": "markdown",
   "metadata": {},
   "source": [
    "\n",
    "\n",
    "### P3.PY\n",
    "\n",
    "\n"
   ]
  },
  {
   "cell_type": "code",
   "execution_count": null,
   "metadata": {},
   "outputs": [],
   "source": [
    "\"\"\"\n",
    "Addition I - Numbers & Strings\n",
    "\"\"\"\n",
    "\n",
    "# Add the below sets of variables together.\n",
    "\n",
    "# A)\n",
    "a = 0\n",
    "b = 2\n",
    "\n",
    "\n",
    "\n",
    "# B)\n",
    "c = '0'\n",
    "d = '2'\n",
    "\n",
    "\n",
    "\n",
    "# C)\n",
    "e = \"0\"\n",
    "f = 2"
   ]
  },
  {
   "cell_type": "markdown",
   "metadata": {},
   "source": [
    "\n",
    "\n",
    "### P4.PY\n",
    "\n",
    "\n"
   ]
  },
  {
   "cell_type": "code",
   "execution_count": null,
   "metadata": {},
   "outputs": [],
   "source": [
    "\"\"\"\n",
    "Addition II - Booleans\n",
    "\"\"\"\n",
    "\n",
    "# Add the below sets of variables together.\n",
    "\n",
    "# A)\n",
    "a = True\n",
    "b = True\n",
    "\n",
    "\n",
    "\n",
    "# B)\n",
    "c = False\n",
    "d = False\n",
    "\n",
    "\n",
    "\n",
    "# C)\n",
    "e = True\n",
    "f = False"
   ]
  },
  {
   "cell_type": "markdown",
   "metadata": {},
   "source": [
    "\n",
    "\n",
    "## TYPECASTING\n",
    "\n",
    "### P1.PY\n",
    "\n",
    "\n"
   ]
  },
  {
   "cell_type": "code",
   "execution_count": null,
   "metadata": {},
   "outputs": [],
   "source": [
    "\"\"\"\n",
    "Typcasting w. Integers & Floats\n",
    "\"\"\"\n",
    "\n",
    "# Convert these numbers into floats and back. Print out each result as well as its data type.\n",
    "\n",
    "five = 5\n",
    "zero = 0\n",
    "neg_8 = -8\n",
    "neg_22 = -22"
   ]
  },
  {
   "cell_type": "markdown",
   "metadata": {},
   "source": [
    "\n",
    "\n",
    "### P2.PY\n",
    "\n",
    "\n"
   ]
  },
  {
   "cell_type": "code",
   "execution_count": null,
   "metadata": {},
   "outputs": [],
   "source": [
    "\"\"\"\n",
    "Typcasting w. Strings\n",
    "\"\"\"\n",
    "\n",
    "# Convert these variables into strings and then back to their original data types. Print out each result as well as its data type. What do you notice about the last one?\n",
    "\n",
    "five = 5\n",
    "zero = 0\n",
    "neg_8 = -8\n",
    "T = True\n",
    "F = False"
   ]
  },
  {
   "cell_type": "markdown",
   "metadata": {},
   "source": [
    "\n",
    "\n",
    "### P3.PY\n",
    "\n",
    "\n"
   ]
  },
  {
   "cell_type": "code",
   "execution_count": null,
   "metadata": {},
   "outputs": [],
   "source": [
    "\"\"\"\n",
    "Booleans I - Typecasting w. Numbers\n",
    "\"\"\"\n",
    "\n",
    "# A) Use typecasting to turn these variables into boolean values. Print the result and the datatype of the result. \n",
    "\n",
    "one = 1\n",
    "zero = 0\n",
    "\n",
    "\n",
    "# B) Use typecasting to turn the resultant variables from part A into floats. Print the result and the datatype of the result.\n",
    "\n",
    "\n",
    "# C) Use typecasting to turn the resultant variables from part B back into booleans. Print the result and the datatype of the result.\n",
    "\n",
    "\n",
    "# C) Use typecasting to turn the resultant variables from part C into integers. Print the result and the datatype of the result.\n",
    "\n",
    "\n",
    "# E) Use typecasting to turn the variable below into a boolean value. Print the result and the datatype of the result. \n",
    "\n",
    "ten = 10\n",
    "\n"
   ]
  },
  {
   "cell_type": "markdown",
   "metadata": {},
   "source": [
    "\n",
    "\n",
    "### P4.PY\n",
    "\n",
    "\n"
   ]
  },
  {
   "cell_type": "code",
   "execution_count": null,
   "metadata": {},
   "outputs": [],
   "source": [
    "\"\"\"\n",
    "Booleans II - Typecasting w. Strings\n",
    "\"\"\"\n",
    "\n",
    "# A) Use typecasting to turn these variables into boolean values. Print the result and the datatype of the result. \n",
    "\n",
    "one = 1\n",
    "zero = 0\n",
    "bool_true = True\n",
    "bool_false = False\n",
    "\n",
    "\n",
    "# B) Use typecasting to turn the latest values for variables 'one' and 'zero' back into integers. Print the result and the datatype of the result.\n",
    "\n",
    "\n",
    "\n",
    "# C) Use typecasting to turn the latest values for variables 'bool_true' and 'bool_false' back into boolean values. Print the result and the datatype of the result.\n",
    "\n",
    "\n",
    "\n",
    "\n"
   ]
  },
  {
   "cell_type": "markdown",
   "metadata": {},
   "source": [
    "\n",
    "\n",
    "## SHOPPING_LIST\n",
    "\n",
    "### P1.PY\n",
    "\n",
    "\n"
   ]
  },
  {
   "cell_type": "code",
   "execution_count": null,
   "metadata": {},
   "outputs": [],
   "source": [
    "\"\"\"\n",
    "Shopping List Calculator I\n",
    "\"\"\"\n",
    "\n",
    "# Create five variables,\n",
    "# set them to strings that represent 5 common shopping list items\n",
    "\n",
    "\n",
    "item_name_1 = None\n",
    "item_name_2 = None\n",
    "item_name_3 = None\n",
    "item_name_4 = None\n",
    "item_name_5 = None\n",
    "\n",
    "# Create five more variables,\n",
    "# set them to floats that represent the prices of each of the items above\n",
    "\n",
    "item_price_1 = None\n",
    "item_price_2 = None\n",
    "item_price_3 = None\n",
    "item_price_4 = None\n",
    "item_price_5 = None\n",
    "\n",
    "# Create five more variables,\n",
    "# set them to ints that represent the quantity of each of the items above\n",
    "item_quant_1 = None\n",
    "item_quant_2 = None\n",
    "item_quant_3 = None\n",
    "item_quant_4 = None\n",
    "item_quant_5 = None\n",
    "\n",
    "# Print to the console the name and price of each item defined above as follows:\n",
    "# 1 Coco Puffs = $8.95.\n",
    "# where:\n",
    "# 1 would be item_quant_1\n",
    "# Coco Puffs would be item_name_1\n",
    "# 8.95 would be item_name_2\n"
   ]
  },
  {
   "cell_type": "markdown",
   "metadata": {},
   "source": [
    "\n",
    "\n",
    "### P2.PY\n",
    "\n",
    "\n"
   ]
  },
  {
   "cell_type": "code",
   "execution_count": null,
   "metadata": {},
   "outputs": [],
   "source": [
    "\"\"\"\n",
    "Shopping List Calculator II\n",
    "\"\"\"\n",
    "\n",
    "# Rewrite p1, but this time use the input() command to solicit user input for name, price, quantity. Here's how it works:\n",
    "\n",
    "item_name_1 = input('Name your first item: ') \n",
    "\t# ^ this will ask user to input value of item_name_1\n",
    "\n",
    "# use input() function and ask user to name items\n",
    "item_name_1 = None\n",
    "item_name_2 = None\n",
    "item_name_3 = None\n",
    "item_name_4 = None\n",
    "item_name_5 = None\n",
    "\n",
    "# use input() function and ask user to name prices\n",
    "item_price_1 = None\n",
    "item_price_2 = None\n",
    "item_price_3 = None\n",
    "item_price_4 = None\n",
    "item_price_5 = None\n",
    "\n",
    "# use input() function and ask user to name quants\n",
    "item_quant_1 = None\n",
    "item_quant_2 = None\n",
    "item_quant_3 = None\n",
    "item_quant_4 = None\n",
    "item_quant_5 = None\n",
    "\n",
    "# Print to the console the name and price of each item defined above as follows:\n",
    "# 1 Coco Puffs = $8.95.\n",
    "# where:\n",
    "# 1 would be item_quant_1\n",
    "# Coco Puffs would be item_name_1\n",
    "# 8.95 would be item_name_2\n",
    "\n",
    "# JUST REMEMBER: now this will be defined by the user!!\n"
   ]
  },
  {
   "cell_type": "markdown",
   "metadata": {},
   "source": [
    "\n",
    "\n",
    "#  CONDITIONALS\n",
    "\n",
    "## WEATHER\n",
    "\n",
    "### P1.PY\n",
    "\n",
    "\n"
   ]
  },
  {
   "cell_type": "code",
   "execution_count": null,
   "metadata": {},
   "outputs": [],
   "source": [
    "\"\"\"\n",
    "Weather I - Do you need boots?\n",
    "\"\"\"\n",
    "\n",
    "# Use the values of the vars defined below to ouput the correct contextual answer to the questions below. (Note: The variables themselves ARE the questions.)\n",
    "\n",
    "# Example:\n",
    "## am_i_hungry = False\n",
    "## am_i_tired = True\n",
    "## do_i_need_to_stay_awake = False\n",
    "\n",
    "## should_i_drink_coffee_now = am_i_tired and do_i_need_to_stay_awake\n",
    "\n",
    "## ^^ This ^^ evaluates to False. If you're tired and don't need to stay awake, you don't need to drink coffee!\n",
    "\n",
    "\n",
    "is_it_raining = True\n",
    "is_it_snowing = False\n",
    "\n",
    "\n",
    "do_i_need_snow_boots = None\n",
    "can_i_skip_snow_boots = None\n",
    "do_i_need_rain_boots = None\n",
    "can_i_skip_rain_boots = None"
   ]
  },
  {
   "cell_type": "markdown",
   "metadata": {},
   "source": [
    "\n",
    "\n",
    "### P2.PY\n",
    "\n",
    "\n"
   ]
  },
  {
   "cell_type": "code",
   "execution_count": null,
   "metadata": {},
   "outputs": [],
   "source": [
    "\"\"\"\n",
    "Weather II - Precipitation\n",
    "\"\"\"\n",
    "\n",
    "# Repeat the same process as p1, using this new set of variables.\n",
    "\n",
    "sunny = True\n",
    "raining = True\n",
    "snowing = False\n",
    "\n",
    "is_it_sunny = None\n",
    "is_there_precipitation = None\n",
    "is_it_sleeting = None\n",
    "is_there_rainbow = None"
   ]
  },
  {
   "cell_type": "markdown",
   "metadata": {},
   "source": [
    "\n",
    "\n",
    "### P3.PY\n",
    "\n",
    "\n"
   ]
  },
  {
   "cell_type": "code",
   "execution_count": null,
   "metadata": {},
   "outputs": [],
   "source": [
    "\"\"\"\n",
    "Weather III - Describe Conditions\n",
    "\"\"\"\n",
    "\n",
    "# Repeat the same process as p1, using this new set of variables.\n",
    "\n",
    "\n",
    "is_it_warm = True\n",
    "is_it_humid = True\n",
    "is_it_cold = False\n",
    "is_it_icy = False\n",
    "is_it_foggy = False\n",
    "is_it_windy = False\n",
    "is_it_overcast = True\n",
    "\n",
    "\n",
    "is_it_summer_weather = None\n",
    "is_rain_coming = None\n",
    "is_it_muggy = None\n",
    "do_i_need_coat = None\n",
    "\n"
   ]
  },
  {
   "cell_type": "markdown",
   "metadata": {},
   "source": [
    "\n",
    "\n",
    "## RANDOM_NUMS\n",
    "\n",
    "### P1.PY\n",
    "\n",
    "\n"
   ]
  },
  {
   "cell_type": "code",
   "execution_count": null,
   "metadata": {},
   "outputs": [],
   "source": [
    "\"\"\"\n",
    "Generate Traffic Light\n",
    "\"\"\"\n",
    "\n",
    "# import python randomint package\n",
    "\n",
    "\n",
    "# generates a random number from 1 to 3\n",
    "\n",
    "\n",
    "# if 1, print 'red'\n",
    "# if 2, print 'green',\n",
    "# if 3, print 'yellow'\n"
   ]
  },
  {
   "cell_type": "markdown",
   "metadata": {},
   "source": [
    "\n",
    "\n",
    "### P2.PY\n",
    "\n",
    "\n"
   ]
  },
  {
   "cell_type": "code",
   "execution_count": null,
   "metadata": {},
   "outputs": [],
   "source": [
    "\"\"\"\n",
    "Generate Phone Number w/Area Code\n",
    "\"\"\"\n",
    "\n",
    "# import python randomint package\n",
    "\n",
    "\n",
    "# generate a random phone number of the form:\n",
    "# 1-718-786-2825\n",
    "# This should be a string\n",
    "# Valid Area Codes are: 646, 718, 212\n",
    "# if phone number doesn't have [646, 718, 212]\n",
    "# as area code, pick one of the above at random\n"
   ]
  },
  {
   "cell_type": "markdown",
   "metadata": {},
   "source": [
    "\n",
    "\n",
    "## RPS\n",
    "\n",
    "### P1.PY\n",
    "\n",
    "\n"
   ]
  },
  {
   "cell_type": "code",
   "execution_count": null,
   "metadata": {},
   "outputs": [],
   "source": [
    "\"\"\"\n",
    "Play RPS\n",
    "\"\"\"\n",
    "\n",
    "p1 = 'r'  # or 'p' or 's'\n",
    "p2 = 'r'  # or 'p' or 's'\n",
    "\n",
    "# Given a p1 and p2\n",
    "# print 1 if p1 has won\n",
    "# print 2 if p2 has won\n",
    "# print 0 if tie\n",
    "# print -1 if invalid input\n",
    "# expects both p1 and p2 inputs to be either\n",
    "# \"r\", \"p\", or \"s\"\n"
   ]
  },
  {
   "cell_type": "markdown",
   "metadata": {},
   "source": [
    "\n",
    "\n",
    "### P2.PY\n",
    "\n",
    "\n"
   ]
  },
  {
   "cell_type": "code",
   "execution_count": null,
   "metadata": {},
   "outputs": [],
   "source": [
    "\"\"\"\n",
    "Play RPS w/Computer\n",
    "\"\"\"\n",
    "\n",
    "import random\n",
    "\n",
    "p1 = None  # randomly choose 'r' or 'p' or 's'\n",
    "p2 = None  # randomly choose 'r' or 'p' or 's'\n",
    "\n",
    "# Given a p1 and p2\n",
    "# print 1 if p1 has won\n",
    "# print 2 if p2 has won\n",
    "# print 0 if tie\n",
    "# print -1 if invalid input\n",
    "# expects both p1 and p2 inputs to be either\n",
    "# \"r\", \"p\", or \"s\"\n"
   ]
  },
  {
   "cell_type": "markdown",
   "metadata": {},
   "source": [
    "\n",
    "\n",
    "### P3.PY\n",
    "\n",
    "\n"
   ]
  },
  {
   "cell_type": "code",
   "execution_count": null,
   "metadata": {},
   "outputs": [],
   "source": [
    "\"\"\"\n",
    "Play RPS w/Input\n",
    "\"\"\"\n",
    "\n",
    "p1 = None  # from user input\n",
    "p2 = None  # from user input\n",
    "\n",
    "# Given a p1 and p2\n",
    "# print 1 if p1 has won\n",
    "# print 2 if p2 has won\n",
    "# print 0 if tie\n",
    "# print -1 if invalid input\n",
    "# expects both p1 and p2 inputs to be either\n",
    "# \"r\", \"p\", or \"s\"\n"
   ]
  },
  {
   "cell_type": "markdown",
   "metadata": {},
   "source": [
    "\n",
    "\n",
    "### P4.PY\n",
    "\n",
    "\n"
   ]
  },
  {
   "cell_type": "code",
   "execution_count": null,
   "metadata": {},
   "outputs": [],
   "source": [
    "\"\"\"\n",
    "Play RPS against Computer\n",
    "\"\"\"\n",
    "\n",
    "p1 = None  # from user input - we still want validation from above!\n",
    "p2 = None  # randomly generated against computer\n",
    "\n",
    "# Given a p1 and p2\n",
    "# print 1 if p1 has won\n",
    "# print 2 if p2 has won\n",
    "# print 0 if tie\n",
    "# print -1 if invalid input\n",
    "# expects both p1 and p2 inputs to be either\n",
    "# \"r\", \"p\", or \"s\"\n"
   ]
  },
  {
   "cell_type": "markdown",
   "metadata": {},
   "source": [
    "\n",
    "\n",
    "### P5.PY\n",
    "\n",
    "\n"
   ]
  },
  {
   "cell_type": "code",
   "execution_count": null,
   "metadata": {},
   "outputs": [],
   "source": [
    "\"\"\"\n",
    "Play RPS w/Bad Input\n",
    "\"\"\"\n",
    "\n",
    "p1 = None  # can be invalid!\n",
    "p2 = None  # can be invalid!\n",
    "\n",
    "\"\"\"\n",
    "This is the same as the original RPS problem, \n",
    "except that cannot expect the input to be valid. \n",
    "While we *want* `r` or `p` or `s`, there is a possibility \n",
    "that input can be anything like...\n",
    "\n",
    "* `ROCK` (all caps)\n",
    "* `R` (`r` but capitalized)\n",
    "* `PAPrrRR` (incorrectly spelled, upper/lowercased)\n",
    "\n",
    "Implement conditional statements that will sanitize the \n",
    "user input or let user know that input is invalid.\n",
    "\"\"\"\n"
   ]
  },
  {
   "cell_type": "markdown",
   "metadata": {},
   "source": [
    "\n",
    "\n",
    "## LOGIC\n",
    "\n",
    "### P1.PY\n",
    "\n",
    "\n"
   ]
  },
  {
   "cell_type": "code",
   "execution_count": null,
   "metadata": {},
   "outputs": [],
   "source": [
    "\"\"\"\n",
    "Calculate Grade\n",
    "\"\"\"\n",
    "\n",
    "grade = 15  # expect this to be a number\n",
    "\n",
    "# write a program that will print the \"letter\"\n",
    "# equivalent of the grade, for example:\n",
    "# when grade = 90 # -> expect A\n",
    "# when grade = 80 # -> expect B\n",
    "# when grade = 70 # -> expect C\n",
    "# when grade = 60 # -> expect D\n",
    "# when grade = 54 # -> expect F\n",
    "# when grade = -10 # -> expect Error\n",
    "# when grade = 10000 # -> expect Error\n",
    "# when grade = \"lol skool sucks\" # -> expect Error\n"
   ]
  },
  {
   "cell_type": "markdown",
   "metadata": {},
   "source": [
    "\n",
    "\n",
    "### P2.PY\n",
    "\n",
    "\n"
   ]
  },
  {
   "cell_type": "code",
   "execution_count": null,
   "metadata": {},
   "outputs": [],
   "source": [
    "\"\"\"\n",
    "Sign of Product\n",
    "\"\"\"\n",
    "\n",
    "# Given three numbers, a, b, c, without multiplying, determine the sign of their product.\n",
    "\n",
    "# EXAMPLE: a = -5, b = 6, c = -4, print 1\n",
    "\n",
    "# EXAMPLE: a = 5, b = 6, c = -4, print -1\n"
   ]
  },
  {
   "cell_type": "markdown",
   "metadata": {},
   "source": [
    "\n",
    "\n",
    "### P3.PY\n",
    "\n",
    "\n"
   ]
  },
  {
   "cell_type": "code",
   "execution_count": null,
   "metadata": {},
   "outputs": [],
   "source": [
    "\"\"\"\n",
    "Any Uppercase\n",
    "\"\"\"\n",
    "\n",
    "# Given a string str, determine if there are any uppercase values in it. Use only conditional statements and string methods (you may have to look some up!)\n",
    "\n",
    "# EXAMPLE: str = \"teSt\", print True\n"
   ]
  },
  {
   "cell_type": "markdown",
   "metadata": {},
   "source": [
    "\n",
    "\n",
    "### P4.PY\n",
    "\n",
    "\n"
   ]
  },
  {
   "cell_type": "code",
   "execution_count": null,
   "metadata": {},
   "outputs": [],
   "source": [
    "\"\"\"\n",
    "Empty Strings\n",
    "\"\"\"\n",
    "\n",
    "# Given any empty string, of the form:\n",
    "\n",
    "# ''\n",
    "# ' '\n",
    "# '  '\n",
    "# any other num of spaces...\n",
    "\n",
    "# determine if the str is empty or not (print True or False). Hint: You'll need to look up how to remove trailing spaces from a string.\n"
   ]
  },
  {
   "cell_type": "markdown",
   "metadata": {},
   "source": [
    "\n",
    "\n",
    "### P5.PY\n",
    "\n",
    "\n"
   ]
  },
  {
   "cell_type": "code",
   "execution_count": null,
   "metadata": {},
   "outputs": [],
   "source": [
    "\"\"\"\n",
    "truthTableEvaluator\n",
    "\"\"\"\n",
    "\n",
    "# Given the following inputs:\n",
    "\n",
    "\n",
    "# P = # True or False\n",
    "# Q = # True or False\n",
    "# op = # '^' (logical AND, conjunction)\n",
    "#      # OR, 'v' (logical OR, disjunction)\n",
    "#      # OR, '->' (logical conditional, implication)\n",
    "#      # OR, '<->' (biconditional)\n",
    "# determine the correct outcome.\n",
    "\n",
    "# https://medium.com/i-math/intro-to-truth-tables-boolean-algebra-73b331dd9b94\n"
   ]
  },
  {
   "cell_type": "markdown",
   "metadata": {},
   "source": [
    "\n",
    "\n",
    "#  LISTS\n",
    "\n",
    "## LIST_OPS\n",
    "\n",
    "### P1.PY\n",
    "\n",
    "\n"
   ]
  },
  {
   "cell_type": "code",
   "execution_count": null,
   "metadata": {},
   "outputs": [],
   "source": [
    "\"\"\"\n",
    "Basic List Operations I\n",
    "\"\"\"\n",
    "\n",
    "# Create a list including these five animals - elephant, tiger, otter, orangutan, and penguin.\n",
    "\n",
    "\n",
    "# Print the 4th animal on the list.\n",
    "\n",
    "\n",
    "# Add 'tortoise' to the beginning of the list.\n",
    "\n",
    "\n",
    "# Print the length of the list.\n",
    "\n",
    "\n",
    "# Remove 'orangutan' from the list.\n",
    "\n",
    "\n",
    "# Sort the list alphabetically and print it out.\n"
   ]
  },
  {
   "cell_type": "markdown",
   "metadata": {},
   "source": [
    "\n",
    "\n",
    "### P2.PY\n",
    "\n",
    "\n"
   ]
  },
  {
   "cell_type": "code",
   "execution_count": null,
   "metadata": {},
   "outputs": [],
   "source": [
    "\"\"\"\n",
    "Basic List Operations II\n",
    "\"\"\"\n",
    "\n",
    "# Declare a list with 5 names, and print out the length of that list.\n",
    "names = None\n",
    "\n",
    "# Print the 3rd name on the list\n",
    "\n",
    "\n",
    "\n",
    "# Delete the first name on the list\n",
    "\n",
    "\n",
    "\n",
    "# Re-add the name you deleted to the end of the list\n",
    "\n",
    "\n",
    "\n",
    "# Replace the 2nd name on the list with a new name.\n",
    "\n",
    "\n",
    "\n",
    "# Add 3 new names to the end of the list.\n",
    "\n",
    "\n"
   ]
  },
  {
   "cell_type": "markdown",
   "metadata": {},
   "source": [
    "\n",
    "\n",
    "### P3.PY\n",
    "\n",
    "\n"
   ]
  },
  {
   "cell_type": "code",
   "execution_count": null,
   "metadata": {},
   "outputs": [],
   "source": [
    "\"\"\"\n",
    "Math Operations\n",
    "\"\"\"\n",
    "\n",
    "# Save a list with the numbers `2`, `4`, `6`, and `8` into a variable called `numbers`. Use this variable for all the problems in this PSET.\n",
    "\n",
    "numbers = None\n",
    "\n",
    "# Print the max of `numbers`.\n",
    "\n",
    "\n",
    "# Pop the last element in `numbers` off; re-insert it at index `2` and print the resultant list.\n",
    "\n",
    "\n",
    "\n",
    "# Pop the second number in `numbers` off.\n",
    "\n",
    "\n",
    "\n",
    "# Append `3` to `numbers`.\n",
    "\n",
    "\n",
    "\n",
    "# Print out the average number.\n",
    "\n",
    "\n"
   ]
  },
  {
   "cell_type": "markdown",
   "metadata": {},
   "source": [
    "\n",
    "\n",
    "### P4.PY\n",
    "\n",
    "\n"
   ]
  },
  {
   "cell_type": "code",
   "execution_count": null,
   "metadata": {},
   "outputs": [],
   "source": [
    "\"\"\"\n",
    "Ordering Random Numbers\n",
    "\"\"\"\n",
    "\n",
    "# Create a list of 6 randomly generated numbers called numbers and sort it in descending order.\n",
    "\n"
   ]
  },
  {
   "cell_type": "markdown",
   "metadata": {},
   "source": [
    "\n",
    "\n",
    "## LIST_MANIPULATION\n",
    "\n",
    "### P1.PY\n",
    "\n",
    "\n"
   ]
  },
  {
   "cell_type": "code",
   "execution_count": null,
   "metadata": {},
   "outputs": [],
   "source": [
    "\"\"\"\n",
    "Phone Numbers\n",
    "\"\"\"\n",
    "\n",
    "# Parse this phone number so that a computer can process\n",
    "# it. (Hint: It can't include any non-numeric\n",
    "# characters.)\n",
    "\n",
    "cell = '1.192.168.0143'"
   ]
  },
  {
   "cell_type": "markdown",
   "metadata": {},
   "source": [
    "\n",
    "\n",
    "### P2.PY\n",
    "\n",
    "\n"
   ]
  },
  {
   "cell_type": "code",
   "execution_count": null,
   "metadata": {},
   "outputs": [],
   "source": [
    "\"\"\"\n",
    "Basic Math Ops\n",
    "\"\"\"\n",
    "\n",
    "# Given the list below, assign the correct values to the variables below.\n",
    "\t# my_sum = \n",
    "\t# my_min = \n",
    "\t# my_max = \n",
    "\t# my_range = \n",
    "\t# my_mean =\n",
    "\n",
    "nums = [2, 19, 20, 12, 6, 24, 8, 30, 28, 25]\n",
    "\n",
    "\n",
    "# Once you finish, print out each value **on its own line** in this format: \"my_median = \" etc.\n",
    "\n"
   ]
  },
  {
   "cell_type": "markdown",
   "metadata": {},
   "source": [
    "\n",
    "\n",
    "### P3.PY\n",
    "\n",
    "\n"
   ]
  },
  {
   "cell_type": "code",
   "execution_count": null,
   "metadata": {},
   "outputs": [],
   "source": [
    "\"\"\"\n",
    "Merge Lists with Duplicates\n",
    "\"\"\"\n",
    "\n",
    "# Use the two lists below to solve this problem. Print out the result from each section as you go along.\n",
    "\n",
    "list1, list2 = [2, 8, 6], [10, 4, 12]\n",
    "\n",
    "\n",
    "# A) Add another instance of each item in list1 to list1 again and assign the results to list3.\n",
    "list3 = None\n",
    "\n",
    "\n",
    "# B) Combine the two given lists and assign them to list4.\n",
    "list4 = None\n",
    "\n",
    "\n",
    "# C) Replace the first 3 items in list 3 with the numbers 13, 16, 9.\n",
    "list3[:2] = None\n",
    "\n",
    "# D) Merge list3 and list4 to create a list containing no duplicates and store this in list5.\n",
    "list5 = None\n",
    "\n",
    "\n",
    "# Take a look at your printed statements to see the evolution of your lists with each step of this problem.\n"
   ]
  },
  {
   "cell_type": "markdown",
   "metadata": {},
   "source": [
    "\n",
    "\n",
    "### P4.PY\n",
    "\n",
    "\n"
   ]
  },
  {
   "cell_type": "code",
   "execution_count": null,
   "metadata": {},
   "outputs": [],
   "source": [
    "\"\"\"\n",
    "Spotify Playlists - Sorting\n",
    "\"\"\"\n",
    "\n",
    "# You work for Spotify and are creating a feature for users to alphabetize their playlists by song title. Below is a list of titles from a sample playlist.\n",
    "\n",
    "playlist_titles = ['Tiny Dancer', 'At Last', 'Fortunate Son', \n",
    "'Hey Jude', 'Isn\\'t She Lovely', 'Just the Way You Are', 'I\\'m Yours',\n",
    "'Vienna', 'Roxanne', 'Dancing in the Moonlight']\n",
    "\n",
    "# Alphabetize these songs and print the result.\n",
    "\n",
    "\n",
    "\n",
    "# Now do the reverse.\n",
    "\n"
   ]
  },
  {
   "cell_type": "markdown",
   "metadata": {},
   "source": [
    "\n",
    "\n",
    "### P5.PY\n",
    "\n",
    "\n"
   ]
  },
  {
   "cell_type": "code",
   "execution_count": null,
   "metadata": {},
   "outputs": [],
   "source": [
    "\"\"\"\n",
    "Cool Runnings!\n",
    "\"\"\"\n",
    "\n",
    "# Here's a quote from the movie 'Cool Runnings'. :)\n",
    "\n",
    "# Replace the word bobsled with \"YOLO\" and print the resultant list as 4 sentences (i.e. NOT a list), each on a new line.\n",
    "\n",
    "cool_runnings = [\n",
    "\t'Feel', 'the', 'rhythm.',\n",
    "\t'Feel', 'the', 'rhyme.',\n",
    "\t'Get', 'on', 'up.',\n",
    "\t'It\\'s', 'bobsled', 'time!'\n",
    "]\n",
    "\n"
   ]
  },
  {
   "cell_type": "markdown",
   "metadata": {},
   "source": [
    "\n",
    "\n",
    "## LIST_CHALLENGES\n",
    "\n",
    "### P1.PY\n",
    "\n",
    "\n"
   ]
  },
  {
   "cell_type": "code",
   "execution_count": null,
   "metadata": {},
   "outputs": [],
   "source": [
    "\"\"\"\n",
    "CHALLENGE - Extensions\n",
    "\"\"\"\n",
    "\n",
    "# ** Challenge** Add each element of the tuple1 to list1 *individually* and print the result.\n",
    "\n",
    "list1 = [6, 12, 9, 4, 10, 1]\n",
    "tuple1 = [(15,3), (6,2), (1, 8)]\n"
   ]
  },
  {
   "cell_type": "markdown",
   "metadata": {},
   "source": [
    "\n",
    "\n",
    "### P2.PY\n",
    "\n",
    "\n"
   ]
  },
  {
   "cell_type": "code",
   "execution_count": null,
   "metadata": {},
   "outputs": [],
   "source": [
    "\"\"\"\n",
    "CHALLENGE - Core Statistics Calculations\n",
    "\"\"\"\n",
    "\n",
    "# Given the sample below, find the mean, median, mode, variance, and standard deviation of this sample. Print them out separately, but in the same format as before.\n",
    "\t# my_median = \n",
    "\t# my_mode = \n",
    "\t# my_variance = \n",
    "\t# my_sd = \n",
    "\n",
    "sample = [6, 19, 20, 12, 6, 24, 8, 30, 28, 25]\n",
    "\n",
    "\n",
    "# Once you finish, print out each value **on its own line** in this format: \"median = \" etc.\n"
   ]
  },
  {
   "cell_type": "markdown",
   "metadata": {},
   "source": [
    "\n"
   ]
  }
 ],
 "metadata": {},
 "nbformat": 4,
 "nbformat_minor": 2
}
