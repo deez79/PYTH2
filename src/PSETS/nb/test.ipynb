{
 "cells": [
  {
   "cell_type": "markdown",
   "metadata": {},
   "source": [
    "<a href=\"https://colab.research.google.com/github/mottaquikarim/PYTH2/blob/master/src/PSETS/nb/test.ipynb\" target=\"_parent\"><img src=\"https://colab.research.google.com/assets/colab-badge.svg\" alt=\"Open In Colab\"/></a>"
   ]
  },
  {
   "cell_type": "markdown",
   "metadata": {},
   "source": [
    "#  BASIC DATA TYPES\n",
    "\n",
    "## BASICS\n",
    "\n",
    "### P1.PY\n",
    "\n"
   ]
  },
  {
   "cell_type": "code",
   "execution_count": null,
   "metadata": {},
   "outputs": [],
   "source": [
    "\"\"\"\n",
    "Placeholders\n",
    "\"\"\"\n",
    "\n",
    "# You're writing a program, and you don't know what your starting value for your 'initial' variable is yet. The program won't run if you leave it blank, but you don't want to forget you need it! Make a workaround.\n",
    "\n"
   ]
  },
  {
   "cell_type": "markdown",
   "metadata": {},
   "source": [
    "\n",
    "\n",
    "### P2.PY\n",
    "\n",
    "\n"
   ]
  },
  {
   "cell_type": "code",
   "execution_count": null,
   "metadata": {},
   "outputs": [],
   "source": [
    "\"\"\"\n",
    "Basic Variables\n",
    "\"\"\"\n",
    "\n",
    "# Create a variable that represents your favorite number, and add a note to remind yourself what this variable represents. Now print it out without re-typing the number.\n",
    "\n",
    "\n",
    "\n",
    "# Create another variable that represents your favorite color, and do the same steps as above.\n",
    "\n"
   ]
  },
  {
   "cell_type": "markdown",
   "metadata": {},
   "source": [
    "\n",
    "\n",
    "### P3.PY\n",
    "\n",
    "\n"
   ]
  },
  {
   "cell_type": "code",
   "execution_count": null,
   "metadata": {},
   "outputs": [],
   "source": [
    "\"\"\"\n",
    "String Formatting\n",
    "\"\"\"\n",
    "\n",
    "# Create a variable that contains the first 4 lines of your favorite song. Add a comment that includes the song title and artist **each on their own line**! Now print out this variable.\n",
    "\n"
   ]
  },
  {
   "cell_type": "markdown",
   "metadata": {},
   "source": [
    "\n",
    "\n",
    "## OPERATORS\n",
    "\n",
    "### P1.PY\n",
    "\n",
    "\n"
   ]
  },
  {
   "cell_type": "code",
   "execution_count": null,
   "metadata": {},
   "outputs": [],
   "source": [
    "\"\"\"\n",
    "Integer & Float Operators\n",
    "\"\"\"\n",
    "\n",
    "# Complete the specified math operations. Do the next operation on the result from the previous operation.\n",
    "\n",
    "orig_var = 100\n",
    "\n",
    "# Add 50\n",
    "\n",
    "# Subtract 90\n",
    "\n",
    "# Multiply 10\n",
    "\n",
    "# Divide 150\n",
    "\n",
    "# Modulus 3\n"
   ]
  },
  {
   "cell_type": "markdown",
   "metadata": {},
   "source": [
    "\n",
    "\n",
    "### P2.PY\n",
    "\n",
    "\n"
   ]
  },
  {
   "cell_type": "code",
   "execution_count": null,
   "metadata": {},
   "outputs": [],
   "source": [
    "\"\"\"\n",
    "String Operators\n",
    "\"\"\"\n",
    "\n",
    "# Create two variables, each of which is half of a compound sentence. Do NOT add any punctuation up front. Add the two variables together, and print the result.\n",
    "## Example compound sentence: \"I'll go to the beach today, and I'll go snorkeling.\" "
   ]
  },
  {
   "cell_type": "markdown",
   "metadata": {},
   "source": [
    "\n",
    "\n",
    "## TYPECASTING\n",
    "\n",
    "### P1.PY\n",
    "\n",
    "\n"
   ]
  },
  {
   "cell_type": "code",
   "execution_count": null,
   "metadata": {},
   "outputs": [],
   "source": [
    "\"\"\"\n",
    "Typcasting w. Integers & Floats\n",
    "\"\"\"\n",
    "\n",
    "# Convert these numbers into floats and back. Print out each result as well as its data type.\n",
    "\n",
    "five = 5\n",
    "zero = 0\n",
    "neg_8 = -8\n",
    "neg_22 = -22"
   ]
  },
  {
   "cell_type": "markdown",
   "metadata": {},
   "source": [
    "\n",
    "\n",
    "### P2.PY\n",
    "\n",
    "\n"
   ]
  },
  {
   "cell_type": "code",
   "execution_count": null,
   "metadata": {},
   "outputs": [],
   "source": [
    "\"\"\"\n",
    "Typcasting w. Strings\n",
    "\"\"\"\n",
    "\n",
    "# Convert these variables into strings and then back to their original data types. Print out each result as well as its data type. What do you notice about the last one?\n",
    "\n",
    "five = 5\n",
    "zero = 0\n",
    "neg_8 = -8\n",
    "T = True\n",
    "F = False"
   ]
  },
  {
   "cell_type": "markdown",
   "metadata": {},
   "source": [
    "\n",
    "\n",
    "### P3.PY\n",
    "\n",
    "\n"
   ]
  },
  {
   "cell_type": "code",
   "execution_count": null,
   "metadata": {},
   "outputs": [],
   "source": [
    "\"\"\"\n",
    "Booleans I - Typecasting w. Numbers\n",
    "\"\"\"\n",
    "\n",
    "# A) Use typecasting to turn these variables into boolean values. Print the result and the datatype of the result. \n",
    "\n",
    "one = 1\n",
    "zero = 0\n",
    "\n",
    "\n",
    "# B) Use typecasting to turn the resultant variables from part A into floats. Print the result and the datatype of the result.\n",
    "\n",
    "\n",
    "# C) Use typecasting to turn the resultant variables from part B back into booleans. Print the result and the datatype of the result.\n",
    "\n",
    "\n",
    "# C) Use typecasting to turn the resultant variables from part C into integers. Print the result and the datatype of the result.\n",
    "\n",
    "\n",
    "# E) Use typecasting to turn the variable below into a boolean value. Print the result and the datatype of the result. \n",
    "\n",
    "ten = 10\n",
    "\n"
   ]
  },
  {
   "cell_type": "markdown",
   "metadata": {},
   "source": [
    "\n",
    "\n",
    "### P4.PY\n",
    "\n",
    "\n"
   ]
  },
  {
   "cell_type": "code",
   "execution_count": null,
   "metadata": {},
   "outputs": [],
   "source": [
    "\"\"\"\n",
    "Booleans II - Typecasting w. Strings\n",
    "\"\"\"\n",
    "\n",
    "# A) Use typecasting to turn these variables into boolean values. Print the result and the datatype of the result. \n",
    "\n",
    "one = 1\n",
    "zero = 0\n",
    "bool_true = True\n",
    "bool_false = False\n",
    "\n",
    "\n",
    "# B) Use typecasting to turn the latest values for variables 'one' and 'zero' back into integers. Print the result and the datatype of the result.\n",
    "\n",
    "\n",
    "\n",
    "# C) Use typecasting to turn the latest values for variables 'bool_true' and 'bool_false' back into boolean values. Print the result and the datatype of the result.\n",
    "\n",
    "\n",
    "\n",
    "\n"
   ]
  },
  {
   "cell_type": "markdown",
   "metadata": {},
   "source": [
    "\n",
    "\n",
    "## SHOPPING_LIST\n",
    "\n",
    "### P1.PY\n",
    "\n",
    "\n"
   ]
  },
  {
   "cell_type": "code",
   "execution_count": null,
   "metadata": {},
   "outputs": [],
   "source": [
    "\"\"\"\n",
    "Shopping List Calculator I\n",
    "\"\"\"\n",
    "\n",
    "# Create five variables,\n",
    "# set them to strings that represent 5 common shopping list items\n",
    "\n",
    "\n",
    "item_name_1 = None\n",
    "item_name_2 = None\n",
    "item_name_3 = None\n",
    "item_name_4 = None\n",
    "item_name_5 = None\n",
    "\n",
    "# Create five more variables,\n",
    "# set them to floats that represent the prices of each of the items above\n",
    "\n",
    "item_price_1 = None\n",
    "item_price_2 = None\n",
    "item_price_3 = None\n",
    "item_price_4 = None\n",
    "item_price_5 = None\n",
    "\n",
    "# Create five more variables,\n",
    "# set them to ints that represent the quantity of each of the items above\n",
    "item_quant_1 = None\n",
    "item_quant_2 = None\n",
    "item_quant_3 = None\n",
    "item_quant_4 = None\n",
    "item_quant_5 = None\n",
    "\n",
    "# Print to the console the name and price of each item defined above as follows:\n",
    "# 1 Coco Puffs = $8.95.\n",
    "# where:\n",
    "# 1 would be item_quant_1\n",
    "# Coco Puffs would be item_name_1\n",
    "# 8.95 would be item_name_2\n"
   ]
  },
  {
   "cell_type": "markdown",
   "metadata": {},
   "source": [
    "\n",
    "\n",
    "### P2.PY\n",
    "\n",
    "\n"
   ]
  },
  {
   "cell_type": "code",
   "execution_count": null,
   "metadata": {},
   "outputs": [],
   "source": [
    "\"\"\"\n",
    "Shopping List Calculator II\n",
    "\"\"\"\n",
    "\n",
    "# Rewrite p1, but this time use the input() command to solicit user input for name, price, quantity. Here's how it works:\n",
    "\n",
    "item_name_1 = input('Name your first item: ') \n",
    "\t# ^ this will ask user to input value of item_name_1\n",
    "\n",
    "# use input() function and ask user to name items\n",
    "item_name_1 = None\n",
    "item_name_2 = None\n",
    "item_name_3 = None\n",
    "item_name_4 = None\n",
    "item_name_5 = None\n",
    "\n",
    "# use input() function and ask user to name prices\n",
    "item_price_1 = None\n",
    "item_price_2 = None\n",
    "item_price_3 = None\n",
    "item_price_4 = None\n",
    "item_price_5 = None\n",
    "\n",
    "# use input() function and ask user to name quants\n",
    "item_quant_1 = None\n",
    "item_quant_2 = None\n",
    "item_quant_3 = None\n",
    "item_quant_4 = None\n",
    "item_quant_5 = None\n",
    "\n",
    "# Print to the console the name and price of each item defined above as follows:\n",
    "# 1 Coco Puffs = $8.95.\n",
    "# where:\n",
    "# 1 would be item_quant_1\n",
    "# Coco Puffs would be item_name_1\n",
    "# 8.95 would be item_name_2\n",
    "\n",
    "# JUST REMEMBER: now this will be defined by the user!!\n"
   ]
  },
  {
   "cell_type": "markdown",
   "metadata": {},
   "source": [
    "\n"
   ]
  }
 ],
 "metadata": {},
 "nbformat": 4,
 "nbformat_minor": 2
}
