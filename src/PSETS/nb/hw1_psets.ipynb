{
 "cells": [
  {
   "cell_type": "markdown",
   "metadata": {},
   "source": [
    "<a href=\"https://colab.research.google.com/github/mottaquikarim/PYTH2/blob/master/src/PSETS/nb/hw1_psets.ipynb\" target=\"_parent\"><img src=\"https://colab.research.google.com/assets/colab-badge.svg\" alt=\"Open In Colab\"/></a>"
   ]
  },
  {
   "cell_type": "markdown",
   "metadata": {},
   "source": [
    "#  BASIC DATA TYPES\n",
    "\n",
    "## SHOPPING_LIST\n"
   ]
  },
  {
   "cell_type": "code",
   "execution_count": null,
   "metadata": {},
   "outputs": [],
   "source": []
  },
  {
   "cell_type": "markdown",
   "metadata": {},
   "source": [
    "\n",
    "### P1.PY\n"
   ]
  },
  {
   "cell_type": "code",
   "execution_count": null,
   "metadata": {},
   "outputs": [],
   "source": [
    "\"\"\"\n",
    "Shopping List Calculator I\n",
    "\"\"\"\n",
    "\n",
    "# Create five variables,\n",
    "# set them to strings that represent 5 common shopping list items\n",
    "\n",
    "\n",
    "item_name_1 = None\n",
    "item_name_2 = None\n",
    "item_name_3 = None\n",
    "item_name_4 = None\n",
    "item_name_5 = None\n",
    "\n",
    "# Create five more variables,\n",
    "# set them to floats that represent the prices of each of the items above\n",
    "\n",
    "item_price_1 = None\n",
    "item_price_2 = None\n",
    "item_price_3 = None\n",
    "item_price_4 = None\n",
    "item_price_5 = None\n",
    "\n",
    "# Create five more variables,\n",
    "# set them to ints that represent the quantity of each of the items above\n",
    "item_quant_1 = None\n",
    "item_quant_2 = None\n",
    "item_quant_3 = None\n",
    "item_quant_4 = None\n",
    "item_quant_5 = None\n",
    "\n",
    "# Print to the console the name and price of each item defined above as follows:\n",
    "# 1 Coco Puffs = $8.95.\n",
    "# where:\n",
    "# 1 would be item_quant_1\n",
    "# Coco Puffs would be item_name_1\n",
    "# 8.95 would be item_name_2\n"
   ]
  },
  {
   "cell_type": "markdown",
   "metadata": {},
   "source": [
    "\n",
    "\n",
    "### P2.PY\n",
    "\n",
    "\n"
   ]
  },
  {
   "cell_type": "code",
   "execution_count": null,
   "metadata": {},
   "outputs": [],
   "source": [
    "\"\"\"\n",
    "Shopping List Calculator II\n",
    "\"\"\"\n",
    "\n",
    "# Rewrite p1, but this time use the input() command to solicit user input for name, price, quantity. Here's how it works:\n",
    "\n",
    "item_name_1 = input('Name your first item: ') \n",
    "\t# ^ this will ask user to input value of item_name_1\n",
    "\n",
    "# use input() function and ask user to name items\n",
    "item_name_1 = None\n",
    "item_name_2 = None\n",
    "item_name_3 = None\n",
    "item_name_4 = None\n",
    "item_name_5 = None\n",
    "\n",
    "# use input() function and ask user to name prices\n",
    "item_price_1 = None\n",
    "item_price_2 = None\n",
    "item_price_3 = None\n",
    "item_price_4 = None\n",
    "item_price_5 = None\n",
    "\n",
    "# use input() function and ask user to name quants\n",
    "item_quant_1 = None\n",
    "item_quant_2 = None\n",
    "item_quant_3 = None\n",
    "item_quant_4 = None\n",
    "item_quant_5 = None\n",
    "\n",
    "# Print to the console the name and price of each item defined above as follows:\n",
    "# 1 Coco Puffs = $8.95.\n",
    "# where:\n",
    "# 1 would be item_quant_1\n",
    "# Coco Puffs would be item_name_1\n",
    "# 8.95 would be item_name_2\n",
    "\n",
    "# JUST REMEMBER: now this will be defined by the user!!\n"
   ]
  },
  {
   "cell_type": "markdown",
   "metadata": {},
   "source": [
    "\n"
   ]
  }
 ],
 "metadata": {},
 "nbformat": 4,
 "nbformat_minor": 2
}
