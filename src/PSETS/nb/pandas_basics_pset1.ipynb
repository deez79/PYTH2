{
 "cells": [
  {
   "cell_type": "markdown",
   "metadata": {},
   "source": [
    "<a href=\"https://colab.research.google.com/github/mottaquikarim/PYTH2/blob/master/src/PSETS/nb/pandas_basics_pset1.ipynb\" target=\"_parent\"><img src=\"https://colab.research.google.com/assets/colab-badge.svg\" alt=\"Open In Colab\"/></a>"
   ]
  },
  {
   "cell_type": "markdown",
   "metadata": {},
   "source": [
    "#  PANDAS1 BASICS\n",
    "\n",
    "## NDARRS\n",
    "\n",
    "### P1.PY\n",
    "\n",
    "\n"
   ]
  },
  {
   "cell_type": "code",
   "execution_count": null,
   "metadata": {},
   "outputs": [],
   "source": [
    "\"\"\"\n",
    "ndarray properties\n",
    "\"\"\"\n",
    "\n",
    "import numpy as np\n",
    "\n",
    "# Creating array object\n",
    "arr = np.array([[1, 2, 3],\n",
    "                [4, 2, 5]])\n",
    "\n",
    "# Given the above:\n",
    "\n",
    "# Printing type of arr object\n",
    "print(\"Array is of type: \", None)  # how would you print type?\n",
    "\n",
    "# Printing array dimensions (axes)\n",
    "print(\"No. of dimensions: \", None)  # how would you print dimensions?\n",
    "\n",
    "# Printing shape of array\n",
    "print(\"Shape of array: \", None)  # how would you print \"shape\"\n",
    "\n",
    "# Printing size (total number of elements) of array\n",
    "print(\"Size of array: \", None)  # how would you print size?\n",
    "\n",
    "# Printing type of elements in array\n",
    "# how would you print element type?\n",
    "print(\"Array stores elements of type: \", None)\n"
   ]
  },
  {
   "cell_type": "markdown",
   "metadata": {},
   "source": [
    "\n",
    "\n",
    "### P2.PY\n",
    "\n",
    "\n"
   ]
  },
  {
   "cell_type": "code",
   "execution_count": null,
   "metadata": {},
   "outputs": [],
   "source": [
    "\"\"\"\n",
    "ndarrays operations \n",
    "\"\"\"\n",
    "\n",
    "import numpy as np\n",
    "\n",
    "# Create array from list with type float\n",
    "a = None\n",
    "\n",
    "# Create array from tuple\n",
    "b = None\n",
    "\n",
    "# Create a 3X4 array with all zeros\n",
    "c = None\n"
   ]
  },
  {
   "cell_type": "markdown",
   "metadata": {},
   "source": [
    "\n",
    "\n",
    "### P3.PY\n",
    "\n",
    "\n"
   ]
  },
  {
   "cell_type": "code",
   "execution_count": null,
   "metadata": {},
   "outputs": [],
   "source": [
    "\"\"\"\n",
    "ndarray indexing\n",
    "\"\"\"\n",
    "\n",
    "import numpy as np\n",
    "\n",
    "# given this\n",
    "arr = np.array([[-1, 2, 0, 4],\n",
    "                [4, -0.5, 6, 0],\n",
    "                [2.6, 0, 7, 8],\n",
    "                [3, -7, 4, 2.0]])\n",
    "\n",
    "# grab first two rows of arr\n",
    "a = None\n",
    "\n",
    "# grab second and third row of arr\n",
    "b = None\n",
    "\n",
    "# grab first two rows of arr and first two columns\n",
    "c = None\n",
    "\n",
    "# grab elements at indices (0, 3), (1, 2), (2, 1), (3, 0)\n",
    "d = None\n",
    "\n",
    "# grab elements > 0\n",
    "e = None\n"
   ]
  },
  {
   "cell_type": "markdown",
   "metadata": {},
   "source": [
    "\n",
    "\n",
    "### P4.PY\n",
    "\n",
    "\n"
   ]
  },
  {
   "cell_type": "code",
   "execution_count": null,
   "metadata": {},
   "outputs": [],
   "source": [
    "\"\"\"\n",
    "basic operations\n",
    "\"\"\"\n",
    "\n",
    "import numpy as np\n",
    "\n",
    "a = np.array([1, 2, 5, 3])\n",
    "\n",
    "# add 1 to every element\n",
    "a = None\n",
    "print(\"Adding 1 to every element:\", a)\n",
    "\n",
    "# subtract 3 from each element\n",
    "b = None\n",
    "print(\"Subtracting 3 from each element:\", b)\n",
    "\n",
    "# multiply each element by 10\n",
    "c = None\n",
    "print(\"Multiplying each element by 10:\", c)\n",
    "\n",
    "# square each element\n",
    "d = None\n",
    "print(\"Squaring each element:\", d)\n",
    "\n",
    "# Doubled each element of original array\n",
    "print(\"Doubled each element of original array:\", arr)\n"
   ]
  },
  {
   "cell_type": "markdown",
   "metadata": {},
   "source": [
    "\n",
    "\n",
    "### P5.PY\n",
    "\n",
    "\n"
   ]
  },
  {
   "cell_type": "code",
   "execution_count": null,
   "metadata": {},
   "outputs": [],
   "source": [
    "\"\"\"\n",
    "basic operations II\n",
    "\"\"\"\n",
    "\n",
    "import numpy as np\n",
    "\n",
    "arr = np.array([[1, 5, 6],\n",
    "                [4, 7, 2],\n",
    "                [3, 1, 9]])\n",
    "\n",
    "# maximum element of array\n",
    "print(\"Largest element is:\", 0)\n",
    "\n",
    "# minimum element of array\n",
    "print(\"Smallest element is:\", 0)\n",
    "\n",
    "# maximum element per row\n",
    "print(\"Row-wise maximum elements:\",\n",
    "      [])\n",
    "\n",
    "# minimum element per col\n",
    "print(\"Column-wise minimum elements:\",\n",
    "      [])\n",
    "\n",
    "# sum of array elements\n",
    "print(\"Sum of all array elements:\",\n",
    "      0)\n",
    "\n",
    "# cumulative sum along each row\n",
    "print(\"Cumulative sum along each row:\\n\",\n",
    "      0)\n",
    "\n",
    "c = np.array([[1, 2],\n",
    "              [3, 4]])\n",
    "d = np.array([[4, 3],\n",
    "              [2, 1]])\n",
    "\n",
    "# add arrays\n",
    "print(\"Array sum:\\n\", None)\n",
    "\n",
    "# multiply arrays (elementwise multiplication)\n",
    "print(\"Array multiplication:\\n\", None)\n"
   ]
  },
  {
   "cell_type": "markdown",
   "metadata": {},
   "source": [
    "\n",
    "\n",
    "## SERIES\n",
    "\n",
    "### P1.PY\n",
    "\n",
    "\n"
   ]
  },
  {
   "cell_type": "code",
   "execution_count": null,
   "metadata": {},
   "outputs": [],
   "source": [
    "\"\"\"\n",
    "Simple Series\n",
    "\"\"\"\n",
    "\n",
    "\n",
    "# import pandas as pd\n",
    "import pandas as pd\n",
    "\n",
    "# import numpy as np\n",
    "import numpy as np\n",
    "\n",
    "\n",
    "# simple array\n",
    "data = np.array(['l', 'a', 'y', 'l', 'a'])\n",
    "\n",
    "# convert data to series\n",
    "ser = None\n",
    "\n",
    "# grab the first three items from ser\n",
    "sub = None\n",
    "\n",
    "# create series with custom label such that:\n",
    "\"\"\"\n",
    "a    l\n",
    "b    a\n",
    "c    y\n",
    "d    l\n",
    "e    a\n",
    "dtype: object\n",
    "\"\"\"\n",
    "ser2 = None\n",
    "\n",
    "# access \"y\" from series ser2\n",
    "print(\"accessing 'y'\", None)\n"
   ]
  },
  {
   "cell_type": "markdown",
   "metadata": {},
   "source": [
    "\n",
    "\n",
    "### P2.PY\n",
    "\n",
    "\n"
   ]
  },
  {
   "cell_type": "code",
   "execution_count": null,
   "metadata": {},
   "outputs": [],
   "source": [
    "\"\"\"\n",
    "Indexing and Selecting Series\n",
    "\"\"\"\n",
    "\n",
    "# import pandas as pd\n",
    "import pandas as pd\n",
    "\n",
    "# import numpy as np\n",
    "import numpy as np\n",
    "\n",
    "# create a new series\n",
    "s = pd.Series(np.nan, index=[49, 48, 47, 46, 45, 1, 2, 3, 4, 5])\n",
    "\n",
    "# using iloc, get the first 3 items in series\n",
    "t = None\n",
    "\n",
    "# using loc, do the same\n",
    "u = None\n",
    "\n",
    "# using index operators, do the same\n",
    "v = None\n"
   ]
  },
  {
   "cell_type": "markdown",
   "metadata": {},
   "source": [
    "\n",
    "\n",
    "### P3.PY\n",
    "\n",
    "\n"
   ]
  },
  {
   "cell_type": "code",
   "execution_count": null,
   "metadata": {},
   "outputs": [],
   "source": [
    "\"\"\"\n",
    "Series operations\n",
    "\"\"\"\n",
    "\n",
    "# importing pandas module\n",
    "import pandas as pd\n",
    "\n",
    "# creating a series\n",
    "data1 = pd.Series([5, 2, 3, 7], index=['a', 'b', 'c', 'd'])\n",
    "\n",
    "# creating a series\n",
    "data2 = pd.Series([1, 6, 4, 9], index=['a', 'b', 'd', 'e'])\n",
    "\n",
    "# add data1 and data2\n",
    "\n",
    "\n",
    "# subtract data1 and data2\n"
   ]
  },
  {
   "cell_type": "markdown",
   "metadata": {},
   "source": [
    "\n"
   ]
  }
 ],
 "metadata": {},
 "nbformat": 4,
 "nbformat_minor": 2
}
