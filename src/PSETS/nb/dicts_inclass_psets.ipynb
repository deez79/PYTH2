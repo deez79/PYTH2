{
 "cells": [
  {
   "cell_type": "markdown",
   "metadata": {},
   "source": [
    "<a href=\"https://colab.research.google.com/github/mottaquikarim/PYTH2/blob/master/src/PSETS/nb/dicts_inclass_psets.ipynb\" target=\"_parent\"><img src=\"https://colab.research.google.com/assets/colab-badge.svg\" alt=\"Open In Colab\"/></a>"
   ]
  },
  {
   "cell_type": "markdown",
   "metadata": {},
   "source": [
    "#  DICTS\n",
    "\n",
    "## DICT_OPS\n",
    "\n",
    "### P1.PY\n",
    "\n",
    "\n"
   ]
  },
  {
   "cell_type": "code",
   "execution_count": null,
   "metadata": {},
   "outputs": [],
   "source": [
    "\"\"\"\n",
    "Basic Dict Concepts\n",
    "\"\"\"\n",
    "\n",
    "# 1. Declare an empty dict as d1.\n",
    "\n",
    "\n",
    "\n",
    "# 2. Create a dict called d2 containing the first and last names below:\n",
    "# Anthony Paollelo, Ping Qiao, Enrique Alvarez, Arjun Dhir \n",
    "\n",
    "\n",
    "\n",
    "\n",
    "# 3. Add Allison Zhang person to d2.\n",
    "\n",
    "\n",
    "\n",
    "# 4. How many people are now in d2? Print out all their *first* names in the vars below.\n",
    "\n",
    "### num_people = \n",
    "\n",
    "### first_names = \n",
    "\n",
    "\n",
    "# 5. Delete a random person from d2 and print his/her name in the var below.\n",
    "\n",
    "### x = \n",
    "\n",
    "\n",
    "# 6. Re-add the name you deleted to the end of d2.\n",
    "\n",
    "\n",
    "\n",
    "\n"
   ]
  },
  {
   "cell_type": "markdown",
   "metadata": {},
   "source": [
    "\n",
    "\n",
    "### P2.PY\n",
    "\n",
    "\n"
   ]
  },
  {
   "cell_type": "code",
   "execution_count": null,
   "metadata": {},
   "outputs": [],
   "source": [
    "\"\"\"\n",
    "Merging Dicts\n",
    "\"\"\"\n",
    "\n",
    "# Merge these two dicts without creating a new one.\n",
    "\n",
    "d1 = {'a': 100, 'b': 200}\n",
    "d2 = {'c': 300, 'd': 400, 'e': 500}\n",
    "\n"
   ]
  },
  {
   "cell_type": "markdown",
   "metadata": {},
   "source": [
    "\n",
    "\n",
    "### P3.PY\n",
    "\n",
    "\n"
   ]
  },
  {
   "cell_type": "code",
   "execution_count": null,
   "metadata": {},
   "outputs": [],
   "source": [
    "\"\"\"\n",
    "Math with Girl Scout Cookies\n",
    "\"\"\"\n",
    "\n",
    "# Please use all provided vars for these problems so that the tests work seamlessly!\n",
    "\n",
    "# Print out the number of boxes of girl scout cookies that each girl in the troop sold in the below format:\n",
    "\t# Wendy: _____\n",
    "\t# Connie: _____\n",
    "\t# Francesca: _____\n",
    "\n",
    "Wendy = {'tagalongs': 5, 'thin mints': 12, 'samoas': 8}\n",
    "Connie = {'tagalongs': 10, 'thin mints': 4, 'samoas': 12}\n",
    "Francesca = {'tagalongs': 18, 'thin mints': 14, 'samoas': 10}\n",
    "\n",
    "### salesW = \n",
    "### salesC = \n",
    "### salesF = \n",
    "\n",
    "\n",
    "# For each type of girl scout cookie, print out the total number of boxes sold in the below format:\n",
    "\t# tagalongs: _____\n",
    "\t# thin mints: _____\n",
    "\t# samoas: _____\n",
    "\n",
    "### total_tagalongs = \n",
    "### total_thinmints = \n",
    "### total_samoas = \n",
    "\n",
    "\n",
    "# For each type of girl scout cookie, print out the average number of boxes sold in the below format:\n",
    "\t# tagalongs: _____\n",
    "\t# thin mints: _____\n",
    "\t# samoas: _____\n",
    "\n",
    "### avg_tagalongs = \n",
    "### avg_thinmints = \n",
    "### avg_samoas = \n",
    "\n",
    "# Print out total the number of boxes of cookies the girls sold collectively as follows:\n",
    "\t# \"This year we sold ______ boxes!\"\n",
    "\n",
    "### boxes_sold = "
   ]
  },
  {
   "cell_type": "markdown",
   "metadata": {},
   "source": [
    "\n",
    "\n",
    "### P4.PY\n",
    "\n",
    "\n"
   ]
  },
  {
   "cell_type": "code",
   "execution_count": null,
   "metadata": {},
   "outputs": [],
   "source": [
    "\"\"\"\n",
    "Inverting Keys & Values\n",
    "\"\"\"\n",
    "\n",
    "# Invert dict1 - make the current keys into values and the current values into keys.\n",
    "\n",
    "\n",
    "dict1 = { \"k1\" : \"v1\", \"k2\" : \"v2\", \"k3\" : \"v1\" }\n",
    "\n"
   ]
  },
  {
   "cell_type": "markdown",
   "metadata": {},
   "source": [
    "\n",
    "\n",
    "### P5.PY\n",
    "\n",
    "\n"
   ]
  },
  {
   "cell_type": "code",
   "execution_count": null,
   "metadata": {},
   "outputs": [],
   "source": [
    "\"\"\"\n",
    "Lists to Dicts\n",
    "\"\"\"\n",
    "\n",
    "# Turn these two lists into a dict called grades.\n",
    "\n",
    "names = ['Taq', 'Zola', 'Valerie', 'Valerie']\n",
    "scores = [[98, 89, 92, 94], [86, 45, 98, 100], [100, 100, 100, 100], [76, 79, 80, 82]]\n",
    "\n",
    "### grades = "
   ]
  },
  {
   "cell_type": "markdown",
   "metadata": {},
   "source": [
    "\n",
    "\n",
    "## SEARCH_VALIDATION\n",
    "\n",
    "### P1.PY\n",
    "\n",
    "\n"
   ]
  },
  {
   "cell_type": "code",
   "execution_count": null,
   "metadata": {},
   "outputs": [],
   "source": [
    "\"\"\"\n",
    "Basic Login\n",
    "\"\"\"\n",
    "\n",
    "# Imagine you work for a movie streaming service. You're in charge of safeguarding user privacy by ensuring the login feature remains secure. For the sake of example only, below is the dict of user login info. Normally, you wouldn't have access to see this unencrypted of course!\n",
    "\n",
    "users = {\n",
    "\t'person@email.com': 'PassWord',\n",
    "\t'someone@email.com': 'hiitsme',\n",
    "\t'me@email.com': 'myPassword',\n",
    "\t'anyone@email.com': 'IMawesome',\n",
    "\t'guy@email.com': 'pa$$wordz'\n",
    "\t# etc\n",
    "}\n",
    "\n",
    "\n",
    "# A user enters the below login info (email and password) for your app. Search your database of \n",
    "\n",
    "\n",
    "\t# .haskey ? ; if True: print('Successful login!')\n",
    "\n",
    "\n",
    "\n",
    "current_user = { 'me@email.com': 'myPassword' }"
   ]
  },
  {
   "cell_type": "markdown",
   "metadata": {},
   "source": [
    "\n"
   ]
  }
 ],
 "metadata": {},
 "nbformat": 4,
 "nbformat_minor": 2
}
