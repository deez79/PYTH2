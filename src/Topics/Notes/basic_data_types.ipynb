{
  "nbformat": 4,
  "nbformat_minor": 0,
  "metadata": {
    "colab": {
      "name": "notes_basic_data_types.ipynb",
      "version": "0.3.2",
      "provenance": [],
      "collapsed_sections": [
        "fYWqJ7zCp1-F",
        "ooabMmTBpuz_",
        "gxwAky7Hpu0I",
        "LbcSk8wupu0p"
      ]
    },
    "kernelspec": {
      "name": "python3",
      "display_name": "Python 3"
    }
  },
  "cells": [
    {
      "cell_type": "markdown",
      "metadata": {
        "id": "6DtRb933puz5",
        "colab_type": "text"
      },
      "source": [
        "<a href=\"https://colab.research.google.com/github/mottaquikarim/PYTH2/blob/master/src/Topics/nb/basic_data_types.ipynb\" target=\"_parent\"><img src=\"https://colab.research.google.com/assets/colab-badge.svg\" alt=\"Open In Colab\"/></a>"
      ]
    },
    {
      "cell_type": "markdown",
      "metadata": {
        "id": "VaCYkqbWpuz7",
        "colab_type": "text"
      },
      "source": [
        "# Basic Data Types\n",
        "\n",
        "Let's discuss data types, variables, and naming.\n",
        "\n",
        "A data type is a unit of information that can be stored and retrieved using a program language. **Variables** store different types of data. You can display the value stored in a variable on the screen using the `print()` statement. Because variables are so ubiquitous, there are some **rules for naming variables** that help avoid confusion.\n",
        "\n",
        "- **Rule:** snake_case with the underscore character\n",
        "- **Rule:** Can’t use keywords as var names, e.g. True, None, function, class, object\n",
        "- **Rule:** Can’t start with a numeric value, e.g. can't name something \"1var\", but you CAN do function1\n",
        "- **Best Practice:** You COULD use CamelCase to name a variable, but this is typically reserved for naming a different Python object called a \"class\"."
      ]
    },
    {
      "cell_type": "markdown",
      "metadata": {
        "id": "fYWqJ7zCp1-F",
        "colab_type": "text"
      },
      "source": [
        "#### Creating & Reading a Variable"
      ]
    },
    {
      "cell_type": "code",
      "metadata": {
        "id": "EKy6Lmbxpuz8",
        "colab_type": "code",
        "colab": {}
      },
      "source": [
        "first_prime = 2\n",
        "print(first_prime) # expect to see 2"
      ],
      "execution_count": 0,
      "outputs": []
    },
    {
      "cell_type": "markdown",
      "metadata": {
        "id": "ooabMmTBpuz_",
        "colab_type": "text"
      },
      "source": [
        "\n",
        "#### Comments\n",
        "\n",
        "Real quick, let's see how we create comments so that you can write notes to yourself in your code - **very** useful!\n"
      ]
    },
    {
      "cell_type": "code",
      "metadata": {
        "id": "2gBDHEkNpu0A",
        "colab_type": "code",
        "colab": {}
      },
      "source": [
        "# I'm a comment!\n",
        "\n",
        "\n",
        "# Here is a multi-line comment:\n",
        "\"\"\"\n",
        "'Cause if you liked it, then you should have put a ring on it\n",
        "If you liked it, then you should have put a ring on it\n",
        "Don't be mad once you see that he want it\n",
        "If you liked it, then you should have put a ring on it\n",
        "\"\"\""
      ],
      "execution_count": 0,
      "outputs": []
    },
    {
      "cell_type": "markdown",
      "metadata": {
        "id": "eK7wENDlpu0C",
        "colab_type": "text"
      },
      "source": [
        "These are the most basic data types, which compose the more complex data types we'll learn about later:\n",
        "\n",
        "* Strings: alphanumeric characters read as text\n",
        "\t* **Important takeaway!** If you use a `'`, say in a contraction, the string might misinterpret it as the ending `'` for the string. To avoid this, add `\\` right before that `'` like this: 'I\\'ll`.\n",
        "* Integers: whole numbers\n",
        "* Floats: decimals\n",
        "* Booleans: represents True or False values; used for evaluating conditional statements\n",
        "* Nonetype: represents variables not yet defined or essentially blank values (shown as None, used as placeholder to avoid error)\n"
      ]
    },
    {
      "cell_type": "code",
      "metadata": {
        "id": "3ciB64iopu0D",
        "colab_type": "code",
        "colab": {}
      },
      "source": [
        "# Strings\n",
        "cat = 'Layla' # or \"Layla\" because single & double quotes are both valid\n",
        "cat_description = 'Layla\\'s a mischievous, but very cute kitty!' # Note the use of \\' here.\n",
        "\n",
        "# Integers\n",
        "age = 8\n",
        "\n",
        "# Floats\n",
        "weight = 10.5\n",
        "\n",
        "# Booleans\n",
        "vaccinated = True\n",
        "good_with_other_cats = False\n",
        "\n",
        "# Nonetype\n",
        "good_with_other_dogs = None"
      ],
      "execution_count": 0,
      "outputs": []
    },
    {
      "cell_type": "markdown",
      "metadata": {
        "id": "gxwAky7Hpu0I",
        "colab_type": "text"
      },
      "source": [
        "\n",
        "### String Formatting\n",
        "\n",
        "Strings have some special qualities that make dealing with them easier. For instance, you can store several separate snippets of text within a single string. One way to do this is adding `\\n` to signify that you want to create a new line. However, there's another way to do this that makes it much more readable! To do this, you can use triple quotes i.e. `'''` or `\"\"\"`. You can use single and double quotes within the string freely, so no need to worry about that detail!\n",
        "\n",
        "Let's say you're storing song lyrics, so you want to have a line break between each line of the song.\n"
      ]
    },
    {
      "cell_type": "code",
      "metadata": {
        "id": "3HR8iqSVpu0I",
        "colab_type": "code",
        "colab": {}
      },
      "source": [
        "'Cause if you liked it, then you should have put a ring on it\\nIf you liked it, then you should have put a ring on it\\nDon\\'t be mad once you see that he want it\\nIf you liked it, then you should have put a ring on it'\n",
        "\n",
        "'''\n",
        "'Cause if you liked it, then you should have put a ring on it\n",
        "If you liked it, then you should have put a ring on it\n",
        "Don't be mad once you see that he want it\n",
        "If you liked it, then you should have put a ring on it\n",
        "'''"
      ],
      "execution_count": 0,
      "outputs": []
    },
    {
      "cell_type": "markdown",
      "metadata": {
        "id": "VW4wU_NYpu0O",
        "colab_type": "text"
      },
      "source": [
        "\n",
        "If you want to insert variables within a string, you can do this:\n"
      ]
    },
    {
      "cell_type": "code",
      "metadata": {
        "id": "fhKriGv2pu0P",
        "colab_type": "code",
        "colab": {}
      },
      "source": [
        "cat = 'Layla'\n",
        "\n",
        "print(cat, 'is a mischievous, but very cute kitty!')\n",
        "# Note that the ',' automatically adds a space character."
      ],
      "execution_count": 0,
      "outputs": []
    },
    {
      "cell_type": "markdown",
      "metadata": {
        "id": "pzcMXfQlpu0R",
        "colab_type": "text"
      },
      "source": [
        "\n",
        "But that can be annoying if you're inserting multiple variables. To simplify this, you dynamically add variables directly within a string like this:\n"
      ]
    },
    {
      "cell_type": "code",
      "metadata": {
        "id": "DHoHnLrKpu0R",
        "colab_type": "code",
        "colab": {}
      },
      "source": [
        "cat = 'Layla' # or \"Layla\" because single & double quotes are both valid\n",
        "age = 8\n",
        "weight = 10.5\n",
        "\n",
        "\n",
        "print(f'{cat} is {age} years old.\\n{cat} weighs {weight} pounds.')\n",
        "print(f'''\n",
        "{cat} is {age} years old.\n",
        "{cat} weighs {weight} pounds.\n",
        "''')\n",
        "\n",
        "\"\"\"\n",
        "Both of these print...\n",
        "\n",
        "Layla is 8 years old.\n",
        "Layla weighs 10.5 pounds.\n",
        "\"\"\""
      ],
      "execution_count": 0,
      "outputs": []
    },
    {
      "cell_type": "markdown",
      "metadata": {
        "id": "T1gTHPUW5BOI",
        "colab_type": "text"
      },
      "source": [
        "**Pro Tip**: You can use several versions of the the `.strip()` function to remove leading and trailing spaces from strings.\n",
        "\n",
        "* `lstrip()`: remove all leading  spaces\n",
        "* `rstrip()`: remove all trailing spaces\n",
        "* `strip()`: remove all leading AND trailing spaces"
      ]
    },
    {
      "cell_type": "code",
      "metadata": {
        "id": "GzFXcUpgrUsT",
        "colab_type": "code",
        "outputId": "23fc23b3-6de1-490b-919c-0d4942893b66",
        "colab": {
          "base_uri": "https://localhost:8080/",
          "height": 243
        }
      },
      "source": [
        "a = '    hi mom!'\n",
        "print(f'LEADING SPACES: \\n{a} \\n{a.strip()}\\n\\n')\n",
        "\n",
        "\n",
        "b = 'hi mom!    '\n",
        "print(f'TRAILING SPACES: \\n{b} \\n{b.strip()}\\n\\n')\n",
        "\n",
        "\n",
        "c = '    hi mom!    '\n",
        "# print(c, '\\n', c.strip(), '\\n\\n')\n",
        "print(f'LEADING & TRAILING SPACES: \\n{c} \\n{c.strip()}')\n"
      ],
      "execution_count": 0,
      "outputs": [
        {
          "output_type": "stream",
          "text": [
            "LEADING SPACES: \n",
            "    hi mom! \n",
            "hi mom!\n",
            "\n",
            "\n",
            "TRAILING SPACES: \n",
            "hi mom!     \n",
            "hi mom!\n",
            "\n",
            "\n",
            "LEADING & TRAILING SPACES: \n",
            "    hi mom!     \n",
            "hi mom!\n"
          ],
          "name": "stdout"
        }
      ]
    },
    {
      "cell_type": "markdown",
      "metadata": {
        "id": "kH737ZcQpu0U",
        "colab_type": "text"
      },
      "source": [
        "## Typecasting"
      ]
    },
    {
      "cell_type": "markdown",
      "metadata": {
        "id": "g1drGGV0anIr",
        "colab_type": "text"
      },
      "source": [
        "**Typecasting** is a way to convert an instance of one data type to another. Numbers are the most flexible for converting, while strings are very inflexible. Booleans get a bit more complicated, so we'll look at those last!\n",
        "\n",
        "First you need to know what data type your variable is in the first place! Check what data type is stored in a variable using the `type()` statement or the `isinstance()` statement."
      ]
    },
    {
      "cell_type": "code",
      "metadata": {
        "id": "GIPNidRxpu0Y",
        "colab_type": "code",
        "colab": {}
      },
      "source": [
        "# Example 1 - type()\n",
        "a = 1\n",
        "print(type(a)) # <class 'int'>\n",
        "\n",
        "b = '2.5'\n",
        "print(type(b)) # <class 'str'>\n",
        "\n",
        "\n",
        "\n",
        "# Example 2 - isinstance()\n",
        "c = -1\n",
        "print(f'Is {c} a boolean?', isinstance(c, bool)) # False\n",
        "\n",
        "\n",
        "d = False\n",
        "print(f'Is {d} a boolean?', isinstance(d, bool)) # True"
      ],
      "execution_count": 0,
      "outputs": []
    },
    {
      "cell_type": "markdown",
      "metadata": {
        "id": "ZYfyCAh9pu0c",
        "colab_type": "text"
      },
      "source": [
        "### Convert Data Types"
      ]
    },
    {
      "cell_type": "code",
      "metadata": {
        "id": "pPnpz-c2pu0d",
        "colab_type": "code",
        "outputId": "ed21dffa-559c-4e52-b769-a9a02d769675",
        "colab": {
          "base_uri": "https://localhost:8080/",
          "height": 35
        }
      },
      "source": [
        "\"\"\"INTEGERS\"\"\"\n",
        "int_to_float = float(10) # 10.0, <class 'float'>\n",
        "int_to_string = str(10) # 10, <class 'str'>\n",
        "\n",
        "\n",
        "\"\"\"FLOATS\"\"\"\n",
        "float_to_int = int(2.5) # 2, <class 'float'>\n",
        "print(float_to_int)\n",
        "\n",
        "\n",
        "# Notice it does NOT ROUND!\n",
        "float_to_string = str(2.5) # '2.5', <class 'str'>"
      ],
      "execution_count": 0,
      "outputs": [
        {
          "output_type": "stream",
          "text": [
            "3\n"
          ],
          "name": "stdout"
        }
      ]
    },
    {
      "cell_type": "markdown",
      "metadata": {
        "id": "f3fiEw1zpu0h",
        "colab_type": "text"
      },
      "source": [
        "\n",
        "#### Converting Strings\n"
      ]
    },
    {
      "cell_type": "code",
      "metadata": {
        "id": "wdWW_pyGpu0i",
        "colab_type": "code",
        "colab": {}
      },
      "source": [
        "string_to_int = int('mango') # ERROR!\n",
        "string_to_float = str('strawberry') # ERROR!"
      ],
      "execution_count": 0,
      "outputs": []
    },
    {
      "cell_type": "markdown",
      "metadata": {
        "id": "AjjElMuFpu0l",
        "colab_type": "text"
      },
      "source": [
        "\n",
        "#### Converting Booleans\n",
        "\n",
        "As you'll see below, you can convert any number to a True boolean, BUT a True boolean will only ever become 1 or 1.0.\n"
      ]
    },
    {
      "cell_type": "code",
      "metadata": {
        "id": "25ccC_QKpu0m",
        "colab_type": "code",
        "outputId": "cd4432df-c77b-434c-b34f-c40aaa9a9510",
        "colab": {
          "base_uri": "https://localhost:8080/",
          "height": 52
        }
      },
      "source": [
        "\"\"\"EVALS TO TRUE\"\"\"\n",
        "int_to_boolean = bool(10) # True, <class 'bool'>\n",
        "int_to_boolean = bool(0) # False\n",
        "\n",
        "\n",
        "float_to_boolean = print(bool(-1)) # True, <class 'bool'>\n",
        "\n",
        "string_to_boolean = bool('peach') # True, <class 'bool'>\n",
        "\n",
        "\"\"\"EVALS TO FALSE\"\"\"\n",
        "int_to_boolean = bool(0) # False, <class 'bool'>\n",
        "float_to_boolean = bool(0.0) # False, <class 'bool'>\n",
        "string_to_boolean = print(bool('     ')) # False, <class 'bool'>"
      ],
      "execution_count": 0,
      "outputs": [
        {
          "output_type": "stream",
          "text": [
            "True\n",
            "True\n"
          ],
          "name": "stdout"
        }
      ]
    },
    {
      "cell_type": "markdown",
      "metadata": {
        "id": "R6EbvRpDrP1R",
        "colab_type": "text"
      },
      "source": [
        "Notice that the **ONLY** way a string converted into a boolean will be False is if it's empty. Spaces count as characters even though they wouldn't display anything if printed."
      ]
    },
    {
      "cell_type": "markdown",
      "metadata": {
        "id": "LbcSk8wupu0p",
        "colab_type": "text"
      },
      "source": [
        "## Simple Integer, Float, & String Operators\n",
        "\n",
        "**Operators** are shortcuts for manipulating values stored in variables.\n",
        "\n",
        "### Integer/Float Operators\n",
        "\n",
        "We can operate on integers/floats in the following ways:\n",
        "\n",
        "* Addition\n",
        "* Subtraction\n",
        "* Multiplication\n",
        "* Division\n",
        "* Modulus (This one divides and returns **only the remainder**.)\n"
      ]
    },
    {
      "cell_type": "code",
      "metadata": {
        "id": "k9N4yPyApu0q",
        "colab_type": "code",
        "outputId": "e473f37b-7f61-470b-f20f-24a6779665f0",
        "colab": {
          "base_uri": "https://localhost:8080/",
          "height": 35
        }
      },
      "source": [
        "orig_num = 10\n",
        "\n",
        "# Addition\n",
        "num1 = orig_num + 5 # 15\n",
        "\n",
        "# Subtraction\n",
        "num2 = orig_num - 5 # 5\n",
        "\n",
        "# Multiplication\n",
        "num3 = orig_num * 5 # 50\n",
        "\n",
        "# Division\n",
        "num4 = orig_num / 5 # 2\n",
        "\n",
        "# Modulus\n",
        "num5 = orig_num % 5 # 0\n",
        "num6 = orig_num % 3 # 1\n",
        "\n",
        "# if num1 % 3 == 0, then it's even\n",
        "# "
      ],
      "execution_count": 0,
      "outputs": [
        {
          "output_type": "stream",
          "text": [
            "0 1\n"
          ],
          "name": "stdout"
        }
      ]
    },
    {
      "cell_type": "markdown",
      "metadata": {
        "id": "NXp7BKj-pu0s",
        "colab_type": "text"
      },
      "source": [
        "\n",
        "### String Operators\n",
        "\n",
        "* We can \"add\" strings\n",
        "* We CANNOT add strings to non strings\n"
      ]
    },
    {
      "cell_type": "code",
      "metadata": {
        "id": "AvBhI__xpu0t",
        "colab_type": "code",
        "colab": {}
      },
      "source": [
        "a = 'this string'\n",
        "b = 'that string'\n",
        "\n",
        "print(a + b) # 'this stringthat string'\n",
        "\n",
        "\n",
        "print(a + ' and ' + b) # 'this string and that string'\n",
        "print(a, 'and', b) # 'this string and that string'\n",
        "\n",
        "\n",
        "\"\"\"ERROR!!!\n",
        "print('this will not work' + 4) doesn't work \n",
        "because you can't add a number to a string\"\"\"\n",
        "\n",
        "# quant = 4\n",
        "# product = 'bananas'\n",
        "\n",
        "# how_much = quant + product # '4 bananas'"
      ],
      "execution_count": 0,
      "outputs": []
    },
    {
      "cell_type": "markdown",
      "metadata": {
        "id": "WChQYbZBpu0v",
        "colab_type": "text"
      },
      "source": [
        "\n",
        "## Class Practice PSETs\n",
        "\n",
        "[Basic Data Types](https://colab.research.google.com/github/mottaquikarim/PYTH2/blob/master/src/PSETS/nb/basic_data_inclass_psets.ipynb)\n",
        "\n",
        "## Additional Resources\n",
        "\n",
        "* [A Repl.it Summarizing Print Statements](https://repl.it/@brandiw/Python-01-Variables-4?lite=true)\n",
        "* [Python For Beginners](http://www.pythonforbeginners.com/basics/python-variables)\n",
        "* [Python Programming Tutorial: Variables](https://www.youtube.com/watch?v=vKqVnr0BEJQ)\n",
        "* [Variables in Python](https://www.guru99.com/variables-in-python.html)\n",
        "* [Operators Cheatsheet](http://python-reference.readthedocs.io/en/latest/docs/operators/)\n",
        "* [Python Style Guide: Naming](https://www.python.org/dev/peps/pep-0008/#descriptive-naming-styles)\n",
        "* [Python-Strings](https://www.tutorialspoint.com/python/python_strings.htm)\n",
        "* [String Concatenation and Formatting](http://www.pythonforbeginners.com/concatenation/string-concatenation-and-formatting-in-python)\n",
        "* [String Concatenation and Formatting - Video](https://www.youtube.com/watch?v=jA5LW3bR0Us)\n"
      ]
    }
  ]
}