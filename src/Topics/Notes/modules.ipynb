{
  "nbformat": 4,
  "nbformat_minor": 0,
  "metadata": {
    "colab": {
      "name": "modules.ipynb",
      "version": "0.3.2",
      "provenance": []
    },
    "kernelspec": {
      "name": "python3",
      "display_name": "Python 3"
    }
  },
  "cells": [
    {
      "cell_type": "markdown",
      "metadata": {
        "id": "4JSfmzlc3vob",
        "colab_type": "text"
      },
      "source": [
        "<a href=\"https://colab.research.google.com/github/mottaquikarim/PYTH2/blob/master/src/Topics/nb/modules.ipynb\" target=\"_parent\"><img src=\"https://colab.research.google.com/assets/colab-badge.svg\" alt=\"Open In Colab\"/></a>"
      ]
    },
    {
      "cell_type": "code",
      "metadata": {
        "id": "KIOOqkN88b_O",
        "colab_type": "code",
        "colab": {
          "base_uri": "https://localhost:8080/",
          "height": 34
        },
        "outputId": "36837f30-9acc-4b39-ac1b-d3fb85f58c77"
      },
      "source": [
        "!pip install ExifRead\n",
        "\n",
        "import exifread\n"
      ],
      "execution_count": 3,
      "outputs": [
        {
          "output_type": "stream",
          "text": [
            "Requirement already satisfied: ExifRead in /usr/local/lib/python3.6/dist-packages (2.1.2)\n"
          ],
          "name": "stdout"
        }
      ]
    },
    {
      "cell_type": "code",
      "metadata": {
        "id": "8sFB7RiS8xjf",
        "colab_type": "code",
        "colab": {
          "base_uri": "https://localhost:8080/",
          "height": 840
        },
        "outputId": "2bdf09e1-f420-4545-89bd-043b1323b232"
      },
      "source": [
        "# Open image file for reading (binary mode)\n",
        "f = open(\"foto_exif.jpeg\", 'rb')\n",
        "\n",
        "# Return Exif tags\n",
        "tags = exifread.process_file(f)\n",
        "\n",
        "for tag in tags.keys():\n",
        "    if tag not in ('JPEGThumbnail', 'TIFFThumbnail', 'Filename', 'EXIF MakerNote'):\n",
        "        print(f\"Key: {tag}, value {tags[tag]}\")"
      ],
      "execution_count": 11,
      "outputs": [
        {
          "output_type": "stream",
          "text": [
            "Key: Image Make, value NIKON CORPORATION\n",
            "Key: Image Model, value NIKON D7100\n",
            "Key: Image XResolution, value 240\n",
            "Key: Image YResolution, value 240\n",
            "Key: Image ResolutionUnit, value Pixels/Inch\n",
            "Key: Image Software, value GIMP 2.8.18\n",
            "Key: Image DateTime, value 2016:10:18 14:22:51\n",
            "Key: Image ExifOffset, value 188\n",
            "Key: Thumbnail Compression, value JPEG (old-style)\n",
            "Key: Thumbnail XResolution, value 72\n",
            "Key: Thumbnail YResolution, value 72\n",
            "Key: Thumbnail ResolutionUnit, value Pixels/Inch\n",
            "Key: Thumbnail JPEGInterchangeFormat, value 808\n",
            "Key: Thumbnail JPEGInterchangeFormatLength, value 5571\n",
            "Key: EXIF ExposureTime, value 1/500\n",
            "Key: EXIF FNumber, value 9/5\n",
            "Key: EXIF ExposureProgram, value Manual\n",
            "Key: EXIF ISOSpeedRatings, value 100\n",
            "Key: EXIF ExifVersion, value 0230\n",
            "Key: EXIF DateTimeOriginal, value 2016:03:12 07:52:31\n",
            "Key: EXIF DateTimeDigitized, value 2016:03:12 07:52:31\n",
            "Key: EXIF ShutterSpeedValue, value 1120723/125000\n",
            "Key: EXIF ApertureValue, value 847997/500000\n",
            "Key: EXIF ExposureBiasValue, value 0\n",
            "Key: EXIF MaxApertureValue, value 8/5\n",
            "Key: EXIF MeteringMode, value Pattern\n",
            "Key: EXIF LightSource, value Unknown\n",
            "Key: EXIF Flash, value Flash did not fire, compulsory flash mode\n",
            "Key: EXIF FocalLength, value 35\n",
            "Key: EXIF SubSecTimeOriginal, value 90\n",
            "Key: EXIF SubSecTimeDigitized, value 90\n",
            "Key: EXIF FlashPixVersion, value 0100\n",
            "Key: EXIF ColorSpace, value sRGB\n",
            "Key: EXIF SensingMethod, value One-chip color area\n",
            "Key: EXIF FileSource, value Digital Camera\n",
            "Key: EXIF SceneType, value Directly Photographed\n",
            "Key: EXIF CVAPattern, value [2, 0, 2, 0, 0, 1, 1, 2]\n",
            "Key: EXIF CustomRendered, value Normal\n",
            "Key: EXIF ExposureMode, value Manual Exposure\n",
            "Key: EXIF WhiteBalance, value Auto\n",
            "Key: EXIF DigitalZoomRatio, value 1\n",
            "Key: EXIF FocalLengthIn35mmFilm, value 52\n",
            "Key: EXIF SceneCaptureType, value Standard\n",
            "Key: EXIF GainControl, value None\n",
            "Key: EXIF Contrast, value Normal\n",
            "Key: EXIF Saturation, value Normal\n",
            "Key: EXIF Sharpness, value Normal\n",
            "Key: EXIF SubjectDistanceRange, value 0\n"
          ],
          "name": "stdout"
        }
      ]
    },
    {
      "cell_type": "code",
      "metadata": {
        "id": "V9qviAPGAfvi",
        "colab_type": "code",
        "colab": {
          "base_uri": "https://localhost:8080/",
          "height": 157
        },
        "outputId": "5ebcded1-10b9-49f2-80dd-24091886469b"
      },
      "source": [
        "!pip install requests3"
      ],
      "execution_count": 12,
      "outputs": [
        {
          "output_type": "stream",
          "text": [
            "Collecting requests3\n",
            "  Downloading https://files.pythonhosted.org/packages/26/80/043b00f8009001f43ee77a6d8aa17d13d09b3df32b8bbc8936b04e157e68/requests3-0.0.0-py2.py3-none-any.whl\n",
            "Collecting h11 (from requests3)\n",
            "\u001b[?25l  Downloading https://files.pythonhosted.org/packages/5a/fd/3dad730b0f95e78aeeb742f96fa7bbecbdd56a58e405d3da440d5bfb90c6/h11-0.9.0-py2.py3-none-any.whl (53kB)\n",
            "\u001b[K     |████████████████████████████████| 61kB 3.9MB/s \n",
            "\u001b[?25hInstalling collected packages: h11, requests3\n",
            "Successfully installed h11-0.9.0 requests3-0.0.0\n"
          ],
          "name": "stdout"
        }
      ]
    },
    {
      "cell_type": "code",
      "metadata": {
        "id": "hzfEyJiRAljb",
        "colab_type": "code",
        "colab": {
          "base_uri": "https://localhost:8080/",
          "height": 51
        },
        "outputId": "87cade62-dcf5-4b81-e4e7-503cb87035b6"
      },
      "source": [
        "from random import randint\n",
        "import requests\n",
        "\n",
        "# url = f'http://numbersapi.com/{randint(1,2019)}/year'\n",
        "# r = requests.get(url)\n",
        "# print(r.text, url)\n",
        "\n",
        "class Number:\n",
        "  url = 'http://numbersapi.com'\n",
        "  types = ['trivia', 'math', 'year', 'date']\n",
        "  \n",
        "  def __init__(self, number):\n",
        "    self.number = number\n",
        "    self.facts = {}\n",
        "    for type in self.types:\n",
        "      self.facts[type] = self.get_fact(type)\n",
        "  \n",
        "  def get_fact(self, type):\n",
        "    url = f'{self.url}/{self.number}/{type}'\n",
        "    r = requests.get(url)\n",
        "    return r.text\n",
        "  \n",
        "  def trivia(self):\n",
        "    if not hasattr(self, \"_trivia\"):\n",
        "      self._trivia = self.get_fact('trivia')\n",
        "      \n",
        "    return self._trivia\n",
        "  \n",
        "  def year(self):\n",
        "    if not hasattr(self, \"_year\"):\n",
        "      self._year = self.get_fact('year')\n",
        "      \n",
        "    return self._year\n",
        "  \n",
        "  \n",
        "n1945 = Number(randint(1,2019))\n",
        "print(n1945.year())\n",
        "print(n1945.trivia())"
      ],
      "execution_count": 61,
      "outputs": [
        {
          "output_type": "stream",
          "text": [
            "134 is the year that a university of rhetoric, law and philosophy, the Athenaeum, opens in Rome.\n",
            "134 is the number of episodes in the TV series Hawaiian Eye that ran on ABC from 1959 to 1963.\n"
          ],
          "name": "stdout"
        }
      ]
    },
    {
      "cell_type": "code",
      "metadata": {
        "id": "ZH4E7xDvKYcq",
        "colab_type": "code",
        "colab": {
          "base_uri": "https://localhost:8080/",
          "height": 34
        },
        "outputId": "35ede181-8aaf-4689-b183-dde9076d840b"
      },
      "source": [
        "from requests import get\n",
        "\n",
        "class Weather:\n",
        "  url_base = 'http://api.openweathermap.org/data'\n",
        "  version = 2.5\n",
        "  forecast_endpoint = 'forecast/daily'\n",
        "  api_key = '51b03e8d15d7df69f88921b3c1ba2f69'\n",
        "  \n",
        "  @staticmethod\n",
        "  def convert(k):\n",
        "    c = k - 273.15\n",
        "    return 9*c/5 + 32\n",
        "    \n",
        "  \n",
        "  def __init__(self, city, country, num_days=16):\n",
        "    if num_days < 1 or num_days > 16:\n",
        "      raise Exception('num_days must be between 1 and 16!')\n",
        "    \n",
        "    self.city = city\n",
        "    self.country = country\n",
        "    self.days = num_days\n",
        "    \n",
        "  def api_call(self):\n",
        "    args = f'q={self.city},{self.country}&APPID={self.api_key}&cnt={self.days}'\n",
        "    url = f'{self.url_base}/{self.version}/{self.forecast_endpoint}?{args}'\n",
        "    \n",
        "    r = get(url)\n",
        "    \n",
        "    return r.json()\n",
        "  \n",
        "  def get_weather(self, day):\n",
        "    if day < 1 or day > self.days:\n",
        "      raise Exception('days must be between 1 and 16!')\n",
        "    \n",
        "    data = self.api_call()\n",
        "    return self.convert(data['list'][day-1]['temp']['day'])\n",
        "      \n",
        "      \n",
        "nyc = Weather('new york', 'usa', 2)\n",
        "print(nyc.get_weather(2))\n",
        "\n"
      ],
      "execution_count": 73,
      "outputs": [
        {
          "output_type": "stream",
          "text": [
            "83.03000000000004\n"
          ],
          "name": "stdout"
        }
      ]
    },
    {
      "cell_type": "markdown",
      "metadata": {
        "id": "j4XuWIif3vog",
        "colab_type": "text"
      },
      "source": [
        "# Modules & Packages\n",
        "\n",
        "In Python, a `module` is Python source file that contains pre-defined objects like variables, functions, classes, and other items we'll talk about soon. A Python `package`, sometimes used synonymously with the term `library`, is simply a collection of Python modules. The diagram below can show you this hierarchy visually.\n",
        "\n",
        "![package_def](https://365datascience.com/wp-content/uploads/2018/07/image2-min-6-768x419.png)\n",
        "\n",
        "Essentially, packages and modules are a means of `modularizing` code by grouping functions and objects into specific areas of focus. For instance, the `statsmodels` module ([here](https://www.statsmodels.org/)) contains code useful to a data scientist. The `Pyglet` library ([here](http://www.pyglet.org/)) contains code useful to game developers needing shortcuts for 3D game animation. But vice versa?\n",
        "\n",
        "`Modular programming` allows us to break out modules and packages dealing with specific topics in order make the standard library more efficient for the general public. It's sort of like \"a la carte\" code. This becomes especially valuable once you scale your programs. Who needs that extra baggage?\n",
        "\n",
        "## Global vs. Local Scope\n",
        "\n",
        "One of the reasons Python leverages modular programming is because it helps avoid conflicts between `local` and `global` variables by creating separate `namespaces`. `Namespaces` are the place where variables are stored, and they exist on several independent levels, including **local, global, built-in, and nested namespaces**. For instance, the functions `builtin.open()` and `os.open()` are distinguished by their namespaces. Namespaces also aid readability and maintainability by making it clear which module implements a function. \n",
        "\n",
        "At a high level, a variable declared outside a function has `global scope`, meaning you can access a it inside or outside functions. A variable declared within a function has `local scope`, which means you can only access it within the object you created it. If you try to access it outside that, you will get a `NameError` telling you that variable is not defined.\n",
        "\n",
        "We'll get more into how to use and interpret local and global scope as we dive into modules and functions...\n",
        "\n",
        "\n",
        "## Importing Modules & Packages\n",
        "\n",
        "Importing modules and packages is very easy and saves you a lot of time you'd otherwise spend reinventing the wheel. Modules can even import other modules! The best practice is to place all import statements at the of your script file so you can easily see everything you've imported right at the top. \n",
        "\n",
        "#### Importing Modules \n",
        "Let's look at a few different way to import modules and their contents. The simplest way to import a module is to simply write `import module_name`. This will allow you to access all the contents within that module. \n",
        "\n",
        "If you want to easily find out exactly what is in your newly imported module, you can call the built-in function `dir()` on it. This will list all types of names: variables, modules, functions, etc. \n"
      ]
    },
    {
      "cell_type": "code",
      "metadata": {
        "id": "wDWyNucf3voi",
        "colab_type": "code",
        "colab": {}
      },
      "source": [
        "import math\n",
        "dir(math)\n",
        "# prints ['__doc__', '__file__', '__loader__', '__name__', '__package__', '__spec__', 'acos', 'acosh', 'asin', ... etc.]"
      ],
      "execution_count": 0,
      "outputs": []
    },
    {
      "cell_type": "markdown",
      "metadata": {
        "id": "0gzob8w93vol",
        "colab_type": "text"
      },
      "source": [
        "\n",
        "You can also import one specific object from a module like this:\n"
      ]
    },
    {
      "cell_type": "code",
      "metadata": {
        "id": "j0qsND8C3vom",
        "colab_type": "code",
        "colab": {}
      },
      "source": [
        "from math import sqrt\n",
        "sqrt(25) # 5"
      ],
      "execution_count": 0,
      "outputs": []
    },
    {
      "cell_type": "markdown",
      "metadata": {
        "id": "U01r_QZy3voq",
        "colab_type": "text"
      },
      "source": [
        "\n",
        "Notice how we included `math.` when we called the `sqrt` function. Because of *variable scope*, you need to reference the `namespace` where `sqrt` is defined. Simply importing `sqrt` does not give it `global scope`. It still has `local scope` within the math module.\n",
        "\n",
        "However, you can help avoid verbose code by importing modules and their items like this:\n"
      ]
    },
    {
      "cell_type": "code",
      "metadata": {
        "id": "j57ZljrI3vor",
        "colab_type": "code",
        "colab": {}
      },
      "source": [
        "from math import sqrt as s\n",
        "s(25) # 5"
      ],
      "execution_count": 0,
      "outputs": []
    },
    {
      "cell_type": "markdown",
      "metadata": {
        "id": "fslpev1n3vov",
        "colab_type": "text"
      },
      "source": [
        "\n",
        "By importing the `sqrt as s`, you can call the function as `s()` instead of `math.sqrt`. The same works for modules. Note the difference in how we reference the square root function though... \n"
      ]
    },
    {
      "cell_type": "code",
      "metadata": {
        "id": "3wzhXxUT3vow",
        "colab_type": "code",
        "colab": {}
      },
      "source": [
        "import math as m\n",
        "m.sqrt(25) # 5.0"
      ],
      "execution_count": 0,
      "outputs": []
    },
    {
      "cell_type": "code",
      "metadata": {
        "id": "Xyonnjl03vo0",
        "colab_type": "code",
        "colab": {}
      },
      "source": [
        "\n",
        "...we only renamed the module in this import and not the function. So we have to go back to the `module_name.function()` syntax. *However*, because we renamed the module on import, we can reference it in function calls by its shortened name, i.e. `m.sqrt`.\n",
        "\n",
        "## Managing Dependencies\n",
        "\n",
        "In addition to \"built-in\" modules, we have the ability in python to create, distribute and most importantly *consume* community defined python modules.\n",
        "\n",
        "This is powerful because anyone who builds something useful has the ability to share with the larger python community. Creating and distributing python modules is outside the scope of this class, but we can consume any module we'd like by running the:\n"
      ],
      "execution_count": 0,
      "outputs": []
    },
    {
      "cell_type": "code",
      "metadata": {
        "id": "y030XqB_3vo2",
        "colab_type": "code",
        "colab": {}
      },
      "source": [
        "pip install [module_name]"
      ],
      "execution_count": 0,
      "outputs": []
    },
    {
      "cell_type": "code",
      "metadata": {
        "id": "nNDXWBsH3vo4",
        "colab_type": "code",
        "colab": {}
      },
      "source": [
        "\n",
        "Modules can be found in [**PyPI**](https://pypi.org/), or, the Python Package Index. Any registered module in pypi is installable via pip.\n",
        "\n",
        "However, in order to safely install modules across projects (ie: perhaps project A requires module 1 v1 but then project B, started a year later needs to use module 1 v2) we need to create what are called **virtual environments**, isolated python environments where we can safely install our pip modules and rest assured that they don't interfere with other projects / the system at lare.\n",
        "\n",
        "In order to create a virtual environment:\n"
      ],
      "execution_count": 0,
      "outputs": []
    },
    {
      "cell_type": "code",
      "metadata": {
        "id": "25drTN8N3vo6",
        "colab_type": "code",
        "colab": {}
      },
      "source": [
        "python3 -m venv .env\n",
        "source .env/bin/activate"
      ],
      "execution_count": 0,
      "outputs": []
    },
    {
      "cell_type": "code",
      "metadata": {
        "id": "_3sfxl-G3vo9",
        "colab_type": "code",
        "colab": {}
      },
      "source": [
        "\n",
        "The `.env` folder contains everything needed for this **\"virtualenv\"**. We go *inside* the env by running the `source ./env/bin/activate` command. To deactivate, (while in virtualenv):\n"
      ],
      "execution_count": 0,
      "outputs": []
    },
    {
      "cell_type": "code",
      "metadata": {
        "id": "gpZ3U4y63vpC",
        "colab_type": "code",
        "colab": {}
      },
      "source": [
        "deactivate"
      ],
      "execution_count": 0,
      "outputs": []
    },
    {
      "cell_type": "code",
      "metadata": {
        "id": "tAWHXhyp3vpH",
        "colab_type": "code",
        "colab": {}
      },
      "source": [
        "\n",
        "The best part about this is not only can we install our pip modules safely, we can also do this:\n"
      ],
      "execution_count": 0,
      "outputs": []
    },
    {
      "cell_type": "code",
      "metadata": {
        "id": "v7Fr7Vrl3vpL",
        "colab_type": "code",
        "colab": {}
      },
      "source": [
        "pip freeze > requirements.txt"
      ],
      "execution_count": 0,
      "outputs": []
    },
    {
      "cell_type": "code",
      "metadata": {
        "id": "OwU0DfB73vpO",
        "colab_type": "code",
        "colab": {}
      },
      "source": [
        "\n",
        "This will collect all the installed pip modules in the virtual env and store into a file (that we are calling `requirements.txt`). This is useful because if we ever wanted to run this software from a different computer, all we would have to do is pull down the python files, create a new virtualenv and then:\n"
      ],
      "execution_count": 0,
      "outputs": []
    },
    {
      "cell_type": "code",
      "metadata": {
        "id": "MBuYT5HH3vpQ",
        "colab_type": "code",
        "colab": {}
      },
      "source": [
        "pip install -r requirements.txt"
      ],
      "execution_count": 0,
      "outputs": []
    },
    {
      "cell_type": "markdown",
      "metadata": {
        "id": "T6Khbd_A3vpT",
        "colab_type": "text"
      },
      "source": [
        "\n",
        "and this would effectively \"copy\" our installed modules into the new virtualenv.\n",
        "\n",
        "## Common & Featured Modules & Packages\n",
        "\n",
        "* [Python's `itertools` library](https://docs.python.org/3/library/itertools.html)\n",
        "* [Pandas](http://pandas.pydata.org/) / ([Pandas github repo](https://github.com/pandas-dev/pandas))\n",
        "* [NumPy](https://www.numpy.org/) / ([NumPy github repo](https://github.com/numpy/numpy))\n",
        "* [SciPy](https://www.scipy.org/) / ([SciPy github repo](https://github.com/scipy/scipy))\n",
        "* [Matplotlib](https://matplotlib.org/) / ([Matplotlib github repo](https://github.com/matplotlib/matplotlib))\n",
        "* [scikit-learn](https://scikit-learn.org/) / ([scikit-learn github repo](https://github.com/scikit-learn/scikit-learn))"
      ]
    }
  ]
}