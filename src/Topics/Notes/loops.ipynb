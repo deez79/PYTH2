{
  "nbformat": 4,
  "nbformat_minor": 0,
  "metadata": {
    "colab": {
      "name": "PYTH826:loops.ipynb",
      "version": "0.3.2",
      "provenance": []
    },
    "kernelspec": {
      "name": "python3",
      "display_name": "Python 3"
    }
  },
  "cells": [
    {
      "cell_type": "markdown",
      "metadata": {
        "id": "LsashooiWBvh",
        "colab_type": "text"
      },
      "source": [
        "<a href=\"https://colab.research.google.com/github/mottaquikarim/PYTH2/blob/master/src/Topics/nb/loops.ipynb\" target=\"_parent\"><img src=\"https://colab.research.google.com/assets/colab-badge.svg\" alt=\"Open In Colab\"/></a>"
      ]
    },
    {
      "cell_type": "markdown",
      "metadata": {
        "id": "3OpXUqRFWBvj",
        "colab_type": "text"
      },
      "source": [
        "# IMPORTANT: [LOOP_IN_CLASS PSET](https://colab.research.google.com/drive/1Y75eXbVfiOT0plA6wotIibfdBH8Ss5xW)\n",
        "\n",
        "# Loops\n",
        "\n",
        "## Iterating with Loops\n",
        "\n",
        "In programming, we define `iteration` to be the act of running the same block of code over and over again a certain number of times.For example, say you want to print out every item within a list. You could certainly do it this way -\n"
      ]
    },
    {
      "cell_type": "code",
      "metadata": {
        "id": "gSG7NmzWWBvk",
        "colab_type": "code",
        "colab": {}
      },
      "source": [
        "visible_colors = [\"red\", \"orange\", \"yellow\", \"green\", \"blue\", \"violet\"]\n",
        "print(visible_colors[0])\n",
        "print(visible_colors[1])\n",
        "print(visible_colors[2])\n",
        "print(visible_colors[3])\n",
        "print(visible_colors[4])\n",
        "print(visible_colors[5])"
      ],
      "execution_count": 0,
      "outputs": []
    },
    {
      "cell_type": "code",
      "metadata": {
        "id": "fdfrBE0cWIt6",
        "colab_type": "code",
        "outputId": "e1ad10b1-ca84-496f-8572-0b2b70b8c943",
        "colab": {
          "base_uri": "https://localhost:8080/",
          "height": 119
        }
      },
      "source": [
        "visible_colors = [\"red\", \"orange\", \"yellow\", \"green\", \"blue\", \"violet\"]\n",
        "\n",
        "i = 0\n",
        "while i < len(visible_colors):\n",
        "  print(visible_colors[i])\n",
        "  i = i + 1\n",
        "  "
      ],
      "execution_count": 3,
      "outputs": [
        {
          "output_type": "stream",
          "text": [
            "red\n",
            "orange\n",
            "yellow\n",
            "green\n",
            "blue\n",
            "violet\n"
          ],
          "name": "stdout"
        }
      ]
    },
    {
      "cell_type": "markdown",
      "metadata": {
        "id": "xASFnHX1WBvm",
        "colab_type": "text"
      },
      "source": [
        "\n",
        "Attempting to print each item in this list - while redundant - isn't so bad. But what if there were over 1000 items in that list? Or, worse still, what if that list changed based on user input (ie: *either* 10 items *or* 10000 items)?\n",
        "\n",
        "To solve such problems, we can create a **loop** that will iterate through each item on our list and run the `print()` function. This way, we only have to write the print() one time to print out the whole list!\n",
        "\n",
        "When you can iterate through an object (e.g. a string, list, dict, tuple, set, etc.), we say that the object is `iterable`. Python has many built-in iterables. You can reference some of the most common ones in the `itertools` module (read more about itertools [here](https://realpython.com/python-itertools/)). \n",
        "\n",
        "You can also define your own Python iterables using the principles of OOP (object-oriented programming). In fact, Python features a construct called a `generator` to simplify this process for you.\n",
        "\n",
        "## the `while` loop\n",
        "\n",
        "This is the simplest loop and has two primary use cases.\n",
        "\n",
        "### Counting\n"
      ]
    },
    {
      "cell_type": "code",
      "metadata": {
        "id": "0gf1i-u2WBvn",
        "colab_type": "code",
        "colab": {
          "base_uri": "https://localhost:8080/",
          "height": 122
        },
        "outputId": "88f36010-7190-42b3-cd43-dd881f28662e"
      },
      "source": [
        "i = 0\n",
        "while i < 3: # 10 < 10 ? FALSE\n",
        "\tprint(i) # 9\n",
        "\ti += 1 # 10\n",
        "print(i) # 10 # will print out numbers 1 through 10\n",
        "\n",
        "\"\"\"\n",
        "i | i < 3 | print(i) | i += 1\n",
        "------------------------------\n",
        "0 | TRUE  | 0\t\t\t\t | 1\n",
        "------------------------------\n",
        "1 | TRUE  | 1\t\t\t\t | 2\n",
        "------------------------------\n",
        "2 | TRUE  | 2\t\t\t\t | 3\n",
        "------------------------------\n",
        "3 | FALSE \n",
        "\n",
        "NOW FROM LINE 5:\n",
        "print(i) -> print(3) -> 3\n",
        "\"\"\""
      ],
      "execution_count": 5,
      "outputs": [
        {
          "output_type": "stream",
          "text": [
            "0\n",
            "1\n",
            "2\n",
            "3\n"
          ],
          "name": "stdout"
        },
        {
          "output_type": "execute_result",
          "data": {
            "text/plain": [
              "'\\ni | i < 3 | print(i) | i += 1\\n------------------------------\\n0 | TRUE  | 0\\t\\t\\t\\t | 1\\n------------------------------\\n1 | TRUE  | 1\\t\\t\\t\\t | 2\\n------------------------------\\n2 | TRUE  | 2\\t\\t\\t\\t | 3\\n------------------------------\\n3 | FALSE \\n\\nNOW FROM LINE 5:\\nprint(i) -> print(3) -> 3\\n'"
            ]
          },
          "metadata": {
            "tags": []
          },
          "execution_count": 5
        }
      ]
    },
    {
      "cell_type": "markdown",
      "metadata": {
        "id": "NdXEGW6bWBvp",
        "colab_type": "text"
      },
      "source": [
        "\n",
        "What is happening here is we are running the code block within the `while` 100 times. We know to stop because the `boolean comparison` will evaluate to `False` once i exceeds `100`, which is possible only because `i` is being incremented when we write `i += 1`.\n",
        "\n",
        "#### Practice Together!\n",
        "\n",
        "Use a loop to make a list of all odd numbers between 1 and 10 and another list with all the evens in this range. When done, print the lists.\n"
      ]
    },
    {
      "cell_type": "code",
      "metadata": {
        "id": "8FZjiedFWBvq",
        "colab_type": "code",
        "colab": {
          "base_uri": "https://localhost:8080/",
          "height": 51
        },
        "outputId": "9574417b-3830-40d2-890f-aed8bd2f849d"
      },
      "source": [
        "odds = []\n",
        "evens = []\n",
        "\n",
        "i = 1\n",
        "\n",
        "while i <= 10:\n",
        "  if i % 2 == 0:\n",
        "    evens.append(i)\n",
        "  else:\n",
        "    odds.append(i)\n",
        "  i += 1\n",
        "\n",
        "print(odds,'\\n', evens)"
      ],
      "execution_count": 6,
      "outputs": [
        {
          "output_type": "stream",
          "text": [
            "[1, 3, 5, 7, 9] \n",
            " [2, 4, 6, 8, 10]\n"
          ],
          "name": "stdout"
        }
      ]
    },
    {
      "cell_type": "markdown",
      "metadata": {
        "id": "2pfQZJ8uWBvr",
        "colab_type": "text"
      },
      "source": [
        "\n",
        "### Booleans\n",
        "\n",
        "Here's real-life scenario where you might apply a `while` loop. Let's say you've programmed your Amazon Echo or Google Home to make a pot of coffee whenever you say the trigger word \"tired\". Once you say tired, here's a *simplified pseudo-code version* of what happens behind the scenes:\n"
      ]
    },
    {
      "cell_type": "code",
      "metadata": {
        "id": "QJaIo-zxWBvs",
        "colab_type": "code",
        "colab": {
          "base_uri": "https://localhost:8080/",
          "height": 34
        },
        "outputId": "a4ca47db-9f7b-4cdb-8665-be7e68aef4d3"
      },
      "source": [
        "tired = True\n",
        "while tired:\n",
        "  print('I\\'ll make some coffee!') # this might be a \"say\" command\n",
        "  # code to turn on coffee maker\n",
        "  tired = False"
      ],
      "execution_count": 7,
      "outputs": [
        {
          "output_type": "stream",
          "text": [
            "I'll make some coffee!\n"
          ],
          "name": "stdout"
        }
      ]
    },
    {
      "cell_type": "markdown",
      "metadata": {
        "id": "2B_kKYKBWBvu",
        "colab_type": "text"
      },
      "source": [
        "\n",
        "Whenever a pot of coffee is made, the smart device sets `tired` back to `False`. Next time you say \"tired\", it will reset `tired` to `True`. \n",
        "\n",
        "## the `for` loop\n",
        "\n",
        "Let's go back to that list of colors we wanted to print out and use a `for` loop. The most important part of the for loop is the statement `for item in obj`. This means the code **considers each item in the iterable one at a time** when executing the code below.\n"
      ]
    },
    {
      "cell_type": "code",
      "metadata": {
        "id": "fHI3RppkWBvv",
        "colab_type": "code",
        "colab": {
          "base_uri": "https://localhost:8080/",
          "height": 119
        },
        "outputId": "98ffabca-5802-436b-cc0e-d9c68ba8fd31"
      },
      "source": [
        "# Syntax:\n",
        "# for <item> in <iterable>:\n",
        "#     <statement(s)>\n",
        "\n",
        "\n",
        "visible_colors = ['red', 'orange', 'yellow', 'green', 'blue', 'violet']\n",
        "for color in visible_colors:\n",
        "  print(color)"
      ],
      "execution_count": 8,
      "outputs": [
        {
          "output_type": "stream",
          "text": [
            "red\n",
            "orange\n",
            "yellow\n",
            "green\n",
            "blue\n",
            "violet\n"
          ],
          "name": "stdout"
        }
      ]
    },
    {
      "cell_type": "markdown",
      "metadata": {
        "id": "QciewlSnWBvx",
        "colab_type": "text"
      },
      "source": [
        "\n",
        "## Loops with Ranges\n",
        "\n",
        "If you want to iterate through only a section of a list, the `range()` and `enumerate()` functions can facilitate this.\n",
        "\n",
        "### `range()`\n",
        "\n",
        "With `while` loops, we saw one way to iterate while counting. Using `range()` with a for loop allows us to be more concise and more specific. \n",
        "\n",
        "The  `range()` function uses this syntax: `range(<begin>, <end>, <stride>)`. It returns an iterable that yields values  starting with the <begin> index, *up to but **NOT** including the <end> index*. The <stride> argument isn't required, but if specified, it indicates an amount to skip between values. For example, `range(5, 20, 3)` would iterate through 5, 8, 11, 14, and 17. If <stride> is omitted, it defaults to incrementing by 1.\n",
        "\n",
        "Consider the differences in the loops below...\n",
        "\n",
        "#### `range()` with a `while` loop\n"
      ]
    },
    {
      "cell_type": "code",
      "metadata": {
        "id": "5-hfWiscWBvx",
        "colab_type": "code",
        "colab": {}
      },
      "source": [
        "visible_colors = ['red', 'orange', 'yellow', 'green', 'blue', 'violet']\n",
        "print(len(visible_colors), '\\n')\n",
        "\n",
        "i = 3\n",
        "while 2 < i < 6:\n",
        "    print(visible_colors[i]) # prints numbers 1, 2, 3, 4\n",
        "    i += 1"
      ],
      "execution_count": 0,
      "outputs": []
    },
    {
      "cell_type": "markdown",
      "metadata": {
        "id": "Y8OHtbnLWBvz",
        "colab_type": "text"
      },
      "source": [
        "\n",
        "#### `range()` with a `for` loop\n"
      ]
    },
    {
      "cell_type": "code",
      "metadata": {
        "id": "8_mRBiBuWBv0",
        "colab_type": "code",
        "colab": {
          "base_uri": "https://localhost:8080/",
          "height": 170
        },
        "outputId": "09d9309b-f399-49df-b5d5-dd15df343a8c"
      },
      "source": [
        "visible_colors = ['red', 'orange', 'yellow', 'green', 'blue', 'violet']\n",
        "print(len(visible_colors), '\\n')\n",
        "\n",
        "x = range(3, 6)\n",
        "\n",
        "for i in x:\n",
        "    print(visible_colors[i])\n",
        "\n",
        "print('------------')\n",
        "\n",
        "for color in visible_colors[3:]:\n",
        "  print(color)"
      ],
      "execution_count": 16,
      "outputs": [
        {
          "output_type": "stream",
          "text": [
            "6 \n",
            "\n",
            "green\n",
            "blue\n",
            "violet\n",
            "------------\n",
            "green\n",
            "blue\n",
            "violet\n"
          ],
          "name": "stdout"
        }
      ]
    },
    {
      "cell_type": "markdown",
      "metadata": {
        "id": "ovp6NyHxWBv3",
        "colab_type": "text"
      },
      "source": [
        "\n",
        "### `enumerate()`\n",
        "\n",
        "This one is actually its own data type! When looping through a `list`, you might want to keep track of the index position of the item in each loop iteration. Converting the `list` it into an `enumerate` object allows you to achieve this more easily.\n",
        "\n",
        "Take a look at what an `enumerate` object looks like below. Note that you can print the object as a whole to view its contents like you do with a list.\n"
      ]
    },
    {
      "cell_type": "code",
      "metadata": {
        "id": "Q6_sWVeLWBv5",
        "colab_type": "code",
        "colab": {
          "base_uri": "https://localhost:8080/",
          "height": 51
        },
        "outputId": "aed59933-fb30-4384-daec-237d9008fb9b"
      },
      "source": [
        "visible_colors = ['red', 'orange', 'yellow', 'green', 'blue', 'violet']\n",
        "enum = enumerate(visible_colors)\n",
        "\n",
        "print('Print whole list...', visible_colors)\n",
        "print('Print whole enumerate object...', list(enum))"
      ],
      "execution_count": 18,
      "outputs": [
        {
          "output_type": "stream",
          "text": [
            "Print whole list... ['red', 'orange', 'yellow', 'green', 'blue', 'violet']\n",
            "Print whole enumerate object... [(0, 'red'), (1, 'orange'), (2, 'yellow'), (3, 'green'), (4, 'blue'), (5, 'violet')]\n"
          ],
          "name": "stdout"
        }
      ]
    },
    {
      "cell_type": "markdown",
      "metadata": {
        "id": "Kf_Lv1OqWBv7",
        "colab_type": "text"
      },
      "source": [
        "\n",
        "You have to loop through them and print each one. As you do this, you'll see that each item in the `enumerate` object is a tuple. \n"
      ]
    },
    {
      "cell_type": "code",
      "metadata": {
        "id": "csfZqs49WBv8",
        "colab_type": "code",
        "colab": {}
      },
      "source": [
        "visible_colors = ['red', 'orange', 'yellow', 'green', 'blue', 'violet']\n",
        "visible_colors = enumerate(visible_colors)\n",
        "\n",
        "for i in visible_colors:\n",
        "    print(i)"
      ],
      "execution_count": 0,
      "outputs": []
    },
    {
      "cell_type": "markdown",
      "metadata": {
        "id": "CkDRFYHZWBv_",
        "colab_type": "text"
      },
      "source": [
        "\n",
        "But you can access each item in each tuple like this...\n"
      ]
    },
    {
      "cell_type": "code",
      "metadata": {
        "id": "BiyHPFJmWBv_",
        "colab_type": "code",
        "colab": {
          "base_uri": "https://localhost:8080/",
          "height": 238
        },
        "outputId": "a08c6e0c-2cf2-47c2-86b6-e8161bb6e66e"
      },
      "source": [
        "visible_colors = ['red', 'orange', 'yellow', 'green', 'blue', 'violet']\n",
        "print(list(enumerate(visible_colors)))\n",
        "\n",
        "for color in visible_colors:\n",
        "  print(color)\n",
        "\n",
        "for idx, color in enumerate(visible_colors):\n",
        "    print(f'{idx} & {color}')"
      ],
      "execution_count": 20,
      "outputs": [
        {
          "output_type": "stream",
          "text": [
            "[(0, 'red'), (1, 'orange'), (2, 'yellow'), (3, 'green'), (4, 'blue'), (5, 'violet')]\n",
            "red\n",
            "orange\n",
            "yellow\n",
            "green\n",
            "blue\n",
            "violet\n",
            "0 & red\n",
            "1 & orange\n",
            "2 & yellow\n",
            "3 & green\n",
            "4 & blue\n",
            "5 & violet\n"
          ],
          "name": "stdout"
        }
      ]
    },
    {
      "cell_type": "markdown",
      "metadata": {
        "id": "qr69Igk0WBwC",
        "colab_type": "text"
      },
      "source": [
        "\n",
        "## Control Flow with `break`, `continue`, & `else:`\n",
        "\n",
        "Something very important to watch out for here is falling into an **infinite loop**. This is one of the most common traps and can make your code go crazy running the loop over and over without moving through the rest of the program! It happens when you do not have proper control flow in the loop's code. \n",
        "\n",
        "The **`break` keyword**, the **`continue` keyword**, and the **`else: ` statement** are three core ways to help control the flow and logic within your loops.\n",
        "\n",
        "### The `break` Keyword\n",
        "\n",
        "In a Python loop, the `break` keyword *escapes the loop*, regardless of the iteration number and regardless of how much of the loop code it has completed on its current iteration. Once a break executes, the program will continue to execute after the loop.\n",
        "\n",
        "We might use a break statement if we only want the loop to iterate under a certain condition. For example:\n"
      ]
    },
    {
      "cell_type": "code",
      "metadata": {
        "id": "iwkCzp7xdzK_",
        "colab_type": "code",
        "colab": {
          "base_uri": "https://localhost:8080/",
          "height": 119
        },
        "outputId": "6aae94a9-3e57-4c0b-d4ff-1568f7f09365"
      },
      "source": [
        "color_to_find = 'orange'\n",
        "colors = ['red', 'green', 'blue', 'yellow', 'orange', 'violet']\n",
        "\n",
        "found = False\n",
        "\n",
        "for color in colors:\n",
        "  if color_to_find == color:\n",
        "    print('FOUND!')\n",
        "    found = True\n",
        "    break\n",
        "  print(f\"not found yet, current color is: {color}\")\n",
        "\n",
        "print(found)"
      ],
      "execution_count": 25,
      "outputs": [
        {
          "output_type": "stream",
          "text": [
            "not found yet, current color is: red\n",
            "not found yet, current color is: green\n",
            "not found yet, current color is: blue\n",
            "not found yet, current color is: yellow\n",
            "FOUND!\n",
            "True\n"
          ],
          "name": "stdout"
        }
      ]
    },
    {
      "cell_type": "code",
      "metadata": {
        "id": "Qb_wLs2HWBwD",
        "colab_type": "code",
        "colab": {}
      },
      "source": [
        "a = ['foo', 'bar', 'baz', 'qux', 'corge']\n",
        "while a:\n",
        "    if len(a) < 3:\n",
        "        break\n",
        "    print(a.pop())\n",
        "print('Done.')\n",
        "\n",
        "## This loop will output...\n",
        "\"\"\"\n",
        "corge\n",
        "qux\n",
        "baz\n",
        "Done.\n",
        "\"\"\""
      ],
      "execution_count": 0,
      "outputs": []
    },
    {
      "cell_type": "markdown",
      "metadata": {
        "id": "g-kSTTvqWBwF",
        "colab_type": "text"
      },
      "source": [
        "\n",
        "Let's walk through the logic of how we got that outcome:\n"
      ]
    },
    {
      "cell_type": "code",
      "metadata": {
        "id": "-ir2868-WBwF",
        "colab_type": "code",
        "colab": {}
      },
      "source": [
        "a = ['foo', 'bar', 'baz', 'qux', 'corge']\n",
        "while a:"
      ],
      "execution_count": 0,
      "outputs": []
    },
    {
      "cell_type": "markdown",
      "metadata": {
        "id": "BmpErCz5WBwH",
        "colab_type": "text"
      },
      "source": [
        "* ^^^ This tells us that as long as `a` is `True` - essentially, as long as it exists - go ahead with the next loop iteration.\n"
      ]
    },
    {
      "cell_type": "code",
      "metadata": {
        "id": "TTAYxXFPWBwI",
        "colab_type": "code",
        "colab": {}
      },
      "source": [
        "if len(a) < 3:\n",
        "        break\n",
        "    print(a.pop())"
      ],
      "execution_count": 0,
      "outputs": []
    },
    {
      "cell_type": "markdown",
      "metadata": {
        "id": "wx6wnvkGWBwJ",
        "colab_type": "text"
      },
      "source": [
        "* ^^^ This says that, if the length of `a` is less than 3, break out of the loop. In the first iteration, `a` has 5 items. Given this, the `break` is not executed. Instead, the code removes a random item from `a` and prints it. Once the loop gets to the 4th iteration, `len(a)` is 2. This triggers the `break`.\n",
        "\n",
        "After that, the program goes to the next line of code after the break, in this case `print('Done.')`.\n",
        "\n",
        "This works the same with a `for` loop as in the example below. Can you think through why we get the outcome `foo` here?\n"
      ]
    },
    {
      "cell_type": "code",
      "metadata": {
        "id": "NzDNALgJWBwK",
        "colab_type": "code",
        "colab": {}
      },
      "source": [
        "for i in ['foo', 'bar', 'baz', 'qux']:\n",
        "  if 'b' in i:\n",
        "    break\n",
        "  print(i) # foo"
      ],
      "execution_count": 0,
      "outputs": []
    },
    {
      "cell_type": "markdown",
      "metadata": {
        "id": "ltywcmzBWBwM",
        "colab_type": "text"
      },
      "source": [
        "\n",
        "### The `continue` Keyword\n",
        "\n",
        "You can also use the `continue` keyword to interrupt the loop code. The difference is that the `continue` keyword escapes *only the current iteration*. A `break` escapes the loop entirely and goes on to execute the code immediately following the loop. A `continue` tells the program to stop where it is within the within the current iteration and *skip to the the next iteration* of the loop. \n",
        "\n",
        "Here's an example using a `while` loop. Notice that the `continue` applies to the *outer* while loop, whereas the `break` applies only to the *inner* while loop.\n"
      ]
    },
    {
      "cell_type": "code",
      "metadata": {
        "id": "OPxGpMCMWBwM",
        "colab_type": "code",
        "colab": {}
      },
      "source": [
        "# Prints out 0,1,2,3,4\n",
        "s = ''\n",
        "\n",
        "n = 5\n",
        "while n > 0:\n",
        "    n -= 1\n",
        "    if (n % 2) == 0:\n",
        "        continue\n",
        "\n",
        "    a = ['foo', 'bar', 'baz']\n",
        "    while a:\n",
        "        s += str(n) + a.pop(0)\n",
        "        if len(a) < 2:\n",
        "            break\n",
        "\n",
        "print(s) # '3foo3bar1foo1bar'"
      ],
      "execution_count": 0,
      "outputs": []
    },
    {
      "cell_type": "markdown",
      "metadata": {
        "id": "mx6iFI0fWBwO",
        "colab_type": "text"
      },
      "source": [
        "\n",
        "As the program iterates through the decreasing values of `n`, it determines whether each value is even. The `continue` executes *only for these even-number iterations*. Then the loop continues to the next iteration. Thus, the inner while loop only initiates when n is 3 and 1.\n",
        "\n",
        "Inside the inner while loop, `a.pop(0)` removes the first item of a. Once this has occurred twice, yielding 'foo' and 'bar', a has fewer than two items, and the `break` terminates the inner loop. Thus, the values concatenated onto `s` are, in turn, 3foo, 3bar, 1foo, and 1bar.\n",
        "\n",
        "Again, this works the same with `for` loops like so:\n"
      ]
    },
    {
      "cell_type": "code",
      "metadata": {
        "id": "CyyqL9faWBwP",
        "colab_type": "code",
        "colab": {
          "base_uri": "https://localhost:8080/",
          "height": 68
        },
        "outputId": "0eb302b8-3f8a-43cd-b86f-c0ccb84bd099"
      },
      "source": [
        "for i in ['foo', 'bar', 'baz', 'qux']:\n",
        "  if 'b' in i:\n",
        "    continue\n",
        "  print(i) # foo, qux\n",
        "\n",
        "\"\"\"\n",
        "i   | \"b\" in i                | print(i)\n",
        "---------------------------------------------\n",
        "foo | \"b\" in \"foo\"  -> False  | \"foo\"\n",
        "---------------------------------------------\n",
        "bar | \"b\" in \"bar\"  -> True   | (dont print)\n",
        "---------------------------------------------\n",
        "baz | \"b\" in \"baz\"  -> True   | (dont print)\n",
        "---------------------------------------------\n",
        "qux | \"b\" in \"qux\"  -> False  | \"qux\"\n",
        "\"\"\"\n",
        "\n",
        "print(\"foo\" in ['foo', 'bar', 'baz', 'qux'])"
      ],
      "execution_count": 29,
      "outputs": [
        {
          "output_type": "stream",
          "text": [
            "foo\n",
            "qux\n",
            "True\n"
          ],
          "name": "stdout"
        }
      ]
    },
    {
      "cell_type": "code",
      "metadata": {
        "id": "RBaL_PMtez-3",
        "colab_type": "code",
        "colab": {
          "base_uri": "https://localhost:8080/",
          "height": 34
        },
        "outputId": "ac89297e-cdd2-45b0-9779-dfcc88fd2a9f"
      },
      "source": [
        "numbers = [0,1,2,3,4]\n",
        "evens = []\n",
        "\n",
        "for number in numbers:\n",
        "  if number % 2 == 1:\n",
        "    continue # automatically go back to line 4, skip the rest\n",
        "  \n",
        "  evens.append(number)\n",
        "\n",
        "\n",
        "print(evens)\n",
        "\n",
        "\n",
        "# for number in numbers:\n",
        "#   if number % 2 == 0:\n",
        "#     evens.append(number)\n",
        "\n",
        "# for number in numbers:\n",
        "#   if number % 2 == 1:\n",
        "#     pass\n",
        "#   else:\n",
        "#     evens.append(number)"
      ],
      "execution_count": 26,
      "outputs": [
        {
          "output_type": "stream",
          "text": [
            "[0, 2, 4]\n"
          ],
          "name": "stdout"
        }
      ]
    },
    {
      "cell_type": "markdown",
      "metadata": {
        "id": "stNfXOi-WBwS",
        "colab_type": "text"
      },
      "source": [
        "\n",
        "### The `else` Statement\n",
        "The `else` statement works similarly to a `break` in that it is triggered once the loop has finished all iterations that meet any conditional specifications. Now, you might wonder why you might use this because putting a statement after the loop will also execute once the loop has finished all iterations that meet any conditional specifications.\n",
        "\n",
        "Here's the difference:\n",
        "\n",
        "Statements after the loop *will always execute*. But if you place additional statements in an `else` clause, the program will only execute them if the loop terminates *by exhaustion*. In other words, it **only** executes if the loop fully completes each iteration until the controlling condition becomes false. If a `break` terminates the loop before that, for example, the `else` clause won't be executed.\n"
      ]
    },
    {
      "cell_type": "code",
      "metadata": {
        "id": "P_0bogMrWBwT",
        "colab_type": "code",
        "colab": {}
      },
      "source": [
        "a = ['foo', 'bar', 'baz', 'qux', 'corge']\n",
        "while a:\n",
        "    print(a.pop())\n",
        "else:\n",
        "    print('Done.') # foo, bar, baz, qux, Done."
      ],
      "execution_count": 0,
      "outputs": []
    },
    {
      "cell_type": "markdown",
      "metadata": {
        "id": "9foZWKwPWBwV",
        "colab_type": "text"
      },
      "source": [
        "\n",
        "And again, here's are `for` loop examples where the `else` statement will and will NOT execute:\n"
      ]
    },
    {
      "cell_type": "code",
      "metadata": {
        "id": "MHAo1iqEWBwV",
        "colab_type": "code",
        "colab": {}
      },
      "source": [
        "# else DOES execute\n",
        "for i in ['foo', 'bar', 'baz', 'qux']:\n",
        "  print(i)\n",
        "else:\n",
        "  print('Done.') # foo, bar, baz, qux, Done.\n",
        "\n",
        "# else DOES NOT execute\n",
        "for i in ['foo', 'bar', 'baz', 'qux']:\n",
        "  if i == 'bar':\n",
        "    break\n",
        "  print(i)\n",
        "else:\n",
        "  print('Done.') # foo"
      ],
      "execution_count": 0,
      "outputs": []
    },
    {
      "cell_type": "markdown",
      "metadata": {
        "id": "iAsBtDSZWBwY",
        "colab_type": "text"
      },
      "source": [
        "\n",
        "Here, `i == 'bar'` evaluates to `True` during the second iteration. Even though the third and fourth iterations could have printed when evaluated by the conditional, the `break` executed before the loop got there. Therefore, the loop did not exhaust all viable iterations and it does not trigger the `else` statement.\n",
        "\n",
        "### Infinite Loop Example\n",
        "\n",
        "See if you can figure out why this loop is infinite. (Tip: Don't actually run this code, or your computer will freak out!)\n"
      ]
    },
    {
      "cell_type": "code",
      "metadata": {
        "id": "kHnT8i6eWBwZ",
        "colab_type": "code",
        "colab": {}
      },
      "source": [
        "a = ['foo', 'bar', 'baz', 'qux', 'corge']\n",
        "while a:\n",
        "    if len(a) < 3:\n",
        "        continue\n",
        "    print(a.pop())\n",
        "print('Done.')"
      ],
      "execution_count": 0,
      "outputs": []
    },
    {
      "cell_type": "markdown",
      "metadata": {
        "id": "vJCxlTWYWBwb",
        "colab_type": "text"
      },
      "source": [
        "\n",
        "Got it? After the first three iterations, `a` shrinks to fewer than three items and executes a `continue` statement. It then returns to the beginning of the loop, where it will find that `a` still has fewer than three items. So it goes back to the beginning again... and again and again and again... \n",
        "\n",
        "Your program will get stuck here, so you want to make sure you pay special attention to the control flow when you write loops!\n",
        "\n",
        "## Iterating Through Dicts\n",
        "\n",
        "Iterating over dicts is slightly more complicated than other iterabless because each item consists of two elements, specifically mapped to each other. That said, you can do some really cool stuff with your dicts using loops! \n",
        "\n",
        "#### Iterate Through Dict Items\n",
        "Let's start with a few simple examples. This first one iterates over the dict by each *item*, i.e. each key-value pair.\n"
      ]
    },
    {
      "cell_type": "code",
      "metadata": {
        "id": "O1vsbc2UWBwb",
        "colab_type": "code",
        "colab": {}
      },
      "source": [
        "transaction = {\n",
        "  \"amount\": 10.00,\n",
        "  \"payee\": \"Joe Bloggs\",\n",
        "  \"account\": 1234\n",
        "}\n",
        "\n",
        "for key, value in transaction.items():\n",
        "    print(f'{key}: {value}')\n",
        "\n",
        "\"\"\"Output:\n",
        "account: 1234\n",
        "payee: Joe Bloggs\n",
        "amount: 10.0\"\"\""
      ],
      "execution_count": 0,
      "outputs": []
    },
    {
      "cell_type": "markdown",
      "metadata": {
        "id": "FN_CKUyRWBwd",
        "colab_type": "text"
      },
      "source": [
        "\n",
        "#### Iterate Through Dict Keys\n",
        "\n",
        "If you only have a dict's keys, you can still iterate through the dict. Notice the loop below results in the same output as the one above iterating through items.\n"
      ]
    },
    {
      "cell_type": "code",
      "metadata": {
        "id": "SONM6TJYWBwe",
        "colab_type": "code",
        "colab": {}
      },
      "source": [
        "transaction = {\n",
        "  \"amount\": 10.00,\n",
        "  \"payee\": \"Joe Bloggs\",\n",
        "  \"account\": 1234\n",
        "}\n",
        "\n",
        "for key in transaction:\n",
        "    print(f'{key}: {transaction[key]}')\n",
        "\n",
        "\"\"\"Output:\n",
        "account: 1234\n",
        "payee: Joe Bloggs\n",
        "amount: 10.0\"\"\""
      ],
      "execution_count": 0,
      "outputs": []
    },
    {
      "cell_type": "markdown",
      "metadata": {
        "id": "d2fAeIrbWBwf",
        "colab_type": "text"
      },
      "source": [
        "\n",
        "### Sorting Dicts with Loops\n",
        "\n",
        "#### By Key\n",
        "\n"
      ]
    },
    {
      "cell_type": "code",
      "metadata": {
        "id": "iiEiywsWWBwg",
        "colab_type": "code",
        "colab": {}
      },
      "source": [
        "transaction = {\n",
        "  \"amount\": 10.00,\n",
        "  \"payee\": \"Joe Bloggs\",\n",
        "  \"account\": 1234\n",
        "}\n",
        "\n",
        "for key in sorted(transaction):\n",
        "    print(f'{key}: {transaction[key]}')\n",
        "\n",
        "\n",
        "\"\"\"Output:\n",
        "account: 1234\n",
        "amount: 10.0\n",
        "payee: Joe Bloggs\"\"\""
      ],
      "execution_count": 0,
      "outputs": []
    },
    {
      "cell_type": "markdown",
      "metadata": {
        "id": "IUbn1YzMWBwh",
        "colab_type": "text"
      },
      "source": [
        "\n",
        "#### By the Values of Each Key\n",
        "\n",
        "Note that the dict itself will not be sorted by the first value in each item. Because the keys are the unique element of a dict, you can only sort dict values *within each key*.\n"
      ]
    },
    {
      "cell_type": "code",
      "metadata": {
        "id": "s5JYSOBOWBwi",
        "colab_type": "code",
        "colab": {}
      },
      "source": [
        "dict1 ={ \n",
        "  \"L1\":[87, 34, 56, 12], \n",
        "  \"L2\":[23, 00, 30, 10], \n",
        "  \"L3\":[1, 6, 2, 9], \n",
        "  \"L4\":[40, 34, 21, 67] \n",
        "}\n",
        "\n",
        "for k, v in dict1.items(): \n",
        "  sorted_pair = {k: sorted(v)} # here is sorting!\n",
        "  dict1.update(sorted_pair)\n",
        "\n",
        "print(dict1)\n",
        "\"\"\" # prints out...\n",
        "{'L1': [12, 34, 56, 87],\n",
        "'L2': [0, 10, 23, 30],\n",
        "'L3': [1, 2, 6, 9],\n",
        "'L4': [21, 34, 40, 67]\n",
        "} \"\"\""
      ],
      "execution_count": 0,
      "outputs": []
    },
    {
      "cell_type": "markdown",
      "metadata": {
        "id": "fSmIT88PWBwk",
        "colab_type": "text"
      },
      "source": [
        "\n",
        "## Practice PSETs\n",
        "\n",
        "[Loop Basics](https://github.com/mottaquikarim/PYTH2/blob/master/src/PSETS/nb/loops_inclass_psets.ipynb)"
      ]
    }
  ]
}