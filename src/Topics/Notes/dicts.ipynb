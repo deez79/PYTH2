{
  "nbformat": 4,
  "nbformat_minor": 0,
  "metadata": {
    "colab": {
      "name": "notes_dicts.ipynb",
      "version": "0.3.2",
      "provenance": [],
      "collapsed_sections": [
        "tA7oYGWUaIoF",
        "hECTc-lUaMsV",
        "yFWroTsvYIry",
        "h-oQRzxlYIr0"
      ]
    },
    "kernelspec": {
      "name": "python3",
      "display_name": "Python 3"
    }
  },
  "cells": [
    {
      "cell_type": "markdown",
      "metadata": {
        "id": "J-QLjzb1YIqc",
        "colab_type": "text"
      },
      "source": [
        "<a href=\"https://colab.research.google.com/github/mottaquikarim/PYTH2/blob/master/src/Topics/nb/dicts.ipynb\" target=\"_parent\"><img src=\"https://colab.research.google.com/assets/colab-badge.svg\" alt=\"Open In Colab\"/></a>"
      ]
    },
    {
      "cell_type": "markdown",
      "metadata": {
        "id": "Tv4azd5AZU_I",
        "colab_type": "text"
      },
      "source": [
        "# Dicts"
      ]
    },
    {
      "cell_type": "markdown",
      "metadata": {
        "id": "-VVdswGIZgAO",
        "colab_type": "text"
      },
      "source": [
        "## Intro to Dicts"
      ]
    },
    {
      "cell_type": "markdown",
      "metadata": {
        "id": "uoAKBvTIYIqe",
        "colab_type": "text"
      },
      "source": [
        "\n",
        "\n",
        "In addition to lists, another more comprehensive method for storing complex data are **dicts**, or dictionaries. In the example below, we associate a `key` (e.g. 'taq') to a `value` (e.g. 'karim'). Instead of being enclosed in `[]`, dicts are enclosed in `{}`.\n"
      ]
    },
    {
      "cell_type": "code",
      "metadata": {
        "id": "UePbdVAEYIqf",
        "colab_type": "code",
        "colab": {}
      },
      "source": [
        "my_dict = {\n",
        "    'key' : 'value',\n",
        "    'key2' : 'value2'\n",
        "}"
      ],
      "execution_count": 0,
      "outputs": []
    },
    {
      "cell_type": "markdown",
      "metadata": {
        "id": "9YeiqHXCYIqk",
        "colab_type": "text"
      },
      "source": [
        "\n",
        "The keys and values of a single dict don't have to be homogenous. In other words, you can mix and match different key, value, and key/value pair data types within one dict as seen below.\n"
      ]
    },
    {
      "cell_type": "code",
      "metadata": {
        "id": "xkyR-EjmYIql",
        "colab_type": "code",
        "colab": {}
      },
      "source": [
        "dict1 = {\n",
        "    'taq': 'karim',\n",
        "    'apple': 35,\n",
        "    False: 87.96,\n",
        "    35: 'dog',\n",
        "    'tree': True\n",
        "    # etc.\n",
        "}\n",
        "\n",
        "print(dict1)"
      ],
      "execution_count": 0,
      "outputs": []
    },
    {
      "cell_type": "markdown",
      "metadata": {
        "id": "fKCFHJ6IYIqu",
        "colab_type": "text"
      },
      "source": [
        "\n",
        "The `values` in a dict can be any valid Python data type, but there are some restrictions on what you can use as `keys`:\n",
        "\n",
        "*1. Keys **CAN** be strings, integers, floats, booleans, and tuples.* \n",
        "\n",
        "*2. Keys **CANNOT** be lists or dicts.*\n",
        "\n",
        "Do you see the pattern here so far? The data in a *dict key must be immutable.* Since lists and dicts are mutable, they cannot be used as keys in a dict. That said, they *CAN* serve as the values in a dict.\n"
      ]
    },
    {
      "cell_type": "code",
      "metadata": {
        "id": "UOgGvrryYIqu",
        "colab_type": "code",
        "colab": {}
      },
      "source": [
        "dict2 = {\n",
        "    47: [12.1, 'blue', True], # list as a dict value\n",
        "    'julianna': {False: 'cat'} # dict as a dict value\n",
        "}"
      ],
      "execution_count": 0,
      "outputs": []
    },
    {
      "cell_type": "markdown",
      "metadata": {
        "id": "8XnHTevSYIqw",
        "colab_type": "text"
      },
      "source": [
        "\n",
        "*3. Also, the keys in a dict _**must be unique**_.* You'll see why shortly... But remember -- be careful not to add a key to a dict a second time. If you do, the second item will _**override**_ the first item."
      ]
    },
    {
      "cell_type": "markdown",
      "metadata": {
        "id": "SDyGR7KXZYOq",
        "colab_type": "text"
      },
      "source": [
        "## Creating Dicts"
      ]
    },
    {
      "cell_type": "markdown",
      "metadata": {
        "id": "IO7zMwUDZZhK",
        "colab_type": "text"
      },
      "source": [
        "There are several ways you can create your `dict`, but we'll go through the most basic ones here."
      ]
    },
    {
      "cell_type": "markdown",
      "metadata": {
        "id": "7-foJcqgZap0",
        "colab_type": "text"
      },
      "source": [
        "\n",
        "#### 1. The simplest way is by passing in key value pairs directly using this syntax:"
      ]
    },
    {
      "cell_type": "code",
      "metadata": {
        "id": "LxmP4m6mYIqx",
        "colab_type": "code",
        "outputId": "6352acaa-ca97-4edb-ba4d-c831086c0737",
        "colab": {
          "base_uri": "https://localhost:8080/",
          "height": 35
        }
      },
      "source": [
        "food_groups = {} # this creates a new, empty dict\n",
        "\n",
        "food_groups = {\n",
        "\t'pomegranate': 'fruit',\n",
        "\t'asparagus': 'vegetable',\n",
        "\t'goat cheese': 'dairy',\n",
        "\t'walnut': 'legume'\n",
        "}\n",
        "\n",
        "print(food_groups)"
      ],
      "execution_count": 0,
      "outputs": [
        {
          "output_type": "stream",
          "text": [
            "{'pomegranate': 'fruit', 'asparagus': 'vegetable', 'goat cheese': 'dairy', 'walnut': 'legume'}\n"
          ],
          "name": "stdout"
        }
      ]
    },
    {
      "cell_type": "markdown",
      "metadata": {
        "id": "pibWKTiFYIq1",
        "colab_type": "text"
      },
      "source": [
        "\n",
        "#### 2. You can also create an empty dict with the `dict()` method.\n",
        "\n",
        "Just like with the `list()` method, `dict()` only accepts one argument, meaning you have to pass in key/value pairs within the `{}`.\n"
      ]
    },
    {
      "cell_type": "code",
      "metadata": {
        "id": "2978LZ8GYIq1",
        "colab_type": "code",
        "colab": {}
      },
      "source": [
        "food_groups = dict() # this creates a new, empty dict\n",
        "\n",
        "food_groups = dict({\n",
        "\t'pomegranate': 'fruit',\n",
        "\t'asparagus': 'vegetable',\n",
        "\t'goat cheese': 'dairy',\n",
        "\t'walnut': 'legume'\n",
        "})\n",
        "\n",
        "print(food_groups)"
      ],
      "execution_count": 0,
      "outputs": []
    },
    {
      "cell_type": "markdown",
      "metadata": {
        "id": "gp6VHPNlYIq4",
        "colab_type": "text"
      },
      "source": [
        "\n",
        "#### 3. You can also convert a *list of tuples* into a dict using `dict()`...\n",
        "\n",
        "You can only do this using tuples of length 2 so that each one maps into a single key/value pair."
      ]
    },
    {
      "cell_type": "code",
      "metadata": {
        "id": "HPT6HCrJYIq4",
        "colab_type": "code",
        "colab": {}
      },
      "source": [
        "# list of tuples   \n",
        "listofTuples = [(\"Hello\" , 7), (\"hi\" , 10), (\"there\" , 45),(\"at\" , 23),(\"this\" , 77)]\n",
        "\n",
        "\"\"\" [\n",
        "(\"Hello\" , 7),\n",
        "(\"hi\" , 10),\n",
        "(\"there\", 45),\n",
        "(\"at\" , 23),\n",
        "(\"this\" , 77)\n",
        "] \n",
        "\n",
        "{\n",
        "'Hello': 7, \n",
        "'hi': 10, \n",
        "'there': 45, \n",
        "'at': 23, \n",
        "'this': 77\n",
        "} \"\"\"\n",
        "\n",
        "\n",
        "wordFrequency = dict(listofTuples)\n",
        "print(wordFrequency) # {'this': 77, 'there': 45, 'hi': 10, 'at': 23, 'Hello': 7}"
      ],
      "execution_count": 0,
      "outputs": []
    },
    {
      "cell_type": "markdown",
      "metadata": {
        "id": "0AJBPsp-YIq6",
        "colab_type": "text"
      },
      "source": [
        "\n",
        "#### 4. ...and even combine two lists to create a dict by using the `zip()` method.\n",
        "\n",
        "The `.zip()` method takes the names of each list as parameters - the first list will become the dict's keys, and the second list will become the dict's values.\n",
        "\n",
        "**NOTE!** *This only works if you're sure the key/value pairs have the same index position in their original lists (so they will match in the dict).*\n"
      ]
    },
    {
      "cell_type": "code",
      "metadata": {
        "id": "lQxg2pIKYIq7",
        "colab_type": "code",
        "outputId": "57d43992-8060-408d-d532-9c29593bb604",
        "colab": {
          "base_uri": "https://localhost:8080/",
          "height": 69
        }
      },
      "source": [
        "names = ['Taq', 'Valerie', 'Viktor', 'Zola']\n",
        "scores = [[98, 89, 92, 94], [86, 45, 98, 100], [100, 100, 100, 100], [76, 79, 80, 82]]\n",
        "\n",
        "\n",
        "scores.sort(reverse=True)\n",
        "print(scores)\n",
        "\n",
        "\n",
        "scores[1].sort()\n",
        "print(scores)\n",
        "\n",
        "\n",
        "grades = dict(zip(names, scores))\n",
        "print(grades) # {'Taq': [98, 89, 92, 94], 'Zola': [86, 45, 98, 100], 'Valerie': [76, 79, 80, 82]}"
      ],
      "execution_count": 0,
      "outputs": [
        {
          "output_type": "stream",
          "text": [
            "[[100, 100, 100, 100], [98, 89, 92, 94], [86, 45, 98, 100], [76, 79, 80, 82]]\n",
            "[[100, 100, 100, 100], [89, 92, 94, 98], [86, 45, 98, 100], [76, 79, 80, 82]]\n",
            "{'Taq': [100, 100, 100, 100], 'Valerie': [89, 92, 94, 98], 'Viktor': [86, 45, 98, 100], 'Zola': [76, 79, 80, 82]}\n"
          ],
          "name": "stdout"
        }
      ]
    },
    {
      "cell_type": "markdown",
      "metadata": {
        "id": "SZyBRmotxavK",
        "colab_type": "text"
      },
      "source": [
        "#### Practice Together!\n",
        "\n",
        "You work for XYZ News Corp. Make a dict representing which push notification categories user1 has opted into."
      ]
    },
    {
      "cell_type": "code",
      "metadata": {
        "id": "0DNnamUNxfdR",
        "colab_type": "code",
        "outputId": "cf3f4d14-b528-4862-bd08-a08c58686fdf",
        "colab": {
          "base_uri": "https://localhost:8080/",
          "height": 35
        }
      },
      "source": [
        "# user1's push notifications...\n",
        "\n",
        "push_optins = {\n",
        "    'breaking news': True,\n",
        "    'entertainment': False,\n",
        "    'health': True,\n",
        "    'weather': False\n",
        "}\n",
        "\n",
        "print(push_optins)"
      ],
      "execution_count": 0,
      "outputs": [
        {
          "output_type": "stream",
          "text": [
            "{'breaking news': True, 'entertainment': False, 'health': True, 'weather': False}\n"
          ],
          "name": "stdout"
        }
      ]
    },
    {
      "cell_type": "markdown",
      "metadata": {
        "id": "lINCfsvuYIq-",
        "colab_type": "text"
      },
      "source": [
        "## Accessing Dict Data"
      ]
    },
    {
      "cell_type": "markdown",
      "metadata": {
        "id": "p4DTsN9eYIrD",
        "colab_type": "text"
      },
      "source": [
        "### Referencing Values by Keys"
      ]
    },
    {
      "cell_type": "markdown",
      "metadata": {
        "id": "Z8bnnOU4ZoeO",
        "colab_type": "text"
      },
      "source": [
        "Once you've stored data in your dict, you'll need to be able to get back in and access it! You *CANNOT* access dict items with index positions like you do with lists! If you try, you'll get a `KeyError` because dict items do not have index positions. **Instead, the dict keys serve the same purpose as indeces in lists.** Accordingly, you can access each value in the list by referencing its key like so:"
      ]
    },
    {
      "cell_type": "code",
      "metadata": {
        "id": "a3tN7aG9YIrE",
        "colab_type": "code",
        "outputId": "b86b0165-51b1-4bcc-f7ac-e51d2bf89675",
        "colab": {
          "base_uri": "https://localhost:8080/",
          "height": 35
        }
      },
      "source": [
        "state_capitals = {\n",
        "\t'NY': 'Albany',\n",
        "\t'NJ': 'Trenton',\n",
        "\t'CT': 'Hartford',\n",
        "\t'MA': 'Boston'\n",
        "}\n",
        "\n",
        "MAcap = state_capitals['MA']\n",
        "print(f'The capital of MA is {MAcap}.') # 'The capital of MA is Boston.'"
      ],
      "execution_count": 0,
      "outputs": [
        {
          "output_type": "stream",
          "text": [
            "The capital of MA is Boston.\n"
          ],
          "name": "stdout"
        }
      ]
    },
    {
      "cell_type": "markdown",
      "metadata": {
        "id": "eyHx43yGYIrH",
        "colab_type": "text"
      },
      "source": [
        "\n",
        "Attempting to find a key that does not exist leads to error.\n"
      ]
    },
    {
      "cell_type": "code",
      "metadata": {
        "id": "Bfz4OEawYIrH",
        "colab_type": "code",
        "outputId": "3088c363-7d7b-40d2-c61a-cc7606d2aa36",
        "colab": {
          "base_uri": "https://localhost:8080/",
          "height": 219
        }
      },
      "source": [
        "state_capitals = {\n",
        "\t'NY': 'Albany',\n",
        "\t'NJ': 'Trenton',\n",
        "\t'CT': 'Hartford',\n",
        "\t'MA': 'Boston'\n",
        "}\n",
        "\n",
        "print(state_capitals['PA']) # KeyError from missing key\n",
        "print(state_capitals[2]) # KeyError from index reference"
      ],
      "execution_count": 0,
      "outputs": [
        {
          "output_type": "error",
          "ename": "KeyError",
          "evalue": "ignored",
          "traceback": [
            "\u001b[0;31m---------------------------------------------------------------------------\u001b[0m",
            "\u001b[0;31mKeyError\u001b[0m                                  Traceback (most recent call last)",
            "\u001b[0;32m<ipython-input-12-272977418d5b>\u001b[0m in \u001b[0;36m<module>\u001b[0;34m()\u001b[0m\n\u001b[1;32m      6\u001b[0m }\n\u001b[1;32m      7\u001b[0m \u001b[0;34m\u001b[0m\u001b[0m\n\u001b[0;32m----> 8\u001b[0;31m \u001b[0mprint\u001b[0m\u001b[0;34m(\u001b[0m\u001b[0mstate_capitals\u001b[0m\u001b[0;34m[\u001b[0m\u001b[0;34m'PA'\u001b[0m\u001b[0;34m]\u001b[0m\u001b[0;34m)\u001b[0m \u001b[0;31m# KeyError from missing key\u001b[0m\u001b[0;34m\u001b[0m\u001b[0;34m\u001b[0m\u001b[0m\n\u001b[0m\u001b[1;32m      9\u001b[0m \u001b[0mprint\u001b[0m\u001b[0;34m(\u001b[0m\u001b[0mstate_capitals\u001b[0m\u001b[0;34m[\u001b[0m\u001b[0;36m2\u001b[0m\u001b[0;34m]\u001b[0m\u001b[0;34m)\u001b[0m \u001b[0;31m# KeyError from index reference\u001b[0m\u001b[0;34m\u001b[0m\u001b[0;34m\u001b[0m\u001b[0m\n",
            "\u001b[0;31mKeyError\u001b[0m: 'PA'"
          ]
        }
      ]
    },
    {
      "cell_type": "markdown",
      "metadata": {
        "id": "itP2r8goYIrJ",
        "colab_type": "text"
      },
      "source": [
        "\n",
        "Instead, it's better to look up a key in a dict using `.get(key, [])`. The `.get()` method takes the key argument just as above EXCEPT it allows you to enter some default value it should return if the key you enter does not exist. Usually, we use `[]` as that value.\n"
      ]
    },
    {
      "cell_type": "code",
      "metadata": {
        "id": "GOV6PouUYIrK",
        "colab_type": "code",
        "outputId": "489a4ee1-e653-4e39-ae00-55d5803caccb",
        "colab": {
          "base_uri": "https://localhost:8080/",
          "height": 35
        }
      },
      "source": [
        "state_capitals = {\n",
        "\t'NY': 'Albany',\n",
        "\t'NJ': 'Trenton',\n",
        "\t'CT': 'Hartford',\n",
        "\t'MA': 'Boston'\n",
        "}\n",
        "\n",
        "print(state_capitals.get('PA', []))\n",
        "# PA is not in our dict, so .get() returns []"
      ],
      "execution_count": 0,
      "outputs": [
        {
          "output_type": "stream",
          "text": [
            "[]\n"
          ],
          "name": "stdout"
        }
      ]
    },
    {
      "cell_type": "markdown",
      "metadata": {
        "id": "6QNkGwG5YIrM",
        "colab_type": "text"
      },
      "source": [
        "\n",
        "### Retrieving All Keys, Values, & Key/Value Pairs"
      ]
    },
    {
      "cell_type": "markdown",
      "metadata": {
        "id": "nQZgmBjlZrKQ",
        "colab_type": "text"
      },
      "source": [
        "Now, this dict has 4 keys, but what if it had *hundreds?* We can isolate pieces of the dict's data structure using these functions:\n",
        "\n",
        "* `.keys()` -- returns a collection of all the keys in a dict \n",
        "* `.values()` -- returns a collection of all the values in a dict \n",
        "* `.items()` -- returns a collection of all the key/value pairs in a dict "
      ]
    },
    {
      "cell_type": "markdown",
      "metadata": {
        "id": "3U9Zq996ZsWx",
        "colab_type": "text"
      },
      "source": [
        "#### Isolating Key & Values\n",
        "\n",
        "You would think the `.keys()` and `.values()` functions return lists of the keys and values repsectively, right? Wrong. These functions return *list-LIKE* objects called `dict_keys()` and `dict_values()`."
      ]
    },
    {
      "cell_type": "code",
      "metadata": {
        "id": "TlaMM2iRYIrM",
        "colab_type": "code",
        "outputId": "79afd6ce-4931-4ce6-91d6-0525e589ae1b",
        "colab": {
          "base_uri": "https://localhost:8080/",
          "height": 176
        }
      },
      "source": [
        "pets = {\n",
        "  'Taq': ['teacup pig','cat','cat'],\n",
        "  'Francesca': ['llama','horse','dog'],\n",
        "  'Walter': ['ferret','iguana'],\n",
        "  'Caleb': ['dog','rabbit','parakeet']\n",
        "}\n",
        "\n",
        "pet_keys = pets.keys()\n",
        "print(f'Keys: \\n{pet_keys}\\n{type(pet_keys)}\\n\\n')\n",
        "# ['Taq', 'Francesca', 'Walter', 'Caleb']\n",
        "\n",
        "\n",
        "pet_values = pets.values()\n",
        "print(f'Values: \\n{pet_values}\\n{type(pet_values)}')\n",
        "# [['teacup pig','cat','cat'], ['dog','rabbit','parakeet'], etc ]]"
      ],
      "execution_count": 0,
      "outputs": [
        {
          "output_type": "stream",
          "text": [
            "Keys: \n",
            "dict_keys(['Taq', 'Francesca', 'Walter', 'Caleb'])\n",
            "<class 'dict_keys'>\n",
            "\n",
            "\n",
            "Values: \n",
            "dict_values([['teacup pig', 'cat', 'cat'], ['llama', 'horse', 'dog'], ['ferret', 'iguana'], ['dog', 'rabbit', 'parakeet']])\n",
            "<class 'dict_values'>\n"
          ],
          "name": "stdout"
        }
      ]
    },
    {
      "cell_type": "markdown",
      "metadata": {
        "id": "Foh1PWlkYIrO",
        "colab_type": "text"
      },
      "source": [
        "\n",
        "In contrast to lists, you CANNOT access the elements in either a `dict_keys` or a `dict_values` object by index.\n"
      ]
    },
    {
      "cell_type": "code",
      "metadata": {
        "id": "vGAKj4sTYIrP",
        "colab_type": "code",
        "colab": {}
      },
      "source": [
        "pets = {\n",
        "  'Taq': ['teacup pig','cat','cat'],\n",
        "  'Francesca': ['llama','horse','dog'],\n",
        "  'Walter': ['ferret','iguana'],\n",
        "  'Caleb': ['dog','rabbit','parakeet']\n",
        "}\n",
        "\n",
        "pet_keys = pets.keys() # ['Taq', 'Francesca', 'Walter', 'Caleb']\n",
        "print(pet_keys[0])\n",
        "# TypeError: 'dict_keys' object is not subscriptable\n",
        "\n",
        "# The same happens for 'dict_values'"
      ],
      "execution_count": 0,
      "outputs": []
    },
    {
      "cell_type": "markdown",
      "metadata": {
        "id": "wu6U9-uoYIrS",
        "colab_type": "text"
      },
      "source": [
        "\n",
        "The easiest way to get around this is to simply convert the objects to lists when you access them.\n"
      ]
    },
    {
      "cell_type": "code",
      "metadata": {
        "id": "sTpYLVO5YIrU",
        "colab_type": "code",
        "outputId": "c6115ae8-edba-4aa4-9d5a-7dc270bc806d",
        "colab": {
          "base_uri": "https://localhost:8080/",
          "height": 225
        }
      },
      "source": [
        "pets = {\n",
        "  'Taq': ['teacup pig','cat','cat'],\n",
        "  'Francesca': ['llama','horse','dog'],\n",
        "  'Walter': ['ferret','iguana'],\n",
        "  'Caleb': ['dog','rabbit','parakeet']\n",
        "}\n",
        "\n",
        "pet_keys = list(pets.keys())\n",
        "print(f'Keys: \\n{pet_keys}\\n{type(pet_keys)}\\n\\n')\n",
        "# ['Taq', 'Francesca', 'Walter', 'Caleb']\n",
        "\n",
        "pet_values = list(pets.values())\n",
        "print(f'Values: \\n{pet_values}\\n{type(pet_values)}\\n\\n')\n",
        "# [['teacup pig','cat','cat'], ['dog','rabbit','parakeet'], etc ]]\n",
        "\n",
        "print(f'First Key: {pet_keys[0]}') # 'Taq'\n",
        "print(f'First Value: {pet_values[0]}') # ['teacup pig','cat','cat']"
      ],
      "execution_count": 0,
      "outputs": [
        {
          "output_type": "stream",
          "text": [
            "Keys: \n",
            "['Taq', 'Francesca', 'Walter', 'Caleb']\n",
            "<class 'list'>\n",
            "\n",
            "\n",
            "Values: \n",
            "[['teacup pig', 'cat', 'cat'], ['llama', 'horse', 'dog'], ['ferret', 'iguana'], ['dog', 'rabbit', 'parakeet']]\n",
            "<class 'list'>\n",
            "\n",
            "\n",
            "First Key: Taq\n",
            "First Value: ['teacup pig', 'cat', 'cat']\n"
          ],
          "name": "stdout"
        }
      ]
    },
    {
      "cell_type": "markdown",
      "metadata": {
        "id": "gigwpuhSYIrY",
        "colab_type": "text"
      },
      "source": [
        "\n",
        "#### Isolating Key/Value Pairs\n",
        "\n",
        "This one will return a `dict_items` object.\n"
      ]
    },
    {
      "cell_type": "code",
      "metadata": {
        "id": "lg8TRxYEYIra",
        "colab_type": "code",
        "outputId": "b824069d-8c59-4107-a867-2d2bbbd30051",
        "colab": {
          "base_uri": "https://localhost:8080/",
          "height": 89
        }
      },
      "source": [
        "pets = {\n",
        "  'Taq': ['teacup pig','cat','cat'],\n",
        "  'Francesca': ['llama','horse','dog'],\n",
        "  'Walter': ['ferret','iguana'],\n",
        "  'Caleb': ['dog','rabbit','parakeet']\n",
        "}\n",
        "\n",
        "pet_kv_pairs = pets.items() # [('Taq', ['teacup pig','cat','cat']), ('Francesca', [['llama','horse','dog']), etc]\n",
        "print(f'Key/Value Pairs: \\n{pet_kv_pairs}\\n{type(pet_kv_pairs)}')"
      ],
      "execution_count": 0,
      "outputs": [
        {
          "output_type": "stream",
          "text": [
            "Key/Value Pairs: \n",
            "dict_items([('Taq', ['teacup pig', 'cat', 'cat']), ('Francesca', ['llama', 'horse', 'dog']), ('Walter', ['ferret', 'iguana']), ('Caleb', ['dog', 'rabbit', 'parakeet'])])\n",
            "<class 'dict_items'>\n"
          ],
          "name": "stdout"
        }
      ]
    },
    {
      "cell_type": "markdown",
      "metadata": {
        "id": "d1u4ukUSYIrf",
        "colab_type": "text"
      },
      "source": [
        "\n",
        "It looks like a list of tuples, right? Again, you'd think you could access each pair's tuple by index then, but you can't without first converting the `dict_items` object to a list like we did before.\n"
      ]
    },
    {
      "cell_type": "code",
      "metadata": {
        "id": "OhDn1zERYIrg",
        "colab_type": "code",
        "colab": {}
      },
      "source": [
        "pets = {\n",
        "  'Taq': ['teacup pig','cat','cat'],\n",
        "  'Francesca': ['llama','horse','dog'],\n",
        "  'Walter': ['ferret','iguana'],\n",
        "  'Caleb': ['dog','rabbit','parakeet']\n",
        "}\n",
        "\n",
        "pet_kv_pairs = list(pets.items())\n",
        "print(f'Key/Value Pairs: \\n{pet_kv_pairs}\\n{type(pet_kv_pairs)}\\n\\n')\n",
        "# [('Taq', ['teacup pig','cat','cat']), ('Francesca', [['llama','horse','dog']), etc]\n",
        "\n",
        "print(pet_kv_pairs[0])\n",
        "# ('Taq', ['teacup pig','cat','cat'])"
      ],
      "execution_count": 0,
      "outputs": []
    },
    {
      "cell_type": "markdown",
      "metadata": {
        "id": "L7CI-YYeYIri",
        "colab_type": "text"
      },
      "source": [
        "\n",
        "## Built-in Operators for Manipulating Dicts"
      ]
    },
    {
      "cell_type": "markdown",
      "metadata": {
        "id": "-Dbu3QqFaDEf",
        "colab_type": "text"
      },
      "source": [
        "Just like lists, you can edit, analyze, and format your dicts. Some work the same for dicts and lists such as `len()` -- that will give you the number of key/value pairs in the dict. However, adding, deleting, and updating data requires a little more detail for dicts than for lists.\n"
      ]
    },
    {
      "cell_type": "markdown",
      "metadata": {
        "id": "ykdcF5GfaEAS",
        "colab_type": "text"
      },
      "source": [
        "\n",
        "### Add or Edit Dict Items"
      ]
    },
    {
      "cell_type": "markdown",
      "metadata": {
        "id": "xVAREQj5aFML",
        "colab_type": "text"
      },
      "source": [
        "You can add a single item to dict in two ways. The first way is similar to updating a list...\n"
      ]
    },
    {
      "cell_type": "code",
      "metadata": {
        "id": "GdZZZ8fdYIrk",
        "colab_type": "code",
        "outputId": "823a84d9-e801-417a-e11e-eda4298c59e6",
        "colab": {
          "base_uri": "https://localhost:8080/",
          "height": 35
        }
      },
      "source": [
        "state_capitals = {\n",
        "\t'NY': 'Albany',\n",
        "\t'NJ': 'Trenton',\n",
        "\t'CT': 'Hartford',\n",
        "\t'MA': 'Boston'\n",
        "}\n",
        "\n",
        "state_capitals['CA'] = 'Sacramento'\n",
        "\n",
        "print(state_capitals) # {'NY': 'Albany', 'NJ': 'Trenton', 'CT': 'Hartford', 'MA': 'Boston', 'CA': 'Sacramento'}"
      ],
      "execution_count": 0,
      "outputs": [
        {
          "output_type": "stream",
          "text": [
            "{'NY': 'Albany', 'NJ': 'Trenton', 'CT': 'Hartford', 'MA': 'Boston', 'CA': 'Sacramento'}\n"
          ],
          "name": "stdout"
        }
      ]
    },
    {
      "cell_type": "markdown",
      "metadata": {
        "id": "85hyfsHQYIrp",
        "colab_type": "text"
      },
      "source": [
        "\n",
        "...but more likely you'll want to use the `.update(key, value)` method.\n"
      ]
    },
    {
      "cell_type": "code",
      "metadata": {
        "id": "aHXIPlnLYIrr",
        "colab_type": "code",
        "outputId": "0fb29dd1-79a9-4e35-ed71-980423f77010",
        "colab": {
          "base_uri": "https://localhost:8080/",
          "height": 35
        }
      },
      "source": [
        "state_capitals = {\n",
        "\t'NY': 'Albany',\n",
        "\t'NJ': 'Trenton',\n",
        "\t'CT': 'Hartford',\n",
        "\t'MA': 'Boston'\n",
        "}\n",
        "\n",
        "state_capitals.update({'CA': 'Sacramento'})\n",
        "\n",
        "print(state_capitals) # {'NY': 'Albany', 'NJ': 'Trenton', 'CT': 'Hartford', 'MA': 'Boston', 'CA': 'Sacramento'}"
      ],
      "execution_count": 0,
      "outputs": [
        {
          "output_type": "stream",
          "text": [
            "{'NY': 'Albany', 'NJ': 'Trenton', 'CT': 'Hartford', 'MA': 'Boston', 'CA': 'Sacramento'}\n"
          ],
          "name": "stdout"
        }
      ]
    },
    {
      "cell_type": "markdown",
      "metadata": {
        "id": "TuJ8Gu3ZYIrt",
        "colab_type": "text"
      },
      "source": [
        "\n",
        "The `.update()` method also allows you to make bulk updates. In that case, you can simply pass it a variable containing another dict to add to the first one.\n"
      ]
    },
    {
      "cell_type": "code",
      "metadata": {
        "id": "vlzS2OZ2YIrt",
        "colab_type": "code",
        "outputId": "82f5753c-6660-4363-a435-42e0f5110512",
        "colab": {
          "base_uri": "https://localhost:8080/",
          "height": 69
        }
      },
      "source": [
        "state_capitals = {\n",
        "\t'NY': 'Albany',\n",
        "\t'NJ': 'Trenton',\n",
        "\t'CT': 'Hartford',\n",
        "\t'MA': 'Boston',\n",
        "\t'CA': 'Sacramento'\n",
        "}\n",
        "more_states = {\n",
        "\t'WA': 'Olympia',\n",
        "\t'OR': 'Salem',\n",
        "\t'TX': 'Austin',\n",
        "\t'NJ': 'Hoboken',\n",
        "\t'AZ': 'Phoenix',\n",
        "\t'GA': 'Atlanta'\n",
        "}\n",
        "\n",
        "#state_capitals.update(more_states)\n",
        "\n",
        "# state_capitals = {\n",
        "# \t'NY': 'Albany',\n",
        "# \t'NJ': 'Hoboken',\n",
        "# \t'CT': 'Hartford',\n",
        "# \t'MA': 'Boston',\n",
        "# \t'CA': 'Sacramento',\n",
        "# \t'WA': 'Olympia',\n",
        "# \t'OR': 'Salem',\n",
        "# \t'TX': 'Austin',\n",
        "# \t'AZ': 'Phoenix',\n",
        "# \t'GA': 'Atlanta'\n",
        "# }\n",
        "\n",
        "print(state_capitals)\n",
        "\n",
        "\n",
        "old = list(state_capitals.keys())\n",
        "new = list(more_states.keys())\n",
        "\n",
        "print(len(old), len(new))\n",
        "\n",
        "both = old + new\n",
        "\n",
        "print(len(set(both)))"
      ],
      "execution_count": 0,
      "outputs": [
        {
          "output_type": "stream",
          "text": [
            "{'NY': 'Albany', 'NJ': 'Trenton', 'CT': 'Hartford', 'MA': 'Boston', 'CA': 'Sacramento'}\n",
            "5 6\n",
            "10\n"
          ],
          "name": "stdout"
        }
      ]
    },
    {
      "cell_type": "markdown",
      "metadata": {
        "id": "WmEiVuEQYIrv",
        "colab_type": "text"
      },
      "source": [
        "\n",
        "**Notice something?** It's easy to accidentally override items when you're merging datasets. *Oops, we just changed the capital of NJ to Hoboken!* Don't worry though - we'll learn an easy way to check for duplicate keys in the next section on loops."
      ]
    },
    {
      "cell_type": "markdown",
      "metadata": {
        "id": "tA7oYGWUaIoF",
        "colab_type": "text"
      },
      "source": [
        "### Remove Items from a Dict"
      ]
    },
    {
      "cell_type": "markdown",
      "metadata": {
        "id": "hECTc-lUaMsV",
        "colab_type": "text"
      },
      "source": [
        "#### `.clear()` simply empties the dict of all items."
      ]
    },
    {
      "cell_type": "code",
      "metadata": {
        "id": "rzi8a1djYIrw",
        "colab_type": "code",
        "colab": {}
      },
      "source": [
        "state_capitals = {\n",
        "\t'NY': 'Albany',\n",
        "\t'NJ': 'Hoboken',\n",
        "\t'CT': 'Hartford',\n",
        "\t'MA': 'Boston',\n",
        "\t'CA': 'Sacramento',\n",
        "\t'WA': 'Olympia',\n",
        "\t'OR': 'Salem',\n",
        "\t'TX': 'Austin',\n",
        "\t'AZ': 'Phoenix',\n",
        "\t'GA': 'Atlanta'\n",
        "}\n",
        "\n",
        "state_capitals.clear()\n",
        "print(state_capitals) # {}"
      ],
      "execution_count": 0,
      "outputs": []
    },
    {
      "cell_type": "markdown",
      "metadata": {
        "id": "yFWroTsvYIry",
        "colab_type": "text"
      },
      "source": [
        "\n",
        "#### `.pop(key, value)`:\n",
        "\n",
        "This removes an item, which you must specify by key. There are two things to note here -\n",
        "\n",
        "1. **First**, you *cannot delete a dict item by specifying a value*. Since values do not have to be unique the way keys are, trying to delete items by referencing values could cause issues.\n",
        "2. **Second**, just like we saw earlier with `.get(key, value)`, `.pop(key, value)` will raise a `KeyError` if you try to remove a key that does not exist in the dict. We avoid this in the same way, by setting a default value - typically `[]` - for the program to return in case of a missing key.\n",
        "\n",
        "Unfortunately, you *can't* use the same method as we did for `.update()` to delete larger portions of data. We'll learn a way to do that in the next section on loops as well.\n"
      ]
    },
    {
      "cell_type": "code",
      "metadata": {
        "id": "Gm6RdyJSYIry",
        "colab_type": "code",
        "outputId": "fb4f824b-7edc-4322-a17b-ae7c7ea1b91e",
        "colab": {
          "base_uri": "https://localhost:8080/",
          "height": 55
        }
      },
      "source": [
        "state_capitals = {\n",
        "\t'NY': 'Albany',\n",
        "\t'NJ': 'Hoboken',\n",
        "\t'CT': 'Hartford',\n",
        "\t'MA': 'Boston',\n",
        "\t'CA': 'Sacramento',\n",
        "\t'WA': 'Olympia',\n",
        "\t'OR': 'Salem',\n",
        "\t'TX': 'Austin',\n",
        "\t'AZ': 'Phoenix',\n",
        "\t'GA': 'Atlanta'\n",
        "}\n",
        "\n",
        "state_capitals.pop('AZ', [])\n",
        "# removes 'AZ': 'Phoenix' from our dict\n",
        "\n",
        "print(state_capitals)"
      ],
      "execution_count": 0,
      "outputs": [
        {
          "output_type": "stream",
          "text": [
            "{'NY': 'Albany', 'NJ': 'Hoboken', 'CT': 'Hartford', 'MA': 'Boston', 'CA': 'Sacramento', 'WA': 'Olympia', 'OR': 'Salem', 'TX': 'Austin', 'GA': 'Atlanta'}\n"
          ],
          "name": "stdout"
        }
      ]
    },
    {
      "cell_type": "markdown",
      "metadata": {
        "id": "h-oQRzxlYIr0",
        "colab_type": "text"
      },
      "source": [
        "\n",
        "#### `popitem()`:\n",
        "This one just removes an arbitrary key value pair from dict and returns it as a tuple. For instance, you might do this if you're randomly sampling your data for QA purposes.\n"
      ]
    },
    {
      "cell_type": "code",
      "metadata": {
        "id": "9kCgTuj0YIr1",
        "colab_type": "code",
        "colab": {}
      },
      "source": [
        "state_capitals = {\n",
        "\t'NY': 'Albany',\n",
        "\t'NJ': 'Hoboken',\n",
        "\t'CT': 'Hartford',\n",
        "\t'MA': 'Boston',\n",
        "\t'CA': 'Sacramento',\n",
        "\t'WA': 'Olympia',\n",
        "\t'OR': 'Salem',\n",
        "\t'TX': 'Austin',\n",
        "\t'AZ': 'Phoenix',\n",
        "\t'GA': 'Atlanta'\n",
        "}\n",
        "\n",
        "seceded1 = state_capitals.popitem()\n",
        "# ^ removes a random item and returns it as a tuple\n",
        "print(seceded1) # ('GA': 'Atlanta') for example"
      ],
      "execution_count": 0,
      "outputs": []
    },
    {
      "cell_type": "markdown",
      "metadata": {
        "id": "VMokv-NqYIr3",
        "colab_type": "text"
      },
      "source": [
        "\n",
        "## Summary\n",
        "\n",
        "<img src=\"https://github.com/mottaquikarim/PYTH2/blob/master/assets/Dicts_Summary.png?raw=true\" width=\"100%\" align=\"left\"/>\n",
        "\n",
        "\n"
      ]
    }
  ]
}