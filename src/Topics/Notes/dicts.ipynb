{
  "nbformat": 4,
  "nbformat_minor": 0,
  "metadata": {
    "colab": {
      "name": "PYTH826: dicts.ipynb",
      "version": "0.3.2",
      "provenance": []
    },
    "kernelspec": {
      "name": "python3",
      "display_name": "Python 3"
    }
  },
  "cells": [
    {
      "cell_type": "markdown",
      "metadata": {
        "id": "7Q0u0casi9Gr",
        "colab_type": "text"
      },
      "source": [
        "<a href=\"https://colab.research.google.com/drive/1RhFU7b7SVmFQNeke27MnW7TSzaebbbra\" target=\"_parent\"><img src=\"https://colab.research.google.com/assets/colab-badge.svg\" alt=\"Open In Colab\"/></a>"
      ]
    },
    {
      "cell_type": "markdown",
      "metadata": {
        "id": "Nk93Rsn1i9Gt",
        "colab_type": "text"
      },
      "source": [
        "# Dicts\n",
        "\n",
        "In addition to lists, another more comprehensive method for storing complex data are **dicts**, or dictionaries. In the example below, we associate a `key` (e.g. 'taq') to a `value` (e.g. 'karim'). Instead of being enclosed in `[]`, dicts are enclosed in `{}`.\n"
      ]
    },
    {
      "cell_type": "code",
      "metadata": {
        "id": "IJIw5Xpyi9Gu",
        "colab_type": "code",
        "colab": {
          "base_uri": "https://localhost:8080/",
          "height": 51
        },
        "outputId": "256f1236-c886-4b19-a769-eaf23f67cea4"
      },
      "source": [
        "my_dict = {\n",
        "    'key' : 'value'\n",
        "}\n",
        "\n",
        "lol_is_this_a_set_tho = {1,2,3}\n",
        "\n",
        "print(type(my_dict))\n",
        "print(type(lol_is_this_a_set_tho))"
      ],
      "execution_count": 1,
      "outputs": [
        {
          "output_type": "stream",
          "text": [
            "<class 'dict'>\n",
            "<class 'set'>\n"
          ],
          "name": "stdout"
        }
      ]
    },
    {
      "cell_type": "markdown",
      "metadata": {
        "id": "JvC5JBk4i9Gy",
        "colab_type": "text"
      },
      "source": [
        "\n",
        "The keys and values of a single dict don't have to be homogenous. In other words, you can mix and match different key, value, and key/value pair data types within one dict as seen below.\n"
      ]
    },
    {
      "cell_type": "code",
      "metadata": {
        "id": "1ZJVfDeqi9Gy",
        "colab_type": "code",
        "colab": {}
      },
      "source": [
        "dict1 = {\n",
        "    'taq': 'karim',\n",
        "    'apple': 35,\n",
        "    False: 87.96,\n",
        "    35: 'dog',\n",
        "    'tree': True\n",
        "    # etc.\n",
        "}\n",
        "\n",
        "print(dict1)"
      ],
      "execution_count": 0,
      "outputs": []
    },
    {
      "cell_type": "markdown",
      "metadata": {
        "id": "UblXPZv_i9G0",
        "colab_type": "text"
      },
      "source": [
        "\n",
        "The `values` in a dict can be any valid Python data type, but there are some restrictions on what you can use as `keys`:\n",
        "\n",
        "*1. Keys **CAN** be strings, integers, floats, booleans, and tuples.* \n",
        "\n",
        "*2. Keys **CANNOT** be lists or dicts.*\n",
        "\n",
        "Do you see the pattern here so far? The data in a *dict key must be immutable.* Since lists and dicts are mutable, they cannot be used as keys in a dict. That said, they *CAN* serve as the values in a dict.\n"
      ]
    },
    {
      "cell_type": "code",
      "metadata": {
        "id": "6Vuopd66i9G1",
        "colab_type": "code",
        "colab": {}
      },
      "source": [
        "dict2 = {\n",
        "    47: [12.1, 'blue', True], # list as a dict value\n",
        "    'julianna': {False: 'cat'} # dict as a dict value\n",
        "}"
      ],
      "execution_count": 0,
      "outputs": []
    },
    {
      "cell_type": "markdown",
      "metadata": {
        "id": "03eP1jgOi9G3",
        "colab_type": "text"
      },
      "source": [
        "\n",
        "*3. Also, the keys in a dict _**must be unique**_.* You'll see why shortly... But remember -- be careful not to add a key to a dict a second time. If you do, the second item will _**override**_ the first item.\n",
        "\n",
        "## Creating Dicts\n",
        "\n",
        "There are several ways you can create your `dict`, but we'll go through the most basic ones here.\n",
        "\n",
        "#### 1. The simplest way is by passing in key value pairs directly using this syntax:\n",
        "\n"
      ]
    },
    {
      "cell_type": "code",
      "metadata": {
        "id": "bNhHUI6oi9G3",
        "colab_type": "code",
        "colab": {
          "base_uri": "https://localhost:8080/",
          "height": 119
        },
        "outputId": "91293cdb-a115-4bdb-8335-46f12001660f"
      },
      "source": [
        "food_groups = {} # this creates a new, empty dict\n",
        "\n",
        "print(type(food_groups))\n",
        "\n",
        "print(f'food groups currently: {food_groups}')\n",
        "\n",
        "food_groups[\"dairy\"] = 'milk'\n",
        "\n",
        "print(f'food groups currently: {food_groups}')\n",
        "\n",
        "food_groups[\"fruit\"] = 'apple'\n",
        "\n",
        "print(f'food groups currently: {food_groups}')\n",
        "\n",
        "food_groups[\"dairy\"] = \"ice cream\"\n",
        "\n",
        "print(f'food groups currently: {food_groups}')\n",
        "\n",
        "food_groups[\"meats\"] = []\n",
        "food_groups[\"meats\"].append(\"chicken\")\n",
        "food_groups[\"meats\"].append(\"steak\")\n",
        "food_groups[\"meats\"].append(\"lamb\")\n",
        "\n",
        "print(f'food groups currently: {food_groups}')"
      ],
      "execution_count": 9,
      "outputs": [
        {
          "output_type": "stream",
          "text": [
            "<class 'dict'>\n",
            "food groups currently: {}\n",
            "food groups currently: {'dairy': 'milk'}\n",
            "food groups currently: {'dairy': 'milk', 'fruit': 'apple'}\n",
            "food groups currently: {'dairy': 'ice cream', 'fruit': 'apple'}\n",
            "food groups currently: {'dairy': 'ice cream', 'fruit': 'apple', 'meats': ['chicken', 'steak', 'lamb']}\n"
          ],
          "name": "stdout"
        }
      ]
    },
    {
      "cell_type": "markdown",
      "metadata": {
        "id": "ZY1sD81ii9G5",
        "colab_type": "text"
      },
      "source": [
        "\n",
        "#### 2. You can also create an empty dict with the `dict()` method.\n",
        "\n",
        "Just like with the `list()` method, `dict()` only accepts one argument, meaning you have to pass in key/value pairs within the `{}`.\n"
      ]
    },
    {
      "cell_type": "code",
      "metadata": {
        "id": "Put8ff7ri9G6",
        "colab_type": "code",
        "colab": {}
      },
      "source": [
        "food_groups = dict() # this creates a new, empty dict\n",
        "\n",
        "food_groups = dict({\n",
        "\t'pomegranate': 'fruit',\n",
        "\t'asparagus': 'vegetable',\n",
        "\t'goat cheese': 'dairy',\n",
        "\t'walnut': 'legume'\n",
        "})\n",
        "\n",
        "print(food_groups)"
      ],
      "execution_count": 0,
      "outputs": []
    },
    {
      "cell_type": "markdown",
      "metadata": {
        "id": "BrTsmzq2i9G8",
        "colab_type": "text"
      },
      "source": [
        "\n",
        "#### 3. You can also convert a *list of tuples* into a dict using `dict()`...\n"
      ]
    },
    {
      "cell_type": "code",
      "metadata": {
        "id": "U3ma-n6pi9G8",
        "colab_type": "code",
        "colab": {
          "base_uri": "https://localhost:8080/",
          "height": 34
        },
        "outputId": "d773325a-c0de-401c-9d10-11f50e0b06ed"
      },
      "source": [
        "# list of tuples   \n",
        "listofTuples = [(\"Hello\" , 7), (\"hi\" , 10), (\"there\" , 45),(\"at\" , 23),(\"this\" , 77), (\"Hello\", 9)]\n",
        "\n",
        "wordFrequency = dict(listofTuples)\n",
        "print(wordFrequency) # {'this': 77, 'there': 45, 'hi': 10, 'at': 23, 'Hello': 7}"
      ],
      "execution_count": 14,
      "outputs": [
        {
          "output_type": "stream",
          "text": [
            "{'Hello': 9, 'hi': 10, 'there': 45, 'at': 23, 'this': 77}\n"
          ],
          "name": "stdout"
        }
      ]
    },
    {
      "cell_type": "code",
      "metadata": {
        "id": "ikxhOBrqnAAt",
        "colab_type": "code",
        "colab": {
          "base_uri": "https://localhost:8080/",
          "height": 51
        },
        "outputId": "ed6a1b7c-70a8-42ed-8495-306ee811671e"
      },
      "source": [
        "my_num_str = '15'\n",
        "\n",
        "my_num = int(my_num_str)\n",
        "\n",
        "print(type(my_num_str))\n",
        "print(type(my_num))"
      ],
      "execution_count": 10,
      "outputs": [
        {
          "output_type": "stream",
          "text": [
            "<class 'str'>\n",
            "<class 'int'>\n"
          ],
          "name": "stdout"
        }
      ]
    },
    {
      "cell_type": "markdown",
      "metadata": {
        "id": "_mELeksUi9G_",
        "colab_type": "text"
      },
      "source": [
        "\n",
        "#### 4. ...and even combine two lists to create a dict by using the `zip()` method.\n",
        "\n",
        "The `.zip()` method takes the names of each list as parameters - the first list will become the dict's keys, and the second list will become the dict's values.\n",
        "\n",
        "**NOTE!** *This only works if you're sure the key/value pairs have the same index position in their original lists (so they will match in the dict).*\n"
      ]
    },
    {
      "cell_type": "code",
      "metadata": {
        "id": "8K1NTSfPi9G_",
        "colab_type": "code",
        "colab": {
          "base_uri": "https://localhost:8080/",
          "height": 102
        },
        "outputId": "a413c647-64f5-4c6f-e1ff-6f651a5566c5"
      },
      "source": [
        "names = [\n",
        "    'Taq', \n",
        "    'Valerie', \n",
        "    'Viktor', \n",
        "    'Zola',\n",
        "    'Albert',\n",
        "]\n",
        "\n",
        "scores = [\n",
        "    [98, 89, 92, 94], \n",
        "    [86, 45, 98, 100], \n",
        "    [100, 100, 100, 100], \n",
        "    [76, 79, 80, 82],\n",
        "    [105, 105, 105, 105],\n",
        "]\n",
        "\n",
        "z_grades = zip(names, scores)\n",
        "print(f'z_geades type is... {type(z_grades)}')\n",
        "# print(z_grades['Taq'])\n",
        "\n",
        "print(list(z_grades))\n",
        "\n",
        "grades = dict(zip(names, scores))\n",
        "print(grades) # {'Taq': [98, 89, 92, 94], 'Zola': [86, 45, 98, 100], 'Valerie': [76, 79, 80, 82]}\n",
        "print(grades['Taq'])\n",
        "\n",
        "taq_avg = sum(grades['Taq'])/len(grades['Taq'])\n",
        "\n",
        "print(taq_avg)"
      ],
      "execution_count": 22,
      "outputs": [
        {
          "output_type": "stream",
          "text": [
            "z_geades type is... <class 'zip'>\n",
            "[('Taq', [98, 89, 92, 94]), ('Valerie', [86, 45, 98, 100]), ('Viktor', [100, 100, 100, 100]), ('Zola', [76, 79, 80, 82]), ('Albert', [105, 105, 105, 105])]\n",
            "{'Taq': [98, 89, 92, 94], 'Valerie': [86, 45, 98, 100], 'Viktor': [100, 100, 100, 100], 'Zola': [76, 79, 80, 82], 'Albert': [105, 105, 105, 105]}\n",
            "[98, 89, 92, 94]\n",
            "93.25\n"
          ],
          "name": "stdout"
        }
      ]
    },
    {
      "cell_type": "markdown",
      "metadata": {
        "id": "tC65K13fi9HE",
        "colab_type": "text"
      },
      "source": [
        "\n",
        "## Accessing Dict Data\n",
        "\n",
        "Once you've stored data in your dict, you'll need to be able to get back in and access it! Take a look at this dict holding state capitals.\n"
      ]
    },
    {
      "cell_type": "code",
      "metadata": {
        "id": "wUhxrj5Qi9HG",
        "colab_type": "code",
        "colab": {}
      },
      "source": [
        "state_capitals = {\n",
        "\t'NY': 'Albany',\n",
        "\t'NJ': 'Trenton',\n",
        "\t'CT': 'Hartford',\n",
        "\t'MA': 'Boston'\n",
        "}"
      ],
      "execution_count": 0,
      "outputs": []
    },
    {
      "cell_type": "markdown",
      "metadata": {
        "id": "H-5YKcHui9HI",
        "colab_type": "text"
      },
      "source": [
        "\n",
        "### Referencing Values by Keys\n",
        "\n",
        "You *CANNOT* access dict items with index positions like you do with lists! If you try, you'll get a `KeyError` because dict items do not have index positions. **Instead, the dict keys serve the same purpose as indeces in lists.** Accordingly, you can access each value in the list by referencing its key like so:\n"
      ]
    },
    {
      "cell_type": "code",
      "metadata": {
        "id": "lLovVWh9i9HJ",
        "colab_type": "code",
        "colab": {
          "base_uri": "https://localhost:8080/",
          "height": 34
        },
        "outputId": "f1d96c14-087f-4e8d-bf66-c1ad5c33c604"
      },
      "source": [
        "state_capitals = {\n",
        "\t'NY': 'Albany',\n",
        "\t'NJ': 'Trenton',\n",
        "\t'CT': 'Hartford',\n",
        "\t'MA': 'Boston',\n",
        "}\n",
        "\n",
        "MAcap = state_capitals['MA'].upper()\n",
        "print(f'The capital of MA is {MAcap}.') # 'The capital of MA is Boston.'"
      ],
      "execution_count": 23,
      "outputs": [
        {
          "output_type": "stream",
          "text": [
            "The capital of MA is BOSTON.\n"
          ],
          "name": "stdout"
        }
      ]
    },
    {
      "cell_type": "markdown",
      "metadata": {
        "id": "pXJC-muei9HL",
        "colab_type": "text"
      },
      "source": [
        "\n",
        "Attempting to find a key that does not exist leads to error.\n"
      ]
    },
    {
      "cell_type": "code",
      "metadata": {
        "id": "j1pIYls4i9HL",
        "colab_type": "code",
        "colab": {
          "base_uri": "https://localhost:8080/",
          "height": 51
        },
        "outputId": "b9986c0c-e3b9-481c-e365-3f316812aa65"
      },
      "source": [
        "state_capitals = {\n",
        "\t'NY': 'Albany',\n",
        "\t'NJ': 'Trenton',\n",
        "\t'CT': 'Hartford',\n",
        "\t'MA': 'Boston'\n",
        "}\n",
        "\n",
        "from random import choice\n",
        "\n",
        "states = ['NY', 'NJ', 'CT', 'MA', 'PA', 'TX']\n",
        "\n",
        "try:\n",
        "  random_state = choice(states)\n",
        "  print(f'STATE IS {random_state}')\n",
        "  \n",
        "  print(state_capitals[random_state]) # KeyError from missing key\n",
        "  \n",
        "except Exception as e:\n",
        "  print(f'ERROR: {e}')\n",
        "  \n",
        "\n",
        "# print(state_capitals[2]) # KeyError from index reference"
      ],
      "execution_count": 35,
      "outputs": [
        {
          "output_type": "stream",
          "text": [
            "STATE IS TX\n",
            "ERROR: 'TX'\n"
          ],
          "name": "stdout"
        }
      ]
    },
    {
      "cell_type": "markdown",
      "metadata": {
        "id": "avrRS8owi9HN",
        "colab_type": "text"
      },
      "source": [
        "\n",
        "Instead, it's better to look up a key in a dict using `.get(key, [])`. The `.get()` method takes the key argument just as above EXCEPT it allows you to enter some default value it should return if the key you enter does not exist. Usually, we use `[]` as that value.\n"
      ]
    },
    {
      "cell_type": "code",
      "metadata": {
        "id": "DKEfl2X-i9HN",
        "colab_type": "code",
        "colab": {
          "base_uri": "https://localhost:8080/",
          "height": 34
        },
        "outputId": "26dc82a3-710e-4c52-e4a4-a3f9b6d98ec7"
      },
      "source": [
        "state_capitals = {\n",
        "\t'NY': 'Albany',\n",
        "\t'NJ': 'Trenton',\n",
        "\t'CT': 'Hartford',\n",
        "\t'MA': 'Boston'\n",
        "}\n",
        "\n",
        "print(state_capitals.get('PA', \"Not found!\"))\n",
        "# PA is not in our dict, so .get() returns []"
      ],
      "execution_count": 36,
      "outputs": [
        {
          "output_type": "stream",
          "text": [
            "Not found!\n"
          ],
          "name": "stdout"
        }
      ]
    },
    {
      "cell_type": "markdown",
      "metadata": {
        "id": "V4OiukLzi9HP",
        "colab_type": "text"
      },
      "source": [
        "\n",
        "### Retrieving All Keys, Values, & Key/Value Pairs\n",
        "\n",
        "Now, this dict has 4 keys, but what if it had *hundreds?* We can isolate pieces of the dict's data structure using these functions:\n",
        "\n",
        "* `.keys()` -- returns a collection of all the keys in a dict \n",
        "* `.values()` -- returns a collection of all the values in a dict \n",
        "* `.items()` -- returns a collection of all the key/value pairs in a dict \n",
        "\n",
        "#### Isolating Key & Values\n",
        "\n",
        "You would think the `.keys()` and `.values()` functions return lists of the keys and values repsectively, right? Wrong. These functions return *list-LIKE* objects called `dict_keys()` and `dict_values()`.\n"
      ]
    },
    {
      "cell_type": "code",
      "metadata": {
        "id": "FXusag1vi9HQ",
        "colab_type": "code",
        "colab": {
          "base_uri": "https://localhost:8080/",
          "height": 153
        },
        "outputId": "2829f2ed-aaee-4e7c-acca-7ba7c4787d7b"
      },
      "source": [
        "pets = {\n",
        "  'Taq': ['teacup pig','cat','cat'],\n",
        "  'Francesca': ['llama','horse','dog'],\n",
        "  'Walter': ['ferret','iguana'],\n",
        "  'Caleb': ['dog','rabbit','parakeet']\n",
        "}\n",
        "\n",
        "pet_keys = pets.keys()\n",
        "print(f'Keys: \\n{pet_keys}\\n{type(pet_keys)}\\n\\n')\n",
        "# ['Taq', 'Francesca', 'Walter', 'Caleb']\n",
        "\n",
        "\n",
        "pet_values = pets.values()\n",
        "print(f'Values: \\n{pet_values}\\n{type(pet_values)}')\n",
        "# [['teacup pig','cat','cat'], ['dog','rabbit','parakeet'], etc ]]"
      ],
      "execution_count": 37,
      "outputs": [
        {
          "output_type": "stream",
          "text": [
            "Keys: \n",
            "dict_keys(['Taq', 'Francesca', 'Walter', 'Caleb'])\n",
            "<class 'dict_keys'>\n",
            "\n",
            "\n",
            "Values: \n",
            "dict_values([['teacup pig', 'cat', 'cat'], ['llama', 'horse', 'dog'], ['ferret', 'iguana'], ['dog', 'rabbit', 'parakeet']])\n",
            "<class 'dict_values'>\n"
          ],
          "name": "stdout"
        }
      ]
    },
    {
      "cell_type": "markdown",
      "metadata": {
        "id": "PyzOTE30i9HS",
        "colab_type": "text"
      },
      "source": [
        "\n",
        "In contrast to lists, you CANNOT access the elements in either a `dict_keys` or a `dict_values` object by index.\n"
      ]
    },
    {
      "cell_type": "code",
      "metadata": {
        "id": "XWX67m8Oi9HT",
        "colab_type": "code",
        "colab": {
          "base_uri": "https://localhost:8080/",
          "height": 232
        },
        "outputId": "a290e1a5-fe7e-4b51-b202-175d81abde87"
      },
      "source": [
        "pets = {\n",
        "  'Taq': ['teacup pig','cat','cat'],\n",
        "  'Francesca': ['llama','horse','dog'],\n",
        "  'Walter': ['ferret','iguana'],\n",
        "  'Caleb': ['dog','rabbit','parakeet']\n",
        "}\n",
        "\n",
        "pet_keys = pets.keys() # ['Taq', 'Francesca', 'Walter', 'Caleb']\n",
        "print(pet_keys[0])\n",
        "# TypeError: 'dict_keys' object is not subscriptable\n",
        "\n",
        "# The same happens for 'dict_values'"
      ],
      "execution_count": 38,
      "outputs": [
        {
          "output_type": "error",
          "ename": "TypeError",
          "evalue": "ignored",
          "traceback": [
            "\u001b[0;31m---------------------------------------------------------------------------\u001b[0m",
            "\u001b[0;31mTypeError\u001b[0m                                 Traceback (most recent call last)",
            "\u001b[0;32m<ipython-input-38-1bce18e291c5>\u001b[0m in \u001b[0;36m<module>\u001b[0;34m()\u001b[0m\n\u001b[1;32m      7\u001b[0m \u001b[0;34m\u001b[0m\u001b[0m\n\u001b[1;32m      8\u001b[0m \u001b[0mpet_keys\u001b[0m \u001b[0;34m=\u001b[0m \u001b[0mpets\u001b[0m\u001b[0;34m.\u001b[0m\u001b[0mkeys\u001b[0m\u001b[0;34m(\u001b[0m\u001b[0;34m)\u001b[0m \u001b[0;31m# ['Taq', 'Francesca', 'Walter', 'Caleb']\u001b[0m\u001b[0;34m\u001b[0m\u001b[0;34m\u001b[0m\u001b[0m\n\u001b[0;32m----> 9\u001b[0;31m \u001b[0mprint\u001b[0m\u001b[0;34m(\u001b[0m\u001b[0mpet_keys\u001b[0m\u001b[0;34m[\u001b[0m\u001b[0;36m0\u001b[0m\u001b[0;34m]\u001b[0m\u001b[0;34m)\u001b[0m\u001b[0;34m\u001b[0m\u001b[0;34m\u001b[0m\u001b[0m\n\u001b[0m\u001b[1;32m     10\u001b[0m \u001b[0;31m# TypeError: 'dict_keys' object is not subscriptable\u001b[0m\u001b[0;34m\u001b[0m\u001b[0;34m\u001b[0m\u001b[0;34m\u001b[0m\u001b[0m\n\u001b[1;32m     11\u001b[0m \u001b[0;34m\u001b[0m\u001b[0m\n",
            "\u001b[0;31mTypeError\u001b[0m: 'dict_keys' object does not support indexing"
          ]
        }
      ]
    },
    {
      "cell_type": "markdown",
      "metadata": {
        "id": "J2QyewGyi9HV",
        "colab_type": "text"
      },
      "source": [
        "\n",
        "The easiest way to get around this is to simply convert the objects to lists when you access them.\n"
      ]
    },
    {
      "cell_type": "code",
      "metadata": {
        "id": "guzYiqERi9HV",
        "colab_type": "code",
        "colab": {
          "base_uri": "https://localhost:8080/",
          "height": 221
        },
        "outputId": "db5bdc6a-62c5-4644-88b0-e768e43f7cfd"
      },
      "source": [
        "pets = {\n",
        "  'Taq': ['teacup pig','cat','cat'],\n",
        "  'Francesca': ['llama','horse','dog'],\n",
        "  'Walter': ['ferret','iguana'],\n",
        "  'Caleb': ['dog','rabbit','parakeet']\n",
        "}\n",
        "\n",
        "pet_keys = list(pets.keys())\n",
        "print(f'Keys: \\n{pet_keys}\\n{type(pet_keys)}\\n\\n')\n",
        "# ['Taq', 'Francesca', 'Walter', 'Caleb']\n",
        "\n",
        "pet_values = list(pets.values())\n",
        "print(f'Values: \\n{pet_values}\\n{type(pet_values)}\\n\\n')\n",
        "# [['teacup pig','cat','cat'], ['dog','rabbit','parakeet'], etc ]]\n",
        "\n",
        "print(f'First Key: {pet_keys[0]}') # 'Taq'\n",
        "print(f'First Value: {pet_values[0]}') # ['teacup pig','cat','cat']"
      ],
      "execution_count": 39,
      "outputs": [
        {
          "output_type": "stream",
          "text": [
            "Keys: \n",
            "['Taq', 'Francesca', 'Walter', 'Caleb']\n",
            "<class 'list'>\n",
            "\n",
            "\n",
            "Values: \n",
            "[['teacup pig', 'cat', 'cat'], ['llama', 'horse', 'dog'], ['ferret', 'iguana'], ['dog', 'rabbit', 'parakeet']]\n",
            "<class 'list'>\n",
            "\n",
            "\n",
            "First Key: Taq\n",
            "First Value: ['teacup pig', 'cat', 'cat']\n"
          ],
          "name": "stdout"
        }
      ]
    },
    {
      "cell_type": "markdown",
      "metadata": {
        "id": "Up4BnRYgi9HX",
        "colab_type": "text"
      },
      "source": [
        "\n",
        "#### Isolating Key/Value Pairs\n",
        "\n",
        "This one will return a `dict_items` object.\n"
      ]
    },
    {
      "cell_type": "code",
      "metadata": {
        "id": "ycS-A0uIi9HX",
        "colab_type": "code",
        "colab": {
          "base_uri": "https://localhost:8080/",
          "height": 88
        },
        "outputId": "36bee73c-a9e4-4e6f-a1b9-3da84a64722a"
      },
      "source": [
        "pets = {\n",
        "  'Taq': ['teacup pig','cat','cat'],\n",
        "  'Francesca': ['llama','horse','dog'],\n",
        "  'Walter': ['ferret','iguana'],\n",
        "  'Caleb': ['dog','rabbit','parakeet']\n",
        "}\n",
        "\n",
        "pet_kv_pairs = pets.items() # [('Taq', ['teacup pig','cat','cat']), ('Francesca', [['llama','horse','dog']), etc]\n",
        "print(f'Key/Value Pairs: \\n{pet_kv_pairs}\\n{type(pet_kv_pairs)}')"
      ],
      "execution_count": 40,
      "outputs": [
        {
          "output_type": "stream",
          "text": [
            "Key/Value Pairs: \n",
            "dict_items([('Taq', ['teacup pig', 'cat', 'cat']), ('Francesca', ['llama', 'horse', 'dog']), ('Walter', ['ferret', 'iguana']), ('Caleb', ['dog', 'rabbit', 'parakeet'])])\n",
            "<class 'dict_items'>\n"
          ],
          "name": "stdout"
        }
      ]
    },
    {
      "cell_type": "markdown",
      "metadata": {
        "id": "DyfHq4hTi9HZ",
        "colab_type": "text"
      },
      "source": [
        "\n",
        "It looks like a list of tuples, right? Again, you'd think you could access each pair's tuple by index then, but you can't without first converting the `dict_items` object to a list like we did before.\n"
      ]
    },
    {
      "cell_type": "code",
      "metadata": {
        "id": "UN5dmH_Pi9Ha",
        "colab_type": "code",
        "colab": {
          "base_uri": "https://localhost:8080/",
          "height": 139
        },
        "outputId": "81b23c4e-29af-4539-c2ea-10e4b204f29c"
      },
      "source": [
        "pets = {\n",
        "  'Taq': ['teacup pig','cat','cat'],\n",
        "  'Francesca': ['llama','horse','dog'],\n",
        "  'Walter': ['ferret','iguana'],\n",
        "  'Caleb': ['dog','rabbit','parakeet']\n",
        "}\n",
        "\n",
        "pet_kv_pairs = list(pets.items())\n",
        "print(f'Key/Value Pairs: \\n{pet_kv_pairs}\\n{type(pet_kv_pairs)}\\n\\n')\n",
        "# [('Taq', ['teacup pig','cat','cat']), ('Francesca', [['llama','horse','dog']), etc]\n",
        "\n",
        "print(pet_kv_pairs[0])\n",
        "# ('Taq', ['teacup pig','cat','cat'])"
      ],
      "execution_count": 41,
      "outputs": [
        {
          "output_type": "stream",
          "text": [
            "Key/Value Pairs: \n",
            "[('Taq', ['teacup pig', 'cat', 'cat']), ('Francesca', ['llama', 'horse', 'dog']), ('Walter', ['ferret', 'iguana']), ('Caleb', ['dog', 'rabbit', 'parakeet'])]\n",
            "<class 'list'>\n",
            "\n",
            "\n",
            "('Taq', ['teacup pig', 'cat', 'cat'])\n"
          ],
          "name": "stdout"
        }
      ]
    },
    {
      "cell_type": "markdown",
      "metadata": {
        "id": "beMgHvBwi9He",
        "colab_type": "text"
      },
      "source": [
        "\n",
        "## Built-in Operators for Manipulating Dicts\n",
        "\n",
        "Just like lists, you can edit, analyze, and format your dicts. Some work the same for dicts and lists such as `len()` -- that will give you the number of key/value pairs in the dict. However, adding, deleting, and updating data requires a little more detail for dicts than for lists.\n",
        "\n",
        "### Add or Edit Dict Items\n",
        "\n",
        "You can add a single item to dict in two ways. The first way is similar to updating a list...\n"
      ]
    },
    {
      "cell_type": "code",
      "metadata": {
        "id": "6tmtpvJbi9Hf",
        "colab_type": "code",
        "colab": {}
      },
      "source": [
        "state_capitals = {\n",
        "\t'NY': 'Albany',\n",
        "\t'NJ': 'Trenton',\n",
        "\t'CT': 'Hartford',\n",
        "\t'MA': 'Boston'\n",
        "}\n",
        "\n",
        "state_capitals['CA'] = 'Sacramento'\n",
        "\n",
        "print(state_capitals) # {'NY': 'Albany', 'NJ': 'Trenton', 'CT': 'Hartford', 'MA': 'Boston', 'CA': 'Sacramento'}"
      ],
      "execution_count": 0,
      "outputs": []
    },
    {
      "cell_type": "markdown",
      "metadata": {
        "id": "QRAr-yORi9Hi",
        "colab_type": "text"
      },
      "source": [
        "\n",
        "...but more likely you'll want to use the `.update(key, value)` method.\n"
      ]
    },
    {
      "cell_type": "code",
      "metadata": {
        "id": "sAypfqKri9Hj",
        "colab_type": "code",
        "colab": {}
      },
      "source": [
        "state_capitals = {\n",
        "\t'NY': 'Albany',\n",
        "\t'NJ': 'Trenton',\n",
        "\t'CT': 'Hartford',\n",
        "\t'MA': 'Boston'\n",
        "}\n",
        "\n",
        "state_capitals.update('CA': 'Sacramento')\n",
        "\n",
        "print(state_capitals) # {'NY': 'Albany', 'NJ': 'Trenton', 'CT': 'Hartford', 'MA': 'Boston', 'CA': 'Sacramento'}"
      ],
      "execution_count": 0,
      "outputs": []
    },
    {
      "cell_type": "markdown",
      "metadata": {
        "id": "u9QoSJrOi9Hm",
        "colab_type": "text"
      },
      "source": [
        "\n",
        "The `.update()` method also allows you to make bulk updates. In that case, you can simply pass it a variable containing another dict to add to the first one.\n"
      ]
    },
    {
      "cell_type": "code",
      "metadata": {
        "id": "LHeVCJCni9Hm",
        "colab_type": "code",
        "colab": {}
      },
      "source": [
        "state_capitals = {\n",
        "\t'NY': 'Albany',\n",
        "\t'NJ': 'Trenton',\n",
        "\t'CT': 'Hartford',\n",
        "\t'MA': 'Boston',\n",
        "\t'CA': 'Sacramento'\n",
        "}\n",
        "more_states = {\n",
        "\t'WA': 'Olympia',\n",
        "\t'OR': 'Salem',\n",
        "\t'TX': 'Austin',\n",
        "\t'NJ': 'Hoboken',\n",
        "\t'AZ': 'Phoenix',\n",
        "\t'GA': 'Atlanta'\n",
        "}\n",
        "\n",
        "state_capitals.update(more_states)\n",
        "\n",
        "state_capitals = {\n",
        "\t'NY': 'Albany',\n",
        "\t'NJ': 'Hoboken',\n",
        "\t'CT': 'Hartford',\n",
        "\t'MA': 'Boston',\n",
        "\t'CA': 'Sacramento',\n",
        "\t'WA': 'Olympia',\n",
        "\t'OR': 'Salem',\n",
        "\t'TX': 'Austin',\n",
        "\t'AZ': 'Phoenix',\n",
        "\t'GA': 'Atlanta'\n",
        "}"
      ],
      "execution_count": 0,
      "outputs": []
    },
    {
      "cell_type": "markdown",
      "metadata": {
        "id": "LEweW3wdi9Ho",
        "colab_type": "text"
      },
      "source": [
        "\n",
        "**Notice something?** It's easy to accidentally override items when you're merging datasets. *Oops, we just changed the capital of NJ to Hoboken!* Don't worry though - we'll learn an easy way to check for duplicate keys in the next section on loops.\n",
        "\n",
        "### Remove Items from a Dict\n",
        "\n",
        "#### `.clear()` simply empties the dict of all items.\n"
      ]
    },
    {
      "cell_type": "code",
      "metadata": {
        "id": "9zhd9wn1i9Hp",
        "colab_type": "code",
        "colab": {}
      },
      "source": [
        "state_capitals = {\n",
        "\t'NY': 'Albany',\n",
        "\t'NJ': 'Hoboken',\n",
        "\t'CT': 'Hartford',\n",
        "\t'MA': 'Boston',\n",
        "\t'CA': 'Sacramento',\n",
        "\t'WA': 'Olympia',\n",
        "\t'OR': 'Salem',\n",
        "\t'TX': 'Austin',\n",
        "\t'AZ': 'Phoenix',\n",
        "\t'GA': 'Atlanta'\n",
        "}\n",
        "\n",
        "state_capitals.clear()\n",
        "print(state_capitals) # {}"
      ],
      "execution_count": 0,
      "outputs": []
    },
    {
      "cell_type": "markdown",
      "metadata": {
        "id": "DXjTtE-5i9Hq",
        "colab_type": "text"
      },
      "source": [
        "\n",
        "#### `.pop(key, value)`:\n",
        "\n",
        "This removes an item, which you must specify by key. There are two things to note here -\n",
        "\n",
        "1. **First**, you *cannot delete a dict item by specifying a value*. Since values do not have to be unique the way keys are, trying to delete items by referencing values could cause issues.\n",
        "2. **Second**, just like we saw earlier with `.get(key, value)`, `.pop(key, value)` will raise a `KeyError` if you try to remove a key that does not exist in the dict. We avoid this in the same way, by setting a default value - typically `[]` - for the program to return in case of a missing key.\n",
        "\n",
        "Unfortunately, you *can't* use the same method as we did for `.update()` to delete larger portions of data. We'll learn a way to do that in the next section on loops as well.\n"
      ]
    },
    {
      "cell_type": "code",
      "metadata": {
        "id": "zKf_hjPsi9Hr",
        "colab_type": "code",
        "colab": {}
      },
      "source": [
        "state_capitals = {\n",
        "\t'NY': 'Albany',\n",
        "\t'NJ': 'Hoboken',\n",
        "\t'CT': 'Hartford',\n",
        "\t'MA': 'Boston',\n",
        "\t'CA': 'Sacramento',\n",
        "\t'WA': 'Olympia',\n",
        "\t'OR': 'Salem',\n",
        "\t'TX': 'Austin',\n",
        "\t'AZ': 'Phoenix',\n",
        "\t'GA': 'Atlanta'\n",
        "}\n",
        "\n",
        "state_capitals.pop('AZ', [])\n",
        "# removes 'AZ': 'Phoenix' from our dict"
      ],
      "execution_count": 0,
      "outputs": []
    },
    {
      "cell_type": "markdown",
      "metadata": {
        "id": "E2j3SC61i9Hs",
        "colab_type": "text"
      },
      "source": [
        "\n",
        "#### `popitem()`:\n",
        "This one just removes an arbitrary key value pair from dict and returns it as a tuple. For instance, you might do this if you're randomly sampling your data for QA purposes.\n"
      ]
    },
    {
      "cell_type": "code",
      "metadata": {
        "id": "0a_X7w2Gi9Ht",
        "colab_type": "code",
        "colab": {}
      },
      "source": [
        "state_capitals = {\n",
        "\t'NY': 'Albany',\n",
        "\t'NJ': 'Hoboken',\n",
        "\t'CT': 'Hartford',\n",
        "\t'MA': 'Boston',\n",
        "\t'CA': 'Sacramento',\n",
        "\t'WA': 'Olympia',\n",
        "\t'OR': 'Salem',\n",
        "\t'TX': 'Austin',\n",
        "\t'AZ': 'Phoenix',\n",
        "\t'GA': 'Atlanta'\n",
        "}\n",
        "\n",
        "seceded1 = state_capitals.popitem()\n",
        "# ^ removes a random item and returns it as a tuple\n",
        "print(seceded1) # ('GA': 'Atlanta') for example"
      ],
      "execution_count": 0,
      "outputs": []
    },
    {
      "cell_type": "markdown",
      "metadata": {
        "id": "iLUt4PaQi9Hv",
        "colab_type": "text"
      },
      "source": [
        "\n",
        "## Summary\n",
        "\n",
        "<img src=\"https://github.com/mottaquikarim/PYTH2/blob/master/assets/Dicts_Summary.png?raw=true\" width=\"100%\" align=\"left\"/>\n",
        "\n",
        "\n"
      ]
    }
  ]
}
