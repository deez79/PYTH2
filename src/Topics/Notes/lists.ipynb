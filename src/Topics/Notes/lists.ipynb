{
  "nbformat": 4,
  "nbformat_minor": 0,
  "metadata": {
    "colab": {
      "name": "PYTH826: notes_lists.ipynb",
      "version": "0.3.2",
      "provenance": [],
      "collapsed_sections": [
        "N3q0S1uXc2L1",
        "HY0mMKjonxq5",
        "kPMv1O46nfck",
        "6FiXgOsYc2Mi",
        "XxdtgjAMc2Mn",
        "11Cy3-jUc2NA",
        "qETewS8gc2NH",
        "rqZf8fB5c2NL",
        "O6QlqrGNc2NV",
        "hCXUo5MXc2Ng",
        "QmEatY2jc2No",
        "hyv9smdlnNoD",
        "3FOHyLKlc2Nq",
        "2B0dtc9Zc2Nv",
        "pJKDkGeyc2OK",
        "UyNxmHbCm0NS",
        "iCrdj_HzonOY",
        "YzIbGJW7m30o"
      ]
    },
    "kernelspec": {
      "name": "python3",
      "display_name": "Python 3"
    }
  },
  "cells": [
    {
      "cell_type": "markdown",
      "metadata": {
        "id": "ldjlWW7lc2Lv",
        "colab_type": "text"
      },
      "source": [
        "<a href=\"https://colab.research.google.com/drive/1p98eEo-UeQQX44MMngaRcHGg-2UGRMrv\" target=\"_parent\"><img src=\"https://colab.research.google.com/assets/colab-badge.svg\" alt=\"Open In Colab\"/></a>"
      ]
    },
    {
      "cell_type": "markdown",
      "metadata": {
        "colab_type": "text",
        "id": "9nolXIE5Y2ji"
      },
      "source": [
        "# Lists"
      ]
    },
    {
      "cell_type": "markdown",
      "metadata": {
        "id": "SvHLNCvFYic3",
        "colab_type": "text"
      },
      "source": [
        "In order to begin to truly write dynamic programs, we need to be able to work with *dynamic* data where we do not know how much of a certain type of variable we have.\n",
        "\n",
        "The problem, essentially is, *variables hold only one item*. \n",
        "**Lists** hold multiple items, called **elements**. List elements can represent any data type, and *a single list can hold any mix of different data types, including **other lists**.*\n"
      ]
    },
    {
      "cell_type": "code",
      "metadata": {
        "id": "Nt07Lwy1c2Ly",
        "colab_type": "code",
        "colab": {
          "base_uri": "https://localhost:8080/",
          "height": 52
        },
        "outputId": "c2388afe-8fb2-4fed-8e47-5e7f711f9f3c"
      },
      "source": [
        "my_color = 'blue'\n",
        "my_colors = ['blue', 'green', 'purple']\n",
        "\n",
        "print(my_colors)\n",
        "print(type(my_colors))"
      ],
      "execution_count": 5,
      "outputs": [
        {
          "output_type": "stream",
          "text": [
            "['blue', 'green', 'purple']\n",
            "<class 'list'>\n"
          ],
          "name": "stdout"
        }
      ]
    },
    {
      "cell_type": "markdown",
      "metadata": {
        "id": "N3q0S1uXc2L1",
        "colab_type": "text"
      },
      "source": [
        "## Creating lists\n"
      ]
    },
    {
      "cell_type": "markdown",
      "metadata": {
        "id": "JHz77IF8oRSA",
        "colab_type": "text"
      },
      "source": [
        "To declare a new list varaible, you have two options -- `[]` or `list()`. The `[]` syntax is a bit more straightforward, as seen below."
      ]
    },
    {
      "cell_type": "code",
      "metadata": {
        "id": "dPsAyE5jc2L3",
        "colab_type": "code",
        "outputId": "81e6b045-7468-4a0b-d7b1-873cf7f56af0",
        "colab": {
          "base_uri": "https://localhost:8080/",
          "height": 262
        }
      },
      "source": [
        "blank = []\n",
        "print(f'Blank: {blank}\\n')\n",
        "\n",
        "colors = ['red', 'yellow', 'green']\n",
        "print(f'HELLO: colors\\n')\n",
        "print(f'Strings: {colors}\\n')\n",
        "print(str(5) + 'e')\n",
        "\n",
        "grades = [100, 99.5, 65, 54.1, 19]\n",
        "print(f'Numbers: {grades}\\n')\n",
        "\n",
        "coin_flips = [True, False, True, True]\n",
        "print(f'Booleans: {coin_flips}\\n')\n",
        "\n",
        "nested_lists = [['circus', 'clown'], ['trapeze', 'artist']]\n",
        "print(f'Nested Lists: {nested_lists}\\n')\n",
        "\n",
        "mix = [True, ['seal', 'spider monkey'], 22, 'lion', [False, 13]]\n",
        "print(f'Mixed Data Types: {mix}\\n')"
      ],
      "execution_count": 6,
      "outputs": [
        {
          "output_type": "stream",
          "text": [
            "Blank: []\n",
            "\n",
            "Strings: colors\n",
            "\n",
            "Strings: ['red', 'yellow', 'green']\n",
            "\n",
            "Numbers: [100, 99.5, 65, 54.1, 19]\n",
            "\n",
            "Booleans: [True, False, True, True]\n",
            "\n",
            "Nested Lists: [['circus', 'clown'], ['trapeze', 'artist']]\n",
            "\n",
            "Mixed Data Types: [True, ['seal', 'spider monkey'], 22, 'lion', [False, 13]]\n",
            "\n"
          ],
          "name": "stdout"
        }
      ]
    },
    {
      "cell_type": "markdown",
      "metadata": {
        "id": "IpdLlLQ1c2L_",
        "colab_type": "text"
      },
      "source": [
        "\n",
        "If you choose to use the `list()` method, there are a couple things to remember. First, you can only add **one** parameter into `list()`. So if you want to add multiple items, you have to pass them to `list()` within the `[]` syntax anyway.\n"
      ]
    },
    {
      "cell_type": "code",
      "metadata": {
        "id": "ZT4nzpdCc2L_",
        "colab_type": "code",
        "outputId": "994c3d9c-e81a-4f8a-e005-2d6f35559a2b",
        "colab": {
          "base_uri": "https://localhost:8080/",
          "height": 87
        }
      },
      "source": [
        "blank = list() # blank list\n",
        "print(blank)\n",
        "\n",
        "colors = list(['red', 'yellow', 'green']) # strings\n",
        "print(colors)\n",
        "\n",
        "\n",
        "# etc...\n",
        "\n",
        "mix = list([True, ['seal', 'spider monkey'], 22, 'lion', [False, 13]])\n",
        "print(f'Mixed Data Types: {mix}\\n')"
      ],
      "execution_count": 0,
      "outputs": [
        {
          "output_type": "stream",
          "text": [
            "[]\n",
            "['red', 'yellow', 'green']\n",
            "Mixed Data Types: [True, ['seal', 'spider monkey'], 22, 'lion', [False, 13]]\n",
            "\n"
          ],
          "name": "stdout"
        }
      ]
    },
    {
      "cell_type": "markdown",
      "metadata": {
        "id": "E1ujDHaJc2MC",
        "colab_type": "text"
      },
      "source": [
        "\n",
        "Take a look at what happens if you don't pass your desired item or items using the `[]` for list syntax.\n"
      ]
    },
    {
      "cell_type": "code",
      "metadata": {
        "id": "QK2wuy6Nc2MC",
        "colab_type": "code",
        "outputId": "a75202dc-6b9f-45c8-c467-cfe10eae7b05",
        "colab": {
          "base_uri": "https://localhost:8080/",
          "height": 236
        }
      },
      "source": [
        "colors = list('red', 'yellow', 'green')\n",
        "print(colors)\n",
        "### TypeError: list() takes at most 1 argument (3 given)\n",
        "\n",
        "grades = list(100) # or any float e.g. 100.0\n",
        "print(grades)\n",
        "### TypeError: 'int' object is not iterable\n",
        "\n",
        "coin_flips = list(True) # booleans\n",
        "print(coin_flips)\n",
        "### TypeError: 'bool' object is not iterable"
      ],
      "execution_count": 0,
      "outputs": [
        {
          "output_type": "error",
          "ename": "TypeError",
          "evalue": "ignored",
          "traceback": [
            "\u001b[0;31m---------------------------------------------------------------------------\u001b[0m",
            "\u001b[0;31mTypeError\u001b[0m                                 Traceback (most recent call last)",
            "\u001b[0;32m<ipython-input-5-617c05d946aa>\u001b[0m in \u001b[0;36m<module>\u001b[0;34m()\u001b[0m\n\u001b[0;32m----> 1\u001b[0;31m \u001b[0mcolors\u001b[0m \u001b[0;34m=\u001b[0m \u001b[0mlist\u001b[0m\u001b[0;34m(\u001b[0m\u001b[0;34m'red'\u001b[0m\u001b[0;34m,\u001b[0m \u001b[0;34m'yellow'\u001b[0m\u001b[0;34m,\u001b[0m \u001b[0;34m'green'\u001b[0m\u001b[0;34m)\u001b[0m\u001b[0;34m\u001b[0m\u001b[0;34m\u001b[0m\u001b[0m\n\u001b[0m\u001b[1;32m      2\u001b[0m \u001b[0mprint\u001b[0m\u001b[0;34m(\u001b[0m\u001b[0mcolors\u001b[0m\u001b[0;34m)\u001b[0m\u001b[0;34m\u001b[0m\u001b[0;34m\u001b[0m\u001b[0m\n\u001b[1;32m      3\u001b[0m \u001b[0;31m### TypeError: list() takes at most 1 argument (3 given)\u001b[0m\u001b[0;34m\u001b[0m\u001b[0;34m\u001b[0m\u001b[0;34m\u001b[0m\u001b[0m\n\u001b[1;32m      4\u001b[0m \u001b[0;34m\u001b[0m\u001b[0m\n\u001b[1;32m      5\u001b[0m \u001b[0mgrades\u001b[0m \u001b[0;34m=\u001b[0m \u001b[0mlist\u001b[0m\u001b[0;34m(\u001b[0m\u001b[0;36m100\u001b[0m\u001b[0;34m)\u001b[0m \u001b[0;31m# or any float e.g. 100.0\u001b[0m\u001b[0;34m\u001b[0m\u001b[0;34m\u001b[0m\u001b[0m\n",
            "\u001b[0;31mTypeError\u001b[0m: list() takes at most 1 argument (3 given)"
          ]
        }
      ]
    },
    {
      "cell_type": "markdown",
      "metadata": {
        "id": "sqU4cK_ec2MF",
        "colab_type": "text"
      },
      "source": [
        "\n",
        "The one use case that does not throw an error is if you pass a single string value. Still, this doesn't have the intended output of adding a single names to a list of names!\n"
      ]
    },
    {
      "cell_type": "code",
      "metadata": {
        "id": "czf2rcrRc2MG",
        "colab_type": "code",
        "outputId": "0d0f5190-d964-44c6-de82-b8e0ef1f1a3e",
        "colab": {
          "base_uri": "https://localhost:8080/",
          "height": 35
        }
      },
      "source": [
        "names = list('Julianna')\n",
        "print(names)\n",
        "# ['J', 'u', 'l', 'i', 'a', 'n', 'n', 'a']"
      ],
      "execution_count": 0,
      "outputs": [
        {
          "output_type": "stream",
          "text": [
            "['J', 'u', 'l', 'i', 'a', 'n', 'n', 'a']\n"
          ],
          "name": "stdout"
        }
      ]
    },
    {
      "cell_type": "markdown",
      "metadata": {
        "id": "yPKvNAIrc2MJ",
        "colab_type": "text"
      },
      "source": [
        "\n",
        "And if you think it works for sentences by parsing a new list element at each space character...*nope!*\n"
      ]
    },
    {
      "cell_type": "code",
      "metadata": {
        "id": "1Shr7evWc2MK",
        "colab_type": "code",
        "outputId": "5b687d8c-e3ec-4db6-b75c-a81ff332c597",
        "colab": {
          "base_uri": "https://localhost:8080/",
          "height": 35
        }
      },
      "source": [
        "sentence = list('I like to sing!')\n",
        "print(sentence)\n",
        "# ['I', ' ', 'l', 'i', 'k', 'e', ' ', 't', 'o', ' ', 's', 'i', 'n', 'g', '!']"
      ],
      "execution_count": 0,
      "outputs": [
        {
          "output_type": "stream",
          "text": [
            "['I', ' ', 'l', 'i', 'k', 'e', ' ', 't', 'o', ' ', 's', 'i', 'n', 'g', '!']\n"
          ],
          "name": "stdout"
        }
      ]
    },
    {
      "cell_type": "markdown",
      "metadata": {
        "id": "HY0mMKjonxq5",
        "colab_type": "text"
      },
      "source": [
        "## Accessing Elements in the List"
      ]
    },
    {
      "cell_type": "markdown",
      "metadata": {
        "id": "_3iiPe_Tc2MN",
        "colab_type": "text"
      },
      "source": [
        "The **list index** means the location of something (an *element*) in the list.\n",
        "\n",
        "List indexes start counting at 0!\n",
        "\n",
        "|  List | \"Brandi\" | \"Zoe\" | \"Steve\" | \"Aleksander\" | \"Dasha\" |\n",
        "|:-----:|:--------:|:-----:|:-------:|:------:|:------:|\n",
        "| Index |     0    |   1   |    2    |    3   |    4   |\n",
        "\n"
      ]
    },
    {
      "cell_type": "code",
      "metadata": {
        "id": "cAT_rAnuc2MO",
        "colab_type": "code",
        "outputId": "0024ca2d-a189-4715-985a-3cb5c238cd20",
        "colab": {
          "base_uri": "https://localhost:8080/",
          "height": 69
        }
      },
      "source": [
        "\"\"\"list_name[index]\"\"\"\n",
        "\n",
        "my_class = ['Kwame', 'Tulio', 'Marcus', 'Rachel', 'Derek']\n",
        "print(my_class[0]) # Prints \"Brandi\"\n",
        "print(my_class[1]) # Prints \"Zoe\"\n",
        "print(my_class[4]) # Prints \"Dasha\""
      ],
      "execution_count": 0,
      "outputs": [
        {
          "output_type": "stream",
          "text": [
            "Brandi\n",
            "Zoe\n",
            "Dasha\n"
          ],
          "name": "stdout"
        }
      ]
    },
    {
      "cell_type": "markdown",
      "metadata": {
        "id": "veP9zpFVc2MS",
        "colab_type": "text"
      },
      "source": [
        "\n",
        "To select multiple items from a list, simply pass the range of indeces which hold the desired elements, e.g. `[2:7]`.\n",
        "\n",
        "**NOTE!** It's important to remember that the upper bound is NOT inclusive. If you want the elements and index 1 through at including index 4, you have to write `[2:5]`. See this in action below:\n"
      ]
    },
    {
      "cell_type": "code",
      "metadata": {
        "id": "8NgQup_gc2MT",
        "colab_type": "code",
        "outputId": "c9bcd0d0-1f6e-4fe9-d448-1fa3d76e4ef8",
        "colab": {
          "base_uri": "https://localhost:8080/",
          "height": 35
        }
      },
      "source": [
        "\"\"\"list_name[start_index:end_index_+1]\"\"\"\n",
        "\n",
        "my_class = ['Brandi', 'Zoe', 'Steve', 'Aleksander', 'Dasha']\n",
        "print(my_class[1:4])\n",
        "print(my_class[0:3]) # 'B', 'Z', 'S'\n",
        "print(my_class[:3]) # 'B', 'Z', 'S'\n",
        "print(my_class[1:])\n",
        "\n",
        "next_in_line = my_class[1:]"
      ],
      "execution_count": 0,
      "outputs": [
        {
          "output_type": "stream",
          "text": [
            "['Zoe', 'Steve', 'Aleksander']\n"
          ],
          "name": "stdout"
        }
      ]
    },
    {
      "cell_type": "markdown",
      "metadata": {
        "id": "xXSMZjV-c2MV",
        "colab_type": "text"
      },
      "source": [
        "\n",
        "Here are a few examples that illustrate what happens when you don't specify a bound:\n"
      ]
    },
    {
      "cell_type": "code",
      "metadata": {
        "id": "SCKU3MSMc2MW",
        "colab_type": "code",
        "outputId": "0884a3b1-378d-4635-9641-40c2407d90e4",
        "colab": {
          "base_uri": "https://localhost:8080/",
          "height": 87
        }
      },
      "source": [
        "my_class = ['Brandi', 'Zoe', 'Steve', 'Aleksander', 'Dasha']\n",
        "\n",
        "my_class = ['Brandi', 'Zoe', 'Steve', 'Aleksander', 'Dasha']\n",
        "\n",
        "print('[:2] -- ', my_class[:2]) # All indeces up to, but NOT including index 2\n",
        "\n",
        "print('[2:] -- ', my_class[2:]) # Index 2 through end of list\n",
        "\n",
        "print('[:] -- ', my_class[:]) # Prints WHOLE LIST\n",
        "\n",
        "print('[1:1] -- ', my_class[1:1]) # Prints NOTHING"
      ],
      "execution_count": 0,
      "outputs": [
        {
          "output_type": "stream",
          "text": [
            "[:2] --  ['Brandi', 'Zoe']\n",
            "[2:] --  ['Steve', 'Aleksander', 'Dasha']\n",
            "[:] --  ['Brandi', 'Zoe', 'Steve', 'Aleksander', 'Dasha']\n",
            "[1:1] --  []\n"
          ],
          "name": "stdout"
        }
      ]
    },
    {
      "cell_type": "markdown",
      "metadata": {
        "id": "yrMVDkLnc2MY",
        "colab_type": "text"
      },
      "source": [
        "\n",
        "If you have nested lists, you simply add another level of index selection, like so:\n"
      ]
    },
    {
      "cell_type": "code",
      "metadata": {
        "id": "LVy11I5kc2MZ",
        "colab_type": "code",
        "outputId": "475f0b82-c7c9-4596-ca46-94f0c6bd53c1",
        "colab": {
          "base_uri": "https://localhost:8080/",
          "height": 104
        }
      },
      "source": [
        "nested_lists = list([['circus', 'clown'], ['trapeze', 'artist']])\n",
        "print(nested_lists[0])\n",
        "print(nested_lists[0][0]) # circus\n",
        "\n",
        "print('\\n')\n",
        "print(nested_lists[1][0])"
      ],
      "execution_count": 0,
      "outputs": [
        {
          "output_type": "stream",
          "text": [
            "['circus', 'clown']\n",
            "circus\n",
            "\n",
            "\n",
            "trapeze\n"
          ],
          "name": "stdout"
        }
      ]
    },
    {
      "cell_type": "markdown",
      "metadata": {
        "id": "eQjFv54hc2Mg",
        "colab_type": "text"
      },
      "source": [
        "\n",
        "#### Practice together!\n"
      ]
    },
    {
      "cell_type": "code",
      "metadata": {
        "id": "Q5Kj6OeXc2Mg",
        "colab_type": "code",
        "outputId": "27d87360-6cc8-4e34-aff2-ebc29e3c2868",
        "colab": {
          "base_uri": "https://localhost:8080/",
          "height": 156
        }
      },
      "source": [
        "pets = ['dog', 'cat', 'guinea pig', 'ferret', 'bird', 'lizard']\n",
        "\n",
        "print(pets, '\\n')\n",
        "\n",
        "# Print index 1:\n",
        "\n",
        "print(pets[1])\n",
        "\n",
        "# Print ['guinea pig', 'ferret']:\n",
        "\n",
        "print(pets[2:4])\n",
        "\n",
        "# Print the 5th element:\n",
        "\n",
        "print(pets[4])\n",
        "\n",
        "# Print all elements up to and INCLUDING 'ferret':\n",
        "\n",
        "print(pets[:4])\n",
        "\n",
        "# Print 'dog':\n",
        "\n",
        "print(pets[0])\n",
        "\n",
        "# Print all elements from 'ferret' onwards:\n",
        "\n",
        "print(pets[3:])"
      ],
      "execution_count": 0,
      "outputs": [
        {
          "output_type": "stream",
          "text": [
            "['dog', 'cat', 'guinea pig', 'ferret', 'bird', 'lizard'] \n",
            "\n",
            "cat\n",
            "['guinea pig', 'ferret']\n",
            "bird\n",
            "['dog', 'cat', 'guinea pig', 'ferret']\n",
            "dog\n",
            "['ferret', 'bird', 'lizard']\n"
          ],
          "name": "stdout"
        }
      ]
    },
    {
      "cell_type": "markdown",
      "metadata": {
        "id": "kPMv1O46nfck",
        "colab_type": "text"
      },
      "source": [
        "## Built-In Operations for Manipulating Lists"
      ]
    },
    {
      "cell_type": "markdown",
      "metadata": {
        "id": "6FiXgOsYc2Mi",
        "colab_type": "text"
      },
      "source": [
        "#### Add Items to a List\n",
        "If you want to extend the content of a single list, you can use `.append()`, `.extend()` `.insert()` to add elements of any data type.\n",
        "\n",
        "#### `.append()` vs. `.extend()`\n",
        "These methods both add items to the end of the list. The difference here is that `.append()` will add whatever value or group of values you pass it *in one chunk*. In contrast, if you pass a group of values into `.extend()`, it will add each element of the group *individually*. Here are a few examples to show you the difference in outcomes.\n"
      ]
    },
    {
      "cell_type": "code",
      "metadata": {
        "id": "IKmstLruc2Mi",
        "colab_type": "code",
        "outputId": "5088f6d5-c348-455d-e533-80ec8e0af8ed",
        "colab": {
          "base_uri": "https://localhost:8080/",
          "height": 139
        }
      },
      "source": [
        "\"\"\" Passing direct argument \"\"\"\n",
        "# Append..\n",
        "x = ['a','b','c']\n",
        "print(f'BEFORE APPEND: {x}')\n",
        "x.append('d')\n",
        "print(f'AFTER APPEND: {x}')\n",
        "\n",
        "x.append(['e', 'f', 'g'])\n",
        "print(f'AFTER APPENDING A LIST... {x}')\n",
        "print('------------------')\n",
        "\n",
        "# extend\n",
        "y = ['a', 'b', 'c']\n",
        "print(f'BEFORE EXTEND: {y} \\s')\n",
        "y.extend(['d', 'e', 'f'])\n",
        "print(f'AFTER EXTEND: {y}')\n",
        "\n"
      ],
      "execution_count": 11,
      "outputs": [
        {
          "output_type": "stream",
          "text": [
            "BEFORE APPEND: ['a', 'b', 'c']\n",
            "AFTER APPEND: ['a', 'b', 'c', 'd']\n",
            "AFTER APPENDING A LIST... ['a', 'b', 'c', 'd', ['e', 'f', 'g']]\n",
            "------------------\n",
            "BEFORE EXTEND: ['a', 'b', 'c'] \n",
            "\n",
            "AFTER EXTEND: ['a', 'b', 'c', 'd', 'e', 'f']\n"
          ],
          "name": "stdout"
        }
      ]
    },
    {
      "cell_type": "markdown",
      "metadata": {
        "id": "z-Rdc2lJc2Mk",
        "colab_type": "text"
      },
      "source": [
        "\n",
        "Notice in this next example how `.extend()` only considers individual values of the parent list. It still adds the tuple and list - `('f', 'g')` and `['h', 'i']` - to our list `x` as their own items.\n"
      ]
    },
    {
      "cell_type": "code",
      "metadata": {
        "id": "retBy5NVc2Ml",
        "colab_type": "code",
        "outputId": "0009ab52-35c6-4c41-f374-858857139566",
        "colab": {
          "base_uri": "https://localhost:8080/",
          "height": 52
        }
      },
      "source": [
        "\"\"\" Passing argument within a var\"\"\"\n",
        "# Append..\n",
        "x = ['a', 'b', 'c', 'd']\n",
        "y = ['e', ('f', 'g'), ['h', 'i'], 'j']\n",
        "x.append(y)\n",
        "print(x)\n",
        "# ['a', 'b', 'c', 'd', ['e', ['f', 'g'], ['h', 'i'], 'j']]\n",
        "\n",
        "# ... vs. extend\n",
        "x = ['a', 'b', 'c', 'd']\n",
        "y = ['e', ('f', 'g'), ['h', 'i'], 'j']\n",
        "x.extend(y)\n",
        "print(x)\n",
        "# ['a', 'b', 'c', 'd', 'e', ('f', 'g'), ['h', 'i'], 'j']"
      ],
      "execution_count": 0,
      "outputs": [
        {
          "output_type": "stream",
          "text": [
            "['a', 'b', 'c', 'd', ['e', ('f', 'g'), ['h', 'i'], 'j']]\n",
            "['a', 'b', 'c', 'd', 'e', ('f', 'g'), ['h', 'i'], 'j']\n"
          ],
          "name": "stdout"
        }
      ]
    },
    {
      "cell_type": "markdown",
      "metadata": {
        "id": "XxdtgjAMc2Mn",
        "colab_type": "text"
      },
      "source": [
        "\n",
        "#### `.insert(index, value)`\n",
        "If you want to add an item to a specific point in your list, you can pass the desired index and value into `.insert()` as follows.\n"
      ]
    },
    {
      "cell_type": "code",
      "metadata": {
        "id": "7XyjDeWUc2Mn",
        "colab_type": "code",
        "outputId": "8f520f63-707a-462a-eaa3-2507edd652b7",
        "colab": {
          "base_uri": "https://localhost:8080/",
          "height": 35
        }
      },
      "source": [
        "\"\"\"your_list.insert(index, item)\"\"\"\n",
        "\n",
        "my_class = ['Brandi', 'Zoe', 'Steve', 'Aleksander', 'Dasha', 'Sonyl']\n",
        "my_class.insert(1, 'Sanju')\n",
        "\n",
        "print(my_class)\n",
        "# ['Brandi', 'Sanju', 'Zoe', 'Steve', 'Aleksander', 'Dasha', 'Sonyl']"
      ],
      "execution_count": 0,
      "outputs": [
        {
          "output_type": "stream",
          "text": [
            "['Brandi', 'Sanju', 'Zoe', 'Steve', 'Aleksander', 'Dasha', 'Sonyl']\n"
          ],
          "name": "stdout"
        }
      ]
    },
    {
      "cell_type": "markdown",
      "metadata": {
        "id": "RRoTdqVcc2Mr",
        "colab_type": "text"
      },
      "source": [
        "### Remove Items from a List\n",
        "Likewise, you can use `.pop()` or `.pop(index)` to remove any type of element from a list.\n",
        "\n",
        "#### `.pop()`\n",
        "- Removes an item from the end of the list.\n"
      ]
    },
    {
      "cell_type": "code",
      "metadata": {
        "id": "8xW9buXDc2Mu",
        "colab_type": "code",
        "outputId": "ecba9d83-3f3b-4721-d505-5c264dbd1d53",
        "colab": {
          "base_uri": "https://localhost:8080/",
          "height": 52
        }
      },
      "source": [
        "\"\"\"your_list.pop()\"\"\"\n",
        "\n",
        "my_class = ['Brandi', 'Zoe', 'Steve', 'Aleksander', 'Dasha', 'Sonyl']\n",
        "\n",
        "student_that_left = my_class.pop()\n",
        "\n",
        "print(\"The student\", student_that_left, \"has left the class.\")\n",
        "# Sonyl\n",
        "\n",
        "print(my_class)\n",
        "# ['Brandi', 'Zoe', 'Steve', 'Aleksander', 'Dasha']"
      ],
      "execution_count": 13,
      "outputs": [
        {
          "output_type": "stream",
          "text": [
            "The student Sonyl has left the class.\n",
            "['Brandi', 'Zoe', 'Steve', 'Aleksander', 'Dasha']\n"
          ],
          "name": "stdout"
        }
      ]
    },
    {
      "cell_type": "markdown",
      "metadata": {
        "id": "XUaXHf_Wc2My",
        "colab_type": "text"
      },
      "source": [
        "\n",
        "#### `.pop(index)`\n",
        "\n",
        "- Removes an item from the list.\n",
        "- Can take an index.\n"
      ]
    },
    {
      "cell_type": "code",
      "metadata": {
        "id": "vmD6Xnioc2Mz",
        "colab_type": "code",
        "outputId": "6bd21a2b-c36f-4a16-fd1c-d65705a6f4c5",
        "colab": {
          "base_uri": "https://localhost:8080/",
          "height": 52
        }
      },
      "source": [
        "\"\"\"your_list.pop(index)\"\"\"\n",
        "\n",
        "my_class = ['Brandi', 'Zoe', 'Steve', 'Aleksander', 'Dasha']\n",
        "\n",
        "student_that_left = my_class.pop(2) # Remember to count from 0!\n",
        "\n",
        "print('The student', student_that_left, 'has left the class.')\n",
        "# 'Steve'\n",
        "print(my_class)\n",
        "# => ['Brandi', 'Zoe', 'Aleksander', 'Dasha']"
      ],
      "execution_count": 0,
      "outputs": [
        {
          "output_type": "stream",
          "text": [
            "The student Steve has left the class.\n",
            "['Brandi', 'Zoe', 'Aleksander', 'Dasha']\n"
          ],
          "name": "stdout"
        }
      ]
    },
    {
      "cell_type": "markdown",
      "metadata": {
        "id": "McqYOyRoc2M2",
        "colab_type": "text"
      },
      "source": [
        "\n",
        "### Edit Items in a List\n",
        "\n",
        "#### Update/Replace Items\n",
        "\n",
        "To replace items in a list, you reference them by their index value and simply declare a new value for that element.\n"
      ]
    },
    {
      "cell_type": "code",
      "metadata": {
        "id": "bT5SMj47c2M3",
        "colab_type": "code",
        "outputId": "15d38102-4316-4407-d49b-f351db97cf5e",
        "colab": {
          "base_uri": "https://localhost:8080/",
          "height": 69
        }
      },
      "source": [
        "x = ['Brandi', 'Sanju', 'Zoe', 'Steve', 'Aleksander', 'Dasha', 'Sonyl']\n",
        "\n",
        "print(f'initially: {x}')\n",
        "x[1:3] = ['FOOBAR', 'FOOBAZ']\n",
        "print(f'now: {x}')\n",
        "\n",
        "x[4:] = ['Chloe', 'Phoebe']\n",
        "print(x)"
      ],
      "execution_count": 16,
      "outputs": [
        {
          "output_type": "stream",
          "text": [
            "initially: ['Brandi', 'Sanju', 'Zoe', 'Steve', 'Aleksander', 'Dasha', 'Sonyl']\n",
            "now: ['Brandi', 'FOOBAR', 'FOOBAZ', 'Steve', 'Aleksander', 'Dasha', 'Sonyl']\n",
            "['Brandi', 'FOOBAR', 'FOOBAZ', 'Steve', 'Chloe', 'Phoebe']\n"
          ],
          "name": "stdout"
        }
      ]
    },
    {
      "cell_type": "markdown",
      "metadata": {
        "id": "YH8n9i1fc2M4",
        "colab_type": "text"
      },
      "source": [
        "\n",
        "#### Join Items\n",
        "\n",
        "If you need to, you can compile your list items into a single string using `.join()`. You CANNOT do this with lists of numbers, booleans, or a list containing a mix of strings and other data types though.\n"
      ]
    },
    {
      "cell_type": "code",
      "metadata": {
        "id": "t3Wlpz2Cc2M5",
        "colab_type": "code",
        "outputId": "33eb6e3d-73cb-4650-81e4-1a86d2e11bea",
        "colab": {
          "base_uri": "https://localhost:8080/",
          "height": 52
        }
      },
      "source": [
        "letters = ['j', 'u', 'l', 'i', 'a', 'n', 'n', 'a']\n",
        "\n",
        "# list_name.function()\n",
        "# ''.join(list_name)\n",
        "\n",
        "name = ''.join(letters)\n",
        "\n",
        "print(name, type(name)) # 'julianna'\n",
        "\n",
        "words = ['this', 'is', 'fun']\n",
        "sentence = ' '.join(words)\n",
        "print(f'{sentence}.', type(sentence)) # 'this is fun.'"
      ],
      "execution_count": 21,
      "outputs": [
        {
          "output_type": "stream",
          "text": [
            "julianna <class 'str'>\n",
            "this is fun. <class 'str'>\n"
          ],
          "name": "stdout"
        }
      ]
    },
    {
      "cell_type": "markdown",
      "metadata": {
        "id": "P5rNSefyc2M8",
        "colab_type": "text"
      },
      "source": [
        "\n",
        "#### Split Items\n",
        "\n",
        "Conversely, you can separate a string using `.split('by_char')`, which will parse values out of a string and turn each value into a list item. This one doesn't work for single words you might want to split into individual characters. That said, you *can* specify what character should convey to the method when to split out a new item. By default, `.split('by_char')` will use a space character to split the string.\n"
      ]
    },
    {
      "cell_type": "code",
      "metadata": {
        "id": "Zloo6vojc2M-",
        "colab_type": "code",
        "outputId": "b705fe9b-19d3-4af5-9c1c-f756dce396e9",
        "colab": {
          "base_uri": "https://localhost:8080/",
          "height": 89
        }
      },
      "source": [
        "w = 'julianna'\n",
        "name = w.split('u')\n",
        "print(name)\n",
        "\n",
        "x = 'this is fun'\n",
        "sentence = x.split(' ') # note - using default split char at space\n",
        "\n",
        "print(sentence) # ['this', 'is', 'fun']\n",
        "\n",
        "y = 'Sandra$$$hi@email.com$$$646-212-1234$$$8 Cherry Lane$$$Splitsville$$$FL$$$58028'\n",
        "\n",
        "\n",
        "# y = 'Sandra, hi@email.com, 646-212-1234, 8 Cherry Lane, Splitsville, FL, 58028'\n",
        "data = y.split('$')\n",
        "\n",
        "print(data) # ['Sandra', 'hi@email.com', '646-212-1234', '8 Cherry Lane', 'Splitsville', 'FL', '58028']"
      ],
      "execution_count": 24,
      "outputs": [
        {
          "output_type": "stream",
          "text": [
            "['j', 'lianna']\n",
            "['this', 'is', 'fun']\n",
            "['Sandra', '', '', 'hi@email.com', '', '', '646-212-1234', '', '', '8 Cherry Lane', '', '', 'Splitsville', '', '', 'FL', '', '', '58028']\n"
          ],
          "name": "stdout"
        }
      ]
    },
    {
      "cell_type": "markdown",
      "metadata": {
        "id": "11Cy3-jUc2NA",
        "colab_type": "text"
      },
      "source": [
        "## Built-in Operators for Analyzing Lists"
      ]
    },
    {
      "cell_type": "markdown",
      "metadata": {
        "id": "LK9IsTSOoYcf",
        "colab_type": "text"
      },
      "source": [
        "Python has some built-in operations that allow you to analyze the content of a list. Some basic ones include:"
      ]
    },
    {
      "cell_type": "markdown",
      "metadata": {
        "id": "wEhg_Cchn9gE",
        "colab_type": "text"
      },
      "source": [
        "#### `len()`\n",
        "\n",
        "This counts the numbers of elements in the list, or its *length*, regardless of data type.\n"
      ]
    },
    {
      "cell_type": "code",
      "metadata": {
        "id": "vXQa3PLxc2NA",
        "colab_type": "code",
        "outputId": "6af2ccca-0ae0-455f-b133-c6d6065ab673",
        "colab": {
          "base_uri": "https://localhost:8080/",
          "height": 52
        }
      },
      "source": [
        "# length_variable = len(your_list)\n",
        "\n",
        "my_class = ['Brandi', 'Zoe', 'Aleksander', 'Dasha']\n",
        "\n",
        "num_students = len(my_class)\n",
        "\n",
        "print(f'There are {num_students} students in the class')\n",
        "# => 4\n",
        "\n",
        "str1 = 'taq'\n",
        "\n",
        "print(len(str1))"
      ],
      "execution_count": 0,
      "outputs": [
        {
          "output_type": "stream",
          "text": [
            "There are 4 students in the class\n",
            "3\n"
          ],
          "name": "stdout"
        }
      ]
    },
    {
      "cell_type": "markdown",
      "metadata": {
        "id": "EjKlhnNdc2NC",
        "colab_type": "text"
      },
      "source": [
        "\n",
        "Aside from merely finding the length, `len()` comes in handy during a number of other use cases. For example, you can use `len()` to dynamically select the last element of a list. If you find the list's length then subtract 1, you will have the index of the last list element. Watch this:\n"
      ]
    },
    {
      "cell_type": "code",
      "metadata": {
        "id": "ztpXbVctc2ND",
        "colab_type": "code",
        "outputId": "3e2a8ef7-6a5a-4c71-b210-164d521d7b52",
        "colab": {
          "base_uri": "https://localhost:8080/",
          "height": 35
        }
      },
      "source": [
        "my_class = ['Brandi', 'Zoe', 'Steve', 'Aleksander', 'Dasha']\n",
        "\n",
        "num_students = len(my_class)\n",
        "last_student_index = num_students - 1\n",
        "\n",
        "print(my_class[last_student_index]) # Dasha\n",
        "\n",
        "# You can do this all in one line if you want!\n",
        "# print(my_class[(len(my_class)-1)])"
      ],
      "execution_count": 0,
      "outputs": [
        {
          "output_type": "stream",
          "text": [
            "Dasha\n"
          ],
          "name": "stdout"
        }
      ]
    },
    {
      "cell_type": "markdown",
      "metadata": {
        "id": "nvUJRhaCc2NE",
        "colab_type": "text"
      },
      "source": [
        "\n",
        "Here it is with a nested list:\n"
      ]
    },
    {
      "cell_type": "code",
      "metadata": {
        "id": "cGAoRv8Oc2NF",
        "colab_type": "code",
        "outputId": "1a11ec39-7747-42e4-fe5f-14c026074192",
        "colab": {
          "base_uri": "https://localhost:8080/",
          "height": 69
        }
      },
      "source": [
        "nested_lists = [['circus', 'clown'], ['trapeze', 'artist']]\n",
        "\n",
        "last_index_nested_lists = len(nested_lists) - 1\n",
        "print(last_index_nested_lists)\n",
        "\n",
        "\n",
        "last_index_last_nested_list = len(nested_lists[last_index_nested_lists]) - 1\n",
        "print(last_index_last_nested_list)\n",
        "\n",
        "\n",
        "last_element_last_nested_list = nested_lists[last_index_nested_lists][last_index_last_nested_list]\n",
        "\n",
        "\n",
        "print(last_element_last_nested_list) # artist"
      ],
      "execution_count": 0,
      "outputs": [
        {
          "output_type": "stream",
          "text": [
            "1\n",
            "1\n",
            "artist\n"
          ],
          "name": "stdout"
        }
      ]
    },
    {
      "cell_type": "markdown",
      "metadata": {
        "id": "qETewS8gc2NH",
        "colab_type": "text"
      },
      "source": [
        "\n",
        "#### `sum()`\n",
        "\n",
        "This returns the sum of all items in *numerical lists*.\n"
      ]
    },
    {
      "cell_type": "code",
      "metadata": {
        "id": "PRt1QDV6c2NI",
        "colab_type": "code",
        "colab": {
          "base_uri": "https://localhost:8080/",
          "height": 52
        },
        "outputId": "866ec5be-510e-4004-fb48-d917c654dc6c"
      },
      "source": [
        "\"\"\"sum_variable = sum(your_numeric_list)\"\"\"\n",
        "\n",
        "team_batting_avgs = [.328, .299, .208, .301, .275, .226, .253, .232, .287]\n",
        "sum_avgs = sum(team_batting_avgs)\n",
        "print(f'The total of all the batting averages is {sum_avgs}.')\n",
        "\n",
        "grades = [96, 88, 82]\n",
        "avg = sum(grades)/len(grades)\n",
        "print(avg)"
      ],
      "execution_count": 25,
      "outputs": [
        {
          "output_type": "stream",
          "text": [
            "The total of all the batting averages is 2.4090000000000003.\n",
            "88.66666666666667\n"
          ],
          "name": "stdout"
        }
      ]
    },
    {
      "cell_type": "markdown",
      "metadata": {
        "id": "rqZf8fB5c2NL",
        "colab_type": "text"
      },
      "source": [
        "\n",
        "#### `min()` & `max()`\n",
        "\n",
        "Return the smallest or largest number *in a numerical list*.\n"
      ]
    },
    {
      "cell_type": "code",
      "metadata": {
        "id": "u37_Qq5Vc2NL",
        "colab_type": "code",
        "colab": {}
      },
      "source": [
        "\"\"\"\n",
        "max(your_numeric_list)\n",
        "min(your_numeric_list)\n",
        "\"\"\"\n",
        "\n",
        "team_batting_avgs = [.328, .299, .208, .301, .275, .226, .253, .232, .287]\n",
        "print(f'The highest batting average is {max(team_batting_avgs}')\n",
        "# ... 0.328\n",
        "print(f'The lowest batting average is {min(team_batting_avgs)}')\n",
        "# ... 0.208"
      ],
      "execution_count": 0,
      "outputs": []
    },
    {
      "cell_type": "markdown",
      "metadata": {
        "id": "O6QlqrGNc2NV",
        "colab_type": "text"
      },
      "source": [
        "\n",
        "#### `.index()`\n",
        "\n",
        "Given a list element's value, return its index.\n"
      ]
    },
    {
      "cell_type": "code",
      "metadata": {
        "id": "dfouQgPTc2NX",
        "colab_type": "code",
        "outputId": "c432c3ae-4078-4562-d566-7839ae266a8a",
        "colab": {
          "base_uri": "https://localhost:8080/",
          "height": 52
        }
      },
      "source": [
        "sentence = ['a', 'purple', 'pig', 'and', 'a', 'green', 'donkey', 'flew', 'a', 'kite', 'in', 'the', 'middle','of', 'the', 'night', 'and', 'ended', 'up', 'sunburnt']\n",
        "\n",
        "pig_index = sentence.index('pig')\n",
        "print(pig_index)\n",
        "\n",
        "names = ['taq', 'julianna', 'layla', 'taq']\n",
        "print(names.index('taq'))"
      ],
      "execution_count": 29,
      "outputs": [
        {
          "output_type": "stream",
          "text": [
            "2\n",
            "0\n"
          ],
          "name": "stdout"
        }
      ]
    },
    {
      "cell_type": "code",
      "metadata": {
        "id": "kOhhNcfBc2NZ",
        "colab_type": "code",
        "colab": {}
      },
      "source": [
        "\n",
        "If the element occurs multiple times in the list, `.index()` will only return the index of its *first* occurrence!\n"
      ],
      "execution_count": 0,
      "outputs": []
    },
    {
      "cell_type": "code",
      "metadata": {
        "id": "Hj6arXPBc2Nd",
        "colab_type": "code",
        "outputId": "55906906-23e3-4e10-ea7a-8f399bff2e3a",
        "colab": {
          "base_uri": "https://localhost:8080/",
          "height": 35
        }
      },
      "source": [
        "sentence = ['a', 'purple', 'pig', 'AND', 'a', 'green', 'donkey', 'flew', 'a', 'kite', 'in', 'the', 'middle','of', 'the', 'night', 'AND', 'ended', 'up', 'sunburnt']\n",
        "\n",
        "and_index = sentence.index('AND')\n",
        "print(and_index) # 3"
      ],
      "execution_count": 0,
      "outputs": [
        {
          "output_type": "stream",
          "text": [
            "3\n"
          ],
          "name": "stdout"
        }
      ]
    },
    {
      "cell_type": "markdown",
      "metadata": {
        "id": "hCXUo5MXc2Ng",
        "colab_type": "text"
      },
      "source": [
        "\n",
        "#### `.count()`\n",
        "\n",
        "This returns the number of occurrences of a *single, distinct element* within a list. That means for example, if you're searching a list of words (i.e. strings) for the occurrences of a single letter, only instances where that single letter appears as its own list item will be counted.\n"
      ]
    },
    {
      "cell_type": "code",
      "metadata": {
        "id": "nlVzIW33c2Nh",
        "colab_type": "code",
        "outputId": "95d397ed-be21-4267-e4c7-a65811c5c3ef",
        "colab": {
          "base_uri": "https://localhost:8080/",
          "height": 87
        }
      },
      "source": [
        "nums = [84, 8, 18, 8, 28, 6, 10, 8, 78, 9]\n",
        "print(nums.count(8)) # 3\n",
        "\n",
        "\n",
        "sentence = ['a', 'purple', 'pig', 'and', 'a', 'green', 'donkey', 'flew', 'a', 'kite', 'in', 'the', 'middle','of', 'the', 'night', 'and', 'ended', 'up', 'sunburnt']\n",
        "print(sentence.count('a')) # 3\n",
        "\n",
        "print(sentence.count('e'))\n",
        "\n",
        "names = ['taq', 'julianna', 'layla', 'taq']\n",
        "print(names.count('julianna'))"
      ],
      "execution_count": 31,
      "outputs": [
        {
          "output_type": "stream",
          "text": [
            "3\n",
            "3\n",
            "0\n",
            "1\n"
          ],
          "name": "stdout"
        }
      ]
    },
    {
      "cell_type": "markdown",
      "metadata": {
        "id": "R15aoYnDc2Nk",
        "colab_type": "text"
      },
      "source": [
        "\n",
        "If you want to count the occurrences of a single character within a larger value, you can still use `.count()`...\n"
      ]
    },
    {
      "cell_type": "code",
      "metadata": {
        "id": "-OCc150cc2Nk",
        "colab_type": "code",
        "outputId": "510661f6-df84-462f-ddfc-df907daeab4e",
        "colab": {
          "base_uri": "https://localhost:8080/",
          "height": 34
        }
      },
      "source": [
        "word = 'sunburnt'\n",
        "print(word.count('n')) # 2"
      ],
      "execution_count": 32,
      "outputs": [
        {
          "output_type": "stream",
          "text": [
            "2\n"
          ],
          "name": "stdout"
        }
      ]
    },
    {
      "cell_type": "markdown",
      "metadata": {
        "id": "86V5N4Fpc2Nm",
        "colab_type": "text"
      },
      "source": [
        "\n",
        "*...BUT only on **strings**.* Notice how `.count()` throws an error if you try to count the number of times the digit \"2\" appears in the number below. And remember, you CANNOT use the `.split()` method as a workaround because `.split()` only works on strings!\n"
      ]
    },
    {
      "cell_type": "code",
      "metadata": {
        "id": "myan6knKc2Nm",
        "colab_type": "code",
        "outputId": "973e2eb3-bd50-4aed-eefa-4558858482be",
        "colab": {
          "base_uri": "https://localhost:8080/",
          "height": 184
        }
      },
      "source": [
        "num = 22384232348\n",
        "print(num.count(2)"
      ],
      "execution_count": 0,
      "outputs": [
        {
          "output_type": "error",
          "ename": "AttributeError",
          "evalue": "ignored",
          "traceback": [
            "\u001b[0;31m---------------------------------------------------------------------------\u001b[0m",
            "\u001b[0;31mAttributeError\u001b[0m                            Traceback (most recent call last)",
            "\u001b[0;32m<ipython-input-43-05a351feb732>\u001b[0m in \u001b[0;36m<module>\u001b[0;34m()\u001b[0m\n\u001b[1;32m      1\u001b[0m \u001b[0mnum\u001b[0m \u001b[0;34m=\u001b[0m \u001b[0;36m22384232348\u001b[0m\u001b[0;34m\u001b[0m\u001b[0;34m\u001b[0m\u001b[0m\n\u001b[0;32m----> 2\u001b[0;31m \u001b[0mprint\u001b[0m\u001b[0;34m(\u001b[0m\u001b[0mnum\u001b[0m\u001b[0;34m.\u001b[0m\u001b[0mcount\u001b[0m\u001b[0;34m(\u001b[0m\u001b[0;36m2\u001b[0m\u001b[0;34m)\u001b[0m\u001b[0;34m)\u001b[0m\u001b[0;34m\u001b[0m\u001b[0;34m\u001b[0m\u001b[0m\n\u001b[0m",
            "\u001b[0;31mAttributeError\u001b[0m: 'int' object has no attribute 'count'"
          ]
        }
      ]
    },
    {
      "cell_type": "markdown",
      "metadata": {
        "id": "QmEatY2jc2No",
        "colab_type": "text"
      },
      "source": [
        "\n",
        "#### Practice Together!\n",
        "\n",
        "Now, take a look at how these list operations work together in this contextual example. Let's say we're conducting a probability experiment with coin tosses. We conduct some number of trials (i.e. the coin tosses) and record the outcomes. Based on the sample below, here's one way to find the probabilities of a \"Heads\" or \"Tails\" outcome.\n"
      ]
    },
    {
      "cell_type": "code",
      "metadata": {
        "id": "3CNezBYCc2No",
        "colab_type": "code",
        "outputId": "66905c2a-56ee-48ba-e476-62ef563311d9",
        "colab": {
          "base_uri": "https://localhost:8080/",
          "height": 69
        }
      },
      "source": [
        "coin_toss = [True, False, False, False, True, False, True, True, False, False, True, True, False, True]\n",
        "\n",
        "num_tosses = len(coin_toss)\n",
        "\n",
        "heads = coin_toss.count(True)\n",
        "tails = coin_toss.count(False)\n",
        "print(f'# Heads: {heads} vs. # Tails: {tails}\\n')\n",
        "\n",
        "P_heads = heads / num_tosses\n",
        "P_tails = tails / num_tosses\n",
        "\n",
        "print(f'P(Heads) = {P_heads} vs. P(Tails) = {P_tails}')"
      ],
      "execution_count": 0,
      "outputs": [
        {
          "output_type": "stream",
          "text": [
            "# Heads: 7 vs. # Tails: 7\n",
            "\n",
            "P(Heads) = 0.5 vs. P(Tails) = 0.5\n"
          ],
          "name": "stdout"
        }
      ]
    },
    {
      "cell_type": "markdown",
      "metadata": {
        "id": "hyv9smdlnNoD",
        "colab_type": "text"
      },
      "source": [
        "## Sorting Lists"
      ]
    },
    {
      "cell_type": "markdown",
      "metadata": {
        "id": "3FOHyLKlc2Nq",
        "colab_type": "text"
      },
      "source": [
        "If you want to organize your lists better, you can sort them with the `.sort()` or `sorted()` functions. You can sort:\n",
        "\n",
        "* Numbers: ascending and descending order\n",
        "* Strings: alphabetically and reverse alphabetically\n",
        "* You **cannot** sort a list that includes different data types. \n",
        "\n",
        "It's important to remember that the `.sort()` function modifies the list *in place*, while the `sorted()` function requires you to assign its result back to the variable.\n",
        "\n",
        "#### `.sort()`\n",
        "\n",
        "The first two examples below illustrate how to sort lists in ascending order/alphabetically using `.sort()`.\n"
      ]
    },
    {
      "cell_type": "code",
      "metadata": {
        "id": "0th0fCD5c2Nq",
        "colab_type": "code",
        "outputId": "9c235eb7-b805-4083-8c10-27f7301d7fd1",
        "colab": {
          "base_uri": "https://localhost:8080/",
          "height": 52
        }
      },
      "source": [
        "numbers = [1, 3, 7, 5, 2, 4, 6]\n",
        "numbers.sort()\n",
        "print(numbers) # [1, 2, 3, 4, 5, 6, 7]\n",
        "\n",
        "\n",
        "letters = ['b', 'e', 'c', 'a', 'd']\n",
        "letters.sort()\n",
        "print(letters) # ['a', 'b', 'c', 'd', 'e']"
      ],
      "execution_count": 0,
      "outputs": [
        {
          "output_type": "stream",
          "text": [
            "[1, 2, 3, 4, 5, 6, 7]\n",
            "['a', 'b', 'c', 'd', 'e']\n"
          ],
          "name": "stdout"
        }
      ]
    },
    {
      "cell_type": "markdown",
      "metadata": {
        "id": "4ElsV_nuc2Nt",
        "colab_type": "text"
      },
      "source": [
        "\n",
        "To do this in descending order, simply add `reverse=True` as an argument in `.sort()` like this:\n"
      ]
    },
    {
      "cell_type": "code",
      "metadata": {
        "id": "LhwrcYv1c2Nt",
        "colab_type": "code",
        "outputId": "b27c8fae-ace5-4daf-f2c5-4a4c34767cdb",
        "colab": {
          "base_uri": "https://localhost:8080/",
          "height": 52
        }
      },
      "source": [
        "numbers = [1, 3, 7, 5, 2, 4, 6]\n",
        "numbers.sort(reverse = True)\n",
        "print(numbers) # [7, 6, 5, 4, 3, 2, 1]\n",
        "\n",
        "letters = ['b', 'e', 'c', 'a', 'd']\n",
        "letters.sort(reverse = True)\n",
        "print(letters) # ['e', 'd', 'c', 'b', 'a']"
      ],
      "execution_count": 0,
      "outputs": [
        {
          "output_type": "stream",
          "text": [
            "[7, 6, 5, 4, 3, 2, 1]\n",
            "['e', 'd', 'c', 'b', 'a']\n"
          ],
          "name": "stdout"
        }
      ]
    },
    {
      "cell_type": "markdown",
      "metadata": {
        "id": "2B0dtc9Zc2Nv",
        "colab_type": "text"
      },
      "source": [
        "\n",
        "#### `sorted()`\n",
        "\n",
        "The first two examples below illustrate how to sort lists in **ascending order**/alphabetically using `sorted()`.\n"
      ]
    },
    {
      "cell_type": "code",
      "metadata": {
        "id": "-Q0Ys670c2Nz",
        "colab_type": "code",
        "outputId": "5870f90f-9463-4005-8d5c-e2442d6fe0cb",
        "colab": {
          "base_uri": "https://localhost:8080/",
          "height": 52
        }
      },
      "source": [
        "numbers = [1, 3, 7, 5, 2, 4, 6]\n",
        "ascending = sorted(numbers)\n",
        "print(ascending) # [1, 2, 3, 4, 5, 6, 7]\n",
        "\n",
        "\n",
        "letters = ['b', 'e', 'c', 'a', 'd']\n",
        "ascending = sorted(letters)\n",
        "print(ascending) # ['a', 'b', 'c', 'd', 'e']"
      ],
      "execution_count": 0,
      "outputs": [
        {
          "output_type": "stream",
          "text": [
            "[1, 2, 3, 4, 5, 6, 7]\n",
            "['a', 'b', 'c', 'd', 'e']\n"
          ],
          "name": "stdout"
        }
      ]
    },
    {
      "cell_type": "markdown",
      "metadata": {
        "id": "h4S8uWR8c2N2",
        "colab_type": "text"
      },
      "source": [
        "\n",
        "To do this in **descending order**, simply add `reverse=True` as an argument in `.sorted()` like this:\n"
      ]
    },
    {
      "cell_type": "code",
      "metadata": {
        "id": "EE-d8lqIc2N3",
        "colab_type": "code",
        "outputId": "2a307580-921a-4c88-b403-00f3121d7374",
        "colab": {
          "base_uri": "https://localhost:8080/",
          "height": 52
        }
      },
      "source": [
        "numbers = [1, 3, 7, 5, 2, 4, 6]\n",
        "descending = sorted(numbers, reverse=True)\n",
        "print(descending) # [7, 6, 5, 4, 3, 2, 1]\n",
        "\n",
        "\n",
        "letters = ['b', 'e', 'c', 'a', 'd']\n",
        "descending = sorted(letters, reverse=True)\n",
        "print(descending) # ['e', 'd', 'c', 'b', 'a']"
      ],
      "execution_count": 0,
      "outputs": [
        {
          "output_type": "stream",
          "text": [
            "[7, 6, 5, 4, 3, 2, 1]\n",
            "['e', 'd', 'c', 'b', 'a']\n"
          ],
          "name": "stdout"
        }
      ]
    },
    {
      "cell_type": "markdown",
      "metadata": {
        "id": "M4OSa1wIc2N7",
        "colab_type": "text"
      },
      "source": [
        "## Tuples"
      ]
    },
    {
      "cell_type": "markdown",
      "metadata": {
        "id": "B1eDPYChoEGY",
        "colab_type": "text"
      },
      "source": [
        "Tuples are a special subset of lists - they are *immutable* - in that they cannot be changed after creation. Tuples are denoted with `()` as opposed to `[]`.\n",
        "\n",
        "You can declare sets in two ways:"
      ]
    },
    {
      "cell_type": "code",
      "metadata": {
        "id": "wspi2A8tc2N8",
        "colab_type": "code",
        "outputId": "e362fda8-fd2a-435f-de6f-32d4bfba738f",
        "colab": {
          "base_uri": "https://localhost:8080/",
          "height": 104
        }
      },
      "source": [
        "names = ['a', 'b', 'c']\n",
        "names[1] = 'd'\n",
        "\n",
        "print(names)\n",
        "print(type(names))\n",
        "\n",
        "names2 = ('a', 'b', 'c')\n",
        "print(names2[:2])\n",
        "print(names2)\n",
        "print(type(names2))\n"
      ],
      "execution_count": 38,
      "outputs": [
        {
          "output_type": "stream",
          "text": [
            "['a', 'd', 'c']\n",
            "<class 'list'>\n",
            "('a', 'b')\n",
            "('a', 'b', 'c')\n",
            "<class 'tuple'>\n"
          ],
          "name": "stdout"
        }
      ]
    },
    {
      "cell_type": "markdown",
      "metadata": {
        "id": "ka8OH1TEc2OC",
        "colab_type": "text"
      },
      "source": [
        "\n",
        "We read tuples just like we would read a list:\n"
      ]
    },
    {
      "cell_type": "code",
      "metadata": {
        "id": "6ErbxFZzc2OD",
        "colab_type": "code",
        "outputId": "19e999de-a6c8-42d3-89ec-21387578976f",
        "colab": {
          "base_uri": "https://localhost:8080/",
          "height": 69
        }
      },
      "source": [
        "dna = ('A', 'T'), ('G', 'C')\n",
        "print(dna) # (('A', 'T'), ('G', 'C'))\n",
        "\n",
        "\n",
        "print(dna[0]) # ('A', 'T')\n",
        "print(dna[1][0]) # G"
      ],
      "execution_count": 0,
      "outputs": [
        {
          "output_type": "stream",
          "text": [
            "(('A', 'T'), ('G', 'C'))\n",
            "('A', 'T')\n",
            "G\n"
          ],
          "name": "stdout"
        }
      ]
    },
    {
      "cell_type": "markdown",
      "metadata": {
        "id": "8ohGOUdfc2OF",
        "colab_type": "text"
      },
      "source": [
        "\n",
        "You can do SOME of the same operations on tuples despite their immutability. For example:\n"
      ]
    },
    {
      "cell_type": "code",
      "metadata": {
        "id": "2rw81Irxc2OG",
        "colab_type": "code",
        "outputId": "a04db637-9633-40b1-a41f-0798d575a122",
        "colab": {
          "base_uri": "https://localhost:8080/",
          "height": 156
        }
      },
      "source": [
        "tuple1 = (1, 3, 7, 5, 2, 4, 6)\n",
        "\n",
        "len_tuple1 = len(tuple1) # 7\n",
        "sum_tuple1 = sum(tuple1) # 28\n",
        "min_tuple1 = min(tuple1) # 1\n",
        "max_tuple1 = max(tuple1) # 7\n",
        "\n",
        "count_val4 = tuple1.count(4) # 1\n",
        "index_val2 = tuple1.index(2) # 4\n",
        "\n",
        "print(f'''\n",
        "Length: {len_tuple1}\n",
        "Sum: {sum_tuple1}\n",
        "Min: {min_tuple1}\n",
        "Max: {max_tuple1}\n",
        "Occurrences of \"4\": {count_val4}\n",
        "Index of \"2\": {index_val2}\n",
        "''')"
      ],
      "execution_count": 0,
      "outputs": [
        {
          "output_type": "stream",
          "text": [
            "\n",
            "Length: 7\n",
            "Sum: 28\n",
            "Min: 1\n",
            "Max: 7\n",
            "Occurrences of \"4\": 1\n",
            "Index of \"2\": 4\n",
            "\n"
          ],
          "name": "stdout"
        }
      ]
    },
    {
      "cell_type": "markdown",
      "metadata": {
        "id": "M9daMlipc2OI",
        "colab_type": "text"
      },
      "source": [
        "\n",
        "You *can sort, join, or split* a tuple the same as a list, **BUT** because you can't edit a tuple:\n",
        "* You can't use `.sort()` because that edits the object in place\n",
        "* Each of these will return a *new list object*\n"
      ]
    },
    {
      "cell_type": "code",
      "metadata": {
        "id": "dI9dUeN6c2OI",
        "colab_type": "code",
        "outputId": "f670c081-7101-4736-afd4-1064fdbaa39c",
        "colab": {
          "base_uri": "https://localhost:8080/",
          "height": 87
        }
      },
      "source": [
        "tuple2 = ('b', 'e', 'c', 'a', 'd')\n",
        "\n",
        "sort_asc = sorted(tuple2)\n",
        "# print(sort_asc, type(sort_asc)) # ['a', 'b', 'c', 'd', 'e'] <class 'list'>\n",
        "\n",
        "sort_desc = tuple(sorted(tuple2, reverse = True))\n",
        "print(sort_desc, type(sort_desc)) # ['e', 'd', 'c', 'b', 'a'] <class 'list'>\n",
        "\n",
        "\n",
        "print('\\n')\n",
        "\n",
        "joined = ', '.join(tuple2) # Joined: b, e, c, a, d <class 'str'>\n",
        "# print('Joined:', joined, type(joined))\n",
        "\n",
        "split_up = joined.split(',') # Split: ['b', ' e', ' c', ' a', ' d'] <class 'list'>\n",
        "# print('Split:', split_up, type(split_up))\n",
        "\n",
        "split_up = tuple(split_up)\n",
        "# print(split_up)\n",
        "\n",
        "\n",
        "tuple2 = tuple(sorted(tuple2, reverse = True))\n",
        "print(tuple2)"
      ],
      "execution_count": 0,
      "outputs": [
        {
          "output_type": "stream",
          "text": [
            "('e', 'd', 'c', 'b', 'a') <class 'tuple'>\n",
            "\n",
            "\n",
            "('e', 'd', 'c', 'b', 'a')\n"
          ],
          "name": "stdout"
        }
      ]
    },
    {
      "cell_type": "code",
      "metadata": {
        "id": "qYrBsRIs65cm",
        "colab_type": "code",
        "outputId": "ddedcbf1-16ab-4957-e0e3-7b5335f352aa",
        "colab": {
          "base_uri": "https://localhost:8080/",
          "height": 201
        }
      },
      "source": [
        "tuple2 = ('b', 'e', 'c', 'a', 'd')\n",
        "\n",
        "print(tuple2.append('f'))"
      ],
      "execution_count": 0,
      "outputs": [
        {
          "output_type": "error",
          "ename": "AttributeError",
          "evalue": "ignored",
          "traceback": [
            "\u001b[0;31m---------------------------------------------------------------------------\u001b[0m",
            "\u001b[0;31mAttributeError\u001b[0m                            Traceback (most recent call last)",
            "\u001b[0;32m<ipython-input-11-6daa194caed7>\u001b[0m in \u001b[0;36m<module>\u001b[0;34m()\u001b[0m\n\u001b[1;32m      1\u001b[0m \u001b[0mtuple2\u001b[0m \u001b[0;34m=\u001b[0m \u001b[0;34m(\u001b[0m\u001b[0;34m'b'\u001b[0m\u001b[0;34m,\u001b[0m \u001b[0;34m'e'\u001b[0m\u001b[0;34m,\u001b[0m \u001b[0;34m'c'\u001b[0m\u001b[0;34m,\u001b[0m \u001b[0;34m'a'\u001b[0m\u001b[0;34m,\u001b[0m \u001b[0;34m'd'\u001b[0m\u001b[0;34m)\u001b[0m\u001b[0;34m\u001b[0m\u001b[0;34m\u001b[0m\u001b[0m\n\u001b[1;32m      2\u001b[0m \u001b[0;34m\u001b[0m\u001b[0m\n\u001b[0;32m----> 3\u001b[0;31m \u001b[0mprint\u001b[0m\u001b[0;34m(\u001b[0m\u001b[0mtuple2\u001b[0m\u001b[0;34m.\u001b[0m\u001b[0mappend\u001b[0m\u001b[0;34m(\u001b[0m\u001b[0;34m'f'\u001b[0m\u001b[0;34m)\u001b[0m\u001b[0;34m)\u001b[0m\u001b[0;34m\u001b[0m\u001b[0;34m\u001b[0m\u001b[0m\n\u001b[0m",
            "\u001b[0;31mAttributeError\u001b[0m: 'tuple' object has no attribute 'append'"
          ]
        }
      ]
    },
    {
      "cell_type": "markdown",
      "metadata": {
        "id": "pJKDkGeyc2OK",
        "colab_type": "text"
      },
      "source": [
        "## Sets\n"
      ]
    },
    {
      "cell_type": "markdown",
      "metadata": {
        "id": "XbjKqIoroH9x",
        "colab_type": "text"
      },
      "source": [
        "Sets are special lists in that they can only have **unique** elements. They are denoted with `{}`."
      ]
    },
    {
      "cell_type": "code",
      "metadata": {
        "id": "Y-SDFlt1c2OK",
        "colab_type": "code",
        "outputId": "33299a0a-40bd-4cf8-d760-016d469b32e7",
        "colab": {
          "base_uri": "https://localhost:8080/",
          "height": 52
        }
      },
      "source": [
        "set1 = {1, 2, 3, 4, 5} # this is a set, notice the {}\n",
        "set2 = {1, 1, 1, 2, 2, 3, 4, 5, 5, 5, 1} # this is still a set\n",
        "print(set2) # {1,2,3,4,5}\n",
        "\n",
        "print(set1 == set2) # True"
      ],
      "execution_count": 0,
      "outputs": [
        {
          "output_type": "stream",
          "text": [
            "{1, 2, 3, 4, 5}\n",
            "True\n"
          ],
          "name": "stdout"
        }
      ]
    },
    {
      "cell_type": "markdown",
      "metadata": {
        "id": "cg2uUJaSjmi6",
        "colab_type": "text"
      },
      "source": [
        "The order of a set also doesn't matter, meaning these two sets are the same:"
      ]
    },
    {
      "cell_type": "code",
      "metadata": {
        "id": "jT8Xy5pvjskX",
        "colab_type": "code",
        "outputId": "8483f8af-3777-4438-993e-ce751d756a7b",
        "colab": {
          "base_uri": "https://localhost:8080/",
          "height": 52
        }
      },
      "source": [
        "set1 = {1, 2, 3, 4, 5}\n",
        "set3 = {5, 3, 2, 1, 4}\n",
        "\n",
        "print(set1, set3)\n",
        "\n",
        "print(set1 == set3)"
      ],
      "execution_count": 0,
      "outputs": [
        {
          "output_type": "stream",
          "text": [
            "{1, 2, 3, 4, 5} {1, 2, 3, 4, 5}\n",
            "True\n"
          ],
          "name": "stdout"
        }
      ]
    },
    {
      "cell_type": "markdown",
      "metadata": {
        "id": "h-wsnwGxc2OM",
        "colab_type": "text"
      },
      "source": [
        "\n",
        "Because order doesn't matter in sets, it makes sense that theyre not indexed. That means you can't access, say, the 3rd element in a set. Instead, you can use *boolean membership operators* to check for a value's existence in the set. Remember those?\n"
      ]
    },
    {
      "cell_type": "code",
      "metadata": {
        "id": "7-CD2hOCc2OM",
        "colab_type": "code",
        "colab": {}
      },
      "source": [
        "set_1 = {1,2,3,4,5}\n",
        "\n",
        "print(2 in set_1) # True\n",
        "print(8 in set_1) # False\n",
        "\n",
        "print(2 and 8 in set_1) # False\n",
        "print(2 and 3 in set_1) # True"
      ],
      "execution_count": 0,
      "outputs": []
    },
    {
      "cell_type": "markdown",
      "metadata": {
        "id": "oaNuKIeac2OQ",
        "colab_type": "text"
      },
      "source": [
        "\n",
        "That said, you can still perform mathmetical operations on sets. These are the same examples we used for tuples, and they have the same results. Notice how you can't find the index of an element for the reasons we just discussed!\n"
      ]
    },
    {
      "cell_type": "code",
      "metadata": {
        "id": "bNWRgo-Uc2OQ",
        "colab_type": "code",
        "colab": {}
      },
      "source": [
        "set1 = (1, 3, 7, 5, 2, 4, 6)\n",
        "\n",
        "len_set1 = len(set1) # 7\n",
        "sum_set1 = sum(set1) # 28\n",
        "min_set1 = min(set1) # 1\n",
        "max_set1 = max(set1) # 7\n",
        "\n",
        "count_val4 = set1.count(4) # 1\n",
        "\n",
        "print(f'''\n",
        "Length: {len_set1}\n",
        "Sum: {sum_set1}\n",
        "Min: {min_set1}\n",
        "Max: {max_set1}\n",
        "Occurrences of \"4\": {count_val4}\n",
        "''')"
      ],
      "execution_count": 0,
      "outputs": []
    },
    {
      "cell_type": "markdown",
      "metadata": {
        "id": "1iz2rVIVc2OS",
        "colab_type": "text"
      },
      "source": [
        "\n",
        "You *can also sort, join, or split* a set, **BUT** you have the same limitations as you do with a tuple:\n",
        "* You can't use `.sort()` because that edits the object in place\n",
        "* Each of these will return a *new list object*\n"
      ]
    },
    {
      "cell_type": "code",
      "metadata": {
        "id": "Ay2O-x2Jc2OS",
        "colab_type": "code",
        "outputId": "735f3862-d087-436c-8f29-aa827be20e52",
        "colab": {
          "base_uri": "https://localhost:8080/",
          "height": 121
        }
      },
      "source": [
        "set2 = {'b', 'e', 'c', 'a', 'd'}\n",
        "\n",
        "sort_asc = sorted(set2)\n",
        "print(sort_asc, type(sort_asc)) # ['a', 'b', 'c', 'd', 'e'] <class 'list'>\n",
        "\n",
        "sort_desc = sorted(set2, reverse = True)\n",
        "print(sort_desc, type(sort_desc)) # ['e', 'd', 'c', 'b', 'a'] <class 'list'>\n",
        "\n",
        "print('\\n')\n",
        "\n",
        "joined = ', '.join(set2) # Joined: b, e, c, a, d <class 'str'>\n",
        "print('Joined:', joined, type(joined))\n",
        "\n",
        "split_up = joined.split(',') # Split: ['b', ' e', ' c', ' a', ' d'] <class 'list'>\n",
        "print('Split:', split_up, type(split_up))"
      ],
      "execution_count": 0,
      "outputs": [
        {
          "output_type": "stream",
          "text": [
            "['a', 'b', 'c', 'd', 'e'] <class 'list'>\n",
            "['e', 'd', 'c', 'b', 'a'] <class 'list'>\n",
            "\n",
            "\n",
            "Joined: c, e, d, b, a <class 'str'>\n",
            "Split: ['c', ' e', ' d', ' b', ' a'] <class 'list'>\n"
          ],
          "name": "stdout"
        }
      ]
    },
    {
      "cell_type": "markdown",
      "metadata": {
        "id": "UyNxmHbCm0NS",
        "colab_type": "text"
      },
      "source": [
        "## Summary"
      ]
    },
    {
      "cell_type": "markdown",
      "metadata": {
        "id": "8patZ-n3c2OY",
        "colab_type": "text"
      },
      "source": [
        "<img src=\"https://github.com/mottaquikarim/PYTH2/blob/master/assets/Lists_Summary.png?raw=true\" width=\"100%\" align=\"left\"/>"
      ]
    },
    {
      "cell_type": "markdown",
      "metadata": {
        "id": "iCrdj_HzonOY",
        "colab_type": "text"
      },
      "source": [
        "## Class Practice PSETs\n",
        "\n",
        "[Lists](https://github.com/mottaquikarim/PYTH2/blob/master/src/PSETS/nb/lists_inclass_psets.ipynb)"
      ]
    },
    {
      "cell_type": "markdown",
      "metadata": {
        "id": "pP-omcb-c2OU",
        "colab_type": "text"
      },
      "source": [
        "**Practice Together!**:\n",
        "\n",
        "Remove the duplicate items from the list below."
      ]
    },
    {
      "cell_type": "code",
      "metadata": {
        "id": "AWztdBq4c2OU",
        "colab_type": "code",
        "outputId": "bda779bc-7c1a-4c8b-f583-be28b74336a3",
        "colab": {
          "base_uri": "https://localhost:8080/",
          "height": 52
        }
      },
      "source": [
        "my_list = [1, 2, 4, 5, 2, 3, 1, 4, 5, 1, 5, 3]\n",
        "\n",
        "my_set = set(my_list)\n",
        "print(my_set)\n",
        "\n",
        "l1 = [1,1,1,2,3,4,5,6,7,7,7,8,9,10,10,10]\n",
        "s1 = set(l1)\n",
        "print(sum(s1))"
      ],
      "execution_count": 39,
      "outputs": [
        {
          "output_type": "stream",
          "text": [
            "{1, 2, 3, 4, 5}\n",
            "55\n"
          ],
          "name": "stdout"
        }
      ]
    },
    {
      "cell_type": "markdown",
      "metadata": {
        "id": "YzIbGJW7m30o",
        "colab_type": "text"
      },
      "source": [
        "## Additional Resources"
      ]
    },
    {
      "cell_type": "markdown",
      "metadata": {
        "id": "Av-d-g3tm5rY",
        "colab_type": "text"
      },
      "source": [
        "- [Python Lists - Khan Academy Video](https://www.youtube.com/watch?v=zEyEC34MY1A)\n",
        "- [Google For Education: Python Lists](https://developers.google.com/edu/python/lists)\n",
        "- [Python-Lists](https://www.tutorialspoint.com/python/python_lists.htm)\n",
        "- [Python List Methods](https://www.programiz.com/python-programming/methods/list/)\n",
        "- [Python Data Structures: Lists, Tuples, Sets, and Dictionaries Video](https://www.youtube.com/watch?v=R-HLU9Fl5ug)\n",
        "\n",
        "And here's a **[helpful list](https://snakify.org/en/lessons/sets/#section_4)** of other SET operations!"
      ]
    }
  ]
}
