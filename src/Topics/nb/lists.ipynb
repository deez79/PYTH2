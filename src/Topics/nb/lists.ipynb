{
 "cells": [
  {
   "cell_type": "markdown",
   "metadata": {},
   "source": [
    "<a href=\"https://colab.research.google.com/github/mottaquikarim/PYTH2/blob/master/src/Topics/nb/lists.ipynb\" target=\"_parent\"><img src=\"https://colab.research.google.com/assets/colab-badge.svg\" alt=\"Open In Colab\"/></a>"
   ]
  },
  {
   "cell_type": "markdown",
   "metadata": {},
   "source": [
    "# Lists\n",
    "\n",
    "In order to begin to truly write dynamic programs, we need to be able to work with *dynamic* data where we do not know how much of a certain type of variable we have.\n",
    "\n",
    "The problem, essentially is, **variables hold only one item**.\n"
   ]
  },
  {
   "cell_type": "code",
   "execution_count": null,
   "metadata": {},
   "outputs": [],
   "source": [
    "my_color = \"red\"\n",
    "my_peer = \"Brandi\""
   ]
  },
  {
   "cell_type": "markdown",
   "metadata": {},
   "source": [
    "Lists hold multiple items - and lists can hold any datatype.\n",
    "\n",
    "## Creating lists\n",
    "\n",
    "Here are some different ways to declare a list variable:\n"
   ]
  },
  {
   "cell_type": "code",
   "execution_count": null,
   "metadata": {},
   "outputs": [],
   "source": [
    "colors = ['red', 'yellow', 'green'] #strings\n",
    "grades = [100, 99, 65, 54, 19] #numbers\n",
    "bools = [True, False, True, True] #booleans"
   ]
  },
  {
   "cell_type": "markdown",
   "metadata": {},
   "source": [
    "\n",
    "To create a new **blank** list, simply use ```python blank_list = list()```.\n",
    "\n",
    "## Accessing Elements in the List\n",
    "\n",
    "The **list index** means the location of something (an *element*) in the list.\n",
    "\n",
    "List indexes start counting at 0!\n",
    "\n",
    "|  List | \"Brandi\" | \"Zoe\" | \"Steve\" | \"Aleksander\" | \"Dasha\" |\n",
    "|:-----:|:--------:|:-----:|:-------:|:------:|:------:|\n",
    "| Index |     0    |   1   |    2    |    3   |    4   |\n"
   ]
  },
  {
   "cell_type": "code",
   "execution_count": null,
   "metadata": {},
   "outputs": [],
   "source": [
    "my_class = ['Brandi', 'Zoe', 'Steve', 'Aleksander', 'Dasha']\n",
    "print(my_class[0]) # Prints \"Brandi\"\n",
    "print(my_class[1]) # Prints \"Zoe\"\n",
    "print(my_class[4]) # Prints \"Dasha\""
   ]
  },
  {
   "cell_type": "markdown",
   "metadata": {},
   "source": [
    "\n",
    "## Built-In Operations for Manipulating Lists\n",
    "\n",
    "#### Add or Edit Items to a List\n",
    "If you want to extend the content of a single list, you can use `.append()`, `.extend()` `.insert()` to add elements of any data type.\n",
    "\n",
    "`.append()` & `.extend()`:\n",
    "These methods both add items to the end of the list. The difference here is that `.append()` will add whatever value or group of values you pass it *in one chunk*. In contrast, if you pass a group of values into `.extend()`, it will add each element of the group *individually*. Here are a few examples to show you the difference in outcomes.\n"
   ]
  },
  {
   "cell_type": "code",
   "execution_count": null,
   "metadata": {},
   "outputs": [],
   "source": [
    "# passing direct argument\n",
    "x = ['a', 'b', 'c', 'd']\n",
    "x.append(['e', 'f', 'g'])\n",
    "print(x) # ['a', 'b', 'c', 'd', ['e', 'f', 'g']]\n",
    "\n",
    "x = ['a', 'b', 'c', 'd']\n",
    "x.extend(['e', 'f', 'g'])\n",
    "print(x) # ['a', 'b', 'c', 'd', 'e', 'f', 'g']\n",
    "\n",
    "# passing argument within a var\n",
    "x = ['a', 'b', 'c', 'd']\n",
    "y = ['e', ('f', 'g'), ['h', 'i'], 'j']\n",
    "x.append(y)\n",
    "print(y) # ['a', 'b', 'c', 'd', ['e', ('f', 'g'), ['h', 'i'], 'j']]\n",
    "\n",
    "x = ['a', 'b', 'c', 'd']\n",
    "y = ['e', ('f', 'g'), ['h', 'i'], 'j']\n",
    "x.extend(y)\n",
    "print(x) # ['a', 'b', 'c', 'd', 'e', ('f', 'g'), ['h', 'i'], 'j']"
   ]
  },
  {
   "cell_type": "markdown",
   "metadata": {},
   "source": [
    "\n",
    "Notice that `.extend()` only considers individual values of the parent list. It still added the tuple and list - `('f', 'g')` and `['h', 'i']` - to our list `x` as their own items.\n",
    "\n",
    "`.insert(index, value)`:\n",
    "If you want to add an item to a specific point in your list, you can pass the desired index and value into `.insert()` as follows.\n"
   ]
  },
  {
   "cell_type": "code",
   "execution_count": null,
   "metadata": {},
   "outputs": [],
   "source": [
    "# your_list.insert(index, item)\n",
    "\n",
    "my_class = ['Brandi', 'Zoe', 'Steve', 'Aleksander', 'Dasha', 'Sonyl']\n",
    "my_class.insert(1, 'Sanju')\n",
    "print(my_class)\n",
    "# => ['Brandi', 'Sanju', 'Zoe', 'Steve', 'Aleksander', 'Dasha', 'Sonyl']"
   ]
  },
  {
   "cell_type": "markdown",
   "metadata": {},
   "source": [
    "\n",
    "`l[index:index]=`:\n",
    "To *replace* items in a list by their index position, you can use the same syntax for adding a single new value. You simply reference which indeces you want to replace and specify the new values.\n"
   ]
  },
  {
   "cell_type": "code",
   "execution_count": null,
   "metadata": {},
   "outputs": [],
   "source": [
    "x = ['Brandi', 'Sanju', 'Zoe', 'Steve', 'Aleksander', 'Dasha', 'Sonyl']\n",
    "x[1] = 'Raju'\n",
    "x[6:] = ['Chloe', 'Phoebe']\n",
    "print(x) # ['Brandi', 'Raju', 'Zoe', 'Steve', 'Aleksander', 'Dasha', 'Chloe', 'Phoebe']"
   ]
  },
  {
   "cell_type": "markdown",
   "metadata": {},
   "source": [
    "\n",
    "`.join()`:\n",
    "If you need to, you can compile your list items into a single string.\n"
   ]
  },
  {
   "cell_type": "code",
   "execution_count": null,
   "metadata": {},
   "outputs": [],
   "source": [
    "letters = ['j', 'u', 'l', 'i', 'a', 'n', 'n', 'a']\n",
    "name = ''.join(letters)\n",
    "print(name) # 'julianna'\n",
    "\n",
    "words = ['this', 'is', 'fun']\n",
    "sentence = ' '.join(words)\n",
    "print(f'{sentence}.') # 'this is fun.'"
   ]
  },
  {
   "cell_type": "markdown",
   "metadata": {},
   "source": [
    "\n",
    "`.split('by_char')`:\n",
    "You can also do the opposite - split values out of a string and turn each value into a list item. This one doesn't work for single words you might want to split into individual characters. That said, you *can* specify what character should convey to the method when to split out a new item. By default, `.split()` will use a space character to split the string.\n"
   ]
  },
  {
   "cell_type": "code",
   "execution_count": null,
   "metadata": {},
   "outputs": [],
   "source": [
    "x = 'this is fun'\n",
    "sentence = x.split() # note - using default split char at space\n",
    "print(sentence) # ['this', 'is', 'fun']\n",
    "\n",
    "y = 'Sandra,hi@email.com,646-212-1234,8 Cherry Lane,Splitsville,FL,58028'\n",
    "data = y.split(',')\n",
    "print(data) # ['Sandra', 'hi@email.com', '646-212-1234', '8 Cherry Lane', 'Splitsville', 'FL', '58028']"
   ]
  },
  {
   "cell_type": "markdown",
   "metadata": {},
   "source": [
    "\n",
    "#### Remove Items from a List\n",
    "Likewise, you can use `.pop()` or `.pop(index)` to remove any type of element from a list.\n",
    "\n",
    "`.pop()`:\n",
    "- Removes an item from the end of the list.\n"
   ]
  },
  {
   "cell_type": "code",
   "execution_count": null,
   "metadata": {},
   "outputs": [],
   "source": [
    "# your_list.pop()\n",
    "\n",
    "my_class = ['Brandi', 'Zoe', 'Steve', 'Aleksander', 'Dasha', 'Sonyl']\n",
    "student_that_left = my_class.pop()\n",
    "print(\"The student\", student_that_left, \"has left the class.\")\n",
    "# Sonyl\n",
    "print(my_class)\n",
    "# => ['Brandi', 'Zoe', 'Steve', 'Aleksander', 'Dasha']"
   ]
  },
  {
   "cell_type": "markdown",
   "metadata": {},
   "source": [
    "\n",
    "`.pop(index)`:\n",
    "- Removes an item from the list.\n",
    "- Can take an index.\n"
   ]
  },
  {
   "cell_type": "code",
   "execution_count": null,
   "metadata": {},
   "outputs": [],
   "source": [
    "# your_list.pop(index)\n",
    "\n",
    "my_class = ['Brandi', 'Zoe', 'Steve', 'Aleksander', 'Dasha']\n",
    "student_that_left = my_class.pop(2) # Remember to count from 0!\n",
    "print(\"The student\", student_that_left, \"has left the class.\")\n",
    "# => \"Steve\"\n",
    "print(my_class)\n",
    "# => ['Brandi', 'Zoe', 'Aleksander', 'Dasha']"
   ]
  },
  {
   "cell_type": "markdown",
   "metadata": {},
   "source": [
    "\n",
    "## Built-in Operators for Analyzing Lists\n",
    "\n",
    "Python has some built-in operations that allow you to analyze the content of a list. Some basic ones include:\n",
    "\n",
    "`len()`:\n",
    "This tells you how many items are in the list; can be used for lists composed of any data type (i.e. strings, numbers, booleans)\n"
   ]
  },
  {
   "cell_type": "code",
   "execution_count": null,
   "metadata": {},
   "outputs": [],
   "source": [
    "# length_variable = len(your_list)\n",
    "\n",
    "my_class = ['Brandi', 'Zoe', 'Aleksander', 'Dasha']\n",
    "num_students = len(my_class)\n",
    "print(\"There are\", num_students, \"students in the class\")\n",
    "# => 5"
   ]
  },
  {
   "cell_type": "markdown",
   "metadata": {},
   "source": [
    "\n",
    "`sum()`:\n",
    "This returns the sum of all items in *numerical lists*.\n"
   ]
  },
  {
   "cell_type": "code",
   "execution_count": null,
   "metadata": {},
   "outputs": [],
   "source": [
    "\n",
    "# sum_variable = sum(your_numeric_list)\n",
    "\n",
    "team_batting_avgs = [.328, .299, .208, .301, .275, .226, .253, .232, .287]\n",
    "sum_avgs = sum(team_batting_avgs)\n",
    "print(f\"The total of all the batting averages is {sum_avgs}\")\n",
    "# => 2.409"
   ]
  },
  {
   "cell_type": "markdown",
   "metadata": {},
   "source": [
    "\n",
    "`min()` & `max()`: \n",
    "\n",
    "These return the smallest and largest numbers *in a numerical list* respectively.\n"
   ]
  },
  {
   "cell_type": "code",
   "execution_count": null,
   "metadata": {},
   "outputs": [],
   "source": [
    "# max(your_numeric_list)\n",
    "# min(your_numeric_list)\n",
    "\n",
    "team_batting_avgs = [.328, .299, .208, .301, .275, .226, .253, .232, .287]\n",
    "print(f\"The highest batting average is {max(team_batting_avgs}\")\n",
    "# => 0.328\n",
    "print(\"The lowest batting average is\", min(team_batting_avgs))\n",
    "# => 0.208"
   ]
  },
  {
   "cell_type": "markdown",
   "metadata": {},
   "source": [
    "\n",
    "#### Sorting Lists\n",
    "\n",
    "If you want to organize your lists better, you can sort them with the `sorted()` operator. At the some basic level, you can sort both numerically and alphabetically.\n",
    "\n",
    "**Numbers** - Ascending & Descending\n"
   ]
  },
  {
   "cell_type": "code",
   "execution_count": null,
   "metadata": {},
   "outputs": [],
   "source": [
    "numbers = [1, 3, 7, 5, 6, 4, 2]\n",
    "\n",
    "ascending = sorted(numbers)\n",
    "print(ascending) # [1, 2, 3, 4, 5, 6, 7]"
   ]
  },
  {
   "cell_type": "markdown",
   "metadata": {},
   "source": [
    "To do this in descending order, simply add `reverse=True` as an argument in `sorted()` like this:\n"
   ]
  },
  {
   "cell_type": "code",
   "execution_count": null,
   "metadata": {},
   "outputs": [],
   "source": [
    "descending = sorted(numbers, reverse=True)\n",
    "print(descending) # [7, 6, 5, 4, 3, 2, 1]"
   ]
  },
  {
   "cell_type": "markdown",
   "metadata": {},
   "source": [
    "\n",
    "**Letters** - Alphabetically & Reverse\n"
   ]
  },
  {
   "cell_type": "code",
   "execution_count": null,
   "metadata": {},
   "outputs": [],
   "source": [
    "letters = ['b', 'e', 'c', 'a', 'd']\n",
    "\n",
    "ascending = sorted(letters)\n",
    "print(ascending) # ['a', 'b', 'c', 'd', 'e']\n",
    "\n",
    "descending = sorted(letters, reverse=True)\n",
    "print(descending) # ['e', 'd', 'c', 'b', 'a']"
   ]
  },
  {
   "cell_type": "markdown",
   "metadata": {},
   "source": [
    "\n",
    "**NOTE!** You cannot sort a list that includes different data types. \n",
    "\n",
    "## Tuples\n",
    "\n",
    "Tuples are a special subset of lists - they are *immutable* - in that they cannot be changed after creation.\n",
    "\n",
    "We write tuples as:\n"
   ]
  },
  {
   "cell_type": "code",
   "execution_count": null,
   "metadata": {},
   "outputs": [],
   "source": [
    "score_1 = ('Taq', 100)\n",
    "\n",
    "# OR\n",
    "\n",
    "score_2 = 'Sue', 101"
   ]
  },
  {
   "cell_type": "markdown",
   "metadata": {},
   "source": [
    "\n",
    "Tuples are denoted with the `()`.\n",
    "\n",
    "We read tuples just like we would read a list:\n"
   ]
  },
  {
   "cell_type": "code",
   "execution_count": null,
   "metadata": {},
   "outputs": [],
   "source": [
    "print(score_1[0]) # 'Taq'"
   ]
  },
  {
   "cell_type": "markdown",
   "metadata": {},
   "source": [
    "\n",
    "## Sets\n",
    "\n",
    "Sets are special lists in that they can only have **unique** elements\n"
   ]
  },
  {
   "cell_type": "code",
   "execution_count": null,
   "metadata": {},
   "outputs": [],
   "source": [
    "set_1 = {1,2,3,4,5} # this is a set, notice the {}\n",
    "set_2 = {1,1,1,2,2,3,4,5,5,5} # this is still a set\n",
    "print(set_2) # {1,2,3,4,5}\n",
    "\n",
    "print(set_1 == set_2) # True"
   ]
  },
  {
   "cell_type": "markdown",
   "metadata": {},
   "source": [
    "\n",
    "Sets are not indexed, so you cannot access say the 3rd element in a set. Instead, you can:\n"
   ]
  },
  {
   "cell_type": "code",
   "execution_count": null,
   "metadata": {},
   "outputs": [],
   "source": [
    "print(2 in set_1) # True\n",
    "print(9 in set_1) # False"
   ]
  }
 ],
 "metadata": {},
 "nbformat": 4,
 "nbformat_minor": 2
}
