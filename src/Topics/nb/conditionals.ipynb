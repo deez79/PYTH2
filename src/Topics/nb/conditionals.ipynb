{
 "cells": [
  {
   "cell_type": "markdown",
   "metadata": {},
   "source": [
    "<a href=\"https://colab.research.google.com/github/mottaquikarim/PYTH2/blob/master/src/Topics/nb/conditionals.ipynb\" target=\"_parent\"><img src=\"https://colab.research.google.com/assets/colab-badge.svg\" alt=\"Open In Colab\"/></a>"
   ]
  },
  {
   "cell_type": "markdown",
   "metadata": {},
   "source": [
    "# Conditionals\n",
    "\n",
    "In order for code to be useful, it is imperative to have the ability to make decisions. In most languages, we use the **conditional** statement to facilitate decision making. \n",
    "\n",
    "Before we dig deeper into conditionals, let us first examine the `Boolean` datatype.\n",
    "\n",
    "## Booleans\n",
    "\n",
    "In short, a boolean represents a \"yes\" or \"no\" value. In python, booleans are written as:\n"
   ]
  },
  {
   "cell_type": "code",
   "execution_count": null,
   "metadata": {},
   "outputs": [],
   "source": [
    "True # this is a boolean, for \"yes\"\n",
    "False # this is a boolean, for \"no\""
   ]
  },
  {
   "cell_type": "markdown",
   "metadata": {},
   "source": [
    "\n",
    "Because booleans are just datatypes, we can store them into variables.\n"
   ]
  },
  {
   "cell_type": "code",
   "execution_count": null,
   "metadata": {},
   "outputs": [],
   "source": [
    "is_it_summer = False\n",
    "will_it_be_summer_soon = True"
   ]
  },
  {
   "cell_type": "markdown",
   "metadata": {},
   "source": [
    "\n",
    "Moreover, because booleans are data types, certain operators will *evaluate* to booleans:\n"
   ]
  },
  {
   "cell_type": "code",
   "execution_count": null,
   "metadata": {},
   "outputs": [],
   "source": [
    "age = 13\n",
    "is_eligible_to_buy_lotto = age > 13\n",
    "\n",
    "# ^^ this will evaluate to False and then \n",
    "# that value, False, will be stored in variable\n",
    "# is_eligible_to_buy_lotto"
   ]
  },
  {
   "cell_type": "markdown",
   "metadata": {},
   "source": [
    "\n",
    "The operator above, `>` is called a **boolean** operator. Notice how we stored the evaluation of the `>` expression into a variable. Remember, booleans are just datatypes, therefore they work the same way we would expect numbers and strings to work - except that the operators look / do different things (but in principle they are one and the same!)\n",
    "\n",
    "Let's now explore the *boolean operators* available in python.\n",
    "\n",
    "## Greater Than / Greater Than or Equal To\n"
   ]
  },
  {
   "cell_type": "code",
   "execution_count": null,
   "metadata": {},
   "outputs": [],
   "source": [
    "my_money = 37.00\n",
    "total = 35.00\n",
    "\n",
    "enough_money = my_money > total # True\n",
    "just_enough_money = my_money >= total # also True"
   ]
  },
  {
   "cell_type": "markdown",
   "metadata": {},
   "source": [
    "\n",
    "## Less Than / Less Than or Equal To\n"
   ]
  },
  {
   "cell_type": "code",
   "execution_count": null,
   "metadata": {},
   "outputs": [],
   "source": [
    "speed_limit = 65\n",
    "my_speed = 32\n",
    "\n",
    "under_speed_limit = my_speed < speed_limit # True\n",
    "at_or_under_speed_limit = my_speed <= speed_limit # also True"
   ]
  },
  {
   "cell_type": "markdown",
   "metadata": {},
   "source": [
    "\n",
    "## Equal to / Not equal to\n",
    "\n",
    "Because we use the `=` symbol for identity (ie: to set a variable), it is not available for comparison operations. Instead, we must use the `==` and `!=` symbols. \n"
   ]
  },
  {
   "cell_type": "code",
   "execution_count": null,
   "metadata": {},
   "outputs": [],
   "source": [
    "speed_limit = 65\n",
    "my_speed = 32\n",
    "\n",
    "are_they_equal = (speed_limit == my_speed) # False\n",
    "are_they_not_equal = (speed_limit != my_speed) # True"
   ]
  },
  {
   "cell_type": "markdown",
   "metadata": {},
   "source": [
    "\n",
    "Note that the parens are unnecessary here, but we add them anyways for the sake of clarity.\n",
    "\n",
    "Also worth noting that the `is` keyword can be used in lieu of the `==`:\n"
   ]
  },
  {
   "cell_type": "code",
   "execution_count": null,
   "metadata": {},
   "outputs": [],
   "source": [
    "pi = 3.14\n",
    "\n",
    "result = pi is 3.14 # True"
   ]
  },
  {
   "cell_type": "markdown",
   "metadata": {},
   "source": [
    "\n",
    "## Chaining comparison operators\n"
   ]
  },
  {
   "cell_type": "code",
   "execution_count": null,
   "metadata": {},
   "outputs": [],
   "source": [
    "x = 2\n",
    "# a\n",
    "1 < x < 3 # True\n",
    "\n",
    "# b\n",
    "10 < x < 20 # False\n",
    "\n",
    "# c\n",
    "3 > x <= 2 # True\n",
    "\n",
    "# d\n",
    "2 == x < 4 # True"
   ]
  },
  {
   "cell_type": "markdown",
   "metadata": {},
   "source": [
    "\n",
    "For **a**, we check to see if 1 is less than `x` AND `x` is less than 3.\n",
    "\n",
    "For **b**, we check to see if 10 is less than `x` (it is not) and stop right there\n",
    "\n",
    "For **c**, we check to see if 3 is greater than `x` AND `x` is less than or equal to 2.\n",
    "\n",
    "For **d**, we check to see if `x` is equal to 2 AND `x` is less than 4.\n",
    "\n",
    "## Logical operators\n",
    "\n",
    "In addition to comparison operators, python also offers support for *logical* operators - in the form of:\n",
    "\n",
    "1. **not**\n",
    "2. **or**\n",
    "3. **and**\n",
    "\n",
    "### `not` operator\n",
    "\n",
    "The **not** operator simply negates. For instance,\n"
   ]
  },
  {
   "cell_type": "code",
   "execution_count": null,
   "metadata": {},
   "outputs": [],
   "source": [
    "is_it_cold = True\n",
    "\n",
    "result = not is_it_cold # False"
   ]
  },
  {
   "cell_type": "markdown",
   "metadata": {},
   "source": [
    "\n",
    "Likewise,\n"
   ]
  },
  {
   "cell_type": "code",
   "execution_count": null,
   "metadata": {},
   "outputs": [],
   "source": [
    "is_it_hot = False\n",
    "\n",
    "result = not is_it_hot # True"
   ]
  },
  {
   "cell_type": "markdown",
   "metadata": {},
   "source": [
    "\n",
    "### `or` operator\n",
    "\n",
    "The **or** operator evaluates to `True` if any one of the operands is true.\n"
   ]
  },
  {
   "cell_type": "code",
   "execution_count": null,
   "metadata": {},
   "outputs": [],
   "source": [
    "is_it_warm = True\n",
    "is_it_cold = False\n",
    "is_it_foggy = False\n",
    "\n",
    "result = is_it_warm or is_it_cold or is_it_foggy # True"
   ]
  },
  {
   "cell_type": "markdown",
   "metadata": {},
   "source": [
    "\n",
    "Will be true since at least once of the items is `True`\n",
    "\n",
    "### `and` operator\n",
    "\n",
    "The **and** operator evaluates to `True` is all of the operands are true.\n"
   ]
  },
  {
   "cell_type": "code",
   "execution_count": null,
   "metadata": {},
   "outputs": [],
   "source": [
    "is_it_warm = True\n",
    "is_it_foggy = True\n",
    "is_it_humid = True\n",
    "\n",
    "result = is_it_warm or is_it_humid or is_it_foggy # True"
   ]
  },
  {
   "cell_type": "markdown",
   "metadata": {},
   "source": [
    "\n",
    "Will be true since at ALL of the items are `True`\n",
    "\n",
    "## Membership operators\n",
    "\n",
    "Membership operators are: `in` and `not in`. They are used to determine if a value is in a sequence, for instance:\n"
   ]
  },
  {
   "cell_type": "code",
   "execution_count": null,
   "metadata": {},
   "outputs": [],
   "source": [
    "line = 'a b c d e f g'\n",
    "\n",
    "result = 'a' in line # True\n",
    "result = 'z' in line # False\n",
    "result = 'k' not in line # True\n",
    "result = 'a' not in line # False"
   ]
  },
  {
   "cell_type": "markdown",
   "metadata": {},
   "source": [
    "\n",
    "## Conditional Statements\n",
    "\n",
    "A conditional will attempt to evaluate an expression down to a boolean value - either `True` or `False`. Based on the boolean evaluation, the program will then execute or skip a block of code.\n",
    "\n",
    "So for instance:\n"
   ]
  },
  {
   "cell_type": "code",
   "execution_count": null,
   "metadata": {},
   "outputs": [],
   "source": [
    "if True:\n",
    "\tprint(\"this will always run!\")\n",
    "\n",
    "if False:\n",
    "\tprint(\"this will NEVER run!\")"
   ]
  },
  {
   "cell_type": "markdown",
   "metadata": {},
   "source": [
    "\n",
    "However, since we know booleans to be datatypes, *any* of the operators discussed above can *also* be used:\n"
   ]
  },
  {
   "cell_type": "code",
   "execution_count": null,
   "metadata": {},
   "outputs": [],
   "source": [
    "temp = 43\n",
    "\n",
    "if temp < 65:\n",
    "\tprint(\"wear a jacket!\")"
   ]
  },
  {
   "cell_type": "markdown",
   "metadata": {},
   "source": [
    "\n",
    "The code above will only run if `temp` is less than 65.\n",
    "\n",
    "We can also do something like:\n"
   ]
  },
  {
   "cell_type": "code",
   "execution_count": null,
   "metadata": {},
   "outputs": [],
   "source": [
    "temp = 43\n",
    "is_it_raining = True\n",
    "\n",
    "if is_it_raining and temp < 65:\n",
    "\tprint('wear a jacket and bring an umbrella!')"
   ]
  },
  {
   "cell_type": "markdown",
   "metadata": {},
   "source": [
    "\n",
    "In the example above, we make use of comparison operators *and* logical operators in a compound statement.\n",
    "\n",
    "## `else`s and `elif`s\n",
    "\n",
    "If we have a condition that can only go two ways (ie: it will only be true or false), we can leverage the `else` statement:\n"
   ]
  },
  {
   "cell_type": "code",
   "execution_count": null,
   "metadata": {},
   "outputs": [],
   "source": [
    "temp = 43\n",
    "\n",
    "if temp < 65:\n",
    "\tprint('wear a coat!')\n",
    "else:\n",
    "\tprint('you will not need a coat!')"
   ]
  },
  {
   "cell_type": "markdown",
   "metadata": {},
   "source": [
    "\n",
    "But what if we wanted support for multiple possibilities? That's where the `elif` statement comes in:\n"
   ]
  },
  {
   "cell_type": "code",
   "execution_count": null,
   "metadata": {},
   "outputs": [],
   "source": [
    "temp = 43\n",
    "\n",
    "if temp < 30:\n",
    "\tprint('wear a heavy jacket')\n",
    "elif temp < 50:\n",
    "\tprint('wear a light jacket')\n",
    "elif temp < 60:\n",
    "\tprint('wear a sweater')\n",
    "else:\n",
    "\tprint('you do not need any layers!')"
   ]
  },
  {
   "cell_type": "code",
   "execution_count": null,
   "metadata": {},
   "outputs": [],
   "source": [
    "\n",
    "In the example above, we print one of 4 possibilities - the elif allows us to go from 2 potential conditions to N potential conditions.\n",
    "\n",
    "## 🚗 [PSETS](https://github.com/mottaquikarim/pydev-psets)\n",
    "\n",
    "The problems are reproduced below, but you will want to run on github. First,\n"
   ]
  },
  {
   "cell_type": "code",
   "execution_count": null,
   "metadata": {},
   "outputs": [],
   "source": [
    "$ . ./update"
   ]
  },
  {
   "cell_type": "markdown",
   "metadata": {},
   "source": [
    "\n",
    "## 🚗 1. Generate Traffic Light\n"
   ]
  },
  {
   "cell_type": "code",
   "execution_count": null,
   "metadata": {},
   "outputs": [],
   "source": [
    "from random import randint\n",
    "\n",
    "randn = randint(1,3) # generates a random number from 1 to 3\n",
    "# if 1, print 'red'\n",
    "# if 2, print 'green',\n",
    "# if 3, print 'blue'"
   ]
  },
  {
   "cell_type": "markdown",
   "metadata": {},
   "source": [
    "\n",
    "## 🚗 2. Generate Phone Number w/Area Code\n"
   ]
  },
  {
   "cell_type": "code",
   "execution_count": null,
   "metadata": {},
   "outputs": [],
   "source": [
    "from random import randint\n",
    "\n",
    "# generate a random phone number of the form:\n",
    "# 1-718-786-2825\n",
    "# This should be a string\n",
    "# Valid Area Codes are: 646, 718, 212\n",
    "# if phone number doesn't have this area code, pick\n",
    "# one of the above at random"
   ]
  },
  {
   "cell_type": "markdown",
   "metadata": {},
   "source": [
    "## 🚗 3. Play RPS\n"
   ]
  },
  {
   "cell_type": "code",
   "execution_count": null,
   "metadata": {},
   "outputs": [],
   "source": [
    "\n",
    "p1 = 'r' # or 'p' or 's'\n",
    "p2 = 'r' # or 'p' or 's'\n",
    "\n",
    "# Given a p1 and p2\n",
    "# print 1 if p1 has won\n",
    "# print 2 if p2 has won\n",
    "# print 0 if tie\n",
    "# print -1 if invalid input\n",
    "# expects both p1 and p2 inputs to be either\n",
    "# \"r\", \"p\", or \"s\"\n"
   ]
  },
  {
   "cell_type": "markdown",
   "metadata": {},
   "source": [
    "## 🚗 4. Play RPS w/Computer\n",
    "\n"
   ]
  },
  {
   "cell_type": "code",
   "execution_count": null,
   "metadata": {},
   "outputs": [],
   "source": [
    "from random import randint\n",
    "\n",
    "p1 = # randomly choose 'r' or 'p' or 's'\n",
    "p2 = # randomly choose 'r' or 'p' or 's'\n",
    "\n",
    "# Given a p1 and p2\n",
    "# print 1 if p1 has won\n",
    "# print 2 if p2 has won\n",
    "# print 0 if tie\n",
    "# print -1 if invalid input\n",
    "# expects both p1 and p2 inputs to be either\n",
    "# \"r\", \"p\", or \"s\"\n"
   ]
  },
  {
   "cell_type": "markdown",
   "metadata": {},
   "source": [
    "\n",
    "## 🚗 5. Play RPS w/Input\n"
   ]
  },
  {
   "cell_type": "code",
   "execution_count": null,
   "metadata": {},
   "outputs": [],
   "source": [
    "\n",
    "p1 = # from user input\n",
    "p2 = # from user input\n",
    "\n",
    "# Given a p1 and p2\n",
    "# print 1 if p1 has won\n",
    "# print 2 if p2 has won\n",
    "# print 0 if tie\n",
    "# print -1 if invalid input\n",
    "# expects both p1 and p2 inputs to be either\n",
    "# \"r\", \"p\", or \"s\""
   ]
  },
  {
   "cell_type": "markdown",
   "metadata": {},
   "source": [
    "\n",
    "## 🚗 6. Play RPS w/Bad Input\n",
    "\n",
    "This is the same as the original RPS problem, except that cannot expect the input to be valid. While we *want* `r` or `p` or `s`, there is a possibility that input can be anything like...\n",
    "\n",
    "* `ROCK` (all caps)\n",
    "* `R` (`r` but capitalized)\n",
    "* `PAPrrRR` (incorrectly spelled, upper/lowercased)\n",
    "\n",
    "Implement conditional statements that will sanitize the user input or let user know that input is invalid.\n"
   ]
  },
  {
   "cell_type": "code",
   "execution_count": null,
   "metadata": {},
   "outputs": [],
   "source": [
    "p1 = # from user input\n",
    "p2 = # from user input\n",
    "\n",
    "# Given a p1 and p2\n",
    "# print 1 if p1 has won\n",
    "# print 2 if p2 has won\n",
    "# print 0 if tie\n",
    "# print -1 if invalid input\n",
    "# expects both p1 and p2 inputs to be either\n",
    "# \"r\", \"p\", or \"s\""
   ]
  },
  {
   "cell_type": "markdown",
   "metadata": {},
   "source": [
    "\n",
    "## 🚗 7. Play RPS against Computer\n"
   ]
  },
  {
   "cell_type": "code",
   "execution_count": null,
   "metadata": {},
   "outputs": [],
   "source": [
    "\n",
    "p1 = # from user input - we still want validation from above!\n",
    "p2 = # randomly generated against computer\n",
    "\n",
    "# Given a p1 and p2\n",
    "# print 1 if p1 has won\n",
    "# print 2 if p2 has won\n",
    "# print 0 if tie\n",
    "# print -1 if invalid input\n",
    "# expects both p1 and p2 inputs to be either\n",
    "# \"r\", \"p\", or \"s\"\n"
   ]
  },
  {
   "cell_type": "markdown",
   "metadata": {},
   "source": [
    "\n",
    "## 🚗 8. Calculate Grade\n"
   ]
  },
  {
   "cell_type": "code",
   "execution_count": null,
   "metadata": {},
   "outputs": [],
   "source": [
    "grade = 15 # expect this to be a number\n",
    "\n",
    "# write a program that will print the \"letter\" \n",
    "# equivalent of the grade, for example:\n",
    "# when grade = 90 # -> expect A\n",
    "# when grade = 80 # -> expect B\n",
    "# when grade = 70 # -> expect C\n",
    "# when grade = 60 # -> expect D\n",
    "# when grade = 54 # -> expect F\n",
    "# when grade = -10 # -> expect Error\n",
    "# when grade = 10000 # -> expect Error\n",
    "# when grade = \"lol skool sucks\" # -> expect Error"
   ]
  },
  {
   "cell_type": "markdown",
   "metadata": {},
   "source": [
    "\n",
    "**Challenge**: Can you `raise` an error if unexpected input supplied vs just printing out `Error`? What's the difference?\n",
    "\n",
    "## 🚗 9. Sign of Product\n",
    "\n",
    "Given three numbers, `a, b, c`, **without** multiplying, determine the **sign** of their product.\n",
    "\n",
    "**EXAMPLE**: `a = -5, b = 6, c = -4`, print `1`\n",
    "\n",
    "**EXAMPLE**: `a = 5, b = 6, c = -4`, print `-1`\n",
    "\n",
    "## 🚗 10. Any Uppercase\n",
    "\n",
    "Given a string `str`, determine if there are any uppercase values in it. Use only conditional statements and string methods (you may have to look some up!)\n",
    "\n",
    "**EXAMPLE**: `str = \"teSt\"`, print `True`\n",
    "\n",
    "## 🚗 11. IsEmptyString\n",
    "\n",
    "Given any empty string, of the form:\n"
   ]
  },
  {
   "cell_type": "code",
   "execution_count": null,
   "metadata": {},
   "outputs": [],
   "source": [
    "''\n",
    "' '\n",
    "'  '\n",
    "# ...\n",
    "'        ' # etc"
   ]
  },
  {
   "cell_type": "markdown",
   "metadata": {},
   "source": [
    "\n",
    "determine if the `str` is empty or not (print `True` or `False`)\n",
    "\n",
    "## 🚗 12. truthTableEvaluator\n",
    "\n",
    "Given the following inputs:\n"
   ]
  },
  {
   "cell_type": "code",
   "execution_count": null,
   "metadata": {},
   "outputs": [],
   "source": [
    "P = # True or False\n",
    "Q = # True or False\n",
    "op = # '^' (logical AND, conjunction)\n",
    "\t # OR, 'v' (logical OR, disjunction)\n",
    "\t # OR, '->' (logical conditional, implication)\n",
    "\t # OR, '<->' (biconditional)"
   ]
  },
  {
   "cell_type": "markdown",
   "metadata": {},
   "source": [
    "\n",
    "determine the correct outcome. \n",
    "\n",
    "**[Info on truthtables](https://medium.com/i-math/intro-to-truth-tables-boolean-algebra-73b331dd9b94)**\n",
    "\n"
   ]
  }
 ],
 "metadata": {},
 "nbformat": 4,
 "nbformat_minor": 2
}
