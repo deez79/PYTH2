{
 "cells": [
  {
   "cell_type": "markdown",
   "metadata": {},
   "source": [
    "<a href=\"https://colab.research.google.com/github/mottaquikarim/PYTH2/blob/master/src/Topics/nb/dicts.ipynb\" target=\"_parent\"><img src=\"https://colab.research.google.com/assets/colab-badge.svg\" alt=\"Open In Colab\"/></a>"
   ]
  },
  {
   "cell_type": "markdown",
   "metadata": {},
   "source": [
    "# Dicts\n",
    "\n",
    "In addition to lists, another more comprehensive method for storing complex data are **dicts**, or dictionaries. In the example below, we associate a `key` (e.g. 'taq') to a `value` (e.g. 'karim'). The keys and values of a single dict don't have to be homogenous. In other words, you can mix and match different key, value, and key value pair data types within one dict as seen below.\n"
   ]
  },
  {
   "cell_type": "code",
   "execution_count": null,
   "metadata": {},
   "outputs": [],
   "source": [
    "dict1 = {\n",
    "  'taq': 'karim',\n",
    "  'apple': 35,\n",
    "  False: 87.96,\n",
    "  35: 'dog',\n",
    "  'tree': True,\n",
    "  47: 92,\n",
    "  # etc.\n",
    "}\n",
    "\n",
    "print(dict1) # {'taq': 'karim', 'apple': 35, False: 87.96, 35: 'dog', 'tree': True, 47: 92}"
   ]
  },
  {
   "cell_type": "markdown",
   "metadata": {},
   "source": [
    "\n",
    "The `values` in a dict can be any valid Python data type, but there are some restrictions on what you can use as `keys`:\n",
    "\n",
    "*1. Keys **CAN** be strings, integers, floats, booleans, and tuples.* \n",
    "*2. Keys **CANNOT** be lists or dicts.*\n",
    "\n",
    "Do you see the pattern here so far? The data in a *dict key must be immutable.* Since lists and dicts are mutable, they cannot be used as keys in a dict.\n",
    "\n",
    "*3. Also, the keys in a dict _**must be unique**_ as well.*\n",
    "\n",
    "Be careful not to add a key to a dict a second time. If you do, the second item will _**override**_ the first item. For instance, if you upload data from a .csv file into a dict, it would be better to create a new dict first, then compare the two to check for identical keys and make any adjustments necessary.\n",
    "\n",
    "## Creating Dicts\n",
    "\n",
    "There are several ways you can create your `dict`, but we'll go through the most basic ones here.\n",
    "\n",
    "#### 1. The simplest is to create an empty list with the `dict()` method.\n"
   ]
  },
  {
   "cell_type": "code",
   "execution_count": null,
   "metadata": {},
   "outputs": [],
   "source": [
    "students = dict() # this creates a new, empty dict"
   ]
  },
  {
   "cell_type": "markdown",
   "metadata": {},
   "source": [
    "\n",
    "#### 2. You can create a dict by passing in key value pairs directly using this syntax:\n"
   ]
  },
  {
   "cell_type": "code",
   "execution_count": null,
   "metadata": {},
   "outputs": [],
   "source": [
    "food_groups = {\n",
    "\t'pomegranate': 'fruit',\n",
    "\t'asparagus': 'vegetable',\n",
    "\t'goat cheese': 'dairy',\n",
    "\t'walnut': 'legume'\n",
    "}"
   ]
  },
  {
   "cell_type": "markdown",
   "metadata": {},
   "source": [
    "\n",
    "#### 3. You can also convert a *list of tuples* into a dict using `dict()`...\n"
   ]
  },
  {
   "cell_type": "code",
   "execution_count": null,
   "metadata": {},
   "outputs": [],
   "source": [
    "# list of tuples   \n",
    "listofTuples = [(\"Hello\" , 7), (\"hi\" , 10), (\"there\" , 45),(\"at\" , 23),(\"this\" , 77)]\n",
    "\n",
    "wordFrequency = dict(listofTuples)\n",
    "print(wordFrequency) # {'this': 77, 'there': 45, 'hi': 10, 'at': 23, 'Hello': 7}"
   ]
  },
  {
   "cell_type": "markdown",
   "metadata": {},
   "source": [
    "\n",
    "#### 4. ...and even combine two lists to create a dict by using the `zip()` method.\n",
    "\n",
    "The `zip()` method takes the name of each list as parameters - the first list will become the dict's keys, and the second list will become the dict's values. **NOTE!** This only works if you're sure the key value pairs have the same index position in their original lists (so they will match in the dict).\n"
   ]
  },
  {
   "cell_type": "code",
   "execution_count": null,
   "metadata": {},
   "outputs": [],
   "source": [
    "names = ['Taq', 'Zola', 'Valerie', 'Valerie']\n",
    "scores = [[98, 89, 92, 94], [86, 45, 98, 100], [100, 100, 100, 100], [76, 79, 80, 82]]\n",
    "\n",
    "grades = dict(zip(names,scores))\n",
    "print(grades) # {'Taq': [98, 89, 92, 94], 'Zola': [86, 45, 98, 100], 'Valerie': [76, 79, 80, 82]}"
   ]
  },
  {
   "cell_type": "markdown",
   "metadata": {},
   "source": [
    "\n",
    "## Accessing Dict Data\n",
    "\n",
    "Once you've stored data in your dict, you'll need to be able to get back in and access it! Take a look at this dict holding state capitals.\n"
   ]
  },
  {
   "cell_type": "code",
   "execution_count": null,
   "metadata": {},
   "outputs": [],
   "source": [
    "state_capitals = {\n",
    "\t'NY': 'Albany',\n",
    "\t'NJ': 'Trenton',\n",
    "\t'CT': 'Hartford',\n",
    "\t'MA': 'Boston'\n",
    "}"
   ]
  },
  {
   "cell_type": "markdown",
   "metadata": {},
   "source": [
    "\n",
    "### Referencing Values by Keys\n",
    "\n",
    "We can access each value in the list by referencing its key like so:\n"
   ]
  },
  {
   "cell_type": "code",
   "execution_count": null,
   "metadata": {},
   "outputs": [],
   "source": [
    "MAcap = state_capitals['MA']\n",
    "print('The capital of MA is {}.'.format(MAcap)) # 'The capital of MA is Boston.'"
   ]
  },
  {
   "cell_type": "markdown",
   "metadata": {},
   "source": [
    "\n",
    "Attempting to find a key that does not exist leads to error. *You also can't access dict items with index numbers like you do with lists!* If you try, you will get a `KeyError` - because an index number does not function like a dict key.\n"
   ]
  },
  {
   "cell_type": "code",
   "execution_count": null,
   "metadata": {},
   "outputs": [],
   "source": [
    "print(state_capitals['PA']) # KeyError from missing key\n",
    "print(state_capitals[2]) # KeyError from index reference"
   ]
  },
  {
   "cell_type": "markdown",
   "metadata": {},
   "source": [
    "\n",
    "Instead, it's better to look up a key in a dict using `.get(key, [])`. The `.get()` method takes the key argument just as above EXCEPT it allows you to enter some default value it should return if the key you enter does not exist. Usually, we use `[]` as that value.\n"
   ]
  },
  {
   "cell_type": "code",
   "execution_count": null,
   "metadata": {},
   "outputs": [],
   "source": [
    "print(state_capitals.get('PA', []))\n",
    "# PA is not in our dict, so .get() returns []"
   ]
  },
  {
   "cell_type": "markdown",
   "metadata": {},
   "source": [
    "\n",
    "### Retrieving All Keys, Values, & Key/Value Pairs\n",
    "\n",
    "Now, this dict has 4 keys, but what if it had *hundreds?* We can  retrieve data from large dicts using `.keys()`, `.values()`, or `.items()`.\n"
   ]
  },
  {
   "cell_type": "code",
   "execution_count": null,
   "metadata": {},
   "outputs": [],
   "source": [
    "pets_owned = {\n",
    "  'Taq': ['teacup pig','cat','cat'],\n",
    "  'Francesca': ['llama','horse','dog'],\n",
    "  'Walter': ['ferret','iguana'],\n",
    "  'Caleb': ['dog','rabbit','parakeet']\n",
    "}\n",
    "\n",
    "pets.keys() # ['Taq', 'Francesca', 'Walter', 'Caleb']\n",
    "\n",
    "pets.values() # [['teacup pig','cat','cat'], ['dog','rabbit','parakeet'], etc ]\n",
    "\n",
    "pets.items() # [('Taq', ['teacup pig','cat','cat']), ('Francesca', [['llama','horse','dog']), etc]"
   ]
  },
  {
   "cell_type": "markdown",
   "metadata": {},
   "source": [
    "\n",
    "## Built-in Operators for Manipulating Dicts\n",
    "\n",
    "Just like lists, you can edit, analyze, and format your dicts. Some work the same for dicts and lists such as `len()`. However, adding, deleting, and updating data requires a little more detail for dicts than for lists.\n",
    "\n",
    "### Add or Edit Dict Items\n",
    "\n",
    "We can add a single item to a dict...\n"
   ]
  },
  {
   "cell_type": "code",
   "execution_count": null,
   "metadata": {},
   "outputs": [],
   "source": [
    "state_capitals = {\n",
    "\t'NY': 'Albany',\n",
    "\t'NJ': 'Trenton',\n",
    "\t'CT': 'Hartford',\n",
    "\t'MA': 'Boston'\n",
    "}\n",
    "\n",
    "state_capitals['CA'] = 'Sacramento'\n",
    "\n",
    "print(state_capitals) # {'NY': 'Albany', 'NJ': 'Trenton', 'CT': 'Hartford', 'MA': 'Boston', 'CA': 'Sacramento'}"
   ]
  },
  {
   "cell_type": "markdown",
   "metadata": {},
   "source": [
    "\n",
    "...but more likely you'll want to make bulk updates to save yourself time. To do so, you can use the `.update()` method to add one or more items to the dict. **NOTE!**: It's easy to accidentally override items when you're merging datasets. Don't worry though - we'll learn an easy way to check for duplicate keys in the next section.\n"
   ]
  },
  {
   "cell_type": "code",
   "execution_count": null,
   "metadata": {},
   "outputs": [],
   "source": [
    "state_capitals = {\n",
    "\t'NY': 'Albany',\n",
    "\t'NJ': 'Trenton',\n",
    "\t'CT': 'Hartford',\n",
    "\t'MA': 'Boston',\n",
    "\t'CA': 'Sacramento'\n",
    "}\n",
    "more_states = {\n",
    "\t'WA': 'Olympia',\n",
    "\t'OR': 'Salem',\n",
    "\t'TX': 'Austin',\n",
    "\t'NJ': 'Hoboken',\n",
    "\t'AZ': 'Phoenix',\n",
    "\t'GA': 'Atlanta'\n",
    "}\n",
    "\n",
    "state_capitals.update(more_states)\n",
    "\n",
    "state_capitals = {\n",
    "\t'NY': 'Albany',\n",
    "\t'NJ': 'Hoboken',\n",
    "\t'CT': 'Hartford',\n",
    "\t'MA': 'Boston',\n",
    "\t'CA': 'Sacramento',\n",
    "\t'WA': 'Olympia',\n",
    "\t'OR': 'Salem',\n",
    "\t'TX': 'Austin',\n",
    "\t'AZ': 'Phoenix',\n",
    "\t'GA': 'Atlanta'\n",
    "}"
   ]
  },
  {
   "cell_type": "markdown",
   "metadata": {},
   "source": [
    "\n",
    "**Notice something?** It's easy to accidentally override items when you're merging datasets. *Oops, we just changed the capital of NJ to Hoboken!* Don't worry though - we'll learn an easy way to check for duplicate keys in the next section.\n",
    "\n",
    "### Remove Items from a Dict\n",
    "\n",
    "#### `.clear()` simply empties the dict of all items.\n"
   ]
  },
  {
   "cell_type": "code",
   "execution_count": null,
   "metadata": {},
   "outputs": [],
   "source": [
    "state_capitals = {\n",
    "\t'NY': 'Albany',\n",
    "\t'NJ': 'Hoboken',\n",
    "\t'CT': 'Hartford',\n",
    "\t'MA': 'Boston',\n",
    "\t'CA': 'Sacramento',\n",
    "\t'WA': 'Olympia',\n",
    "\t'OR': 'Salem',\n",
    "\t'TX': 'Austin',\n",
    "\t'AZ': 'Phoenix',\n",
    "\t'GA': 'Atlanta'\n",
    "}\n",
    "\n",
    "state_capitals.clear()\n",
    "print(state_capitals) # {}"
   ]
  },
  {
   "cell_type": "markdown",
   "metadata": {},
   "source": [
    "\n",
    "#### `.pop()`:\n",
    "\n",
    "This removes an item, which you must specify by key. There are two things to note here -\n",
    "\n",
    "**First**, you *cannot delete a dict item by specifying a value*. Since values do not have to be unique the way keys are, trying to delete items by referencing values could cause issues.\n",
    "\n",
    "**Second**, just like we saw earlier with `.get(key, value)`, `.pop(key, value)` will raise a `KeyError` if you try to remove a key that does not exist in the dict. We avoid this in the same way, by setting a default value - typically `[]` - for the program to return in case of a missing key.\n",
    "\n",
    "Unfortunately, you *can't* use the same method as we did for `.update()` to delete larger portions of data. We'll learn a way to do that in the next section.\n"
   ]
  },
  {
   "cell_type": "code",
   "execution_count": null,
   "metadata": {},
   "outputs": [],
   "source": [
    "state_capitals = {\n",
    "\t'NY': 'Albany',\n",
    "\t'NJ': 'Hoboken',\n",
    "\t'CT': 'Hartford',\n",
    "\t'MA': 'Boston',\n",
    "\t'CA': 'Sacramento',\n",
    "\t'WA': 'Olympia',\n",
    "\t'OR': 'Salem',\n",
    "\t'TX': 'Austin',\n",
    "\t'AZ': 'Phoenix',\n",
    "\t'GA': 'Atlanta'\n",
    "}\n",
    "\n",
    "state_capitals.pop('AZ', [])\n",
    "# removes 'AZ': 'Phoenix' from our dict"
   ]
  },
  {
   "cell_type": "markdown",
   "metadata": {},
   "source": [
    "\n",
    "#### `popitem()`:\n",
    "This one just removes an arbitrary key value pair from dict and returns it as a tuple. \n"
   ]
  },
  {
   "cell_type": "code",
   "execution_count": null,
   "metadata": {},
   "outputs": [],
   "source": [
    "state_capitals = {\n",
    "\t'NY': 'Albany',\n",
    "\t'NJ': 'Hoboken',\n",
    "\t'CT': 'Hartford',\n",
    "\t'MA': 'Boston',\n",
    "\t'CA': 'Sacramento',\n",
    "\t'WA': 'Olympia',\n",
    "\t'OR': 'Salem',\n",
    "\t'TX': 'Austin',\n",
    "\t'AZ': 'Phoenix',\n",
    "\t'GA': 'Atlanta'\n",
    "}\n",
    "\n",
    "seceded1 = state_capitals.popitem()\n",
    "# ^ removes a random item and returns it as a tuple\n",
    "print(seceded1) # ('GA': 'Atlanta') for example"
   ]
  },
  {
   "cell_type": "markdown",
   "metadata": {},
   "source": [
    "\n",
    "## Summary\n",
    "\n",
    "*Coming soon...*\n",
    "\n",
    "### Class Practice PSETs\n",
    "\n",
    "*Coming soon...*\n",
    "[Dicts]()\n",
    "[Dicts - CHALLENGES]()\n",
    "\n"
   ]
  }
 ],
 "metadata": {},
 "nbformat": 4,
 "nbformat_minor": 2
}
