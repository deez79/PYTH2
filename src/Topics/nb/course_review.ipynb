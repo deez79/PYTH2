{
 "cells": [
  {
   "cell_type": "markdown",
   "metadata": {},
   "source": [
    "[![Open In Colab](https://colab.research.google.com/assets/colab-badge.svg)](https://colab.research.google.com/github/mottaquikarim/PYTH2/blob/master/src/Topics/nb/course_review.ipynb)"
   ]
  },
  {
   "cell_type": "markdown",
   "metadata": {},
   "source": [
    "# Course Review\n",
    "## Data Structures\n",
    "\n",
    "### Lists\n"
   ]
  },
  {
   "cell_type": "code",
   "execution_count": null,
   "metadata": {},
   "outputs": [],
   "source": [
    "colors = ['red', 'yellow', 'green'] #strings\n",
    "grades = [100, 99, 65, 54, 19] #numbers\n",
    "bools = [True, False, True, True] #booleans"
   ]
  },
  {
   "cell_type": "markdown",
   "metadata": {},
   "source": []
  },
  {
   "cell_type": "code",
   "execution_count": null,
   "metadata": {},
   "outputs": [],
   "source": [
    "grades = [100, 99, 65, 54, 19]\n",
    "grades[0] # 100\n",
    "len(grades) # 5\n",
    "sum(grades) # 337\n",
    "\n",
    "ascending = sorted(grades) # [19, 54, 65, 99, 100]\n",
    "descending = sorted(grades, reverse=True) # [100, 99, 65, 54, 19]"
   ]
  },
  {
   "cell_type": "markdown",
   "metadata": {},
   "source": []
  },
  {
   "cell_type": "code",
   "execution_count": null,
   "metadata": {},
   "outputs": [],
   "source": [
    "# UPDATE\n",
    "my_class = ['Brandi', 'Zoe', 'Steve', 'Dayton', 'Dasha', 'Sonyl']\n",
    "my_class[3] = \"Aleksander\"\n",
    "# changes in place to ['Brandi', 'Zoe', 'Steve', 'Aleksander', 'Dasha', 'Sonyl']\n",
    "\n",
    "# REMOVE\n",
    "student_that_left = my_class.pop() # Sonyl\n",
    "\t# or\n",
    "student_that_left = my_class.pop(3) # Steve\n",
    "print(my_class) # ['Brandi', 'Zoe', 'Aleksander', 'Dasha']\n",
    "\n",
    "\n",
    "# ADD\n",
    "new_students = [\"Raju\", \"Chloe\"]\n",
    "my_class.extend(new_students)\n",
    "# changes in places to ['Brandi', 'Zoe', 'Aleksander', 'Dasha', 'Raju', 'Chloe']\n",
    "\n",
    "my_class.insert(1, \"Phoebe\")\n",
    "# changes in places to ['Brandi', 'Zoe', 'Aleksander', 'Dasha', 'Raju', 'Chloe']"
   ]
  },
  {
   "cell_type": "markdown",
   "metadata": {},
   "source": []
  },
  {
   "cell_type": "code",
   "execution_count": null,
   "metadata": {},
   "outputs": [],
   "source": [
    "# JOIN\n",
    "words = ['this', 'is', 'fun']\n",
    "sentence = ' '.join(words)\n",
    "print(sentence) # 'this is fun'\n",
    "\n",
    "words = ['this', 'is', 'fun']\n",
    "sentence = ' '.join(words)\n",
    "print(f'{sentence}.') # 'this is fun.'\n",
    "\n",
    "# SPLIT\n",
    "person = 'Sandra,hi@email.com,646-212-1234,8 Cherry Lane,Splitsville,FL,58028'\n",
    "contact_info = person.split(',')\n",
    "print(data) # ['Sandra', 'hi@email.com', '646-212-1234', '8 Cherry Lane', 'Splitsville', 'FL', '58028']"
   ]
  },
  {
   "cell_type": "markdown",
   "metadata": {},
   "source": [
    "\n",
    "### Dicts\n",
    "\n",
    "Creating Dicts:\n"
   ]
  },
  {
   "cell_type": "code",
   "execution_count": null,
   "metadata": {},
   "outputs": [],
   "source": [
    "names = ['Taq', 'Zola', 'Valerie', 'Valerie']\n",
    "scores = [[98, 89, 92, 94], [86, 45, 98, 100], [100, 100, 100, 100], [76, 79, 80, 82]]\n",
    "\n",
    "grades = dict(zip(names,scores))\n",
    "print(grades) # {'Taq': [98, 89, 92, 94], 'Zola': [86, 45, 98, 100], 'Valerie': [76, 79, 80, 82]}"
   ]
  },
  {
   "cell_type": "markdown",
   "metadata": {},
   "source": [
    "\n",
    "Accessing Dict Data:\n"
   ]
  },
  {
   "cell_type": "code",
   "execution_count": null,
   "metadata": {},
   "outputs": [],
   "source": [
    "state_capitals = {\n",
    "\t'NY': 'Albany',\n",
    "\t'NJ': 'Trenton',\n",
    "\t'CT': 'Hartford',\n",
    "\t'MA': 'Boston',\n",
    "\t'CA': 'Sacramento'\n",
    "}\n",
    "\n",
    "MAcap = state_capitals['MA'] # Boston\n",
    "print(state_capitals.get('PA', []))\n",
    "# PA is not in our dict, so .get() returns []\n",
    "\n",
    "state_capitals.keys()\n",
    "# dict_keys(['NY', 'NJ', 'CT', 'MA'])\n",
    "\n",
    "state_capitals.values()\n",
    "# dict_values(['Albany', 'Trenton', 'Hartford', 'Boston'])\n",
    "\n",
    "state_capitals.items()\n",
    "# dict_items([('NY', 'Albany'), ('NJ', 'Trenton'), ('CT', 'Hartford'), ('MA', 'Boston')])"
   ]
  },
  {
   "cell_type": "markdown",
   "metadata": {},
   "source": []
  },
  {
   "cell_type": "code",
   "execution_count": null,
   "metadata": {},
   "outputs": [],
   "source": [
    "more_states = {\n",
    "\t'WA': 'Olympia',\n",
    "\t'OR': 'Salem',\n",
    "\t'AZ': 'Phoenix',\n",
    "\t'GA': 'Atlanta'\n",
    "}\n",
    "\n",
    "# Add or update group of key/value pairs\n",
    "state_capitals.update(more_states)\n",
    "\n",
    "# Remove item by key\n",
    "state_capitals.pop('AZ', [])"
   ]
  },
  {
   "cell_type": "markdown",
   "metadata": {},
   "source": [
    "\n",
    "## Control Flow\n",
    "\n",
    "### Conditionals\n"
   ]
  },
  {
   "cell_type": "code",
   "execution_count": null,
   "metadata": {},
   "outputs": [],
   "source": [
    "speed_limit = 65\n",
    "my_speed = 32\n",
    "\n",
    "my_speed < speed_limit # True\n",
    "my_speed > speed_limit # False\n",
    "my_speed <= speed_limit # True\n",
    "my_speed >= speed_limit # False\n",
    "(speed_limit == my_speed) # False\n",
    "(speed_limit != my_speed) # True"
   ]
  },
  {
   "cell_type": "markdown",
   "metadata": {},
   "source": []
  },
  {
   "cell_type": "code",
   "execution_count": null,
   "metadata": {},
   "outputs": [],
   "source": [
    "if temp < 65 and is_it_raining:\n",
    "\tprint('wear a raincoat and bring an umbrella!')\n",
    "elif temp > 65 and is_it_raining:\n",
    "\tprint('bring an umbrella!')\n",
    "elif temp < 65:\n",
    "\tprint('wear a jacket!')\n",
    "else:\n",
    "\tprint('the weather is beautiful!')\n",
    "\n",
    "temp = 41\n",
    "is_it_raining = True\n",
    "# wear a raincoat and bring an umbrella!\n",
    "\n",
    "temp = 73\n",
    "is_it_raining = True\n",
    "# bring an umbrella!\n",
    "\n",
    "temp = 56\n",
    "is_it_raining = False\n",
    "# wear a jacket!\n",
    "\n",
    "temp = 80\n",
    "is_it_raining = False\n",
    "# the weather is beautiful!"
   ]
  },
  {
   "cell_type": "markdown",
   "metadata": {},
   "source": [
    "\n",
    "### Loops\n",
    "\n",
    "While Loops:\n"
   ]
  },
  {
   "cell_type": "code",
   "execution_count": null,
   "metadata": {},
   "outputs": [],
   "source": [
    "s = ''\n",
    "n = 5\n",
    "\n",
    "while n > 0:\n",
    "    n -= 1\n",
    "    if (n % 2) == 0:\n",
    "        continue\n",
    "\n",
    "    a = ['foo', 'bar', 'baz']\n",
    "    while a:\n",
    "        s += str(n) + a.pop(0)\n",
    "        if len(a) < 2:\n",
    "            break\n",
    "\n",
    "print(s) # '3foo3bar1foo1bar'\n",
    "\n",
    "###############################\n",
    "\n",
    "a = ['foo', 'bar', 'baz', 'qux', 'corge']\n",
    "while a:\n",
    "    if len(a) < 3:\n",
    "        break\n",
    "    print(a.pop())\n",
    "print('Done.')\n",
    "\n",
    "## This loop will output...\n",
    "\"\"\"\n",
    "corge\n",
    "qux\n",
    "baz\n",
    "Done.\n",
    "\"\"\""
   ]
  },
  {
   "cell_type": "markdown",
   "metadata": {},
   "source": [
    "\n",
    "For Loops: \n"
   ]
  },
  {
   "cell_type": "code",
   "execution_count": null,
   "metadata": {},
   "outputs": [],
   "source": [
    "transaction = {\n",
    "  \"amount\": 10.00,\n",
    "  \"payee\": \"Joe Bloggs\",\n",
    "  \"account\": 1234\n",
    "}\n",
    "\n",
    "for key, value in transaction.items():\n",
    "    print(\"{}: {}\".format(key, value))\n",
    "\n",
    "# Output:\n",
    "account: 1234\n",
    "payee: Joe Bloggs\n",
    "amount: 10.0\n",
    "\n",
    "###############################\n",
    "\n",
    "# else DOES execute\n",
    "for i in ['foo', 'bar', 'baz', 'qux']:\n",
    "  print(i)\n",
    "else:\n",
    "  print('Done.') # foo, bar, baz, qux, Done.\n",
    "\n",
    "# else DOES NOT execute\n",
    "for i in ['foo', 'bar', 'baz', 'qux']:\n",
    "  if i == 'bar':\n",
    "    break\n",
    "  print(i)\n",
    "else:\n",
    "  print('Done.') # foo"
   ]
  },
  {
   "cell_type": "markdown",
   "metadata": {},
   "source": [
    "\n",
    "Infinite Loops (Yikes!)\n"
   ]
  },
  {
   "cell_type": "code",
   "execution_count": null,
   "metadata": {},
   "outputs": [],
   "source": [
    "# Infinite Loop\n",
    "a = ['foo', 'bar', 'baz', 'qux', 'corge']\n",
    "while a:\n",
    "    if len(a) < 3:\n",
    "        continue\n",
    "    print(a.pop())\n",
    "print('Done.')\n",
    "\n",
    "# Fixing the Infinite Loop\n",
    "while a:\n",
    "    if len(a) < 3:\n",
    "        break\n",
    "    print(a.pop())\n",
    "print('Done.', a) # Done. ['foo', 'bar']"
   ]
  },
  {
   "cell_type": "markdown",
   "metadata": {},
   "source": [
    "\n",
    "## OOP (Object-Oriented Programming)\n",
    "\n",
    "### Functions\n"
   ]
  },
  {
   "cell_type": "code",
   "execution_count": null,
   "metadata": {},
   "outputs": [],
   "source": [
    "def function_name(parameters):\n",
    "\t\"\"\"docstring\"\"\"\n",
    "\t# statement(s)\n",
    "\n",
    "def num_squared(num):\n",
    "\t\"\"\"Find the square of some number passed in\"\"\"\n",
    "\tsquare = num*num # code to find the square\n",
    "\treturn square\n",
    "\n",
    "sq12 = num_squared(12)\n",
    "print(sq12) # 144"
   ]
  },
  {
   "cell_type": "markdown",
   "metadata": {},
   "source": [
    "\n",
    "### Classes\n",
    "\n",
    "Parent class:\n"
   ]
  },
  {
   "cell_type": "code",
   "execution_count": null,
   "metadata": {},
   "outputs": [],
   "source": [
    "class Animal:\n",
    "    def __init__(self, species = '', diet= ''):\n",
    "        self.species = species\n",
    "        self.diet = diet\n",
    "\n",
    "    kingdom = 'Animalia'\n",
    "\n",
    "    def my_kingdom(self):\n",
    "        print(self.kingdom)\n",
    "\n",
    "    def feed_me(self):\n",
    "        if self.diet == 'omnivore':\n",
    "            food = 'plants and meat'\n",
    "        elif self.diet == 'carnivore':\n",
    "            food = 'meat'\n",
    "        elif self.diet == 'herbivore':\n",
    "            food = 'plants'\n",
    "        print(f'{self.species} eat {food}!')\n",
    "        return None"
   ]
  },
  {
   "cell_type": "markdown",
   "metadata": {},
   "source": [
    "\n",
    "Child class w. inheritance:\n"
   ]
  },
  {
   "cell_type": "code",
   "execution_count": null,
   "metadata": {},
   "outputs": [],
   "source": [
    "class Elephant(Animal):\n",
    "    def __init__(self, name, genus = '', species = '', habitat = '', age = None):\n",
    "        self.name = name\n",
    "        self.genus = genus\n",
    "        self.species = species\n",
    "        self.habitat = habitat\n",
    "        self.age = age\n",
    "        self.taxonomy = {'Kingdom': Animal.kingdom, 'Class': self.common_taxonomy['Class'], 'Family': self.common_taxonomy['Family'], 'Genus': self.genus, 'Species': self.species} # C.\n",
    "\n",
    "    diet = 'Herbivore'\n",
    "\n",
    "    common_taxonomy = {\n",
    "    'Class': 'Mammalia',\n",
    "    'Family': 'Elephantidae',\n",
    "    }\n",
    "\n",
    "    def summary(self):\n",
    "      print(f'All about {self.name} -')\n",
    "      print(f'Elephant, age {self.age}\\nHabitat: {self.habitat}\\nDiet: {self.diet}\\n\\nTaxonomy:')\n",
    "      for k,v in self.taxonomy.items():\n",
    "        print(f'{k}: {v}')"
   ]
  }
 ],
 "metadata": {},
 "nbformat": 4,
 "nbformat_minor": 2
}
