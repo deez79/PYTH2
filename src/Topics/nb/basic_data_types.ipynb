{
 "cells": [
  {
   "cell_type": "markdown",
   "metadata": {},
   "source": [
    "<a href=\"https://colab.research.google.com/github/mottaquikarim/PYTH2/blob/master/src/Topics/nb/basic_data_types.ipynb\" target=\"_parent\"><img src=\"https://colab.research.google.com/assets/colab-badge.svg\" alt=\"Open In Colab\"/></a>"
   ]
  },
  {
   "cell_type": "markdown",
   "metadata": {},
   "source": [
    "# Basic Data Types\n",
    "\n",
    "Let's discuss data types, variables, and naming.\n",
    "\n",
    "## Variables\n",
    "\n",
    "A data type is a unit of information that can be stored and retrieved using a program language. **Variables** store different types of data. You can display the value stored in a variable on the screen using the `print()` statement. Because variables are so ubiquitous, there are some **rules for naming variables** that help avoid confusion.\n",
    "\n",
    "- **Rule:** snake_case with the underscore character\n",
    "- **Rule:** Can’t use keywords as var names, e.g. True, None, function, class, object\n",
    "- **Rule:** Can’t start with a numeric value, e.g. can't name something \"1var\", but you CAN do function1\n",
    "- **Best Practice:** You COULD use CamelCase to name a variable, but this is typically reserved for naming a different Python object called a \"class\".\n",
    "\n",
    "#### Creating & Reading a Variable\n"
   ]
  },
  {
   "cell_type": "code",
   "execution_count": null,
   "metadata": {},
   "outputs": [],
   "source": [
    "first_prime = 2\n",
    "print(first_prime) # expect to see 2"
   ]
  },
  {
   "cell_type": "markdown",
   "metadata": {},
   "source": [
    "\n",
    "#### Comments\n",
    "\n",
    "Real quick, let's see how we create comments so that you can write notes to yourself in your code - **very** useful!\n"
   ]
  },
  {
   "cell_type": "code",
   "execution_count": null,
   "metadata": {},
   "outputs": [],
   "source": [
    "# I'm a comment!\n",
    "\n",
    "\n",
    "# Here is a multi-line comment:\n",
    "\"\"\"\n",
    "'Cause if you liked it, then you should have put a ring on it\n",
    "If you liked it, then you should have put a ring on it\n",
    "Don't be mad once you see that he want it\n",
    "If you liked it, then you should have put a ring on it\n",
    "\"\"\""
   ]
  },
  {
   "cell_type": "markdown",
   "metadata": {},
   "source": [
    "\n",
    "## Fundamental Python Data Types\n",
    "\n",
    "These are the most basic data types, which compose the more complex data types we'll learn about later:\n",
    "\n",
    "* Strings: alphanumeric characters read as text\n",
    "\t* **Important takeaway!** If you use a `'`, say in a contraction, the string might misinterpret it as the ending `'` for the string. To avoid this, add `\\` right before that `'` like this: 'I\\'ll`.\n",
    "* Integers: whole numbers\n",
    "* Floats: decimals\n",
    "* Booleans: represents True or False values; used for evaluating conditional statements\n",
    "* Nonetype: represents variables not yet defined or essentially blank values (shown as None, used as placeholder to avoid error)\n"
   ]
  },
  {
   "cell_type": "code",
   "execution_count": null,
   "metadata": {},
   "outputs": [],
   "source": [
    "# Strings\n",
    "cat = 'Layla' # or \"Layla\" because single & double quotes are both valid\n",
    "cat_description = 'Layla\\'s a mischievous, but very cute kitty!' # Note the use of \\' here.\n",
    "\n",
    "# Integers\n",
    "age = 8\n",
    "\n",
    "# Floats\n",
    "weight = 10.5\n",
    "\n",
    "# Booleans\n",
    "vaccinated = True\n",
    "good_with_other_cats = False\n",
    "\n",
    "# Nonetype\n",
    "good_with_other_dogs = None"
   ]
  },
  {
   "cell_type": "markdown",
   "metadata": {},
   "source": [
    "\n",
    "### String Formatting\n",
    "\n",
    "Strings have some special qualities that make dealing with them easier. For instance, you can store several separate snippets of text within a single string. One way to do this is adding `\\n` to signify that you want to create a new line. However, there's another way to do this that makes it much more readable! To do this, you can use triple quotes i.e. `'''` or `\"\"\"`. You can use single and double quotes within the string freely, so no need to worry about that detail!\n",
    "\n",
    "Let's say you're storing song lyrics, so you want to have a line break between each line of the song.\n"
   ]
  },
  {
   "cell_type": "code",
   "execution_count": null,
   "metadata": {},
   "outputs": [],
   "source": [
    "'Cause if you liked it, then you should have put a ring on it\\nIf you liked it, then you should have put a ring on it\\nDon\\'t be mad once you see that he want it\\nIf you liked it, then you should have put a ring on it'\n",
    "\n",
    "'''\n",
    "'Cause if you liked it, then you should have put a ring on it\n",
    "If you liked it, then you should have put a ring on it\n",
    "Don't be mad once you see that he want it\n",
    "If you liked it, then you should have put a ring on it\n",
    "'''"
   ]
  },
  {
   "cell_type": "markdown",
   "metadata": {},
   "source": [
    "\n",
    "If you want to insert variables within a string, you can do this:\n"
   ]
  },
  {
   "cell_type": "code",
   "execution_count": null,
   "metadata": {},
   "outputs": [],
   "source": [
    "cat = 'Layla'\n",
    "\n",
    "print(cat, 'is a mischievous, but very cute kitty!')\n",
    "# Note that the ',' automatically adds a space character."
   ]
  },
  {
   "cell_type": "markdown",
   "metadata": {},
   "source": [
    "\n",
    "But that can be annoying if you're inserting multiple variables. To simplify this, you dynamically add variables directly within a string like this:\n"
   ]
  },
  {
   "cell_type": "code",
   "execution_count": null,
   "metadata": {},
   "outputs": [],
   "source": [
    "cat = 'Layla' # or \"Layla\" because single & double quotes are both valid\n",
    "age = 8\n",
    "weight = 10.5\n",
    "\n",
    "\n",
    "print(f'{cat} is {age} years old.\\n{cat} weighs {weight} pounds.')\n",
    "print(f'''\n",
    "{cat} is {age} years old.\n",
    "{cat} weighs {weight} pounds.\n",
    "''')\n",
    "\n",
    "\"\"\"\n",
    "Both of these print...\n",
    "\n",
    "Layla is 8 years old.\n",
    "Layla weighs 10.5 pounds.\n",
    "\"\"\""
   ]
  },
  {
   "cell_type": "markdown",
   "metadata": {},
   "source": [
    "\n",
    "### Practice Problem Set 1: Basic Data Types\n",
    "\n",
    "Open these notebooks and add your own code to solve these problems. **MAKE SURE YOU MAKE A COPY OF THE NOTEBOOK FIRST!!!**\n",
    "\n",
    "\n",
    "* [PRACTICE 1](https://colab.research.google.com/github/mottaquikarim/pydev-psets/blob/master/pset_basic_data_types/basics/nb/p1.ipynb)\n",
    "* [PRACTICE 2](https://colab.research.google.com/github/mottaquikarim/pydev-psets/blob/master/pset_basic_data_types/basics/nb/p2.ipynb)\n",
    "* [PRACTICE 3](https://colab.research.google.com/github/mottaquikarim/pydev-psets/blob/master/pset_basic_data_types/basics/nb/p3.ipynb)\n",
    "\n",
    "## Typecasting\n",
    "\n",
    "#### Check what data type is stored in a variable using the `type()` statement or the `isinstance()` statement.\n"
   ]
  },
  {
   "cell_type": "code",
   "execution_count": null,
   "metadata": {},
   "outputs": [],
   "source": [
    "# Example 1 - type()\n",
    "a = 1\n",
    "print(type(a)) # <class 'int'>\n",
    "\n",
    "b = '2.5'\n",
    "print(type(b)) #  \n",
    "\n",
    "\n",
    "# Example 2 - isinstance()\n",
    "c = -1\n",
    "print(f'Is {c} a boolean?', isinstance(c, bool)) # False\n",
    "\n",
    "d = False\n",
    "print(f'Is {d} a boolean?', isinstance(d, bool)) # True"
   ]
  },
  {
   "cell_type": "markdown",
   "metadata": {},
   "source": [
    "\n",
    "#### Typecasting is a way to convert an instance of one data type to another.\n"
   ]
  },
  {
   "cell_type": "code",
   "execution_count": null,
   "metadata": {},
   "outputs": [],
   "source": [
    "# Convert int to str\n",
    "a = str(10)\n",
    "print(f'{a} is a {type(a)} type.') # '10'\n",
    "\n",
    "\n",
    "# Convert str to int\n",
    "b = int('10')\n",
    "print(f'{b} is a {type(b)} type.') # 10\n",
    "### int('tasdfa') # throws a ValueError\n",
    "\n",
    "\n",
    "# Convert int to bool\n",
    "c = bool(10) # True\n",
    "d = bool(0) # False\n",
    "\n",
    "# Convert bool to int or float\n",
    "e = int(True) # 1\n",
    "f = float(True) # 1.0\n",
    "g = int(False) # 0\n",
    "h = float(False) # 0.0\n",
    "\"\"\"You can convert any number to a True boolean,\n",
    "BUT a True boolean will only ever become 1 or 1.0.\"\"\""
   ]
  },
  {
   "cell_type": "markdown",
   "metadata": {},
   "source": [
    "\n",
    "### Practice Problem Set 2: Typecasting\n",
    "\n",
    "* [PRACTICE 1](https://colab.research.google.com/github/mottaquikarim/pydev-psets/blob/master/pset_basic_data_types/typecasting/nb/p1.ipynb)\n",
    "* [PRACTICE 2](https://colab.research.google.com/github/mottaquikarim/pydev-psets/blob/master/pset_basic_data_types/typecasting/nb/p2.ipynb)\n",
    "\n",
    "## Simple Integer, Float, & String Operators\n",
    "\n",
    "**Operators** are shortcuts for manipulating values stored in variables.\n",
    "\n",
    "### Integer/Float Operators\n",
    "\n",
    "We can operate on integers/floats in the following ways:\n",
    "\n",
    "* Addition\n",
    "* Subtraction\n",
    "* Multiplication\n",
    "* Division\n",
    "* Modulus (This one divides and returns **only the remainder**.)\n"
   ]
  },
  {
   "cell_type": "code",
   "execution_count": null,
   "metadata": {},
   "outputs": [],
   "source": [
    "orig_num = 10\n",
    "\n",
    "# Addition\n",
    "num1 = orig_num + 5 # 15\n",
    "\n",
    "# Subtraction\n",
    "num2 = orig_num - 5 # 5\n",
    "\n",
    "# Multiplication\n",
    "num3 = orig_num * 5 # 50\n",
    "\n",
    "# Division\n",
    "num4 = orig_num / 5 # 2\n",
    "\n",
    "# Modulus\n",
    "num5 = orig_num % 5 # 0\n",
    "num6 = orig_num % 3 # 1"
   ]
  },
  {
   "cell_type": "markdown",
   "metadata": {},
   "source": [
    "\n",
    "### String Operators\n",
    "\n",
    "* We can \"add\" strings\n",
    "* We CANNOT add strings to non strings\n"
   ]
  },
  {
   "cell_type": "code",
   "execution_count": null,
   "metadata": {},
   "outputs": [],
   "source": [
    "a = 'this string'\n",
    "b = 'that string'\n",
    "\n",
    "print(a + b) # 'this stringthat string'\n",
    "\n",
    "\n",
    "print(a + ' and ' + b) # 'this string and that string'\n",
    "print(a, 'and', b) # 'this string and that string'\n",
    "\n",
    "\n",
    "\"\"\"ERROR!!!\n",
    "print('this will not work' + 4) doesn't work \n",
    "because you can't add a number to a string\"\"\""
   ]
  },
  {
   "cell_type": "markdown",
   "metadata": {},
   "source": [
    "\n",
    "### Practice Problem Set 3: Simple Operators\n",
    "\n",
    "* [PRACTICE 1](https://colab.research.google.com/github/mottaquikarim/pydev-psets/blob/master/pset_basic_data_types/operators/nb/p2.ipynb)\n",
    "* [PRACTICE 2](https://colab.research.google.com/github/mottaquikarim/pydev-psets/blob/master/pset_basic_data_types/operators/nb/p1.ipynb)\n",
    "\n",
    "### Practice Problem Set 4: Put it all together!\n",
    "\n",
    "* [PRACTICE 1](https://colab.research.google.com/github/mottaquikarim/pydev-psets/blob/master/pset_basic_data_types/typecasting/nb/p3.ipynb)\n",
    "* [PRACTICE 2](https://colab.research.google.com/github/mottaquikarim/pydev-psets/blob/master/pset_basic_data_types/typecasting/nb/p4.ipynb)\n",
    "\n",
    "## Additional Resources\n",
    "\n",
    "* [A Repl.it Summarizing Print Statements](https://repl.it/@brandiw/Python-01-Variables-4?lite=true)\n",
    "* [Python For Beginners](http://www.pythonforbeginners.com/basics/python-variables)\n",
    "* [Python Programming Tutorial: Variables](https://www.youtube.com/watch?v=vKqVnr0BEJQ)\n",
    "* [Variables in Python](https://www.guru99.com/variables-in-python.html)\n",
    "* [Operators Cheatsheet](http://python-reference.readthedocs.io/en/latest/docs/operators/)\n",
    "* [Python Style Guide: Naming](https://www.python.org/dev/peps/pep-0008/#descriptive-naming-styles)\n",
    "* [Python-Strings](https://www.tutorialspoint.com/python/python_strings.htm)\n",
    "* [String Concatenation and Formatting](http://www.pythonforbeginners.com/concatenation/string-concatenation-and-formatting-in-python)\n",
    "* [String Concatenation and Formatting - Video](https://www.youtube.com/watch?v=jA5LW3bR0Us)\n"
   ]
  }
 ],
 "metadata": {},
 "nbformat": 4,
 "nbformat_minor": 2
}
