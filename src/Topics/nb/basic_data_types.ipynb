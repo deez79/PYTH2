{
 "cells": [
  {
   "cell_type": "markdown",
   "metadata": {},
   "source": [
    "<a href=\"https://colab.research.google.com/github/mottaquikarim/PYTH2/blob/master/src/Topics/nb/basic_data_types.ipynb\" target=\"_parent\"><img src=\"https://colab.research.google.com/assets/colab-badge.svg\" alt=\"Open In Colab\"/></a>"
   ]
  },
  {
   "cell_type": "markdown",
   "metadata": {},
   "source": [
    "# Basic Data Types\n",
    "\n",
    "Let's discuss data types, variables, and naming.\n",
    "\n",
    "### Variables\n",
    "\n",
    "A data type is a unit of information that can be stored and retrieved using a program language. We store data into, and retrieve data from, **variables**.\n",
    "\n",
    "### Creating a Variable\n"
   ]
  },
  {
   "cell_type": "code",
   "execution_count": null,
   "metadata": {},
   "outputs": [],
   "source": [
    "first_prime = 2"
   ]
  },
  {
   "cell_type": "markdown",
   "metadata": {},
   "source": [
    "\n",
    "### Reading a Variable\n"
   ]
  },
  {
   "cell_type": "code",
   "execution_count": null,
   "metadata": {},
   "outputs": [],
   "source": [
    "print(first_prime) # expect to see 2"
   ]
  },
  {
   "cell_type": "markdown",
   "metadata": {},
   "source": [
    "\n",
    "#### [PRACTICE](https://mottaquikarim.github.io/pydev-psets/#pset_basic_data_types/basics/p2.ipynb)\n",
    "\n",
    "### Naming Variables\n",
    "\n",
    "In python, the best practice is to **snake_case** variables, where we delimit spaces within variable names with the `_` character.\n"
   ]
  },
  {
   "cell_type": "code",
   "execution_count": null,
   "metadata": {},
   "outputs": [],
   "source": [
    "this_is_snake_cased = 1"
   ]
  },
  {
   "cell_type": "markdown",
   "metadata": {},
   "source": [
    "\n",
    "## Integers\n"
   ]
  },
  {
   "cell_type": "code",
   "execution_count": null,
   "metadata": {},
   "outputs": [],
   "source": [
    "\n",
    "example_int = 1\n",
    "example_int_type = type(1) # <class 'int'>\n"
   ]
  },
  {
   "cell_type": "markdown",
   "metadata": {},
   "source": [
    "\n",
    "## Floats\n",
    "\n",
    "Floats are defined as decimals\n"
   ]
  },
  {
   "cell_type": "code",
   "execution_count": null,
   "metadata": {},
   "outputs": [],
   "source": [
    "\n",
    "example_float = 1.001\n",
    "example_float_type = type(1.001) # <class 'float'>\n"
   ]
  },
  {
   "cell_type": "markdown",
   "metadata": {},
   "source": [
    "\n",
    "## Int/Float Operators\n",
    "\n",
    "We can operate on integers/floats in the following ways\n"
   ]
  },
  {
   "cell_type": "code",
   "execution_count": null,
   "metadata": {},
   "outputs": [],
   "source": [
    "example_int = 1\n",
    "\n",
    "another_int = example_int + 5 # addition\n",
    "another_int = example_int * 5 # multiplication\n",
    "another_int = example_int - 5 # subtraction\n",
    "another_int = example_int / 5 # division\n",
    "another_int = example_int % 5 # modulus operator"
   ]
  },
  {
   "cell_type": "markdown",
   "metadata": {},
   "source": [
    "\n",
    "## Strings\n",
    "\n",
    "Sequences of characters are called \"strings\"\n"
   ]
  },
  {
   "cell_type": "code",
   "execution_count": null,
   "metadata": {},
   "outputs": [],
   "source": [
    "my_name = 'Taq Karim'\n",
    "your_name = \"John Smith\" # single or double quotes are valid\n",
    "\n",
    "string_type = type(\"testing\") # <class 'str'>"
   ]
  },
  {
   "cell_type": "markdown",
   "metadata": {},
   "source": [
    "You can also store several separate snippets of text within a single string. Let's say you're storing song lyrics, so you want to have a line break between each line of the song. To do this, you can use triple quotes i.e. `'''` or `\"\"\"`. You can use single and double quotes within the string freely, so no need to worry about that detail!\n"
   ]
  },
  {
   "cell_type": "code",
   "execution_count": null,
   "metadata": {},
   "outputs": [],
   "source": [
    "'''\n",
    "'Cause if you liked it, then you should have put a ring on it\n",
    "If you liked it, then you should have put a ring on it\n",
    "Don't be mad once you see that he want it\n",
    "If you liked it, then you should have put a ring on it\n",
    "'''"
   ]
  },
  {
   "cell_type": "markdown",
   "metadata": {},
   "source": [
    "\n",
    "## String operators\n",
    "\n",
    "We can \"add\" strings\n"
   ]
  },
  {
   "cell_type": "code",
   "execution_count": null,
   "metadata": {},
   "outputs": [],
   "source": [
    "print(\"this string\" + \"that string\") # what does this output?"
   ]
  },
  {
   "cell_type": "markdown",
   "metadata": {},
   "source": [
    "\n",
    "We cannot add strings to non strings\n"
   ]
  },
  {
   "cell_type": "code",
   "execution_count": null,
   "metadata": {},
   "outputs": [],
   "source": [
    "print(\"this will not work\" + 4) # 4 is not stype str"
   ]
  },
  {
   "cell_type": "markdown",
   "metadata": {},
   "source": [
    "\n",
    "As a convenience, we can format strings like so:\n"
   ]
  },
  {
   "cell_type": "code",
   "execution_count": null,
   "metadata": {},
   "outputs": [],
   "source": [
    "a = 1\n",
    "b = 2\n",
    "\n",
    "formatted_string = f\"{a} is {b}\" # notice how a, b are formatted into string even tho they are ints\n",
    "\n",
    "print(formatted_string) # \"1 is 2\""
   ]
  },
  {
   "cell_type": "markdown",
   "metadata": {},
   "source": [
    "\n",
    "\n",
    "## Booleans\n",
    "\n",
    "Booleans represent true/false\n"
   ]
  },
  {
   "cell_type": "code",
   "execution_count": null,
   "metadata": {},
   "outputs": [],
   "source": [
    "\n",
    "is_it_winter = True\n",
    "is_it_warm_out = False\n",
    "\n",
    "boolean_type = type(True) # <class 'bool'>\n"
   ]
  },
  {
   "cell_type": "markdown",
   "metadata": {},
   "source": [
    "\n",
    "We use booleans primarily in conditional statements\n",
    "\n",
    "## Nonetype\n",
    "\n",
    "`None` represents variables that have not yet been defined.\n"
   ]
  },
  {
   "cell_type": "code",
   "execution_count": null,
   "metadata": {},
   "outputs": [],
   "source": [
    "print(type(None)) # <class 'NoneType'>"
   ]
  },
  {
   "cell_type": "markdown",
   "metadata": {},
   "source": [
    "\n",
    "## Typecasting\n",
    "\n",
    "Sometimes, we need to convert one datatype to another. Typecasting allows us to convert between types\n"
   ]
  },
  {
   "cell_type": "code",
   "execution_count": null,
   "metadata": {},
   "outputs": [],
   "source": [
    "\n",
    "# convert string to int\n",
    "int('10') # 10 - but as type int\n",
    "int('tasdfa') # throws a ValueError\n"
   ]
  },
  {
   "cell_type": "markdown",
   "metadata": {},
   "source": []
  },
  {
   "cell_type": "code",
   "execution_count": null,
   "metadata": {},
   "outputs": [],
   "source": [
    "\n",
    "# convert int to str\n",
    "str(10) # '10' - but as type str\n"
   ]
  },
  {
   "cell_type": "markdown",
   "metadata": {},
   "source": []
  },
  {
   "cell_type": "code",
   "execution_count": null,
   "metadata": {},
   "outputs": [],
   "source": [
    "\n",
    "# convert int to bool\n",
    "bool(10) # True\n",
    "bool(0) # False"
   ]
  },
  {
   "cell_type": "markdown",
   "metadata": {},
   "source": [
    "\n",
    "To check the type of a data type:\n"
   ]
  },
  {
   "cell_type": "code",
   "execution_count": null,
   "metadata": {},
   "outputs": [],
   "source": [
    "\n",
    "# check types\n",
    "isinstance(-1, bool) # False\n",
    "isinstance(False, bool) # True\n",
    "\n",
    "# ..etc\n"
   ]
  },
  {
   "cell_type": "markdown",
   "metadata": {},
   "source": [
    "\n",
    "## 🚗 Problems\n",
    "\n",
    "**[How to use the PSETS Repo](https://github.com/mottaquikarim/pydev-psets#getting-started)**\n",
    "\n",
    "* **[PRACTICE: Shopping List Calculator I](https://github.com/mottaquikarim/pydev-psets/blob/master/pset_basic_data_types/shopping_list/p1.py)**\n",
    "\n",
    "\n",
    "* **[PRACTICE: Shopping List Calculator II](https://github.com/mottaquikarim/pydev-psets/blob/master/pset_basic_data_types/shopping_list/p2.py)**\n",
    "\n",
    "\n",
    "* **[PRACTICE: Shopping List Calculator III](https://github.com/mottaquikarim/pydev-psets/blob/master/pset_basic_data_types/shopping_list/p3.py)**\n",
    "\n",
    "## 🚗 Additional Resources\n",
    "\n",
    "* [A Repl.it Summarizing Print Statements](https://repl.it/@brandiw/Python-01-Variables-4?lite=true)\n",
    "* [Python For Beginners](http://www.pythonforbeginners.com/basics/python-variables)\n",
    "* [Python Programming Tutorial: Variables](https://www.youtube.com/watch?v=vKqVnr0BEJQ)\n",
    "* [Variables in Python](https://www.guru99.com/variables-in-python.html)\n",
    "* [Operators Cheatsheet](http://python-reference.readthedocs.io/en/latest/docs/operators/)\n",
    "* [Python Style Guide: Naming](https://www.python.org/dev/peps/pep-0008/#descriptive-naming-styles)\n",
    "- [Python-Strings](https://www.tutorialspoint.com/python/python_strings.htm)\n",
    "- [String Concatenation and Formatting](http://www.pythonforbeginners.com/concatenation/string-concatenation-and-formatting-in-python)\n",
    "- [String Concatenation and Formatting - Video](https://www.youtube.com/watch?v=jA5LW3bR0Us)\n",
    "\n"
   ]
  }
 ],
 "metadata": {},
 "nbformat": 4,
 "nbformat_minor": 2
}
