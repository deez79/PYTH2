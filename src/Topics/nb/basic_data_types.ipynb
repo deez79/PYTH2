{
 "cells": [
  {
   "cell_type": "markdown",
   "metadata": {},
   "source": [
    "<a href=\"https://colab.research.google.com/github/mottaquikarim/PYTH2/blob/master/src/Topics/nb/basic_data_types.ipynb\" target=\"_parent\"><img src=\"https://colab.research.google.com/assets/colab-badge.svg\" alt=\"Open In Colab\"/></a>"
   ]
  },
  {
   "cell_type": "markdown",
   "metadata": {},
   "source": [
    "# Basic Data Types\n",
    "\n",
    "Let's discuss data types, variables, and naming.\n",
    "\n",
    "## Variables\n",
    "\n",
    "A data type is a unit of information that can be stored and retrieved using a program language. **Variables** store different types of data. You can display the value stored in a variable on the screen using the `print()` statement. Because variables are so ubiquitous, there are some **rules for naming variables** that help avoid confusion.\n",
    "\n",
    "- **Rule:** snake_case with the underscore character\n",
    "- **Rule:** Can’t use keywords as var names, e.g. True, None, function, class, object\n",
    "- **Rule:** Can’t start with a numeric value, e.g. can't name something \"1var\", but you CAN do function1\n",
    "- **Best Practice:** You COULD use CamelCase to name a variable, but this is typically reserved for naming a different Python object called a \"class\".\n",
    "\n",
    "#### Creating & Reading a Variable\n"
   ]
  },
  {
   "cell_type": "code",
   "execution_count": null,
   "metadata": {},
   "outputs": [],
   "source": [
    "first_prime = 2\n",
    "print(first_prime) # expect to see 2"
   ]
  },
  {
   "cell_type": "markdown",
   "metadata": {},
   "source": [
    "\n",
    "#### Comments\n",
    "\n",
    "Real quick, let's see how we create comments so that you can write notes to yourself in your code - **very** useful!\n"
   ]
  },
  {
   "cell_type": "code",
   "execution_count": null,
   "metadata": {},
   "outputs": [],
   "source": [
    "# I'm a comment!\n",
    "\n",
    "\n",
    "# Here is a multi-line comment:\n",
    "\"\"\"\n",
    "'Cause if you liked it, then you should have put a ring on it\n",
    "If you liked it, then you should have put a ring on it\n",
    "Don't be mad once you see that he want it\n",
    "If you liked it, then you should have put a ring on it\n",
    "\"\"\""
   ]
  },
  {
   "cell_type": "markdown",
   "metadata": {},
   "source": [
    "\n",
    "## Fundamental Python Data Types\n",
    "\n",
    "These are the most basic data types, which compose the more complex data types we'll learn about later:\n",
    "\n",
    "* Strings: alphanumeric characters read as text\n",
    "\t* **Important takeaway!** If you use a `'`, say in a contraction, the string might misinterpret it as the ending `'` for the string. To avoid this, add `\\` right before that `'` like this: 'I\\'ll`.\n",
    "* Integers: whole numbers\n",
    "* Floats: decimals\n",
    "* Booleans: represents True or False values; used for evaluating conditional statements\n",
    "* Nonetype: represents variables not yet defined or essentially blank values (shown as None, used as placeholder to avoid error)\n"
   ]
  },
  {
   "cell_type": "code",
   "execution_count": null,
   "metadata": {},
   "outputs": [],
   "source": [
    "# Strings\n",
    "cat = 'Layla' # or \"Layla\" because single & double quotes are both valid\n",
    "cat_description = 'Layla\\'s a mischievous, but very cute kitty!' # Note the use of \\' here.\n",
    "\n",
    "# Integers\n",
    "age = 8\n",
    "\n",
    "# Floats\n",
    "weight = 10.5\n",
    "\n",
    "# Booleans\n",
    "vaccinated = True\n",
    "good_with_other_cats = False\n",
    "\n",
    "# Nonetype\n",
    "good_with_other_dogs = None"
   ]
  },
  {
   "cell_type": "markdown",
   "metadata": {},
   "source": [
    "\n",
    "### String Formatting\n",
    "\n",
    "Strings have some special qualities that make dealing with them easier. For instance, you can store several separate snippets of text within a single string. One way to do this is adding `\\n` to signify that you want to create a new line. However, there's another way to do this that makes it much more readable! To do this, you can use triple quotes i.e. `'''` or `\"\"\"`. You can use single and double quotes within the string freely, so no need to worry about that detail!\n",
    "\n",
    "Let's say you're storing song lyrics, so you want to have a line break between each line of the song.\n"
   ]
  },
  {
   "cell_type": "code",
   "execution_count": null,
   "metadata": {},
   "outputs": [],
   "source": [
    "'Cause if you liked it, then you should have put a ring on it\\nIf you liked it, then you should have put a ring on it\\nDon\\'t be mad once you see that he want it\\nIf you liked it, then you should have put a ring on it'\n",
    "\n",
    "'''\n",
    "'Cause if you liked it, then you should have put a ring on it\n",
    "If you liked it, then you should have put a ring on it\n",
    "Don't be mad once you see that he want it\n",
    "If you liked it, then you should have put a ring on it\n",
    "'''"
   ]
  },
  {
   "cell_type": "markdown",
   "metadata": {},
   "source": [
    "\n",
    "If you want to insert variables within a string, you can do this:\n"
   ]
  },
  {
   "cell_type": "code",
   "execution_count": null,
   "metadata": {},
   "outputs": [],
   "source": [
    "cat = 'Layla'\n",
    "\n",
    "print(cat, 'is a mischievous, but very cute kitty!')\n",
    "# Note that the ',' automatically adds a space character."
   ]
  },
  {
   "cell_type": "markdown",
   "metadata": {},
   "source": [
    "\n",
    "But that can be annoying if you're inserting multiple variables. To simplify this, you dynamically add variables directly within a string like this:\n"
   ]
  },
  {
   "cell_type": "code",
   "execution_count": null,
   "metadata": {},
   "outputs": [],
   "source": [
    "cat = 'Layla' # or \"Layla\" because single & double quotes are both valid\n",
    "age = 8\n",
    "weight = 10.5\n",
    "\n",
    "\n",
    "print(f'{cat} is {age} years old.\\n{cat} weighs {weight} pounds.')\n",
    "print(f'''\n",
    "{cat} is {age} years old.\n",
    "{cat} weighs {weight} pounds.\n",
    "''')\n",
    "\n",
    "\"\"\"\n",
    "Both of these print...\n",
    "\n",
    "Layla is 8 years old.\n",
    "Layla weighs 10.5 pounds.\n",
    "\"\"\""
   ]
  },
  {
   "cell_type": "markdown",
   "metadata": {},
   "source": [
    "\n",
    "### Practice PSET 1: Basic Data Types\n",
    "\n",
    "#### p1. Placeholders\n",
    "\n",
    "You're writing a program, and you don't know what your starting value for your 'initial' variable is yet. The program won't run if you leave it blank, but you don't want to forget you need it! Make a workaround.\n"
   ]
  },
  {
   "cell_type": "code",
   "execution_count": null,
   "metadata": {},
   "outputs": [],
   "source": []
  },
  {
   "cell_type": "markdown",
   "metadata": {},
   "source": [
    "\n",
    "#### p2. Basic Variables\n",
    "\n",
    "* A) Create a variable that represents your favorite number, and add a note to remind yourself what this variable represents. Now print it out without re-typing the number.\n",
    "\n",
    "* B) Create another variable that represents your favorite color, and do the same steps as above.\n",
    "\n"
   ]
  },
  {
   "cell_type": "code",
   "execution_count": null,
   "metadata": {},
   "outputs": [],
   "source": []
  },
  {
   "cell_type": "markdown",
   "metadata": {},
   "source": [
    "\n",
    "#### p3. String Formatting\n",
    "\n",
    "Create a variable that contains the first 4 lines of your favorite song. Add a comment that includes the song title and artist **each on their own line**! Now print out this variable.\n"
   ]
  },
  {
   "cell_type": "code",
   "execution_count": null,
   "metadata": {},
   "outputs": [],
   "source": []
  },
  {
   "cell_type": "markdown",
   "metadata": {},
   "source": [
    "\n",
    "## Typecasting\n",
    "\n",
    "### `type()`\n",
    "\n",
    "Check what data type is stored in a variable using the `type()` statement or the `isinstance()` statement.\n"
   ]
  },
  {
   "cell_type": "code",
   "execution_count": null,
   "metadata": {},
   "outputs": [],
   "source": [
    "# Example 1 - type()\n",
    "a = 1\n",
    "print(type(a)) # <class 'int'>\n",
    "\n",
    "b = '2.5'\n",
    "print(type(b)) #  \n",
    "\n",
    "\n",
    "# Example 2 - isinstance()\n",
    "c = -1\n",
    "print(f'Is {c} a boolean?', isinstance(c, bool)) # False\n",
    "\n",
    "d = False\n",
    "print(f'Is {d} a boolean?', isinstance(d, bool)) # True"
   ]
  },
  {
   "cell_type": "markdown",
   "metadata": {},
   "source": [
    "\n",
    "### Convert Values Into Different Data Types\n",
    "\n",
    "**Typecasting** is a way to convert an instance of one data type to another. Numbers are the most flexible for converting, while strings are very inflexible. Booleans get a bit more complicated, so we'll look at those last!\n",
    "\n",
    "#### Converting Numbers\n"
   ]
  },
  {
   "cell_type": "code",
   "execution_count": null,
   "metadata": {},
   "outputs": [],
   "source": [
    "\"\"\"INTEGERS\"\"\"\n",
    "int_to_float = float(10) # 10.0, <class 'float'>\n",
    "int_to_string = str(10) # 10, <class 'str'>\n",
    "\n",
    "\"\"\"FLOATS\"\"\"\n",
    "float_to_int = int(2.5) # 2, <class 'float'>\n",
    "# Notice it does NOT ROUND!\n",
    "float_to_string = str(2.5) # '2.5', <class 'str'>"
   ]
  },
  {
   "cell_type": "markdown",
   "metadata": {},
   "source": [
    "\n",
    "#### Converting Strings\n"
   ]
  },
  {
   "cell_type": "code",
   "execution_count": null,
   "metadata": {},
   "outputs": [],
   "source": [
    "string_to_int = int('mango') # ERROR!\n",
    "string_to_float = str('strawberry') # ERROR!"
   ]
  },
  {
   "cell_type": "markdown",
   "metadata": {},
   "source": [
    "\n",
    "#### Converting Booleans\n",
    "\n",
    "As you'll see below, you can convert any number to a True boolean, BUT a True boolean will only ever become 1 or 1.0.\n"
   ]
  },
  {
   "cell_type": "code",
   "execution_count": null,
   "metadata": {},
   "outputs": [],
   "source": [
    "# EVALS TO TRUE\n",
    "int_to_boolean = bool(10) # True, <class 'bool'>\n",
    "float_to_boolean = bool(2.5) # True, <class 'bool'>\n",
    "string_to_boolean = bool('peach') # True, <class 'bool'>\n",
    "\n",
    "# RESULTS TO FALSE\n",
    "int_to_boolean = bool(0) # False, <class 'bool'>\n",
    "float_to_boolean = bool(0.0) # False, <class 'bool'>\n",
    "string_to_boolean = bool('') # False, <class 'bool'>"
   ]
  },
  {
   "cell_type": "markdown",
   "metadata": {},
   "source": [
    "\n",
    "Notice that the **ONLY** way a string converted into a boolean will be False is if it's empty. Spaces count as characters even though they wouldn't display anything if printed.\n",
    "\n",
    "**Pro Tip**: You can use the `.strip()` function to remove trailing spaces from strings.\n",
    "\n",
    "### Practice PSET 2: Typecasting\n",
    "\n",
    "#### p1. Typcasting w. Integers & Floats\n",
    "\n",
    "Convert the below numbers into floats and back. Print out each result as well as its data type.\n",
    "\n"
   ]
  },
  {
   "cell_type": "code",
   "execution_count": null,
   "metadata": {},
   "outputs": [],
   "source": [
    "five = 5\n",
    "zero = 0\n",
    "neg_8 = -8\n",
    "neg_22 = -22\n"
   ]
  },
  {
   "cell_type": "markdown",
   "metadata": {},
   "source": [
    "\n",
    "#### p2. Typcasting w. Strings\n",
    "\n",
    "Convert the below numbers into floats and back. Print out each result as well as its data type.\n"
   ]
  },
  {
   "cell_type": "code",
   "execution_count": null,
   "metadata": {},
   "outputs": [],
   "source": [
    "five = 5\n",
    "zero = 0\n",
    "neg_8 = -8\n",
    "T = True\n",
    "F = False\n"
   ]
  },
  {
   "cell_type": "markdown",
   "metadata": {},
   "source": [
    "\n",
    "#### p3. Typecasting Booleans I\n",
    "\n",
    "* A) Use typecasting to turn the below variables into boolean values. Print the result and the datatype of the result.\n",
    "* B) Use typecasting to turn the resultant variables from part A into floats. Print the result and the datatype of the result.\n",
    "* C) Use typecasting to turn the resultant variables from part B back into booleans. Print the result and the datatype of the result.\n",
    "* D) Use typecasting to turn the resultant variables from part C into integers. Print the result and the datatype of the result.\n",
    "* E) Use typecasting to turn the variable below into a boolean value. Print the result and the datatype of the result.\n"
   ]
  },
  {
   "cell_type": "code",
   "execution_count": null,
   "metadata": {},
   "outputs": [],
   "source": [
    "one = 1\n",
    "zero = 0\n"
   ]
  },
  {
   "cell_type": "markdown",
   "metadata": {},
   "source": [
    "\n",
    "#### p4. Typecasting Booleans II\n",
    "\n",
    "* A) Use typecasting to turn the below variables into boolean values. Print the result and the datatype of the result.\n",
    "* B) Use typecasting to turn the latest values for variables 'one' and 'zero' back into integers. Print the result and the datatype of the result.\n",
    "* C) Use typecasting to turn the latest values for variables 'bool_true' and 'bool_false' back into boolean values. Print the result and the datatype of the result.\n"
   ]
  },
  {
   "cell_type": "code",
   "execution_count": null,
   "metadata": {},
   "outputs": [],
   "source": [
    "one = 1\n",
    "zero = 0\n",
    "T = True\n",
    "F = False\n"
   ]
  },
  {
   "cell_type": "markdown",
   "metadata": {},
   "source": [
    "\n",
    "## Simple Integer, Float, & String Operators\n",
    "\n",
    "**Operators** are shortcuts for manipulating values stored in variables.\n",
    "\n",
    "### Integer/Float Operators\n",
    "\n",
    "We can operate on integers/floats in the following ways:\n",
    "\n",
    "* Addition\n",
    "* Subtraction\n",
    "* Multiplication\n",
    "* Division\n",
    "* Modulus (This one divides and returns **only the remainder**.)\n"
   ]
  },
  {
   "cell_type": "code",
   "execution_count": null,
   "metadata": {},
   "outputs": [],
   "source": [
    "orig_num = 10\n",
    "\n",
    "# Addition\n",
    "num1 = orig_num + 5 # 15\n",
    "\n",
    "# Subtraction\n",
    "num2 = orig_num - 5 # 5\n",
    "\n",
    "# Multiplication\n",
    "num3 = orig_num * 5 # 50\n",
    "\n",
    "# Division\n",
    "num4 = orig_num / 5 # 2\n",
    "\n",
    "# Modulus\n",
    "num5 = orig_num % 5 # 0\n",
    "num6 = orig_num % 3 # 1"
   ]
  },
  {
   "cell_type": "markdown",
   "metadata": {},
   "source": [
    "\n",
    "### String Operators\n",
    "\n",
    "* We can \"add\" strings\n",
    "* We CANNOT add strings to non strings\n"
   ]
  },
  {
   "cell_type": "code",
   "execution_count": null,
   "metadata": {},
   "outputs": [],
   "source": [
    "a = 'this string'\n",
    "b = 'that string'\n",
    "\n",
    "print(a + b) # 'this stringthat string'\n",
    "\n",
    "\n",
    "print(a + ' and ' + b) # 'this string and that string'\n",
    "print(a, 'and', b) # 'this string and that string'\n",
    "\n",
    "\n",
    "\"\"\"ERROR!!!\n",
    "print('this will not work' + 4) doesn't work \n",
    "because you can't add a number to a string\"\"\""
   ]
  },
  {
   "cell_type": "markdown",
   "metadata": {},
   "source": [
    "\n",
    "### Practice PSET 3: Simple Operators\n",
    "\n",
    "#### p1. Integer & Float Operators\n",
    "\n",
    "Complete the specified math operations. Do the next operation on the result from the previous operation.\n",
    "\n",
    "orig_var = 100\n",
    "\n",
    "* A) Add 50\n",
    "* B) Subtract 90\n",
    "* C) Multiply 10\n",
    "* D) Divide 150\n",
    "* E) Modulus 3\n"
   ]
  },
  {
   "cell_type": "code",
   "execution_count": null,
   "metadata": {},
   "outputs": [],
   "source": []
  },
  {
   "cell_type": "markdown",
   "metadata": {},
   "source": [
    "\n",
    "#### p2. String Operators\n",
    "\n",
    "Create two variables, each of which is half of a compound sentence. Do NOT add any punctuation up front. Add the two variables together, and print the result.\n",
    "\n",
    "*Example compound sentence:* \"I'll go to the beach today and I'll go snorkeling\"\n"
   ]
  },
  {
   "cell_type": "code",
   "execution_count": null,
   "metadata": {},
   "outputs": [],
   "source": []
  },
  {
   "cell_type": "markdown",
   "metadata": {},
   "source": [
    "\n",
    "#### p3. Addition I - Numbers & Strings\n",
    "\n",
    "Add the below sets of variables together.\n"
   ]
  },
  {
   "cell_type": "code",
   "execution_count": null,
   "metadata": {},
   "outputs": [],
   "source": [
    "a = 0\n",
    "b = 2\n",
    "\n",
    "###\n",
    "\n",
    "c = '0'\n",
    "d = '2'\n",
    "\n",
    "###\n",
    "\n",
    "e = \"0\"\n",
    "f = 2\n"
   ]
  },
  {
   "cell_type": "markdown",
   "metadata": {},
   "source": [
    "\n",
    "#### p4. Addition II - Booleans\n",
    "\n",
    "Add the below sets of variables together.\n"
   ]
  },
  {
   "cell_type": "code",
   "execution_count": null,
   "metadata": {},
   "outputs": [],
   "source": [
    "a = True\n",
    "b = True\n",
    "\n",
    "###\n",
    "\n",
    "c = False\n",
    "d = False\n",
    "\n",
    "###\n",
    "\n",
    "e = True\n",
    "f = False\n"
   ]
  },
  {
   "cell_type": "markdown",
   "metadata": {},
   "source": [
    "\n",
    "### Practice PSET 4: Put it all together!\n",
    "\n",
    "#### p1. Shopping List Calculator I\n",
    "\n",
    "*(see directions in code below)*\n",
    "\n",
    "**Hint**: You can decide the number of decimal places to show from floats using the below. However, it returns a string! If you want to do math with it, you have to convert it back to a float.\n"
   ]
  },
  {
   "cell_type": "code",
   "execution_count": null,
   "metadata": {},
   "outputs": [],
   "source": [
    "print(format(3.14159, '.2f')) # 3.14"
   ]
  },
  {
   "cell_type": "markdown",
   "metadata": {},
   "source": []
  },
  {
   "cell_type": "code",
   "execution_count": null,
   "metadata": {},
   "outputs": [],
   "source": [
    "# A) Create five variables, and set them to strings that represent 5 common shopping list items\n",
    "item_name_1 = None\n",
    "item_name_2 = None\n",
    "item_name_3 = None\n",
    "item_name_4 = None\n",
    "item_name_5 = None\n",
    "\n",
    "\n",
    "# B) Create five more variables, and set them to floats that represent the prices of each of the items above\n",
    "item_price_1 = None\n",
    "item_price_2 = None\n",
    "item_price_3 = None\n",
    "item_price_4 = None\n",
    "item_price_5 = None\n",
    "\n",
    "# C) Create five more variables, and set them to ints that represent the quantity of each of the items above\n",
    "item_quant_1 = None\n",
    "item_quant_2 = None\n",
    "item_quant_3 = None\n",
    "item_quant_4 = None\n",
    "item_quant_5 = None\n",
    "\n",
    "# D) *Print to the console the name and price of each item defined above per the following example:*\n",
    "\"\"\"\n",
    "1 Coco Puffs = $8.95, where:\n",
    "   1 would be item_quant_1\n",
    "   Coco Puffs would be item_name_1\n",
    "   8.95 would be item_name_2\n",
    "\"\"\""
   ]
  },
  {
   "cell_type": "markdown",
   "metadata": {},
   "source": [
    "\n",
    "#### p2. Shopping List Calculator II\n",
    "\n",
    "* Rewrite p1, but this time use the `input()` function to solicit user input for name, price, quantity. Here's how it works:\n"
   ]
  },
  {
   "cell_type": "code",
   "execution_count": null,
   "metadata": {},
   "outputs": [],
   "source": [
    "item_name_1 = input('Name your first item')\n",
    "# this will ask user to input value of item_name_1"
   ]
  },
  {
   "cell_type": "markdown",
   "metadata": {},
   "source": []
  },
  {
   "cell_type": "code",
   "execution_count": null,
   "metadata": {},
   "outputs": [],
   "source": [
    "# A) Create five variables, and set them to strings that represent 5 common shopping list items\n",
    "item_name_1 = None\n",
    "item_name_2 = None\n",
    "item_name_3 = None\n",
    "item_name_4 = None\n",
    "item_name_5 = None\n",
    "\n",
    "\n",
    "# B) Create five more variables, and set them to floats that represent the prices of each of the items above\n",
    "item_price_1 = None\n",
    "item_price_2 = None\n",
    "item_price_3 = None\n",
    "item_price_4 = None\n",
    "item_price_5 = None\n",
    "\n",
    "# C) Create five more variables, and set them to ints that represent the quantity of each of the items above\n",
    "item_quant_1 = None\n",
    "item_quant_2 = None\n",
    "item_quant_3 = None\n",
    "item_quant_4 = None\n",
    "item_quant_5 = None\n",
    "\n",
    "# D) *Print to the console the name and price of each item defined above per the following example:*\n",
    "\"\"\"\n",
    "1 Coco Puffs = $8.95, where:\n",
    "   1 would be item_quant_1\n",
    "   Coco Puffs would be item_name_1\n",
    "   8.95 would be item_name_2\n",
    "\"\"\"\n",
    "\n"
   ]
  },
  {
   "cell_type": "markdown",
   "metadata": {},
   "source": [
    "\n",
    "\n",
    "## Additional Resources\n",
    "\n",
    "* [A Repl.it Summarizing Print Statements](https://repl.it/@brandiw/Python-01-Variables-4?lite=true)\n",
    "* [Python For Beginners](http://www.pythonforbeginners.com/basics/python-variables)\n",
    "* [Python Programming Tutorial: Variables](https://www.youtube.com/watch?v=vKqVnr0BEJQ)\n",
    "* [Variables in Python](https://www.guru99.com/variables-in-python.html)\n",
    "* [Operators Cheatsheet](http://python-reference.readthedocs.io/en/latest/docs/operators/)\n",
    "* [Python Style Guide: Naming](https://www.python.org/dev/peps/pep-0008/#descriptive-naming-styles)\n",
    "* [Python-Strings](https://www.tutorialspoint.com/python/python_strings.htm)\n",
    "* [String Concatenation and Formatting](http://www.pythonforbeginners.com/concatenation/string-concatenation-and-formatting-in-python)\n",
    "* [String Concatenation and Formatting - Video](https://www.youtube.com/watch?v=jA5LW3bR0Us)\n"
   ]
  }
 ],
 "metadata": {},
 "nbformat": 4,
 "nbformat_minor": 2
}
